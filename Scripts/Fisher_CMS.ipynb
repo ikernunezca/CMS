{
 "cells": [
  {
   "cell_type": "code",
   "execution_count": 1,
   "id": "0ca83439",
   "metadata": {},
   "outputs": [],
   "source": [
    "setwd('..')"
   ]
  },
  {
   "cell_type": "markdown",
   "id": "981e222b",
   "metadata": {},
   "source": [
    "### Read Phenotyping table (Suppl. Table 1)"
   ]
  },
  {
   "cell_type": "code",
   "execution_count": 2,
   "id": "4d135c8c",
   "metadata": {},
   "outputs": [],
   "source": [
    "tab <- read.table('data/Fisher_Input/phenotyping_table.tsv',sep='\\t',header=T)\n",
    "\n",
    "tab <- tab[,-c(1:4)]\n",
    "colnames(tab) <- \n",
    "c(\n",
    "'Age ()',\n",
    "'Sex',\n",
    "'Severity',\n",
    "'Pyridostigmine',\n",
    "'Ptosis',\n",
    "'Swallowing dysfunction',\n",
    "'Speech dysfunction',\n",
    "'Head lift',\n",
    "'Shoulder lift',\n",
    "'Leg lift',\n",
    "'Rise from floor',\n",
    "'Respiratory dysfunction',\n",
    "'FVC'\n",
    ")\n",
    "\n",
    "tab$Severity <- ifelse(tab$Severity==\"severe\",'severe','not-severe')\n",
    "tab$Age <- ifelse(tab$Age<mean(tab$Age),'Y','N')\n",
    "tab$Sex <- ifelse(tab$Sex==\"F\",'Y','N')"
   ]
  },
  {
   "cell_type": "code",
   "execution_count": 3,
   "id": "c9a2c5b7",
   "metadata": {},
   "outputs": [
    {
     "data": {
      "text/html": [
       "<table>\n",
       "<thead><tr><th scope=col>Age ()</th><th scope=col>Sex</th><th scope=col>Severity</th><th scope=col>Pyridostigmine</th><th scope=col>Ptosis</th><th scope=col>Swallowing dysfunction</th><th scope=col>Speech dysfunction</th><th scope=col>Head lift</th><th scope=col>Shoulder lift</th><th scope=col>Leg lift</th><th scope=col>Rise from floor</th><th scope=col>Respiratory dysfunction</th><th scope=col>FVC</th><th scope=col>Age</th></tr></thead>\n",
       "<tbody>\n",
       "\t<tr><td>52        </td><td>Y         </td><td>not-severe</td><td>Y         </td><td>N         </td><td>Y         </td><td>N         </td><td>Y         </td><td>Y         </td><td>Y         </td><td>Y         </td><td>N         </td><td>N         </td><td>N         </td></tr>\n",
       "\t<tr><td>15        </td><td>N         </td><td>severe    </td><td>Y         </td><td>Y         </td><td>Y         </td><td>N         </td><td>N         </td><td>Y         </td><td>N         </td><td>Y         </td><td>Y         </td><td>Y         </td><td>Y         </td></tr>\n",
       "\t<tr><td>37        </td><td>Y         </td><td>severe    </td><td>Y         </td><td>Y         </td><td>N         </td><td>N         </td><td>Y         </td><td>Y         </td><td>Y         </td><td>Y         </td><td>NI        </td><td>Y         </td><td>Y         </td></tr>\n",
       "\t<tr><td>37        </td><td>N         </td><td>not-severe</td><td>Y         </td><td>Y         </td><td>N         </td><td>N         </td><td>N         </td><td>N         </td><td>N         </td><td>Y         </td><td>NI        </td><td>NI        </td><td>Y         </td></tr>\n",
       "\t<tr><td>32        </td><td>N         </td><td>not-severe</td><td>N         </td><td>Y         </td><td>N         </td><td>N         </td><td>N         </td><td>Y         </td><td>N         </td><td>Y         </td><td>NI        </td><td>N         </td><td>Y         </td></tr>\n",
       "\t<tr><td>45        </td><td>N         </td><td>not-severe</td><td>N         </td><td>Y         </td><td>N         </td><td>N         </td><td>N         </td><td>N         </td><td>N         </td><td>Y         </td><td>N         </td><td>Y         </td><td>N         </td></tr>\n",
       "\t<tr><td>27        </td><td>N         </td><td>not-severe</td><td>Y         </td><td>Y         </td><td>Y         </td><td>N         </td><td>N         </td><td>N         </td><td>N         </td><td>Y         </td><td>NI        </td><td>N         </td><td>Y         </td></tr>\n",
       "\t<tr><td>46        </td><td>Y         </td><td>not-severe</td><td>Y         </td><td>Y         </td><td>N         </td><td>N         </td><td>N         </td><td>N         </td><td>N         </td><td>Y         </td><td>NI        </td><td>N         </td><td>N         </td></tr>\n",
       "\t<tr><td>49        </td><td>N         </td><td>not-severe</td><td>Y         </td><td>Y         </td><td>N         </td><td>N         </td><td>N         </td><td>N         </td><td>N         </td><td>Y         </td><td>NI        </td><td>Y         </td><td>N         </td></tr>\n",
       "\t<tr><td>20        </td><td>N         </td><td>not-severe</td><td>Y         </td><td>Y         </td><td>Y         </td><td>N         </td><td>N         </td><td>N         </td><td>N         </td><td>Y         </td><td>NI        </td><td>N         </td><td>Y         </td></tr>\n",
       "\t<tr><td>44        </td><td>Y         </td><td>not-severe</td><td>N         </td><td>Y         </td><td>Y         </td><td>N         </td><td>N         </td><td>Y         </td><td>N         </td><td>Y         </td><td>NI        </td><td>NI        </td><td>N         </td></tr>\n",
       "\t<tr><td>49        </td><td>Y         </td><td>severe    </td><td>Y         </td><td>Y         </td><td>N         </td><td>N         </td><td>N         </td><td>Y         </td><td>N         </td><td>Y         </td><td>NI        </td><td>Y         </td><td>N         </td></tr>\n",
       "\t<tr><td>26        </td><td>N         </td><td>severe    </td><td>N         </td><td>N         </td><td>Y         </td><td>N         </td><td>Y         </td><td>Y         </td><td>Y         </td><td>Y         </td><td>NI        </td><td>Y         </td><td>Y         </td></tr>\n",
       "\t<tr><td>29        </td><td>N         </td><td>not-severe</td><td>Y         </td><td>Y         </td><td>Y         </td><td>Y         </td><td>N         </td><td>Y         </td><td>Y         </td><td>Y         </td><td>NI        </td><td>N         </td><td>Y         </td></tr>\n",
       "\t<tr><td>28        </td><td>N         </td><td>not-severe</td><td>Y         </td><td>N         </td><td>Y         </td><td>N         </td><td>Y         </td><td>Y         </td><td>N         </td><td>Y         </td><td>NI        </td><td>Y         </td><td>Y         </td></tr>\n",
       "\t<tr><td>25        </td><td>Y         </td><td>severe    </td><td>Y         </td><td>Y         </td><td>Y         </td><td>N         </td><td>Y         </td><td>Y         </td><td>N         </td><td>Y         </td><td>NI        </td><td>Y         </td><td>Y         </td></tr>\n",
       "\t<tr><td>60        </td><td>N         </td><td>not-severe</td><td>Y         </td><td>N         </td><td>Y         </td><td>N         </td><td>N         </td><td>Y         </td><td>N         </td><td>Y         </td><td>N         </td><td>Y         </td><td>N         </td></tr>\n",
       "\t<tr><td>51        </td><td>N         </td><td>severe    </td><td>N         </td><td>Y         </td><td>Y         </td><td>Y         </td><td>N         </td><td>Y         </td><td>Y         </td><td>Y         </td><td>N         </td><td>Y         </td><td>N         </td></tr>\n",
       "\t<tr><td>62        </td><td>Y         </td><td>severe    </td><td>N         </td><td>Y         </td><td>N         </td><td>N         </td><td>Y         </td><td>Y         </td><td>Y         </td><td>N         </td><td>N         </td><td>Y         </td><td>N         </td></tr>\n",
       "\t<tr><td>57        </td><td>N         </td><td>severe    </td><td>N         </td><td>Y         </td><td>Y         </td><td>N         </td><td>Y         </td><td>Y         </td><td>Y         </td><td>Y         </td><td>NI        </td><td>Y         </td><td>N         </td></tr>\n",
       "</tbody>\n",
       "</table>\n"
      ],
      "text/latex": [
       "\\begin{tabular}{r|llllllllllllll}\n",
       " Age () & Sex & Severity & Pyridostigmine & Ptosis & Swallowing dysfunction & Speech dysfunction & Head lift & Shoulder lift & Leg lift & Rise from floor & Respiratory dysfunction & FVC & Age\\\\\n",
       "\\hline\n",
       "\t 52         & Y          & not-severe & Y          & N          & Y          & N          & Y          & Y          & Y          & Y          & N          & N          & N         \\\\\n",
       "\t 15         & N          & severe     & Y          & Y          & Y          & N          & N          & Y          & N          & Y          & Y          & Y          & Y         \\\\\n",
       "\t 37         & Y          & severe     & Y          & Y          & N          & N          & Y          & Y          & Y          & Y          & NI         & Y          & Y         \\\\\n",
       "\t 37         & N          & not-severe & Y          & Y          & N          & N          & N          & N          & N          & Y          & NI         & NI         & Y         \\\\\n",
       "\t 32         & N          & not-severe & N          & Y          & N          & N          & N          & Y          & N          & Y          & NI         & N          & Y         \\\\\n",
       "\t 45         & N          & not-severe & N          & Y          & N          & N          & N          & N          & N          & Y          & N          & Y          & N         \\\\\n",
       "\t 27         & N          & not-severe & Y          & Y          & Y          & N          & N          & N          & N          & Y          & NI         & N          & Y         \\\\\n",
       "\t 46         & Y          & not-severe & Y          & Y          & N          & N          & N          & N          & N          & Y          & NI         & N          & N         \\\\\n",
       "\t 49         & N          & not-severe & Y          & Y          & N          & N          & N          & N          & N          & Y          & NI         & Y          & N         \\\\\n",
       "\t 20         & N          & not-severe & Y          & Y          & Y          & N          & N          & N          & N          & Y          & NI         & N          & Y         \\\\\n",
       "\t 44         & Y          & not-severe & N          & Y          & Y          & N          & N          & Y          & N          & Y          & NI         & NI         & N         \\\\\n",
       "\t 49         & Y          & severe     & Y          & Y          & N          & N          & N          & Y          & N          & Y          & NI         & Y          & N         \\\\\n",
       "\t 26         & N          & severe     & N          & N          & Y          & N          & Y          & Y          & Y          & Y          & NI         & Y          & Y         \\\\\n",
       "\t 29         & N          & not-severe & Y          & Y          & Y          & Y          & N          & Y          & Y          & Y          & NI         & N          & Y         \\\\\n",
       "\t 28         & N          & not-severe & Y          & N          & Y          & N          & Y          & Y          & N          & Y          & NI         & Y          & Y         \\\\\n",
       "\t 25         & Y          & severe     & Y          & Y          & Y          & N          & Y          & Y          & N          & Y          & NI         & Y          & Y         \\\\\n",
       "\t 60         & N          & not-severe & Y          & N          & Y          & N          & N          & Y          & N          & Y          & N          & Y          & N         \\\\\n",
       "\t 51         & N          & severe     & N          & Y          & Y          & Y          & N          & Y          & Y          & Y          & N          & Y          & N         \\\\\n",
       "\t 62         & Y          & severe     & N          & Y          & N          & N          & Y          & Y          & Y          & N          & N          & Y          & N         \\\\\n",
       "\t 57         & N          & severe     & N          & Y          & Y          & N          & Y          & Y          & Y          & Y          & NI         & Y          & N         \\\\\n",
       "\\end{tabular}\n"
      ],
      "text/markdown": [
       "\n",
       "| Age () | Sex | Severity | Pyridostigmine | Ptosis | Swallowing dysfunction | Speech dysfunction | Head lift | Shoulder lift | Leg lift | Rise from floor | Respiratory dysfunction | FVC | Age |\n",
       "|---|---|---|---|---|---|---|---|---|---|---|---|---|---|\n",
       "| 52         | Y          | not-severe | Y          | N          | Y          | N          | Y          | Y          | Y          | Y          | N          | N          | N          |\n",
       "| 15         | N          | severe     | Y          | Y          | Y          | N          | N          | Y          | N          | Y          | Y          | Y          | Y          |\n",
       "| 37         | Y          | severe     | Y          | Y          | N          | N          | Y          | Y          | Y          | Y          | NI         | Y          | Y          |\n",
       "| 37         | N          | not-severe | Y          | Y          | N          | N          | N          | N          | N          | Y          | NI         | NI         | Y          |\n",
       "| 32         | N          | not-severe | N          | Y          | N          | N          | N          | Y          | N          | Y          | NI         | N          | Y          |\n",
       "| 45         | N          | not-severe | N          | Y          | N          | N          | N          | N          | N          | Y          | N          | Y          | N          |\n",
       "| 27         | N          | not-severe | Y          | Y          | Y          | N          | N          | N          | N          | Y          | NI         | N          | Y          |\n",
       "| 46         | Y          | not-severe | Y          | Y          | N          | N          | N          | N          | N          | Y          | NI         | N          | N          |\n",
       "| 49         | N          | not-severe | Y          | Y          | N          | N          | N          | N          | N          | Y          | NI         | Y          | N          |\n",
       "| 20         | N          | not-severe | Y          | Y          | Y          | N          | N          | N          | N          | Y          | NI         | N          | Y          |\n",
       "| 44         | Y          | not-severe | N          | Y          | Y          | N          | N          | Y          | N          | Y          | NI         | NI         | N          |\n",
       "| 49         | Y          | severe     | Y          | Y          | N          | N          | N          | Y          | N          | Y          | NI         | Y          | N          |\n",
       "| 26         | N          | severe     | N          | N          | Y          | N          | Y          | Y          | Y          | Y          | NI         | Y          | Y          |\n",
       "| 29         | N          | not-severe | Y          | Y          | Y          | Y          | N          | Y          | Y          | Y          | NI         | N          | Y          |\n",
       "| 28         | N          | not-severe | Y          | N          | Y          | N          | Y          | Y          | N          | Y          | NI         | Y          | Y          |\n",
       "| 25         | Y          | severe     | Y          | Y          | Y          | N          | Y          | Y          | N          | Y          | NI         | Y          | Y          |\n",
       "| 60         | N          | not-severe | Y          | N          | Y          | N          | N          | Y          | N          | Y          | N          | Y          | N          |\n",
       "| 51         | N          | severe     | N          | Y          | Y          | Y          | N          | Y          | Y          | Y          | N          | Y          | N          |\n",
       "| 62         | Y          | severe     | N          | Y          | N          | N          | Y          | Y          | Y          | N          | N          | Y          | N          |\n",
       "| 57         | N          | severe     | N          | Y          | Y          | N          | Y          | Y          | Y          | Y          | NI         | Y          | N          |\n",
       "\n"
      ],
      "text/plain": [
       "   Age () Sex Severity   Pyridostigmine Ptosis Swallowing dysfunction\n",
       "1  52     Y   not-severe Y              N      Y                     \n",
       "2  15     N   severe     Y              Y      Y                     \n",
       "3  37     Y   severe     Y              Y      N                     \n",
       "4  37     N   not-severe Y              Y      N                     \n",
       "5  32     N   not-severe N              Y      N                     \n",
       "6  45     N   not-severe N              Y      N                     \n",
       "7  27     N   not-severe Y              Y      Y                     \n",
       "8  46     Y   not-severe Y              Y      N                     \n",
       "9  49     N   not-severe Y              Y      N                     \n",
       "10 20     N   not-severe Y              Y      Y                     \n",
       "11 44     Y   not-severe N              Y      Y                     \n",
       "12 49     Y   severe     Y              Y      N                     \n",
       "13 26     N   severe     N              N      Y                     \n",
       "14 29     N   not-severe Y              Y      Y                     \n",
       "15 28     N   not-severe Y              N      Y                     \n",
       "16 25     Y   severe     Y              Y      Y                     \n",
       "17 60     N   not-severe Y              N      Y                     \n",
       "18 51     N   severe     N              Y      Y                     \n",
       "19 62     Y   severe     N              Y      N                     \n",
       "20 57     N   severe     N              Y      Y                     \n",
       "   Speech dysfunction Head lift Shoulder lift Leg lift Rise from floor\n",
       "1  N                  Y         Y             Y        Y              \n",
       "2  N                  N         Y             N        Y              \n",
       "3  N                  Y         Y             Y        Y              \n",
       "4  N                  N         N             N        Y              \n",
       "5  N                  N         Y             N        Y              \n",
       "6  N                  N         N             N        Y              \n",
       "7  N                  N         N             N        Y              \n",
       "8  N                  N         N             N        Y              \n",
       "9  N                  N         N             N        Y              \n",
       "10 N                  N         N             N        Y              \n",
       "11 N                  N         Y             N        Y              \n",
       "12 N                  N         Y             N        Y              \n",
       "13 N                  Y         Y             Y        Y              \n",
       "14 Y                  N         Y             Y        Y              \n",
       "15 N                  Y         Y             N        Y              \n",
       "16 N                  Y         Y             N        Y              \n",
       "17 N                  N         Y             N        Y              \n",
       "18 Y                  N         Y             Y        Y              \n",
       "19 N                  Y         Y             Y        N              \n",
       "20 N                  Y         Y             Y        Y              \n",
       "   Respiratory dysfunction FVC Age\n",
       "1  N                       N   N  \n",
       "2  Y                       Y   Y  \n",
       "3  NI                      Y   Y  \n",
       "4  NI                      NI  Y  \n",
       "5  NI                      N   Y  \n",
       "6  N                       Y   N  \n",
       "7  NI                      N   Y  \n",
       "8  NI                      N   N  \n",
       "9  NI                      Y   N  \n",
       "10 NI                      N   Y  \n",
       "11 NI                      NI  N  \n",
       "12 NI                      Y   N  \n",
       "13 NI                      Y   Y  \n",
       "14 NI                      N   Y  \n",
       "15 NI                      Y   Y  \n",
       "16 NI                      Y   Y  \n",
       "17 N                       Y   N  \n",
       "18 N                       Y   N  \n",
       "19 N                       Y   N  \n",
       "20 NI                      Y   N  "
      ]
     },
     "metadata": {},
     "output_type": "display_data"
    }
   ],
   "source": [
    "tab"
   ]
  },
  {
   "cell_type": "markdown",
   "id": "aaa7d777",
   "metadata": {},
   "source": [
    "#### Fisher test fun"
   ]
  },
  {
   "cell_type": "code",
   "execution_count": 4,
   "id": "b3e4c1a7",
   "metadata": {},
   "outputs": [],
   "source": [
    "fisherP <- function(col_num){\n",
    "\ta <- tab[tab[,col_num]!=\"NI\",]\n",
    "\tcms <- matrix(c( \n",
    "\t\tlength(which(a[a$Severity==\"severe\",][,col_num]=='Y')),\n",
    "\t\tlength(which(a[a$Severity==\"severe\",][,col_num]=='N')),\n",
    "\t\tlength(which(a[a$Severity==\"not-severe\",][,col_num]=='Y')),\n",
    "\t\tlength(which(a[a$Severity==\"not-severe\",][,col_num]=='N'))),\n",
    "\tnrow = 2,\n",
    "\tdimnames = list(feature = c(\"Y\", \"N\"),\n",
    "                \tseverity = c(\"Y\", \"N\")))\n",
    "\tp <- fisher.test(cms, alternative = \"two.sided\")$p.value\n",
    "\treturn(p)\n",
    "}"
   ]
  },
  {
   "cell_type": "code",
   "execution_count": 5,
   "id": "4007b1f9",
   "metadata": {},
   "outputs": [],
   "source": [
    "co <- which(1:ncol(tab)!=which(colnames(tab) == \"Severity\"))\n",
    "res <- sapply(co,function(x) fisherP(x))\n",
    "names(res) <- colnames(tab)[co]\n",
    "res <- sort(res)"
   ]
  },
  {
   "cell_type": "markdown",
   "id": "8bf30291",
   "metadata": {},
   "source": [
    "#### Plot Supplementary Figure 1"
   ]
  },
  {
   "cell_type": "code",
   "execution_count": 6,
   "id": "261af12a",
   "metadata": {},
   "outputs": [
    {
     "data": {
      "image/png": "[encoded data removed]",
      "text/plain": [
       "plot without title"
      ]
     },
     "metadata": {},
     "output_type": "display_data"
    }
   ],
   "source": [
    "op <- par(mar=c(15,4,4,4),ps=18)\n",
    "bp <- barplot(res,ylab='p-value',names='')\n",
    "abline(h=0.05,lty='dashed')\n",
    "text(bp,-0.05,names(res),srt=90,xpd=T,adj=1)\n",
    "par(op)"
   ]
  },
  {
   "cell_type": "markdown",
   "id": "4c7ff78f",
   "metadata": {},
   "source": [
    "#### Save to pdf"
   ]
  },
  {
   "cell_type": "code",
   "execution_count": 7,
   "id": "c7ca9c7b",
   "metadata": {},
   "outputs": [
    {
     "data": {
      "text/html": [
       "<strong>png:</strong> 2"
      ],
      "text/latex": [
       "\\textbf{png:} 2"
      ],
      "text/markdown": [
       "**png:** 2"
      ],
      "text/plain": [
       "png \n",
       "  2 "
      ]
     },
     "metadata": {},
     "output_type": "display_data"
    },
    {
     "name": "stdout",
     "output_type": "stream",
     "text": [
      "                    FVC           Shoulder lift               Head lift \n",
      "             0.01282051              0.04189886              0.06233230 \n",
      "               Leg lift                     Sex          Pyridostigmine \n",
      "             0.06233230              0.35634675              0.35634675 \n",
      "        Rise from floor                  Ptosis                  Age () \n",
      "             0.40000000              0.61857585              1.00000000 \n",
      " Swallowing dysfunction      Speech dysfunction Respiratory dysfunction \n",
      "             1.00000000              1.00000000              1.00000000 \n",
      "                    Age \n",
      "             1.00000000 \n"
     ]
    }
   ],
   "source": [
    "pdf('Plots/Fisher_CMS.pdf',width=10)\n",
    "op <- par(mar=c(15,4,4,4),ps=18)\n",
    "bp <- barplot(res,ylab='p-value',names='')\n",
    "abline(h=0.05,lty='dashed')\n",
    "text(bp,-0.05,names(res),srt=90,xpd=T,adj=1)\n",
    "par(op)\n",
    "dev.off()\n",
    "\n",
    "print(res)"
   ]
  },
  {
   "cell_type": "code",
   "execution_count": null,
   "id": "6cf16274",
   "metadata": {},
   "outputs": [],
   "source": []
  },
  {
   "cell_type": "code",
   "execution_count": null,
   "id": "64af47eb",
   "metadata": {},
   "outputs": [],
   "source": []
  }
 ],
 "metadata": {
  "kernelspec": {
   "display_name": "R",
   "language": "R",
   "name": "ir"
  },
  "language_info": {
   "codemirror_mode": "r",
   "file_extension": ".r",
   "mimetype": "text/x-r-source",
   "name": "R",
   "pygments_lexer": "r",
   "version": "3.6.1"
  }
 },
 "nbformat": 4,
 "nbformat_minor": 5
}
