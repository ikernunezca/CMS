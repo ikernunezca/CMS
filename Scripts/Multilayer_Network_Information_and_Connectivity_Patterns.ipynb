{
 "cells": [
  {
   "cell_type": "code",
   "execution_count": 1,
   "id": "37016350",
   "metadata": {},
   "outputs": [],
   "source": [
    "setwd('../')"
   ]
  },
  {
   "cell_type": "code",
   "execution_count": 2,
   "id": "199aaa1d",
   "metadata": {},
   "outputs": [],
   "source": [
    "set.seed(2023)"
   ]
  },
  {
   "cell_type": "code",
   "execution_count": 3,
   "id": "af635ba1",
   "metadata": {},
   "outputs": [
    {
     "name": "stderr",
     "output_type": "stream",
     "text": [
      "\n",
      "Attaching package: ‘igraph’\n",
      "\n",
      "\n",
      "The following objects are masked from ‘package:stats’:\n",
      "\n",
      "    decompose, spectrum\n",
      "\n",
      "\n",
      "The following object is masked from ‘package:base’:\n",
      "\n",
      "    union\n",
      "\n",
      "\n",
      "Loading required package: stats4\n",
      "\n",
      "Loading required package: BiocGenerics\n",
      "\n",
      "\n",
      "Attaching package: ‘BiocGenerics’\n",
      "\n",
      "\n",
      "The following objects are masked from ‘package:igraph’:\n",
      "\n",
      "    normalize, path, union\n",
      "\n",
      "\n",
      "The following objects are masked from ‘package:stats’:\n",
      "\n",
      "    IQR, mad, sd, var, xtabs\n",
      "\n",
      "\n",
      "The following objects are masked from ‘package:base’:\n",
      "\n",
      "    anyDuplicated, aperm, append, as.data.frame, basename, cbind,\n",
      "    colnames, dirname, do.call, duplicated, eval, evalq, Filter, Find,\n",
      "    get, grep, grepl, intersect, is.unsorted, lapply, Map, mapply,\n",
      "    match, mget, order, paste, pmax, pmax.int, pmin, pmin.int,\n",
      "    Position, rank, rbind, Reduce, rownames, sapply, setdiff, sort,\n",
      "    table, tapply, union, unique, unsplit, which.max, which.min\n",
      "\n",
      "\n",
      "Loading required package: Biobase\n",
      "\n",
      "Welcome to Bioconductor\n",
      "\n",
      "    Vignettes contain introductory material; view with\n",
      "    'browseVignettes()'. To cite Bioconductor, see\n",
      "    'citation(\"Biobase\")', and for packages 'citation(\"pkgname\")'.\n",
      "\n",
      "\n",
      "Loading required package: IRanges\n",
      "\n",
      "Loading required package: S4Vectors\n",
      "\n",
      "\n",
      "Attaching package: ‘S4Vectors’\n",
      "\n",
      "\n",
      "The following objects are masked from ‘package:base’:\n",
      "\n",
      "    expand.grid, I, unname\n",
      "\n",
      "\n",
      "\n",
      "\n"
     ]
    }
   ],
   "source": [
    "library('igraph')\n",
    "library('brainGraph')\n",
    "library(\"AnnotationDbi\")\n",
    "library(\"org.Hs.eg.db\")"
   ]
  },
  {
   "cell_type": "markdown",
   "id": "930e847e",
   "metadata": {},
   "source": [
    "# 1. Interactome information (Integrated Interaction Database)"
   ]
  },
  {
   "cell_type": "code",
   "execution_count": 4,
   "id": "32d7af0b",
   "metadata": {},
   "outputs": [
    {
     "data": {
      "text/plain": [
       "IGRAPH 9ad59af UN-- 18018 947606 -- \n",
       "+ attr: name (v/c)\n",
       "+ edges from 9ad59af (vertex names):\n",
       " [1] 5662--23229  5662--7204   5662--5912   5662--161253 5662--2185  \n",
       " [6] 5662--391    5662--7316   5662--9545   5662--27314  5662--5921  \n",
       "[11] 5662--11033  5662--377    5662--5873   5662--11124  5662--5924  \n",
       "[16] 5662--53917  5662--57381  5662--10981  5662--6712   5662--4893  \n",
       "[21] 5662--5868   5662--2159   5662--9364   5662--9826   5662--3265  \n",
       "[26] 5662--5865   5662--5898   5662--10672  5662--2776   5662--115761\n",
       "[31] 5662--3845   5662--3925   5662--9265   5662--54509  5662--26034 \n",
       "[36] 5662--22808  5662--10966  5662--23527  5662--379    5662--387   \n",
       "+ ... omitted several edges"
      ]
     },
     "metadata": {},
     "output_type": "display_data"
    }
   ],
   "source": [
    "interactome <- read.table(file= \"data/Networks/InteractomaSinDuplciadosJurisica.csv\")\n",
    "interactome <- graph_from_data_frame(interactome[,1:2],directed = FALSE)\n",
    "interactome"
   ]
  },
  {
   "cell_type": "code",
   "execution_count": 5,
   "id": "984e1dd0",
   "metadata": {},
   "outputs": [],
   "source": [
    "int_community <- cluster_louvain(interactome)\n",
    "int_membresia <- membership(int_community)"
   ]
  },
  {
   "cell_type": "markdown",
   "id": "b144966b",
   "metadata": {},
   "source": [
    "## 1.1. Number of interactome communities + Nodes per community"
   ]
  },
  {
   "cell_type": "code",
   "execution_count": 6,
   "id": "8be1f7cf",
   "metadata": {},
   "outputs": [
    {
     "data": {
      "text/html": [
       "12"
      ],
      "text/latex": [
       "12"
      ],
      "text/markdown": [
       "12"
      ],
      "text/plain": [
       "[1] 12"
      ]
     },
     "metadata": {},
     "output_type": "display_data"
    }
   ],
   "source": [
    "length(int_community)"
   ]
  },
  {
   "cell_type": "code",
   "execution_count": 7,
   "id": "833b9a75",
   "metadata": {},
   "outputs": [
    {
     "data": {
      "text/plain": [
       "int_membresia\n",
       "   1    2    3    4    5    6    7    8    9   10   11   12 \n",
       " 860 1364 5490 1119 2305 2990  301 1294 1268  825  200    2 "
      ]
     },
     "metadata": {},
     "output_type": "display_data"
    }
   ],
   "source": [
    "table(int_membresia)"
   ]
  },
  {
   "cell_type": "markdown",
   "id": "56cdd19b",
   "metadata": {},
   "source": [
    "## 1.2 Centrality measures for interactome network"
   ]
  },
  {
   "cell_type": "markdown",
   "id": "0975921a",
   "metadata": {},
   "source": [
    "### 1.2.1. Interactome degree & betweeness distribution (~ 3 min to calculate betweeness)"
   ]
  },
  {
   "cell_type": "code",
   "execution_count": 8,
   "id": "29b668d0",
   "metadata": {},
   "outputs": [
    {
     "data": {
      "text/plain": [
       "[1] \"2023-04-27 17:11:05 CEST\""
      ]
     },
     "metadata": {},
     "output_type": "display_data"
    },
    {
     "data": {
      "text/plain": [
       "[1] \"2023-04-27 17:14:54 CEST\""
      ]
     },
     "metadata": {},
     "output_type": "display_data"
    }
   ],
   "source": [
    "int_degree <- igraph::degree(interactome)\n",
    "Sys.time()\n",
    "int_betweeness <- igraph::betweenness(interactome, v = V(interactome), directed = F,normalized = T) #Normalized \n",
    "Sys.time()"
   ]
  },
  {
   "cell_type": "code",
   "execution_count": 9,
   "id": "5c6c6788",
   "metadata": {},
   "outputs": [
    {
     "data": {
      "image/png": "[encoded data removed]",
      "text/plain": [
       "Plot with title “Interactome degree distribution”"
      ]
     },
     "metadata": {
      "image/png": {
       "height": 300,
       "width": 420
      }
     },
     "output_type": "display_data"
    },
    {
     "data": {
      "image/png": "[encoded data removed]",
      "text/plain": [
       "Plot with title “Interactome normalized node betweeness distribution”"
      ]
     },
     "metadata": {
      "image/png": {
       "height": 300,
       "width": 420
      }
     },
     "output_type": "display_data"
    }
   ],
   "source": [
    "options(repr.plot.width=7, repr.plot.height=5)\n",
    "plot(density(int_degree),main='Interactome degree distribution')\n",
    "plot(density(int_betweeness),main='Interactome normalized node betweeness distribution')"
   ]
  },
  {
   "cell_type": "code",
   "execution_count": 10,
   "id": "964d28d1",
   "metadata": {},
   "outputs": [
    {
     "name": "stderr",
     "output_type": "stream",
     "text": [
      "'select()' returned 1:1 mapping between keys and columns\n",
      "\n",
      "'select()' returned 1:1 mapping between keys and columns\n",
      "\n"
     ]
    }
   ],
   "source": [
    "# Mapping Gene IDs (Degree)\n",
    "\n",
    "names_degree <- mapIds(org.Hs.eg.db,keys = names(int_degree),column = \"SYMBOL\",keytype=\"ENTREZID\",multiVals = \"first\") #Gene(RefSeq) is conveniently removed here. here.\n",
    "names(int_degree) <- names_degree\n",
    "\n",
    "# Mapping Gene IDs (Betweeness)\n",
    "\n",
    "names_betweeness <- mapIds(org.Hs.eg.db,keys = names(int_betweeness),column = \"SYMBOL\",keytype=\"ENTREZID\",multiVals = \"first\") #Gene(RefSeq) is conveniently removed here. here.\n",
    "#head(names_degree)\n",
    "names(int_betweeness) <- names_betweeness"
   ]
  },
  {
   "cell_type": "markdown",
   "id": "f093d785",
   "metadata": {},
   "source": [
    "#### Top 25 degree"
   ]
  },
  {
   "cell_type": "code",
   "execution_count": 11,
   "id": "e516f1bb",
   "metadata": {},
   "outputs": [
    {
     "data": {
      "image/png": "[encoded data removed]",
      "text/plain": [
       "plot without title"
      ]
     },
     "metadata": {
      "image/png": {
       "height": 600,
       "width": 900
      }
     },
     "output_type": "display_data"
    }
   ],
   "source": [
    "options(repr.plot.width=15, repr.plot.height=10)\n",
    "barplot(sort(int_degree,decreasing = T)[1:25],las=2,col = '#CC7722')"
   ]
  },
  {
   "cell_type": "markdown",
   "id": "ae264cbb",
   "metadata": {},
   "source": [
    "#### Top 25 Normalized Betweeness"
   ]
  },
  {
   "cell_type": "code",
   "execution_count": 12,
   "id": "4c14b33a",
   "metadata": {},
   "outputs": [
    {
     "data": {
      "image/png": "[encoded data removed]",
      "text/plain": [
       "plot without title"
      ]
     },
     "metadata": {
      "image/png": {
       "height": 600,
       "width": 900
      }
     },
     "output_type": "display_data"
    }
   ],
   "source": [
    "options(repr.plot.width=15, repr.plot.height=10)\n",
    "barplot(sort(int_betweeness,decreasing = T)[1:25],las=2,col = '#CC7722')"
   ]
  },
  {
   "cell_type": "markdown",
   "id": "5ed2cc1c",
   "metadata": {},
   "source": [
    "### 1.2.2. Interactome gateway coefficient and participation coefficient"
   ]
  },
  {
   "cell_type": "code",
   "execution_count": null,
   "id": "347585c6",
   "metadata": {},
   "outputs": [
    {
     "data": {
      "text/plain": [
       "[1] \"2023-04-27 17:14:54 CEST\""
      ]
     },
     "metadata": {},
     "output_type": "display_data"
    },
    {
     "data": {
      "text/plain": [
       "[1] \"2023-04-27 17:15:20 CEST\""
      ]
     },
     "metadata": {},
     "output_type": "display_data"
    },
    {
     "data": {
      "text/plain": [
       "[1] \"2023-04-27 17:15:20 CEST\""
      ]
     },
     "metadata": {},
     "output_type": "display_data"
    },
    {
     "data": {
      "text/plain": [
       "[1] \"2023-04-27 17:15:52 CEST\""
      ]
     },
     "metadata": {},
     "output_type": "display_data"
    },
    {
     "data": {
      "text/plain": [
       "[1] \"2023-04-27 17:15:52 CEST\""
      ]
     },
     "metadata": {},
     "output_type": "display_data"
    }
   ],
   "source": [
    "Sys.time()\n",
    "int_part_coeff <- part_coeff(interactome,memb = int_membresia) # ~25 sec\n",
    "Sys.time()\n",
    "\n",
    "Sys.time()\n",
    "int_gateway_deg <- gateway_coeff(interactome,memb= int_membresia,centr = 'degree') # ~28 sec\n",
    "Sys.time()\n",
    "\n",
    "Sys.time()\n",
    "int_gateway_bt <- gateway_coeff(interactome,memb= int_membresia,centr = 'btwn.cent') # ~4 min\n",
    "Sys.time()"
   ]
  },
  {
   "cell_type": "code",
   "execution_count": null,
   "id": "d8fb907d",
   "metadata": {},
   "outputs": [],
   "source": [
    "# Mapping Gene IDs (Part coeff)\n",
    "\n",
    "names_part_coeff <- mapIds(org.Hs.eg.db,keys = names(int_part_coeff),column = \"SYMBOL\",keytype=\"ENTREZID\",multiVals = \"first\") #Gene(RefSeq) is conveniently removed here. here.\n",
    "names(int_part_coeff) <- names_part_coeff\n",
    "\n",
    "\n",
    "# Mapping Gene IDs (Gateway coefficient -Degree-)\n",
    "\n",
    "names_gateway_deg <- mapIds(org.Hs.eg.db,keys = names(int_gateway_deg),column = \"SYMBOL\",keytype=\"ENTREZID\",multiVals = \"first\") #Gene(RefSeq) is conveniently removed here. here.\n",
    "names(int_gateway_deg) <- names_gateway_deg\n",
    "\n",
    "# Mapping Gene IDs (Gateway coefficient -Betwenness-)\n",
    "\n",
    "names_gateway_bt <- mapIds(org.Hs.eg.db,keys = names(int_gateway_bt),column = \"SYMBOL\",keytype=\"ENTREZID\",multiVals = \"first\") #Gene(RefSeq) is conveniently removed here. here.\n",
    "names(int_gateway_bt) <- names_gateway_bt"
   ]
  },
  {
   "cell_type": "markdown",
   "id": "50fb6906",
   "metadata": {},
   "source": [
    "#### Participation Coefficient distribution"
   ]
  },
  {
   "cell_type": "code",
   "execution_count": null,
   "id": "5f3283d4",
   "metadata": {},
   "outputs": [],
   "source": [
    "plot(density(int_part_coeff),main='Interactome participation coefficient distribution')"
   ]
  },
  {
   "cell_type": "markdown",
   "id": "03c2247c",
   "metadata": {},
   "source": [
    "#### Top 25 Participation Coefficient"
   ]
  },
  {
   "cell_type": "code",
   "execution_count": null,
   "id": "14eee4aa",
   "metadata": {},
   "outputs": [],
   "source": [
    "options(repr.plot.width=15, repr.plot.height=10)\n",
    "barplot(sort(int_part_coeff,decreasing = T)[1:25],las=2,col = '#CC7722')"
   ]
  },
  {
   "cell_type": "markdown",
   "id": "bf3e87fd",
   "metadata": {},
   "source": [
    "#### Top 25 Gateway Coefficient (Degree)"
   ]
  },
  {
   "cell_type": "code",
   "execution_count": null,
   "id": "1eaccb5d",
   "metadata": {},
   "outputs": [],
   "source": [
    "options(repr.plot.width=15, repr.plot.height=10)\n",
    "barplot(sort(int_gateway_deg,decreasing = T)[1:25],las=2,col = '#CC7722')"
   ]
  },
  {
   "cell_type": "markdown",
   "id": "305e015b",
   "metadata": {},
   "source": [
    "#### Top 25 Gateway Coefficient (Betweness)"
   ]
  },
  {
   "cell_type": "code",
   "execution_count": null,
   "id": "1022e5bf",
   "metadata": {},
   "outputs": [],
   "source": [
    "options(repr.plot.width=15, repr.plot.height=10)\n",
    "barplot(sort(int_gateway_bt,decreasing = T)[1:25],las=2,col = '#CC7722')"
   ]
  },
  {
   "cell_type": "markdown",
   "id": "eeab7892",
   "metadata": {},
   "source": [
    "## 1.3 Centrality measures (Degree, betweeness, Participation and Gateway Coefficients) for severe module genes"
   ]
  },
  {
   "cell_type": "code",
   "execution_count": null,
   "id": "97caa376",
   "metadata": {},
   "outputs": [],
   "source": [
    "interesting_module <- c('PLEC','VCAN','TNXB','LOXL3','LAMB2','LRP4','HSPG2','LAMA5','COL13A1','TNC','USH2A','LAMA2','CHGB','AGRN','COL15A1')"
   ]
  },
  {
   "cell_type": "markdown",
   "id": "bf57e611",
   "metadata": {},
   "source": [
    "### Degree"
   ]
  },
  {
   "cell_type": "code",
   "execution_count": null,
   "id": "cb223463",
   "metadata": {},
   "outputs": [],
   "source": [
    "options(repr.plot.width=8, repr.plot.height=6)\n",
    "barplot(sort(int_degree[interesting_module],decreasing = T),las=2,col = '#CC7722')"
   ]
  },
  {
   "cell_type": "markdown",
   "id": "e134907e",
   "metadata": {},
   "source": [
    "### Normalized Betweeness"
   ]
  },
  {
   "cell_type": "code",
   "execution_count": null,
   "id": "75b918e6",
   "metadata": {},
   "outputs": [],
   "source": [
    "options(repr.plot.width=8, repr.plot.height=6)\n",
    "barplot(sort(int_betweeness[interesting_module],decreasing = T),las=2,col = '#CC7722')"
   ]
  },
  {
   "cell_type": "markdown",
   "id": "bf35899b",
   "metadata": {},
   "source": [
    "### Participation Coefficient"
   ]
  },
  {
   "cell_type": "code",
   "execution_count": null,
   "id": "3cdd4583",
   "metadata": {},
   "outputs": [],
   "source": [
    "options(repr.plot.width=8, repr.plot.height=6)\n",
    "barplot(sort(int_part_coeff[interesting_module],decreasing = F),las=2,col = '#CC7722')"
   ]
  },
  {
   "cell_type": "markdown",
   "id": "dbc8c0da",
   "metadata": {},
   "source": [
    "### Gateway coefficient (Degree)"
   ]
  },
  {
   "cell_type": "code",
   "execution_count": null,
   "id": "38090afe",
   "metadata": {},
   "outputs": [],
   "source": [
    "options(repr.plot.width=8, repr.plot.height=6)\n",
    "barplot(sort(int_gateway_deg[interesting_module],decreasing = F),las=2,col = '#CC7722')"
   ]
  },
  {
   "cell_type": "markdown",
   "id": "d1f898b9",
   "metadata": {},
   "source": [
    "### Gateway coefficient (Betweeness)"
   ]
  },
  {
   "cell_type": "code",
   "execution_count": null,
   "id": "1082c224",
   "metadata": {},
   "outputs": [],
   "source": [
    "options(repr.plot.width=8, repr.plot.height=6)\n",
    "barplot(sort(int_gateway_bt[interesting_module],decreasing = F),las=2,col = '#CC7722')"
   ]
  },
  {
   "cell_type": "markdown",
   "id": "3d958c8c",
   "metadata": {},
   "source": [
    "# 2. Reactome Information (Reactome Database)"
   ]
  },
  {
   "cell_type": "code",
   "execution_count": null,
   "id": "0ecfbfb7",
   "metadata": {},
   "outputs": [],
   "source": [
    "reactome <- read.table(file= \"data/Networks/ReactomeSinDuplicados.csv\")\n",
    "reactome <- graph_from_data_frame(reactome,directed = FALSE)\n",
    "reactome"
   ]
  },
  {
   "cell_type": "code",
   "execution_count": null,
   "id": "abecc8c3",
   "metadata": {},
   "outputs": [],
   "source": [
    "react_community <- cluster_louvain(reactome)\n",
    "react_membresia <- membership(react_community)"
   ]
  },
  {
   "cell_type": "markdown",
   "id": "e81f02fb",
   "metadata": {},
   "source": [
    "## 2.1. Number of reactome communities + Nodes per community"
   ]
  },
  {
   "cell_type": "code",
   "execution_count": null,
   "id": "454b6920",
   "metadata": {},
   "outputs": [],
   "source": [
    "length(react_community)"
   ]
  },
  {
   "cell_type": "code",
   "execution_count": null,
   "id": "ffa8dd9e",
   "metadata": {},
   "outputs": [],
   "source": [
    "table(react_membresia)"
   ]
  },
  {
   "cell_type": "markdown",
   "id": "a2271a0e",
   "metadata": {},
   "source": [
    "## 2.2. Centrality measures for Reactome Network"
   ]
  },
  {
   "cell_type": "markdown",
   "id": "abb32489",
   "metadata": {},
   "source": [
    "### 2.2.1. Reactome degree & betweeness distribution (~ 3 min to calculate betweeness)"
   ]
  },
  {
   "cell_type": "code",
   "execution_count": null,
   "id": "4742c5ec",
   "metadata": {},
   "outputs": [],
   "source": [
    "react_degree <- igraph::degree(reactome)\n",
    "Sys.time()\n",
    "react_betweeness <- igraph::betweenness(reactome, v = V(reactome), directed = F,normalized = T) #Normalized \n",
    "Sys.time()"
   ]
  },
  {
   "cell_type": "code",
   "execution_count": null,
   "id": "5457563e",
   "metadata": {},
   "outputs": [],
   "source": [
    "options(repr.plot.width=7, repr.plot.height=5)\n",
    "plot(density(react_degree),main='Reactome degree distribution')\n",
    "plot(density(react_betweeness),main='Reactome normalized node betweeness distribution')"
   ]
  },
  {
   "cell_type": "code",
   "execution_count": null,
   "id": "78ec091a",
   "metadata": {},
   "outputs": [],
   "source": [
    "# Mapping Gene IDs (Degree)\n",
    "\n",
    "names_degree <- mapIds(org.Hs.eg.db,keys = names(react_degree),column = \"SYMBOL\",keytype=\"ENTREZID\",multiVals = \"first\") #Gene(RefSeq) is conveniently removed here. here.\n",
    "names(react_degree) <- names_degree\n",
    "\n",
    "# Mapping Gene IDs (Betweeness)\n",
    "\n",
    "names_betweeness <- mapIds(org.Hs.eg.db,keys = names(react_betweeness),column = \"SYMBOL\",keytype=\"ENTREZID\",multiVals = \"first\") #Gene(RefSeq) is conveniently removed here. here.\n",
    "names(react_betweeness) <- names_betweeness"
   ]
  },
  {
   "cell_type": "markdown",
   "id": "14e014d5",
   "metadata": {},
   "source": [
    "#### Top 25 Degree"
   ]
  },
  {
   "cell_type": "code",
   "execution_count": null,
   "id": "f494d510",
   "metadata": {},
   "outputs": [],
   "source": [
    "options(repr.plot.width=15, repr.plot.height=10)\n",
    "barplot(sort(react_degree,decreasing = T)[1:25],las=2,col = 'turquoise')"
   ]
  },
  {
   "cell_type": "markdown",
   "id": "eb8ad05d",
   "metadata": {},
   "source": [
    "#### Top 25 Normalized Betweeness"
   ]
  },
  {
   "cell_type": "code",
   "execution_count": null,
   "id": "81522f5d",
   "metadata": {},
   "outputs": [],
   "source": [
    "options(repr.plot.width=15, repr.plot.height=10)\n",
    "barplot(sort(react_betweeness,decreasing = T)[1:25],las=2,col = 'turquoise')"
   ]
  },
  {
   "cell_type": "markdown",
   "id": "424269ed",
   "metadata": {},
   "source": [
    "### 2.2.2. Reactome gateway coefficient and participation coefficient"
   ]
  },
  {
   "cell_type": "code",
   "execution_count": null,
   "id": "95c82023",
   "metadata": {},
   "outputs": [],
   "source": [
    "Sys.time()\n",
    "react_part_coeff <- part_coeff(reactome,memb = react_membresia) # ~25 sec\n",
    "Sys.time()\n",
    "\n",
    "Sys.time()\n",
    "react_gateway_deg <- gateway_coeff(reactome,memb= react_membresia,centr = 'degree') # ~28 sec\n",
    "Sys.time()\n",
    "\n",
    "Sys.time()\n",
    "react_gateway_bt <- gateway_coeff(reactome,memb= react_membresia,centr = 'btwn.cent') # ~4 min\n",
    "Sys.time()"
   ]
  },
  {
   "cell_type": "code",
   "execution_count": null,
   "id": "e086e9e2",
   "metadata": {},
   "outputs": [],
   "source": [
    "# Mapping Gene IDs (Part coeff)\n",
    "\n",
    "names_part_coeff <- mapIds(org.Hs.eg.db,keys = names(react_part_coeff),column = \"SYMBOL\",keytype=\"ENTREZID\",multiVals = \"first\") #Gene(RefSeq) is conveniently removed here. here.\n",
    "names(react_part_coeff) <- names_part_coeff\n",
    "\n",
    "\n",
    "# Mapping Gene IDs (Gateway coefficient -Degree-)\n",
    "\n",
    "names_gateway_deg <- mapIds(org.Hs.eg.db,keys = names(react_gateway_deg),column = \"SYMBOL\",keytype=\"ENTREZID\",multiVals = \"first\") #Gene(RefSeq) is conveniently removed here. here.\n",
    "names(react_gateway_deg) <- names_gateway_deg\n",
    "\n",
    "# Mapping Gene IDs (Gateway coefficient -Betwenness-)\n",
    "\n",
    "names_gateway_bt <- mapIds(org.Hs.eg.db,keys = names(react_gateway_bt),column = \"SYMBOL\",keytype=\"ENTREZID\",multiVals = \"first\") #Gene(RefSeq) is conveniently removed here. here.\n",
    "names(react_gateway_bt) <- names_gateway_bt"
   ]
  },
  {
   "cell_type": "markdown",
   "id": "400e921f",
   "metadata": {},
   "source": [
    "#### Participation coefficient distribution"
   ]
  },
  {
   "cell_type": "code",
   "execution_count": null,
   "id": "ea8d0456",
   "metadata": {},
   "outputs": [],
   "source": [
    "plot(density(react_part_coeff),main='Participation coefficient distribution')"
   ]
  },
  {
   "cell_type": "markdown",
   "id": "6714e895",
   "metadata": {},
   "source": [
    "#### Top 25 Participation Coefficient"
   ]
  },
  {
   "cell_type": "code",
   "execution_count": null,
   "id": "2fbcbebb",
   "metadata": {},
   "outputs": [],
   "source": [
    "options(repr.plot.width=15, repr.plot.height=10)\n",
    "barplot(sort(react_part_coeff,decreasing = T)[1:25],las=2,col = 'turquoise') #These would be the least important in the net"
   ]
  },
  {
   "cell_type": "markdown",
   "id": "22db215c",
   "metadata": {},
   "source": [
    "#### Top 25 Gateway Coefficient (Degree)"
   ]
  },
  {
   "cell_type": "code",
   "execution_count": null,
   "id": "972f6d3a",
   "metadata": {},
   "outputs": [],
   "source": [
    "options(repr.plot.width=15, repr.plot.height=10)\n",
    "barplot(sort(react_gateway_deg,decreasing = T)[1:25],las=2,col = 'turquoise')"
   ]
  },
  {
   "cell_type": "markdown",
   "id": "82eca4d7",
   "metadata": {},
   "source": [
    "#### Top 25 Gateway Coefficient (Betweeness)"
   ]
  },
  {
   "cell_type": "code",
   "execution_count": null,
   "id": "e0dcf209",
   "metadata": {},
   "outputs": [],
   "source": [
    "options(repr.plot.width=15, repr.plot.height=10)\n",
    "barplot(sort(react_gateway_bt,decreasing = T)[1:25],las=2,col = 'turquoise')"
   ]
  },
  {
   "cell_type": "markdown",
   "id": "b2e75d6f",
   "metadata": {},
   "source": [
    "## 2.3. Reactome centrality measures (Degree, betweeness, Participation and Gateway Coefficients) for severe module genes"
   ]
  },
  {
   "cell_type": "markdown",
   "id": "90b5a84a",
   "metadata": {},
   "source": [
    "### Degree"
   ]
  },
  {
   "cell_type": "code",
   "execution_count": null,
   "id": "548cf63c",
   "metadata": {},
   "outputs": [],
   "source": [
    "options(repr.plot.width=8, repr.plot.height=6)\n",
    "barplot(sort(react_degree[interesting_module],decreasing = T),las=2,col = 'turquoise')"
   ]
  },
  {
   "cell_type": "markdown",
   "id": "ccc90188",
   "metadata": {},
   "source": [
    "### Normalized Betweeness"
   ]
  },
  {
   "cell_type": "code",
   "execution_count": null,
   "id": "5a564ed9",
   "metadata": {},
   "outputs": [],
   "source": [
    "options(repr.plot.width=8, repr.plot.height=6)\n",
    "barplot(sort(react_betweeness[interesting_module],decreasing = T),las=2,col = 'turquoise')"
   ]
  },
  {
   "cell_type": "markdown",
   "id": "b9fbec41",
   "metadata": {},
   "source": [
    "### Participation Coefficient"
   ]
  },
  {
   "cell_type": "code",
   "execution_count": null,
   "id": "5c76d833",
   "metadata": {},
   "outputs": [],
   "source": [
    "options(repr.plot.width=8, repr.plot.height=6)\n",
    "barplot(sort(react_part_coeff[interesting_module],decreasing = F),las=2,col = 'turquoise')"
   ]
  },
  {
   "cell_type": "markdown",
   "id": "23bcd013",
   "metadata": {},
   "source": [
    "### Gateway Coefficient (Degree)"
   ]
  },
  {
   "cell_type": "code",
   "execution_count": null,
   "id": "4c07d7cb",
   "metadata": {},
   "outputs": [],
   "source": [
    "options(repr.plot.width=8, repr.plot.height=6)\n",
    "barplot(sort(react_gateway_deg[interesting_module],decreasing = F),las=2,col = 'turquoise')"
   ]
  },
  {
   "cell_type": "markdown",
   "id": "31560b5c",
   "metadata": {},
   "source": [
    "### Gateway Coefficient (Betweeness)"
   ]
  },
  {
   "cell_type": "code",
   "execution_count": null,
   "id": "a607a732",
   "metadata": {},
   "outputs": [],
   "source": [
    "options(repr.plot.width=8, repr.plot.height=6)\n",
    "barplot(sort(react_gateway_bt[interesting_module],decreasing = F),las=2,col = 'turquoise')"
   ]
  },
  {
   "cell_type": "markdown",
   "id": "c41214ca",
   "metadata": {},
   "source": [
    "# 3. Metabolome (Recon3D Virtual Metabolic Human)"
   ]
  },
  {
   "cell_type": "code",
   "execution_count": null,
   "id": "b6138b3e",
   "metadata": {},
   "outputs": [],
   "source": [
    "metabolome <- read.table(file= \"data/Networks/Recon3DSinDuplicados.csv\")\n",
    "metabolome <- graph_from_data_frame(metabolome,directed = FALSE)\n",
    "metabolome"
   ]
  },
  {
   "cell_type": "code",
   "execution_count": null,
   "id": "5f96e2c7",
   "metadata": {},
   "outputs": [],
   "source": [
    "met_community <- cluster_louvain(metabolome)\n",
    "met_membresia <- membership(met_community)"
   ]
  },
  {
   "cell_type": "markdown",
   "id": "6abd5b1e",
   "metadata": {},
   "source": [
    "## 3.1. Number of reactome communities + Nodes per community"
   ]
  },
  {
   "cell_type": "code",
   "execution_count": null,
   "id": "3bfa0bb9",
   "metadata": {},
   "outputs": [],
   "source": [
    "length(met_community)"
   ]
  },
  {
   "cell_type": "code",
   "execution_count": null,
   "id": "5d676633",
   "metadata": {},
   "outputs": [],
   "source": [
    "table(met_membresia)"
   ]
  },
  {
   "cell_type": "markdown",
   "id": "03488d08",
   "metadata": {},
   "source": [
    "## 3.2. Centrality measures for Metabolome Network"
   ]
  },
  {
   "cell_type": "markdown",
   "id": "7763a6a9",
   "metadata": {},
   "source": [
    "### 3.2.1. Metabolome degree & betweeness distribution (~ 3 min to calculate betweeness)"
   ]
  },
  {
   "cell_type": "code",
   "execution_count": null,
   "id": "18db2b20",
   "metadata": {},
   "outputs": [],
   "source": [
    "met_degree <- igraph::degree(metabolome)\n",
    "Sys.time()\n",
    "met_betweeness <- igraph::betweenness(metabolome, v = V(metabolome), directed = F,normalized = T) #Normalized \n",
    "Sys.time()"
   ]
  },
  {
   "cell_type": "code",
   "execution_count": null,
   "id": "2ed27eff",
   "metadata": {},
   "outputs": [],
   "source": [
    "options(repr.plot.width=7, repr.plot.height=5)\n",
    "plot(density(met_degree),main='Metabolome degree distribution')\n",
    "plot(density(met_betweeness),main='Metabolome normalized node betweeness distribution')"
   ]
  },
  {
   "cell_type": "code",
   "execution_count": null,
   "id": "48734c6d",
   "metadata": {},
   "outputs": [],
   "source": [
    "# Mapping Gene IDs (Degree)\n",
    "\n",
    "names_degree <- mapIds(org.Hs.eg.db,keys = names(met_degree),column = \"SYMBOL\",keytype=\"ENTREZID\",multiVals = \"first\") #Gene(RefSeq) is conveniently removed here. here.\n",
    "names(met_degree) <- names_degree\n",
    "\n",
    "# Mapping Gene IDs (Betweeness)\n",
    "\n",
    "names_betweeness <- mapIds(org.Hs.eg.db,keys = names(met_betweeness),column = \"SYMBOL\",keytype=\"ENTREZID\",multiVals = \"first\") #Gene(RefSeq) is conveniently removed here. here.\n",
    "names(met_betweeness) <- names_betweeness"
   ]
  },
  {
   "cell_type": "markdown",
   "id": "2032d74a",
   "metadata": {},
   "source": [
    "#### Top 25 Degree"
   ]
  },
  {
   "cell_type": "code",
   "execution_count": null,
   "id": "1898246b",
   "metadata": {},
   "outputs": [],
   "source": [
    "options(repr.plot.width=15, repr.plot.height=10)\n",
    "barplot(sort(met_degree,decreasing = T)[1:25],las=2,col = '#6B8E23')"
   ]
  },
  {
   "cell_type": "markdown",
   "id": "6412f3a5",
   "metadata": {},
   "source": [
    "#### Top 25 Normalized Betweeness"
   ]
  },
  {
   "cell_type": "code",
   "execution_count": null,
   "id": "22ae0c1b",
   "metadata": {},
   "outputs": [],
   "source": [
    "options(repr.plot.width=15, repr.plot.height=10)\n",
    "barplot(sort(met_betweeness,decreasing = T)[1:25],las=2,col = '#6B8E23')"
   ]
  },
  {
   "cell_type": "markdown",
   "id": "5653ce17",
   "metadata": {},
   "source": [
    "### 1.2.2. Reactome gateway coefficient and participation coefficient"
   ]
  },
  {
   "cell_type": "code",
   "execution_count": null,
   "id": "e45bdabf",
   "metadata": {},
   "outputs": [],
   "source": [
    "Sys.time()\n",
    "met_part_coeff <- part_coeff(metabolome,memb = met_membresia)\n",
    "Sys.time()\n",
    "\n",
    "Sys.time()\n",
    "met_gateway_deg <- gateway_coeff(metabolome,memb= met_membresia,centr = 'degree') \n",
    "Sys.time()\n",
    "\n",
    "Sys.time()\n",
    "met_gateway_bt <- gateway_coeff(metabolome,memb= met_membresia,centr = 'btwn.cent') \n",
    "Sys.time()"
   ]
  },
  {
   "cell_type": "code",
   "execution_count": null,
   "id": "11e7eb5d",
   "metadata": {},
   "outputs": [],
   "source": [
    "# Mapping Gene IDs (Part coeff)\n",
    "\n",
    "names_part_coeff <- mapIds(org.Hs.eg.db,keys = names(met_part_coeff),column = \"SYMBOL\",keytype=\"ENTREZID\",multiVals = \"first\") #Gene(RefSeq) is conveniently removed here. here.\n",
    "names(met_part_coeff) <- names_part_coeff\n",
    "\n",
    "\n",
    "# Mapping Gene IDs (Gateway coefficient -Degree-)\n",
    "\n",
    "names_gateway_deg <- mapIds(org.Hs.eg.db,keys = names(met_gateway_deg),column = \"SYMBOL\",keytype=\"ENTREZID\",multiVals = \"first\") #Gene(RefSeq) is conveniently removed here. here.\n",
    "names(met_gateway_deg) <- names_gateway_deg\n",
    "\n",
    "# Mapping Gene IDs (Gateway coefficient -Betwenness-)\n",
    "\n",
    "names_gateway_bt <- mapIds(org.Hs.eg.db,keys = names(met_gateway_bt),column = \"SYMBOL\",keytype=\"ENTREZID\",multiVals = \"first\") #Gene(RefSeq) is conveniently removed here. here.\n",
    "names(met_gateway_bt) <- names_gateway_bt"
   ]
  },
  {
   "cell_type": "markdown",
   "id": "f330c40a",
   "metadata": {},
   "source": [
    "#### Participation coefficient distribution"
   ]
  },
  {
   "cell_type": "code",
   "execution_count": null,
   "id": "f407b4bf",
   "metadata": {},
   "outputs": [],
   "source": [
    "plot(density(react_part_coeff),main='Participation coefficient distribution')"
   ]
  },
  {
   "cell_type": "markdown",
   "id": "0403d0f9",
   "metadata": {},
   "source": [
    "#### Top 25 Participation Coefficient"
   ]
  },
  {
   "cell_type": "code",
   "execution_count": null,
   "id": "5023b9a7",
   "metadata": {},
   "outputs": [],
   "source": [
    "options(repr.plot.width=15, repr.plot.height=10)\n",
    "barplot(sort(react_part_coeff,decreasing = T)[1:25],las=2,col = '#6B8E23') #These would be the least important in the net"
   ]
  },
  {
   "cell_type": "markdown",
   "id": "0d846c38",
   "metadata": {},
   "source": [
    "#### Top 25 Gateway Coefficient (Degree)"
   ]
  },
  {
   "cell_type": "code",
   "execution_count": null,
   "id": "1dc59ef2",
   "metadata": {},
   "outputs": [],
   "source": [
    "options(repr.plot.width=15, repr.plot.height=10)\n",
    "barplot(sort(react_gateway_deg,decreasing = T)[1:25],las=2,col = '#6B8E23')"
   ]
  },
  {
   "cell_type": "markdown",
   "id": "e94c2d01",
   "metadata": {},
   "source": [
    "#### Top 25 Gateway Coefficient (Betweeness)"
   ]
  },
  {
   "cell_type": "code",
   "execution_count": null,
   "id": "6cd81192",
   "metadata": {
    "scrolled": true
   },
   "outputs": [],
   "source": [
    "options(repr.plot.width=15, repr.plot.height=10)\n",
    "barplot(sort(react_gateway_bt,decreasing = T)[1:25],las=2,col = '#6B8E23')"
   ]
  },
  {
   "cell_type": "markdown",
   "id": "529f3ead",
   "metadata": {},
   "source": [
    "## 3.3 Centrality measures for CMS Causal genes (Metabolome network)"
   ]
  },
  {
   "cell_type": "markdown",
   "id": "89e70190",
   "metadata": {},
   "source": [
    "The genes found in our module do not exist in this network, meaning the information of the connections in the module are driven by Reactome and Integrated Interaction Database. Nevertheless, we should pinpoint that 6 of the causal genes do exist in this network (as well as some variants from the severe patients , therefore removing this network from the multilayer may yield problems on the discriminating process of some of the multilayer modules.  \n",
    "\n",
    "Additionally, ACOT2, one of these genes, is marked as potential causal gene of patient 3 severity."
   ]
  },
  {
   "cell_type": "markdown",
   "id": "991df843",
   "metadata": {},
   "source": [
    "### Load Causal genes"
   ]
  },
  {
   "cell_type": "code",
   "execution_count": null,
   "id": "cf4eb161",
   "metadata": {},
   "outputs": [],
   "source": [
    "cosa <- read.csv(\"data/InputGenes/cmsgenes.csv\",header=FALSE) #http://www.musclegenetable.fr/4DACTION/Blob_groupe2\n",
    "#cosa <- read.csv(\"data/InputGenes/genespaper.csv\",header=FALSE) #Table PMID:30552423\n",
    "cosa <- cosa[,1]\n",
    "cosa <- as.character(cosa)\n",
    "cosa"
   ]
  },
  {
   "cell_type": "markdown",
   "id": "ef54b834",
   "metadata": {},
   "source": [
    "### Filter to genes in Metabolome network"
   ]
  },
  {
   "cell_type": "code",
   "execution_count": null,
   "id": "7f687642",
   "metadata": {},
   "outputs": [],
   "source": [
    "cosa <- c(cosa[cosa %in% names(met_degree)],'ACOT2','ATP6V0A4','SLC28A1','AMPD1','CHIT1','CES5A') #We additionally put ACOT2, the suspicious gene of patient 3,\n",
    "# as well as genes found in the communities presented in supplementary figure 3 (Severe, metabolome)"
   ]
  },
  {
   "cell_type": "markdown",
   "id": "85642784",
   "metadata": {},
   "source": [
    "## 3.3. Metabolome centrality measures (Degree, betweeness, Participation and Gateway Coefficients) for severe module genes"
   ]
  },
  {
   "cell_type": "markdown",
   "id": "d9aea0d1",
   "metadata": {},
   "source": [
    "### Degree"
   ]
  },
  {
   "cell_type": "code",
   "execution_count": null,
   "id": "3f9e29ae",
   "metadata": {},
   "outputs": [],
   "source": [
    "options(repr.plot.width=10, repr.plot.height=6)\n",
    "barplot(sort(met_degree[cosa],decreasing = T),las=2,col = '#6B8E23')"
   ]
  },
  {
   "cell_type": "markdown",
   "id": "342417ea",
   "metadata": {},
   "source": [
    "### Normalized Betweeness"
   ]
  },
  {
   "cell_type": "code",
   "execution_count": null,
   "id": "013ce68f",
   "metadata": {},
   "outputs": [],
   "source": [
    "options(repr.plot.width=10, repr.plot.height=6)\n",
    "barplot(sort(met_betweeness[cosa],decreasing = T),las=2,col = '#6B8E23')"
   ]
  },
  {
   "cell_type": "markdown",
   "id": "f5fcb51d",
   "metadata": {},
   "source": [
    "### Participation Coefficient"
   ]
  },
  {
   "cell_type": "code",
   "execution_count": null,
   "id": "7f478e88",
   "metadata": {},
   "outputs": [],
   "source": [
    "options(repr.plot.width=10, repr.plot.height=6)\n",
    "barplot(sort(met_part_coeff[cosa],decreasing = F),las=2,col = '#6B8E23')"
   ]
  },
  {
   "cell_type": "markdown",
   "id": "50f6d3f4",
   "metadata": {},
   "source": [
    "### Gateway Coefficient (Degree)"
   ]
  },
  {
   "cell_type": "code",
   "execution_count": null,
   "id": "1e5f366e",
   "metadata": {},
   "outputs": [],
   "source": [
    "options(repr.plot.width=10, repr.plot.height=6)\n",
    "barplot(sort(met_gateway_deg[cosa],decreasing = F),las=2,col = '#6B8E23')"
   ]
  },
  {
   "cell_type": "markdown",
   "id": "2d982328",
   "metadata": {},
   "source": [
    "### Gateway Coefficient (Betweeness)"
   ]
  },
  {
   "cell_type": "code",
   "execution_count": null,
   "id": "273b5da6",
   "metadata": {},
   "outputs": [],
   "source": [
    "options(repr.plot.width=10, repr.plot.height=6)\n",
    "barplot(sort(met_gateway_bt[cosa],decreasing = F),las=2,col = '#6B8E23')"
   ]
  },
  {
   "cell_type": "code",
   "execution_count": null,
   "id": "53273399",
   "metadata": {},
   "outputs": [],
   "source": [
    "library(VennDiagram)"
   ]
  },
  {
   "cell_type": "code",
   "execution_count": null,
   "id": "4b978745",
   "metadata": {},
   "outputs": [],
   "source": [
    "library(tidyverse)"
   ]
  },
  {
   "cell_type": "markdown",
   "id": "322358d2",
   "metadata": {},
   "source": [
    "### Edge Overlap"
   ]
  },
  {
   "cell_type": "code",
   "execution_count": null,
   "id": "0c72d256",
   "metadata": {},
   "outputs": [],
   "source": [
    "grid.newpage()\n",
    "draw.triple.venn(area1 = length(E(interactome)), \n",
    "                 area2 = length(E(reactome)), \n",
    "                 area3 = length(E(metabolome)), \n",
    "                 n12 = length(E(igraph::intersection(interactome,reactome))),\n",
    "                 n23 = length(E(igraph::intersection(metabolome,reactome))), \n",
    "                 n13 = length(E(igraph::intersection(interactome,metabolome))),\n",
    "                 n123 = length(E(igraph::intersection(interactome,reactome,metabolome))),\n",
    "                 category = c(\"IID\", \"Reactome\", \"Virtual Metabolic Human\"), lty = \"blank\", \n",
    "                 fill = c(alpha('#fde725ff',0.3), alpha('#21908dff',0.3),alpha(\"#440154ff\",0.3)),\n",
    "                 col=c(\"#440154ff\", '#21908dff', '#fde725ff'),\n",
    "                 fontfamily='sans',\n",
    "                 cex=1)"
   ]
  },
  {
   "cell_type": "markdown",
   "id": "b27142d7",
   "metadata": {},
   "source": [
    "### Node Overlap"
   ]
  },
  {
   "cell_type": "code",
   "execution_count": null,
   "id": "ca3ddb33",
   "metadata": {
    "scrolled": true
   },
   "outputs": [],
   "source": [
    "grid.newpage()\n",
    "draw.triple.venn(area1 = length(V(interactome)), \n",
    "                 area2 = length(V(reactome)), \n",
    "                 area3 = length(V(metabolome)), \n",
    "                 n12 = length(intersect(V(interactome)$name,V(reactome)$name)),\n",
    "                 n23 = length(intersect(V(metabolome)$name,V(reactome)$name)), \n",
    "                 n13 = length(intersect(V(interactome)$name,V(metabolome)$name)),\n",
    "                 n123 = length(Reduce(intersect, list(V(interactome)$name,V(reactome)$name,V(metabolome)$name))),\n",
    "                 category = c(\"IID\", \"Reactome\", \"Virtual Metabolic Human\"), lty = \"blank\", \n",
    "                 fill = c(alpha('#fde725ff',0.3), alpha('#21908dff',0.3),alpha(\"#440154ff\",0.3)),\n",
    "                 col=c(\"#440154ff\", '#21908dff', '#fde725ff'),\n",
    "                 fontfamily='sans',\n",
    "                 cex=1)"
   ]
  }
 ],
 "metadata": {
  "kernelspec": {
   "display_name": "R",
   "language": "R",
   "name": "ir"
  },
  "language_info": {
   "codemirror_mode": "r",
   "file_extension": ".r",
   "mimetype": "text/x-r-source",
   "name": "R",
   "pygments_lexer": "r",
   "version": "4.2.3"
  }
 },
 "nbformat": 4,
 "nbformat_minor": 5
}
