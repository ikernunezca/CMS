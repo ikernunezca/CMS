{
 "cells": [
  {
   "cell_type": "code",
   "execution_count": 1,
   "id": "3d65b3ea",
   "metadata": {},
   "outputs": [],
   "source": [
    "setwd('../')"
   ]
  },
  {
   "cell_type": "markdown",
   "id": "ba3f9b0d",
   "metadata": {},
   "source": [
    "#### Setup for severe - non-severe patients"
   ]
  },
  {
   "cell_type": "code",
   "execution_count": null,
   "id": "b1fc5863",
   "metadata": {},
   "outputs": [
    {
     "name": "stderr",
     "output_type": "stream",
     "text": [
      "Loading required package: stats4\n",
      "Loading required package: BiocGenerics\n",
      "Loading required package: parallel\n",
      "\n",
      "Attaching package: ‘BiocGenerics’\n",
      "\n",
      "The following objects are masked from ‘package:parallel’:\n",
      "\n",
      "    clusterApply, clusterApplyLB, clusterCall, clusterEvalQ,\n",
      "    clusterExport, clusterMap, parApply, parCapply, parLapply,\n",
      "    parLapplyLB, parRapply, parSapply, parSapplyLB\n",
      "\n",
      "The following objects are masked from ‘package:stats’:\n",
      "\n",
      "    IQR, mad, sd, var, xtabs\n",
      "\n",
      "The following objects are masked from ‘package:base’:\n",
      "\n",
      "    anyDuplicated, append, as.data.frame, basename, cbind, colnames,\n",
      "    dirname, do.call, duplicated, eval, evalq, Filter, Find, get, grep,\n",
      "    grepl, intersect, is.unsorted, lapply, Map, mapply, match, mget,\n",
      "    order, paste, pmax, pmax.int, pmin, pmin.int, Position, rank,\n",
      "    rbind, Reduce, rownames, sapply, setdiff, sort, table, tapply,\n",
      "    union, unique, unsplit, which, which.max, which.min\n",
      "\n",
      "Loading required package: Biobase\n",
      "Welcome to Bioconductor\n",
      "\n",
      "    Vignettes contain introductory material; view with\n",
      "    'browseVignettes()'. To cite Bioconductor, see\n",
      "    'citation(\"Biobase\")', and for packages 'citation(\"pkgname\")'.\n",
      "\n",
      "Loading required package: IRanges\n",
      "Loading required package: S4Vectors\n"
     ]
    }
   ],
   "source": [
    "phenotype <- \"severe\" # \"severe\" for severe-only analysis, \"notsevere\" for non-severe genes.\n",
    "\n",
    "destfile= \"Plots/Figure4_\" #Directory destination and name of the csv and pdf files that will be retrieved as output.\n",
    "\n",
    " \n",
    "#libraries needed:\n",
    "library(\"AnnotationDbi\")\n",
    "library(\"AnnotationDbi\")\n",
    "library(\"org.Hs.eg.db\")\n",
    "library(\"igraph\")"
   ]
  },
  {
   "cell_type": "markdown",
   "id": "f49a1b05",
   "metadata": {},
   "source": [
    "### Read Community structure output files from MolTi"
   ]
  },
  {
   "cell_type": "code",
   "execution_count": null,
   "id": "c929baf2",
   "metadata": {},
   "outputs": [],
   "source": [
    "cero <- readLines(\"data/MolTi/Community_Analysis/CommunitiesResolution0MultilayerNetwork5112018.csv\")\n",
    "cero <- strsplit(cero,\"\\t\")\n",
    "cerocinco <- readLines(\"data/MolTi/Community_Analysis/CommunitiesResolution05MultilayerNetwork5112018.csv\")\n",
    "cerocinco <- strsplit(cerocinco,\"\\t\")\n",
    "uno <- readLines(\"data/MolTi/Community_Analysis/CommunitiesResolution1MultilayerNetwork5112018.csv\")\n",
    "uno <- strsplit(uno,\"\\t\")\n",
    "unocinco <- readLines(\"data/MolTi/Community_Analysis/CommunitiesResolution15MultilayerNetwork5112018.csv\")\n",
    "unocinco <- strsplit(unocinco,\"\\t\")\n",
    "dos <- readLines(\"data/MolTi/Community_Analysis/CommunitiesResolution2MultilayerNetwork5112018.csv\")\n",
    "dos <- strsplit(dos,\"\\t\")\n",
    "doscinco <- readLines(\"data/MolTi/Community_Analysis/CommunitiesResolution25MultilayerNetwork5112018.csv\")\n",
    "doscinco <- strsplit(doscinco,\"\\t\")\n",
    "tres <- readLines(\"data/MolTi/Community_Analysis/CommunitiesResolution3MultilayerNetwork5112018.csv\")\n",
    "tres <- strsplit(tres,\"\\t\")\n",
    "trescinco <- readLines(\"data/MolTi/Community_Analysis/CommunitiesResolution35MultilayerNetwork5112018.csv\")\n",
    "trescinco <- strsplit(trescinco,\"\\t\")\n",
    "cuatro <- readLines(\"data/MolTi/Community_Analysis/CommunitiesResolution4MultilayerNetwork5112018.csv\")\n",
    "cuatro <- strsplit(cuatro,\"\\t\")"
   ]
  },
  {
   "cell_type": "code",
   "execution_count": null,
   "id": "6076dfa1",
   "metadata": {},
   "outputs": [],
   "source": [
    "lista_comunidades <- list(cero,cerocinco,uno,unocinco,dos,doscinco,tres,trescinco,cuatro)"
   ]
  },
  {
   "cell_type": "markdown",
   "id": "0881c2b9",
   "metadata": {},
   "source": [
    "#### Load  severe diagnosis for each patient"
   ]
  },
  {
   "cell_type": "code",
   "execution_count": null,
   "id": "3a8d98ea",
   "metadata": {},
   "outputs": [],
   "source": [
    "patients2 <- read.table(file= \"data/MolTi/Community_Analysis/originalSevereDiagnosis.csv\",sep= \",\",header= F)\n",
    "patients2[,1] <- as.character(patients2[,1])\n",
    "patients2[,2] <- as.character(patients2[,2])\n",
    "patients2 <- cbind(patients2,0)\n",
    "patients2[,3] <- sample(patients2[,2])"
   ]
  },
  {
   "cell_type": "code",
   "execution_count": null,
   "id": "3742d14d",
   "metadata": {},
   "outputs": [],
   "source": [
    "head(patients2) # Column '0' are the randomized assignments"
   ]
  },
  {
   "cell_type": "markdown",
   "id": "1f7e0616",
   "metadata": {},
   "source": [
    "### Retrieve specific Compound Heterozygous Mutations for Severe & Non-severe groups"
   ]
  },
  {
   "cell_type": "code",
   "execution_count": null,
   "id": "af5bce36",
   "metadata": {},
   "outputs": [],
   "source": [
    "#Compound Heterozygous mutations\n",
    "patients <- read.table(file= \"data/InputGenes/compound_all_nov2018.csv\")\n",
    "patients[,1] <- as.character(patients[,1])\n",
    "patients[,2] <- as.character(patients[,2])\n",
    "patients <- split(patients[,2],patients[,1])\n",
    "#severepatients <- patients[which(patients2[,3]==\"severe\")] #Uncomment and comment the next one for randomizing\n",
    "severepatients <- patients[patients2[,1][which(patients2[,2]==\"severe\")]] ##Uncomment and comment the previous one for the original plot\n",
    "#notseverepatients <- patients[which(patients2[,3]==\"notsevere\")] #Uncomment and comment the next one for randomizing\n",
    "notseverepatients <- patients[patients2[,1][which(patients2[,2]==\"notsevere\")]] #Uncomment and comment the previous one for the original plot\n",
    "severe<- unlist(severepatients)\n",
    "names(severe) <- NULL\n",
    "notsevere <- unlist(notseverepatients)\n",
    "names(notsevere) <- NULL\n",
    "severeonly <- setdiff(severe,notsevere)\n",
    "notsevereonly <- setdiff(notsevere,severe)\n",
    "\n",
    "severepatientsnames <- names(severepatients)\n",
    "notseverepatientsnames <- names(notseverepatients)"
   ]
  },
  {
   "cell_type": "code",
   "execution_count": null,
   "id": "4baaa5f2",
   "metadata": {},
   "outputs": [],
   "source": [
    "head(patients)"
   ]
  },
  {
   "cell_type": "markdown",
   "id": "84c0e409",
   "metadata": {},
   "source": [
    "### Retrieve specific Copy Number Variations for Severe & Non-severe groups"
   ]
  },
  {
   "cell_type": "code",
   "execution_count": null,
   "id": "f4609273",
   "metadata": {},
   "outputs": [],
   "source": [
    "cnvdata <- read.csv(\"data/InputGenes/CNV_genes_for_iker.tsv\",sep= \"\\t\")\n",
    "cnvdata[,\"gene\"] <- as.character(cnvdata[,\"gene\"])\n",
    "genis <- c(cnvdata[\"gene\"])$gene\n",
    "genis <- mapIds(org.Hs.eg.db,keys = genis,column = \"SYMBOL\",keytype=\"ENSEMBL\",multiVals = \"first\")\n",
    "# Manual mapping for missing IDs\n",
    "genis[\"ENSG00000005955\"] <- \"GGNBP2\" \n",
    "genis[\"ENSG00000006114\"] <- \"SYNGR\"\n",
    "genis[\"ENSG00000108264\"] <- \"TADA2A\"\n",
    "genis[\"ENSG00000108270\"] <- \"AATF\"\n",
    "genis[\"ENSG00000108272\"] <- \"DHRS11\"\n",
    "genis[\"ENSG00000108278\"] <- \"ZNHI3\"\n",
    "genis[\"ENSG00000108753\"] <- \"HNF1B\"\n",
    "genis[\"ENSG00000129282\"] <- \"MRM1\"\n",
    "genis[\"ENSG00000132130\"] <- \"LHX1\"\n",
    "genis[\"ENSG00000141140\"] <- \"MYO19\"\n",
    "genis[\"ENSG00000141141\"] <- \"DDX52\"\n",
    "genis[\"ENSG00000161326\"] <- \"DUSP14\"\n",
    "genis[\"ENSG00000167230\"] <- \"C17orf78\"\n",
    "genis[\"ENSG00000174093\"] <- \"RP11-1407O15.2\"\n",
    "genis[\"ENSG00000184886\"] <- \"PIGW\"\n",
    "genis[\"ENSG00000197681\"] <- \"TBC1D3\"\n",
    "genis[\"ENSG00000203815\"] <- \"FAM231D\"\n",
    "genis[\"ENSG00000219492\"] <- \"RP11-1396O31.13\"\n",
    "genis[\"ENSG00000229924\"] <- \"FAM90A26\"\n",
    "genis[\"ENSG00000250913\"] <- \"USP17L23\"\n",
    "genis[\"ENSG00000268172\"] <- \"AL590452.1\"\n",
    "genis <- as.matrix(genis)\n",
    "rownames(genis) <- NULL\n",
    "genis <- genis[,1]\n",
    "cnvdata <- cbind(cnvdata,genis)\n",
    "severedata <- cnvdata[,c(\"gene\",\"whole_gene\",severepatientsnames,\"genis\")]\n",
    "milddata <- cnvdata[,c(\"gene\",\"whole_gene\",notseverepatientsnames,\"genis\")]"
   ]
  },
  {
   "cell_type": "code",
   "execution_count": null,
   "id": "0dfa507f",
   "metadata": {},
   "outputs": [],
   "source": [
    "severedata <- severedata[apply(X = severedata,MARGIN = 1,function(x) paste0(x[3:10],collapse='_')) != '2_2_2_2_2_2_2_2',]\n",
    "head(severedata)"
   ]
  },
  {
   "cell_type": "code",
   "execution_count": null,
   "id": "672bd8a6",
   "metadata": {},
   "outputs": [],
   "source": [
    "milddata <- milddata[apply(X = milddata,MARGIN = 1,function(x) paste0(x[3:10],collapse='_')) != '2_2_2_2_2_2_2_2',]\n",
    "head(milddata)"
   ]
  },
  {
   "cell_type": "code",
   "execution_count": null,
   "id": "95f7d0db",
   "metadata": {},
   "outputs": [],
   "source": [
    "rownames(severedata) <- NULL\n",
    "rownames(milddata) <- NULL\n",
    "severecnvs <- unique(as.character(severedata[,\"genis\"]))\n",
    "mildcnvs <- unique(as.character(milddata[,\"genis\"]))\n",
    "cnvsevereonly <- setdiff(severecnvs,mildcnvs)\n",
    "cnvsnotsevereonly <- setdiff(mildcnvs,severecnvs)"
   ]
  },
  {
   "cell_type": "code",
   "execution_count": null,
   "id": "344ec968",
   "metadata": {},
   "outputs": [],
   "source": [
    "cnvsevereonly"
   ]
  },
  {
   "cell_type": "markdown",
   "id": "bc5c025e",
   "metadata": {},
   "source": [
    "### Load CMS Causal genes"
   ]
  },
  {
   "cell_type": "code",
   "execution_count": null,
   "id": "1f46dc89",
   "metadata": {},
   "outputs": [],
   "source": [
    "cosa <- read.csv(\"data/InputGenes/cmsgenes.csv\",header=FALSE) #http://www.musclegenetable.fr/4DACTION/Blob_groupe2\n",
    "#cosa <- read.csv(\"data/InputGenes/genespaper.csv\",header=FALSE) #Table PMID:30552423\n",
    "cosa <- cosa[,1]\n",
    "cosa <- as.character(cosa)\n",
    "cosa"
   ]
  },
  {
   "cell_type": "code",
   "execution_count": null,
   "id": "26febb15",
   "metadata": {},
   "outputs": [],
   "source": [
    "severeonly2 <- data.frame(severeonly)\n",
    "cosa2 <- data.frame(cosa)\n",
    "cnvsevereonly2 <- data.frame(cnvsevereonly)\n",
    "notsevereonly2 <- data.frame(notsevereonly)\n",
    "notcnvsevereonly2 <- data.frame(cnvsnotsevereonly)\n",
    "\n",
    "\n",
    "severeonly2[,2] <- 'CHVsevereonly'\n",
    "cosa2[,2] <- 'causal'\n",
    "cnvsevereonly2[,2] <- 'CNVsevereonly'\n",
    "notsevereonly2[,2] <- 'CHVnotsevereonly'\n",
    "notcnvsevereonly2[,2] <- 'CNVsnotsevereonly'\n",
    "\n",
    "#For Cytoscape plots\n",
    "write.table(rbind(as.matrix(severeonly2),as.matrix(cnvsevereonly2),as.matrix(cosa2)),file='Cytoscape_Session/SevereMetadata_Figure4_Supp_Fig_6.csv',sep='csv',quote=F,row.names = F,col.names = F)\n",
    "write.table(rbind(as.matrix(notsevereonly2),as.matrix(notcnvsevereonly2),as.matrix(cosa2)),file='Cytoscape_Session/NOTSevereMetadata_Figure4_Supp_Fig_6.csv',sep='csv',quote=F,row.names = F,col.names = F)\n"
   ]
  },
  {
   "cell_type": "markdown",
   "id": "c443f015",
   "metadata": {},
   "source": [
    "### Join causal and mutated genes"
   ]
  },
  {
   "cell_type": "code",
   "execution_count": null,
   "id": "8eef5098",
   "metadata": {},
   "outputs": [],
   "source": [
    "# Setup depending on severity groups\n",
    "if(phenotype == \"severe\"){\n",
    "  algenes <- c(severeonly,cosa,cnvsevereonly) #Severe-Only Analysis \n",
    "}\n",
    "if(phenotype == \"notsevere\"){\n",
    "  algenes <- c(notsevereonly,cosa,cnvsnotsevereonly) #To get a Mild-Only  Analysis\n",
    "}"
   ]
  },
  {
   "cell_type": "code",
   "execution_count": null,
   "id": "f05c1b11",
   "metadata": {},
   "outputs": [],
   "source": [
    "# Solve some missing gene mappings\n",
    "if(\"KIAA1919\" %in% algenes){\n",
    "  algenes <- replace(algenes,algenes== \"KIAA1919\",\"MFSD4B\")\n",
    "}\n",
    "if(\"FAM188B\" %in% algenes){\n",
    "  algenes <- replace(algenes,algenes== \"FAM188B\",\"MINDY4\")\n",
    "}\n",
    "if(\"C14orf159\" %in% algenes){\n",
    "  algenes <- replace(algenes,algenes== \"C14orf159\",\"DGLUCY\")\n",
    "}\n",
    "if(\"C1orf168\" %in% algenes){\n",
    "  algenes <- replace(algenes,algenes== \"C1orf168\",\"FYB2\")\n",
    "}\n",
    "if(\"IKBKAP\" %in% algenes){\n",
    "  algenes <- replace(algenes,algenes== \"IKBKAP\",\"ELP1\")\n",
    "}\n",
    "if(\"SYNGR\" %in% algenes){\n",
    "  algenes <- replace(algenes,algenes== \"SYNGR\",\"SYNGR1\")\n",
    "}\n",
    "if(\"ZNHI3\" %in% algenes){\n",
    "  algenes <- replace(algenes,algenes== \"ZNHI3\",\"ZNHIT3\")\n",
    "}\n",
    "if(\"FAM231D\" %in% algenes){\n",
    "  algenes <- replace(algenes,algenes== \"FAM231D\",\"LINC01145\")\n",
    "}\n",
    "if(\"SELO\" %in% algenes){\n",
    "  algenes <- replace(algenes,algenes== \"SELO\",\"SELENOO\")\n",
    "}\n",
    "if(\"MFSD7\" %in% algenes){\n",
    "  algenes <- replace(algenes,algenes== \"MFSD7\",\"SLC49A3\")\n",
    "}\n",
    "\n",
    "#Convert to entrez\n",
    "algenes2 <- algenes\n",
    "algenes <- mapIds(org.Hs.eg.db,keys = algenes,column = \"ENTREZID\",keytype=\"SYMBOL\",multiVals = \"first\")\n",
    "names(algenes) <- NULL"
   ]
  },
  {
   "cell_type": "markdown",
   "id": "89f1577d",
   "metadata": {},
   "source": [
    "### Create a table with the community ID of each gene in 'genescausales' vector."
   ]
  },
  {
   "cell_type": "code",
   "execution_count": null,
   "id": "c69c03a1",
   "metadata": {},
   "outputs": [],
   "source": [
    "genescausales <- mapIds(org.Hs.eg.db,keys = algenes2,column = \"ENTREZID\",keytype=\"SYMBOL\",multiVals = \"first\")\n",
    "  genescausales <- as.matrix(genescausales)\n",
    "  rownames(genescausales) <- NULL\n",
    "  genescausales <- genescausales[,1]\n",
    "  genescausales <- unlist(genescausales) #need this unlist as sometimes R does not create a c() vector with the previous line\n",
    "  disease <- genescausales\n",
    "  res <- matrix(nrow= length(disease),ncol= 9)\n",
    "  rownames(res) <- disease\n",
    "\n",
    "#Remove genes not present on Multilayer network\n",
    "curl <- lapply(as.list(genescausales),function(x) which(sapply(cuatro, function(y) x %in% y)))\n",
    "res <- res[!unlist(lapply(curl,function(x) length(x)==0)),]"
   ]
  },
  {
   "cell_type": "code",
   "execution_count": null,
   "id": "8babb6dc",
   "metadata": {},
   "outputs": [],
   "source": [
    "head(res)"
   ]
  },
  {
   "cell_type": "code",
   "execution_count": null,
   "id": "fd7792ce",
   "metadata": {},
   "outputs": [],
   "source": [
    "dim(res)"
   ]
  },
  {
   "cell_type": "code",
   "execution_count": null,
   "id": "2ff5f355",
   "metadata": {
    "scrolled": true
   },
   "outputs": [],
   "source": [
    "for(i in 1:9){\n",
    "  current <- unlist(lapply(as.list(rownames(res)),function(x) which(sapply(lista_comunidades[[i]], function(y) x %in% y))))\n",
    "  res[,i] <- current\n",
    "}"
   ]
  },
  {
   "cell_type": "code",
   "execution_count": null,
   "id": "04622d1d",
   "metadata": {},
   "outputs": [],
   "source": [
    "head(res)"
   ]
  },
  {
   "cell_type": "markdown",
   "id": "827786e2",
   "metadata": {},
   "source": [
    "###  Generate Figure 4 graph (+ input graph for Cytoscape)"
   ]
  },
  {
   "cell_type": "code",
   "execution_count": null,
   "id": "9715221a",
   "metadata": {},
   "outputs": [],
   "source": [
    "library(parallelDist)\n",
    "library(reshape2)"
   ]
  },
  {
   "cell_type": "code",
   "execution_count": null,
   "id": "d9497350",
   "metadata": {
    "scrolled": true
   },
   "outputs": [],
   "source": [
    "melted_dist <- as.matrix(parallelDist(res,'hamming',threads = 7)*9)\n",
    "diag(melted_dist) <- NA\n",
    "melted_dist[lower.tri(melted_dist)] <- NA\n",
    "head(melted_dist)"
   ]
  },
  {
   "cell_type": "code",
   "execution_count": null,
   "id": "1c90a655",
   "metadata": {},
   "outputs": [],
   "source": [
    "rownames(melted_dist) <- mapIds(org.Hs.eg.db,keys = rownames(melted_dist),column = \"SYMBOL\",keytype=\"ENTREZID\",multiVals = \"first\")\n",
    "colnames(melted_dist) <- rownames(melted_dist)"
   ]
  },
  {
   "cell_type": "code",
   "execution_count": null,
   "id": "c0d97dac",
   "metadata": {},
   "outputs": [],
   "source": [
    "melted_dist <- melt(melted_dist)\n",
    "write.table(melted_dist[!is.na(melted_dist[,3]),],file='data/Figure3_input.csv',row.names = F,col.names = T,quote=F,sep=',') #Input for Figure 3 plots in Cytoscape!\n",
    "melted_dist <- melted_dist[melted_dist[,3]==0,] # Get pairs that are always together trough resolution\n",
    "melted_dist <- na.omit(melted_dist)\n",
    "dim(melted_dist)"
   ]
  },
  {
   "cell_type": "code",
   "execution_count": null,
   "id": "2fbf20ef",
   "metadata": {},
   "outputs": [],
   "source": [
    "head(melted_dist)"
   ]
  },
  {
   "cell_type": "code",
   "execution_count": null,
   "id": "9663119e",
   "metadata": {},
   "outputs": [],
   "source": [
    "g=simplify(graph_from_edgelist(as.matrix(melted_dist[,1:2]),directed = F))\n",
    "g"
   ]
  },
  {
   "cell_type": "code",
   "execution_count": null,
   "id": "0e5862c7",
   "metadata": {},
   "outputs": [],
   "source": [
    "components(g)"
   ]
  },
  {
   "cell_type": "code",
   "execution_count": null,
   "id": "735c2d57",
   "metadata": {},
   "outputs": [],
   "source": [
    "layouts <- grep(\"^layout_\", ls(\"package:igraph\"), value=TRUE)[-1]\n",
    "layouts"
   ]
  },
  {
   "cell_type": "code",
   "execution_count": null,
   "id": "80636c02",
   "metadata": {},
   "outputs": [],
   "source": [
    "#test.layout <- layout_components(g,weight.edge.lengths = edge_density(g)/100)\n",
    "options(repr.plot.width=25, repr.plot.height=15)\n",
    "set.seed(2020) #seed for layout\n",
    "plot(g, layout = layout_components)"
   ]
  },
  {
   "cell_type": "markdown",
   "id": "6c739a60",
   "metadata": {},
   "source": [
    "#### Write CSV file for plotting with Cytoscape (Figure 4)"
   ]
  },
  {
   "cell_type": "code",
   "execution_count": null,
   "id": "1cbbb9dc",
   "metadata": {},
   "outputs": [],
   "source": [
    "write.csv(x= as_edgelist(g),file= paste0(destfile,phenotype,\".csv\"),row.names=FALSE) "
   ]
  },
  {
   "cell_type": "code",
   "execution_count": null,
   "id": "47029987",
   "metadata": {},
   "outputs": [],
   "source": []
  }
 ],
 "metadata": {
  "kernelspec": {
   "display_name": "R",
   "language": "R",
   "name": "ir"
  },
  "language_info": {
   "codemirror_mode": "r",
   "file_extension": ".r",
   "mimetype": "text/x-r-source",
   "name": "R",
   "pygments_lexer": "r",
   "version": "3.6.1"
  }
 },
 "nbformat": 4,
 "nbformat_minor": 5
}
