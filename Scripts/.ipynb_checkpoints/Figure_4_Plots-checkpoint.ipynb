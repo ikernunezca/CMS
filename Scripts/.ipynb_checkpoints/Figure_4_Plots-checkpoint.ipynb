{
 "cells": [
  {
   "cell_type": "code",
   "execution_count": 1,
   "id": "3d65b3ea",
   "metadata": {},
   "outputs": [],
   "source": [
    "setwd('../')"
   ]
  },
  {
   "cell_type": "markdown",
   "id": "ba3f9b0d",
   "metadata": {},
   "source": [
    "#### Setup for severe - non-severe patients"
   ]
  },
  {
   "cell_type": "code",
   "execution_count": 2,
   "id": "b1fc5863",
   "metadata": {},
   "outputs": [
    {
     "name": "stderr",
     "output_type": "stream",
     "text": [
      "Loading required package: stats4\n",
      "Loading required package: BiocGenerics\n",
      "Loading required package: parallel\n",
      "\n",
      "Attaching package: ‘BiocGenerics’\n",
      "\n",
      "The following objects are masked from ‘package:parallel’:\n",
      "\n",
      "    clusterApply, clusterApplyLB, clusterCall, clusterEvalQ,\n",
      "    clusterExport, clusterMap, parApply, parCapply, parLapply,\n",
      "    parLapplyLB, parRapply, parSapply, parSapplyLB\n",
      "\n",
      "The following objects are masked from ‘package:stats’:\n",
      "\n",
      "    IQR, mad, sd, var, xtabs\n",
      "\n",
      "The following objects are masked from ‘package:base’:\n",
      "\n",
      "    anyDuplicated, append, as.data.frame, basename, cbind, colnames,\n",
      "    dirname, do.call, duplicated, eval, evalq, Filter, Find, get, grep,\n",
      "    grepl, intersect, is.unsorted, lapply, Map, mapply, match, mget,\n",
      "    order, paste, pmax, pmax.int, pmin, pmin.int, Position, rank,\n",
      "    rbind, Reduce, rownames, sapply, setdiff, sort, table, tapply,\n",
      "    union, unique, unsplit, which, which.max, which.min\n",
      "\n",
      "Loading required package: Biobase\n",
      "Welcome to Bioconductor\n",
      "\n",
      "    Vignettes contain introductory material; view with\n",
      "    'browseVignettes()'. To cite Bioconductor, see\n",
      "    'citation(\"Biobase\")', and for packages 'citation(\"pkgname\")'.\n",
      "\n",
      "Loading required package: IRanges\n",
      "Loading required package: S4Vectors\n",
      "\n",
      "Attaching package: ‘S4Vectors’\n",
      "\n",
      "The following object is masked from ‘package:base’:\n",
      "\n",
      "    expand.grid\n",
      "\n",
      "\n",
      "\n",
      "Attaching package: ‘igraph’\n",
      "\n",
      "The following object is masked from ‘package:IRanges’:\n",
      "\n",
      "    union\n",
      "\n",
      "The following object is masked from ‘package:S4Vectors’:\n",
      "\n",
      "    union\n",
      "\n",
      "The following objects are masked from ‘package:BiocGenerics’:\n",
      "\n",
      "    normalize, path, union\n",
      "\n",
      "The following objects are masked from ‘package:stats’:\n",
      "\n",
      "    decompose, spectrum\n",
      "\n",
      "The following object is masked from ‘package:base’:\n",
      "\n",
      "    union\n",
      "\n"
     ]
    }
   ],
   "source": [
    "phenotype <- \"severe\" # \"severe\" for severe-only analysis, \"notsevere\" for non-severe genes.\n",
    "\n",
    "destfile= \"Plots/Figure4_\" #Directory destination and name of the csv and pdf files that will be retrieved as output.\n",
    "\n",
    " \n",
    "#libraries needed:\n",
    "library(\"AnnotationDbi\")\n",
    "library(\"AnnotationDbi\")\n",
    "library(\"org.Hs.eg.db\")\n",
    "library(\"igraph\")"
   ]
  },
  {
   "cell_type": "markdown",
   "id": "f49a1b05",
   "metadata": {},
   "source": [
    "### Read Community structure output files from MolTi"
   ]
  },
  {
   "cell_type": "code",
   "execution_count": 3,
   "id": "c929baf2",
   "metadata": {},
   "outputs": [],
   "source": [
    "cero <- readLines(\"data/MolTi/Community_Analysis/CommunitiesResolution0MultilayerNetwork5112018.csv\")\n",
    "cero <- strsplit(cero,\"\\t\")\n",
    "cerocinco <- readLines(\"data/MolTi/Community_Analysis/CommunitiesResolution05MultilayerNetwork5112018.csv\")\n",
    "cerocinco <- strsplit(cerocinco,\"\\t\")\n",
    "uno <- readLines(\"data/MolTi/Community_Analysis/CommunitiesResolution1MultilayerNetwork5112018.csv\")\n",
    "uno <- strsplit(uno,\"\\t\")\n",
    "unocinco <- readLines(\"data/MolTi/Community_Analysis/CommunitiesResolution15MultilayerNetwork5112018.csv\")\n",
    "unocinco <- strsplit(unocinco,\"\\t\")\n",
    "dos <- readLines(\"data/MolTi/Community_Analysis/CommunitiesResolution2MultilayerNetwork5112018.csv\")\n",
    "dos <- strsplit(dos,\"\\t\")\n",
    "doscinco <- readLines(\"data/MolTi/Community_Analysis/CommunitiesResolution25MultilayerNetwork5112018.csv\")\n",
    "doscinco <- strsplit(doscinco,\"\\t\")\n",
    "tres <- readLines(\"data/MolTi/Community_Analysis/CommunitiesResolution3MultilayerNetwork5112018.csv\")\n",
    "tres <- strsplit(tres,\"\\t\")\n",
    "trescinco <- readLines(\"data/MolTi/Community_Analysis/CommunitiesResolution35MultilayerNetwork5112018.csv\")\n",
    "trescinco <- strsplit(trescinco,\"\\t\")\n",
    "cuatro <- readLines(\"data/MolTi/Community_Analysis/CommunitiesResolution4MultilayerNetwork5112018.csv\")\n",
    "cuatro <- strsplit(cuatro,\"\\t\")"
   ]
  },
  {
   "cell_type": "code",
   "execution_count": 4,
   "id": "6076dfa1",
   "metadata": {},
   "outputs": [],
   "source": [
    "lista_comunidades <- list(cero,cerocinco,uno,unocinco,dos,doscinco,tres,trescinco,cuatro)"
   ]
  },
  {
   "cell_type": "markdown",
   "id": "0881c2b9",
   "metadata": {},
   "source": [
    "#### Load  severe diagnosis for each patient"
   ]
  },
  {
   "cell_type": "code",
   "execution_count": 5,
   "id": "3a8d98ea",
   "metadata": {},
   "outputs": [],
   "source": [
    "patients2 <- read.table(file= \"data/MolTi/Community_Analysis/originalSevereDiagnosis.csv\",sep= \",\",header= F)\n",
    "patients2[,1] <- as.character(patients2[,1])\n",
    "patients2[,2] <- as.character(patients2[,2])\n",
    "patients2 <- cbind(patients2,0)\n",
    "patients2[,3] <- sample(patients2[,2])"
   ]
  },
  {
   "cell_type": "code",
   "execution_count": 6,
   "id": "3742d14d",
   "metadata": {},
   "outputs": [
    {
     "data": {
      "text/html": [
       "<table>\n",
       "<thead><tr><th scope=col>V1</th><th scope=col>V2</th><th scope=col>0</th></tr></thead>\n",
       "<tbody>\n",
       "\t<tr><td>NEW0920  </td><td>severe   </td><td>notsevere</td></tr>\n",
       "\t<tr><td>NEW0919  </td><td>severe   </td><td>notsevere</td></tr>\n",
       "\t<tr><td>NEW0918  </td><td>severe   </td><td>notsevere</td></tr>\n",
       "\t<tr><td>NEW0922  </td><td>severe   </td><td>notsevere</td></tr>\n",
       "\t<tr><td>NEW0909  </td><td>severe   </td><td>severe   </td></tr>\n",
       "\t<tr><td>NEW0908  </td><td>severe   </td><td>notsevere</td></tr>\n",
       "</tbody>\n",
       "</table>\n"
      ],
      "text/latex": [
       "\\begin{tabular}{r|lll}\n",
       " V1 & V2 & 0\\\\\n",
       "\\hline\n",
       "\t NEW0920   & severe    & notsevere\\\\\n",
       "\t NEW0919   & severe    & notsevere\\\\\n",
       "\t NEW0918   & severe    & notsevere\\\\\n",
       "\t NEW0922   & severe    & notsevere\\\\\n",
       "\t NEW0909   & severe    & severe   \\\\\n",
       "\t NEW0908   & severe    & notsevere\\\\\n",
       "\\end{tabular}\n"
      ],
      "text/markdown": [
       "\n",
       "| V1 | V2 | 0 |\n",
       "|---|---|---|\n",
       "| NEW0920   | severe    | notsevere |\n",
       "| NEW0919   | severe    | notsevere |\n",
       "| NEW0918   | severe    | notsevere |\n",
       "| NEW0922   | severe    | notsevere |\n",
       "| NEW0909   | severe    | severe    |\n",
       "| NEW0908   | severe    | notsevere |\n",
       "\n"
      ],
      "text/plain": [
       "  V1      V2     0        \n",
       "1 NEW0920 severe notsevere\n",
       "2 NEW0919 severe notsevere\n",
       "3 NEW0918 severe notsevere\n",
       "4 NEW0922 severe notsevere\n",
       "5 NEW0909 severe severe   \n",
       "6 NEW0908 severe notsevere"
      ]
     },
     "metadata": {},
     "output_type": "display_data"
    }
   ],
   "source": [
    "head(patients2) # Column '0' are the randomized assignments"
   ]
  },
  {
   "cell_type": "markdown",
   "id": "1f7e0616",
   "metadata": {},
   "source": [
    "### Retrieve specific Compound Heterozygous Mutations for Severe & Non-severe groups"
   ]
  },
  {
   "cell_type": "code",
   "execution_count": 7,
   "id": "af5bce36",
   "metadata": {},
   "outputs": [],
   "source": [
    "#Compound Heterozygous mutations\n",
    "patients <- read.table(file= \"data/InputGenes/compound_all_nov2018.csv\")\n",
    "patients[,1] <- as.character(patients[,1])\n",
    "patients[,2] <- as.character(patients[,2])\n",
    "patients <- split(patients[,2],patients[,1])\n",
    "#severepatients <- patients[which(patients2[,3]==\"severe\")] #Uncomment and comment the next one for randomizing\n",
    "severepatients <- patients[patients2[,1][which(patients2[,2]==\"severe\")]] ##Uncomment and comment the previous one for the original plot\n",
    "#notseverepatients <- patients[which(patients2[,3]==\"notsevere\")] #Uncomment and comment the next one for randomizing\n",
    "notseverepatients <- patients[patients2[,1][which(patients2[,2]==\"notsevere\")]] #Uncomment and comment the previous one for the original plot\n",
    "severe<- unlist(severepatients)\n",
    "names(severe) <- NULL\n",
    "notsevere <- unlist(notseverepatients)\n",
    "names(notsevere) <- NULL\n",
    "severeonly <- setdiff(severe,notsevere)\n",
    "notsevereonly <- setdiff(notsevere,severe)\n",
    "\n",
    "severepatientsnames <- names(severepatients)\n",
    "notseverepatientsnames <- names(notseverepatients)"
   ]
  },
  {
   "cell_type": "code",
   "execution_count": 8,
   "id": "4baaa5f2",
   "metadata": {},
   "outputs": [
    {
     "data": {
      "text/html": [
       "<dl>\n",
       "\t<dt>$NEW0907</dt>\n",
       "\t\t<dd><ol class=list-inline>\n",
       "\t<li>'ACAD10'</li>\n",
       "\t<li>'AHNAK2'</li>\n",
       "\t<li>'BMS1'</li>\n",
       "\t<li>'C16orf71'</li>\n",
       "\t<li>'CCDC171'</li>\n",
       "\t<li>'FBN2'</li>\n",
       "\t<li>'FLG'</li>\n",
       "\t<li>'Gene(Refseq)'</li>\n",
       "\t<li>'HLA-A'</li>\n",
       "\t<li>'HYDIN'</li>\n",
       "\t<li>'HYI'</li>\n",
       "\t<li>'ITIH5'</li>\n",
       "\t<li>'KIAA1919'</li>\n",
       "\t<li>'LAMA5'</li>\n",
       "\t<li>'MAP1A'</li>\n",
       "\t<li>'MROH5'</li>\n",
       "\t<li>'NOL8'</li>\n",
       "\t<li>'PALD1'</li>\n",
       "\t<li>'PMS2'</li>\n",
       "\t<li>'RP1L1'</li>\n",
       "\t<li>'SFI1'</li>\n",
       "\t<li>'SLCO4A1'</li>\n",
       "\t<li>'TCTE3'</li>\n",
       "\t<li>'TLL2'</li>\n",
       "\t<li>'TLR6'</li>\n",
       "\t<li>'TMTC1'</li>\n",
       "\t<li>'TTC3'</li>\n",
       "\t<li>'ZNF469'</li>\n",
       "</ol>\n",
       "</dd>\n",
       "\t<dt>$NEW0908</dt>\n",
       "\t\t<dd><ol class=list-inline>\n",
       "\t<li>'AHNAK2'</li>\n",
       "\t<li>'BAHCC1'</li>\n",
       "\t<li>'BAIAP3'</li>\n",
       "\t<li>'C2CD3'</li>\n",
       "\t<li>'CFB'</li>\n",
       "\t<li>'COL15A1'</li>\n",
       "\t<li>'FHAD1'</li>\n",
       "\t<li>'FMN1'</li>\n",
       "\t<li>'Gene(Refseq)'</li>\n",
       "\t<li>'HEATR1'</li>\n",
       "\t<li>'LAMA2'</li>\n",
       "\t<li>'MUC3A'</li>\n",
       "\t<li>'MUC4'</li>\n",
       "\t<li>'OR10G9'</li>\n",
       "\t<li>'TDRD6'</li>\n",
       "\t<li>'ZAN'</li>\n",
       "</ol>\n",
       "</dd>\n",
       "\t<dt>$NEW0909</dt>\n",
       "\t\t<dd><ol class=list-inline>\n",
       "\t<li>'AHNAK2'</li>\n",
       "\t<li>'ANKRD12'</li>\n",
       "\t<li>'CDH23'</li>\n",
       "\t<li>'CES5A'</li>\n",
       "\t<li>'CHGB'</li>\n",
       "\t<li>'ETV3L'</li>\n",
       "\t<li>'FGL1'</li>\n",
       "\t<li>'Gene(Refseq)'</li>\n",
       "\t<li>'GRIN3B'</li>\n",
       "\t<li>'MCM8'</li>\n",
       "\t<li>'MROH7'</li>\n",
       "\t<li>'MYBPC2'</li>\n",
       "\t<li>'MYH15'</li>\n",
       "\t<li>'PLB1'</li>\n",
       "\t<li>'SELO'</li>\n",
       "\t<li>'TIAM1'</li>\n",
       "\t<li>'TTN'</li>\n",
       "\t<li>'ZNF273'</li>\n",
       "</ol>\n",
       "</dd>\n",
       "\t<dt>$NEW0918</dt>\n",
       "\t\t<dd><ol class=list-inline>\n",
       "\t<li>'C1orf94'</li>\n",
       "\t<li>'CASP5'</li>\n",
       "\t<li>'DMXL2'</li>\n",
       "\t<li>'FHOD3'</li>\n",
       "\t<li>'Gene(Refseq)'</li>\n",
       "\t<li>'HSPG2'</li>\n",
       "\t<li>'KIAA1109'</li>\n",
       "\t<li>'LILRA1'</li>\n",
       "\t<li>'LOXL3'</li>\n",
       "\t<li>'LRP2'</li>\n",
       "\t<li>'MUC17'</li>\n",
       "\t<li>'MUC19'</li>\n",
       "\t<li>'MUC3A'</li>\n",
       "\t<li>'NAT8B'</li>\n",
       "\t<li>'NOTCH4'</li>\n",
       "\t<li>'SMTN'</li>\n",
       "\t<li>'SRMS'</li>\n",
       "\t<li>'UNC13C'</li>\n",
       "\t<li>'ZP4'</li>\n",
       "</ol>\n",
       "</dd>\n",
       "\t<dt>$NEW0919</dt>\n",
       "\t\t<dd><ol class=list-inline>\n",
       "\t<li>'AHNAK2'</li>\n",
       "\t<li>'BAHCC1'</li>\n",
       "\t<li>'CRELD1'</li>\n",
       "\t<li>'DNAH2'</li>\n",
       "\t<li>'DNAH7'</li>\n",
       "\t<li>'FHOD3'</li>\n",
       "\t<li>'Gene(Refseq)'</li>\n",
       "\t<li>'HSPG2'</li>\n",
       "\t<li>'LEFTY2'</li>\n",
       "\t<li>'MUC17'</li>\n",
       "\t<li>'MUC19'</li>\n",
       "\t<li>'NCKAP5L'</li>\n",
       "\t<li>'NLRC5'</li>\n",
       "\t<li>'NOTCH4'</li>\n",
       "\t<li>'PRRT3'</li>\n",
       "\t<li>'PTPN14'</li>\n",
       "\t<li>'SMTN'</li>\n",
       "\t<li>'SRMS'</li>\n",
       "\t<li>'TOR2A'</li>\n",
       "</ol>\n",
       "</dd>\n",
       "\t<dt>$NEW0920</dt>\n",
       "\t\t<dd><ol class=list-inline>\n",
       "\t<li>'AGRN'</li>\n",
       "\t<li>'AHNAK2'</li>\n",
       "\t<li>'ANKRD18A'</li>\n",
       "\t<li>'C1GALT1C1L'</li>\n",
       "\t<li>'DIP2A'</li>\n",
       "\t<li>'DNAH2'</li>\n",
       "\t<li>'ETV3L'</li>\n",
       "\t<li>'FAM205A'</li>\n",
       "\t<li>'FMN1'</li>\n",
       "\t<li>'Gene(Refseq)'</li>\n",
       "\t<li>'KIF13B'</li>\n",
       "\t<li>'KRT79'</li>\n",
       "\t<li>'MICALL2'</li>\n",
       "\t<li>'MUC5B'</li>\n",
       "\t<li>'NKPD1'</li>\n",
       "\t<li>'NPHP3'</li>\n",
       "\t<li>'OBSCN'</li>\n",
       "\t<li>'RAD51AP1'</li>\n",
       "\t<li>'RP1'</li>\n",
       "\t<li>'SLFN13'</li>\n",
       "\t<li>'SNAP47'</li>\n",
       "</ol>\n",
       "</dd>\n",
       "</dl>\n"
      ],
      "text/latex": [
       "\\begin{description}\n",
       "\\item[\\$NEW0907] \\begin{enumerate*}\n",
       "\\item 'ACAD10'\n",
       "\\item 'AHNAK2'\n",
       "\\item 'BMS1'\n",
       "\\item 'C16orf71'\n",
       "\\item 'CCDC171'\n",
       "\\item 'FBN2'\n",
       "\\item 'FLG'\n",
       "\\item 'Gene(Refseq)'\n",
       "\\item 'HLA-A'\n",
       "\\item 'HYDIN'\n",
       "\\item 'HYI'\n",
       "\\item 'ITIH5'\n",
       "\\item 'KIAA1919'\n",
       "\\item 'LAMA5'\n",
       "\\item 'MAP1A'\n",
       "\\item 'MROH5'\n",
       "\\item 'NOL8'\n",
       "\\item 'PALD1'\n",
       "\\item 'PMS2'\n",
       "\\item 'RP1L1'\n",
       "\\item 'SFI1'\n",
       "\\item 'SLCO4A1'\n",
       "\\item 'TCTE3'\n",
       "\\item 'TLL2'\n",
       "\\item 'TLR6'\n",
       "\\item 'TMTC1'\n",
       "\\item 'TTC3'\n",
       "\\item 'ZNF469'\n",
       "\\end{enumerate*}\n",
       "\n",
       "\\item[\\$NEW0908] \\begin{enumerate*}\n",
       "\\item 'AHNAK2'\n",
       "\\item 'BAHCC1'\n",
       "\\item 'BAIAP3'\n",
       "\\item 'C2CD3'\n",
       "\\item 'CFB'\n",
       "\\item 'COL15A1'\n",
       "\\item 'FHAD1'\n",
       "\\item 'FMN1'\n",
       "\\item 'Gene(Refseq)'\n",
       "\\item 'HEATR1'\n",
       "\\item 'LAMA2'\n",
       "\\item 'MUC3A'\n",
       "\\item 'MUC4'\n",
       "\\item 'OR10G9'\n",
       "\\item 'TDRD6'\n",
       "\\item 'ZAN'\n",
       "\\end{enumerate*}\n",
       "\n",
       "\\item[\\$NEW0909] \\begin{enumerate*}\n",
       "\\item 'AHNAK2'\n",
       "\\item 'ANKRD12'\n",
       "\\item 'CDH23'\n",
       "\\item 'CES5A'\n",
       "\\item 'CHGB'\n",
       "\\item 'ETV3L'\n",
       "\\item 'FGL1'\n",
       "\\item 'Gene(Refseq)'\n",
       "\\item 'GRIN3B'\n",
       "\\item 'MCM8'\n",
       "\\item 'MROH7'\n",
       "\\item 'MYBPC2'\n",
       "\\item 'MYH15'\n",
       "\\item 'PLB1'\n",
       "\\item 'SELO'\n",
       "\\item 'TIAM1'\n",
       "\\item 'TTN'\n",
       "\\item 'ZNF273'\n",
       "\\end{enumerate*}\n",
       "\n",
       "\\item[\\$NEW0918] \\begin{enumerate*}\n",
       "\\item 'C1orf94'\n",
       "\\item 'CASP5'\n",
       "\\item 'DMXL2'\n",
       "\\item 'FHOD3'\n",
       "\\item 'Gene(Refseq)'\n",
       "\\item 'HSPG2'\n",
       "\\item 'KIAA1109'\n",
       "\\item 'LILRA1'\n",
       "\\item 'LOXL3'\n",
       "\\item 'LRP2'\n",
       "\\item 'MUC17'\n",
       "\\item 'MUC19'\n",
       "\\item 'MUC3A'\n",
       "\\item 'NAT8B'\n",
       "\\item 'NOTCH4'\n",
       "\\item 'SMTN'\n",
       "\\item 'SRMS'\n",
       "\\item 'UNC13C'\n",
       "\\item 'ZP4'\n",
       "\\end{enumerate*}\n",
       "\n",
       "\\item[\\$NEW0919] \\begin{enumerate*}\n",
       "\\item 'AHNAK2'\n",
       "\\item 'BAHCC1'\n",
       "\\item 'CRELD1'\n",
       "\\item 'DNAH2'\n",
       "\\item 'DNAH7'\n",
       "\\item 'FHOD3'\n",
       "\\item 'Gene(Refseq)'\n",
       "\\item 'HSPG2'\n",
       "\\item 'LEFTY2'\n",
       "\\item 'MUC17'\n",
       "\\item 'MUC19'\n",
       "\\item 'NCKAP5L'\n",
       "\\item 'NLRC5'\n",
       "\\item 'NOTCH4'\n",
       "\\item 'PRRT3'\n",
       "\\item 'PTPN14'\n",
       "\\item 'SMTN'\n",
       "\\item 'SRMS'\n",
       "\\item 'TOR2A'\n",
       "\\end{enumerate*}\n",
       "\n",
       "\\item[\\$NEW0920] \\begin{enumerate*}\n",
       "\\item 'AGRN'\n",
       "\\item 'AHNAK2'\n",
       "\\item 'ANKRD18A'\n",
       "\\item 'C1GALT1C1L'\n",
       "\\item 'DIP2A'\n",
       "\\item 'DNAH2'\n",
       "\\item 'ETV3L'\n",
       "\\item 'FAM205A'\n",
       "\\item 'FMN1'\n",
       "\\item 'Gene(Refseq)'\n",
       "\\item 'KIF13B'\n",
       "\\item 'KRT79'\n",
       "\\item 'MICALL2'\n",
       "\\item 'MUC5B'\n",
       "\\item 'NKPD1'\n",
       "\\item 'NPHP3'\n",
       "\\item 'OBSCN'\n",
       "\\item 'RAD51AP1'\n",
       "\\item 'RP1'\n",
       "\\item 'SLFN13'\n",
       "\\item 'SNAP47'\n",
       "\\end{enumerate*}\n",
       "\n",
       "\\end{description}\n"
      ],
      "text/markdown": [
       "$NEW0907\n",
       ":   1. 'ACAD10'\n",
       "2. 'AHNAK2'\n",
       "3. 'BMS1'\n",
       "4. 'C16orf71'\n",
       "5. 'CCDC171'\n",
       "6. 'FBN2'\n",
       "7. 'FLG'\n",
       "8. 'Gene(Refseq)'\n",
       "9. 'HLA-A'\n",
       "10. 'HYDIN'\n",
       "11. 'HYI'\n",
       "12. 'ITIH5'\n",
       "13. 'KIAA1919'\n",
       "14. 'LAMA5'\n",
       "15. 'MAP1A'\n",
       "16. 'MROH5'\n",
       "17. 'NOL8'\n",
       "18. 'PALD1'\n",
       "19. 'PMS2'\n",
       "20. 'RP1L1'\n",
       "21. 'SFI1'\n",
       "22. 'SLCO4A1'\n",
       "23. 'TCTE3'\n",
       "24. 'TLL2'\n",
       "25. 'TLR6'\n",
       "26. 'TMTC1'\n",
       "27. 'TTC3'\n",
       "28. 'ZNF469'\n",
       "\n",
       "\n",
       "\n",
       "$NEW0908\n",
       ":   1. 'AHNAK2'\n",
       "2. 'BAHCC1'\n",
       "3. 'BAIAP3'\n",
       "4. 'C2CD3'\n",
       "5. 'CFB'\n",
       "6. 'COL15A1'\n",
       "7. 'FHAD1'\n",
       "8. 'FMN1'\n",
       "9. 'Gene(Refseq)'\n",
       "10. 'HEATR1'\n",
       "11. 'LAMA2'\n",
       "12. 'MUC3A'\n",
       "13. 'MUC4'\n",
       "14. 'OR10G9'\n",
       "15. 'TDRD6'\n",
       "16. 'ZAN'\n",
       "\n",
       "\n",
       "\n",
       "$NEW0909\n",
       ":   1. 'AHNAK2'\n",
       "2. 'ANKRD12'\n",
       "3. 'CDH23'\n",
       "4. 'CES5A'\n",
       "5. 'CHGB'\n",
       "6. 'ETV3L'\n",
       "7. 'FGL1'\n",
       "8. 'Gene(Refseq)'\n",
       "9. 'GRIN3B'\n",
       "10. 'MCM8'\n",
       "11. 'MROH7'\n",
       "12. 'MYBPC2'\n",
       "13. 'MYH15'\n",
       "14. 'PLB1'\n",
       "15. 'SELO'\n",
       "16. 'TIAM1'\n",
       "17. 'TTN'\n",
       "18. 'ZNF273'\n",
       "\n",
       "\n",
       "\n",
       "$NEW0918\n",
       ":   1. 'C1orf94'\n",
       "2. 'CASP5'\n",
       "3. 'DMXL2'\n",
       "4. 'FHOD3'\n",
       "5. 'Gene(Refseq)'\n",
       "6. 'HSPG2'\n",
       "7. 'KIAA1109'\n",
       "8. 'LILRA1'\n",
       "9. 'LOXL3'\n",
       "10. 'LRP2'\n",
       "11. 'MUC17'\n",
       "12. 'MUC19'\n",
       "13. 'MUC3A'\n",
       "14. 'NAT8B'\n",
       "15. 'NOTCH4'\n",
       "16. 'SMTN'\n",
       "17. 'SRMS'\n",
       "18. 'UNC13C'\n",
       "19. 'ZP4'\n",
       "\n",
       "\n",
       "\n",
       "$NEW0919\n",
       ":   1. 'AHNAK2'\n",
       "2. 'BAHCC1'\n",
       "3. 'CRELD1'\n",
       "4. 'DNAH2'\n",
       "5. 'DNAH7'\n",
       "6. 'FHOD3'\n",
       "7. 'Gene(Refseq)'\n",
       "8. 'HSPG2'\n",
       "9. 'LEFTY2'\n",
       "10. 'MUC17'\n",
       "11. 'MUC19'\n",
       "12. 'NCKAP5L'\n",
       "13. 'NLRC5'\n",
       "14. 'NOTCH4'\n",
       "15. 'PRRT3'\n",
       "16. 'PTPN14'\n",
       "17. 'SMTN'\n",
       "18. 'SRMS'\n",
       "19. 'TOR2A'\n",
       "\n",
       "\n",
       "\n",
       "$NEW0920\n",
       ":   1. 'AGRN'\n",
       "2. 'AHNAK2'\n",
       "3. 'ANKRD18A'\n",
       "4. 'C1GALT1C1L'\n",
       "5. 'DIP2A'\n",
       "6. 'DNAH2'\n",
       "7. 'ETV3L'\n",
       "8. 'FAM205A'\n",
       "9. 'FMN1'\n",
       "10. 'Gene(Refseq)'\n",
       "11. 'KIF13B'\n",
       "12. 'KRT79'\n",
       "13. 'MICALL2'\n",
       "14. 'MUC5B'\n",
       "15. 'NKPD1'\n",
       "16. 'NPHP3'\n",
       "17. 'OBSCN'\n",
       "18. 'RAD51AP1'\n",
       "19. 'RP1'\n",
       "20. 'SLFN13'\n",
       "21. 'SNAP47'\n",
       "\n",
       "\n",
       "\n",
       "\n",
       "\n"
      ],
      "text/plain": [
       "$NEW0907\n",
       " [1] \"ACAD10\"       \"AHNAK2\"       \"BMS1\"         \"C16orf71\"     \"CCDC171\"     \n",
       " [6] \"FBN2\"         \"FLG\"          \"Gene(Refseq)\" \"HLA-A\"        \"HYDIN\"       \n",
       "[11] \"HYI\"          \"ITIH5\"        \"KIAA1919\"     \"LAMA5\"        \"MAP1A\"       \n",
       "[16] \"MROH5\"        \"NOL8\"         \"PALD1\"        \"PMS2\"         \"RP1L1\"       \n",
       "[21] \"SFI1\"         \"SLCO4A1\"      \"TCTE3\"        \"TLL2\"         \"TLR6\"        \n",
       "[26] \"TMTC1\"        \"TTC3\"         \"ZNF469\"      \n",
       "\n",
       "$NEW0908\n",
       " [1] \"AHNAK2\"       \"BAHCC1\"       \"BAIAP3\"       \"C2CD3\"        \"CFB\"         \n",
       " [6] \"COL15A1\"      \"FHAD1\"        \"FMN1\"         \"Gene(Refseq)\" \"HEATR1\"      \n",
       "[11] \"LAMA2\"        \"MUC3A\"        \"MUC4\"         \"OR10G9\"       \"TDRD6\"       \n",
       "[16] \"ZAN\"         \n",
       "\n",
       "$NEW0909\n",
       " [1] \"AHNAK2\"       \"ANKRD12\"      \"CDH23\"        \"CES5A\"        \"CHGB\"        \n",
       " [6] \"ETV3L\"        \"FGL1\"         \"Gene(Refseq)\" \"GRIN3B\"       \"MCM8\"        \n",
       "[11] \"MROH7\"        \"MYBPC2\"       \"MYH15\"        \"PLB1\"         \"SELO\"        \n",
       "[16] \"TIAM1\"        \"TTN\"          \"ZNF273\"      \n",
       "\n",
       "$NEW0918\n",
       " [1] \"C1orf94\"      \"CASP5\"        \"DMXL2\"        \"FHOD3\"        \"Gene(Refseq)\"\n",
       " [6] \"HSPG2\"        \"KIAA1109\"     \"LILRA1\"       \"LOXL3\"        \"LRP2\"        \n",
       "[11] \"MUC17\"        \"MUC19\"        \"MUC3A\"        \"NAT8B\"        \"NOTCH4\"      \n",
       "[16] \"SMTN\"         \"SRMS\"         \"UNC13C\"       \"ZP4\"         \n",
       "\n",
       "$NEW0919\n",
       " [1] \"AHNAK2\"       \"BAHCC1\"       \"CRELD1\"       \"DNAH2\"        \"DNAH7\"       \n",
       " [6] \"FHOD3\"        \"Gene(Refseq)\" \"HSPG2\"        \"LEFTY2\"       \"MUC17\"       \n",
       "[11] \"MUC19\"        \"NCKAP5L\"      \"NLRC5\"        \"NOTCH4\"       \"PRRT3\"       \n",
       "[16] \"PTPN14\"       \"SMTN\"         \"SRMS\"         \"TOR2A\"       \n",
       "\n",
       "$NEW0920\n",
       " [1] \"AGRN\"         \"AHNAK2\"       \"ANKRD18A\"     \"C1GALT1C1L\"   \"DIP2A\"       \n",
       " [6] \"DNAH2\"        \"ETV3L\"        \"FAM205A\"      \"FMN1\"         \"Gene(Refseq)\"\n",
       "[11] \"KIF13B\"       \"KRT79\"        \"MICALL2\"      \"MUC5B\"        \"NKPD1\"       \n",
       "[16] \"NPHP3\"        \"OBSCN\"        \"RAD51AP1\"     \"RP1\"          \"SLFN13\"      \n",
       "[21] \"SNAP47\"      \n"
      ]
     },
     "metadata": {},
     "output_type": "display_data"
    }
   ],
   "source": [
    "head(patients)"
   ]
  },
  {
   "cell_type": "markdown",
   "id": "84c0e409",
   "metadata": {},
   "source": [
    "### Retrieve specific Copy Number Variations for Severe & Non-severe groups"
   ]
  },
  {
   "cell_type": "code",
   "execution_count": 9,
   "id": "f4609273",
   "metadata": {},
   "outputs": [
    {
     "name": "stderr",
     "output_type": "stream",
     "text": [
      "'select()' returned 1:many mapping between keys and columns\n"
     ]
    }
   ],
   "source": [
    "cnvdata <- read.csv(\"data/InputGenes/CNV_genes_for_iker.tsv\",sep= \"\\t\")\n",
    "cnvdata[,\"gene\"] <- as.character(cnvdata[,\"gene\"])\n",
    "genis <- c(cnvdata[\"gene\"])$gene\n",
    "genis <- mapIds(org.Hs.eg.db,keys = genis,column = \"SYMBOL\",keytype=\"ENSEMBL\",multiVals = \"first\")\n",
    "# Manual mapping for missing IDs\n",
    "genis[\"ENSG00000005955\"] <- \"GGNBP2\" \n",
    "genis[\"ENSG00000006114\"] <- \"SYNGR\"\n",
    "genis[\"ENSG00000108264\"] <- \"TADA2A\"\n",
    "genis[\"ENSG00000108270\"] <- \"AATF\"\n",
    "genis[\"ENSG00000108272\"] <- \"DHRS11\"\n",
    "genis[\"ENSG00000108278\"] <- \"ZNHI3\"\n",
    "genis[\"ENSG00000108753\"] <- \"HNF1B\"\n",
    "genis[\"ENSG00000129282\"] <- \"MRM1\"\n",
    "genis[\"ENSG00000132130\"] <- \"LHX1\"\n",
    "genis[\"ENSG00000141140\"] <- \"MYO19\"\n",
    "genis[\"ENSG00000141141\"] <- \"DDX52\"\n",
    "genis[\"ENSG00000161326\"] <- \"DUSP14\"\n",
    "genis[\"ENSG00000167230\"] <- \"C17orf78\"\n",
    "genis[\"ENSG00000174093\"] <- \"RP11-1407O15.2\"\n",
    "genis[\"ENSG00000184886\"] <- \"PIGW\"\n",
    "genis[\"ENSG00000197681\"] <- \"TBC1D3\"\n",
    "genis[\"ENSG00000203815\"] <- \"FAM231D\"\n",
    "genis[\"ENSG00000219492\"] <- \"RP11-1396O31.13\"\n",
    "genis[\"ENSG00000229924\"] <- \"FAM90A26\"\n",
    "genis[\"ENSG00000250913\"] <- \"USP17L23\"\n",
    "genis[\"ENSG00000268172\"] <- \"AL590452.1\"\n",
    "genis <- as.matrix(genis)\n",
    "rownames(genis) <- NULL\n",
    "genis <- genis[,1]\n",
    "cnvdata <- cbind(cnvdata,genis)\n",
    "severedata <- cnvdata[,c(\"gene\",\"whole_gene\",severepatientsnames,\"genis\")]\n",
    "milddata <- cnvdata[,c(\"gene\",\"whole_gene\",notseverepatientsnames,\"genis\")]"
   ]
  },
  {
   "cell_type": "code",
   "execution_count": 10,
   "id": "0dfa507f",
   "metadata": {},
   "outputs": [
    {
     "data": {
      "text/html": [
       "<table>\n",
       "<thead><tr><th></th><th scope=col>gene</th><th scope=col>whole_gene</th><th scope=col>NEW0920</th><th scope=col>NEW0919</th><th scope=col>NEW0918</th><th scope=col>NEW0922</th><th scope=col>NEW0909</th><th scope=col>NEW0908</th><th scope=col>NEW0936</th><th scope=col>NEW0935</th><th scope=col>genis</th></tr></thead>\n",
       "<tbody>\n",
       "\t<tr><th scope=row>4</th><td>ENSG00000042781</td><td>FALSE          </td><td>2              </td><td>2              </td><td>2              </td><td>2              </td><td>2              </td><td>2              </td><td>1              </td><td>2              </td><td>USH2A          </td></tr>\n",
       "\t<tr><th scope=row>5</th><td>ENSG00000072401</td><td>FALSE          </td><td>2              </td><td>2              </td><td>2              </td><td>2              </td><td>2              </td><td>2              </td><td>1              </td><td>2              </td><td>UBE2D1         </td></tr>\n",
       "\t<tr><th scope=row>7</th><td>ENSG00000100033</td><td> TRUE          </td><td>2              </td><td>2              </td><td>2              </td><td>2              </td><td>2              </td><td>2              </td><td>2              </td><td>3              </td><td>PRODH          </td></tr>\n",
       "\t<tr><th scope=row>9</th><td>ENSG00000107018</td><td> TRUE          </td><td>2              </td><td>3              </td><td>2              </td><td>2              </td><td>2              </td><td>2              </td><td>2              </td><td>2              </td><td>RLN1           </td></tr>\n",
       "\t<tr><th scope=row>26</th><td>ENSG00000151033</td><td>FALSE          </td><td>1              </td><td>2              </td><td>2              </td><td>2              </td><td>2              </td><td>2              </td><td>2              </td><td>2              </td><td>LYZL2          </td></tr>\n",
       "\t<tr><th scope=row>28</th><td>ENSG00000160072</td><td>FALSE          </td><td>2              </td><td>1              </td><td>1              </td><td>2              </td><td>2              </td><td>2              </td><td>2              </td><td>2              </td><td>ATAD3B         </td></tr>\n",
       "</tbody>\n",
       "</table>\n"
      ],
      "text/latex": [
       "\\begin{tabular}{r|lllllllllll}\n",
       "  & gene & whole\\_gene & NEW0920 & NEW0919 & NEW0918 & NEW0922 & NEW0909 & NEW0908 & NEW0936 & NEW0935 & genis\\\\\n",
       "\\hline\n",
       "\t4 & ENSG00000042781 & FALSE           & 2               & 2               & 2               & 2               & 2               & 2               & 1               & 2               & USH2A          \\\\\n",
       "\t5 & ENSG00000072401 & FALSE           & 2               & 2               & 2               & 2               & 2               & 2               & 1               & 2               & UBE2D1         \\\\\n",
       "\t7 & ENSG00000100033 &  TRUE           & 2               & 2               & 2               & 2               & 2               & 2               & 2               & 3               & PRODH          \\\\\n",
       "\t9 & ENSG00000107018 &  TRUE           & 2               & 3               & 2               & 2               & 2               & 2               & 2               & 2               & RLN1           \\\\\n",
       "\t26 & ENSG00000151033 & FALSE           & 1               & 2               & 2               & 2               & 2               & 2               & 2               & 2               & LYZL2          \\\\\n",
       "\t28 & ENSG00000160072 & FALSE           & 2               & 1               & 1               & 2               & 2               & 2               & 2               & 2               & ATAD3B         \\\\\n",
       "\\end{tabular}\n"
      ],
      "text/markdown": [
       "\n",
       "| <!--/--> | gene | whole_gene | NEW0920 | NEW0919 | NEW0918 | NEW0922 | NEW0909 | NEW0908 | NEW0936 | NEW0935 | genis |\n",
       "|---|---|---|---|---|---|---|---|---|---|---|---|\n",
       "| 4 | ENSG00000042781 | FALSE           | 2               | 2               | 2               | 2               | 2               | 2               | 1               | 2               | USH2A           |\n",
       "| 5 | ENSG00000072401 | FALSE           | 2               | 2               | 2               | 2               | 2               | 2               | 1               | 2               | UBE2D1          |\n",
       "| 7 | ENSG00000100033 |  TRUE           | 2               | 2               | 2               | 2               | 2               | 2               | 2               | 3               | PRODH           |\n",
       "| 9 | ENSG00000107018 |  TRUE           | 2               | 3               | 2               | 2               | 2               | 2               | 2               | 2               | RLN1            |\n",
       "| 26 | ENSG00000151033 | FALSE           | 1               | 2               | 2               | 2               | 2               | 2               | 2               | 2               | LYZL2           |\n",
       "| 28 | ENSG00000160072 | FALSE           | 2               | 1               | 1               | 2               | 2               | 2               | 2               | 2               | ATAD3B          |\n",
       "\n"
      ],
      "text/plain": [
       "   gene            whole_gene NEW0920 NEW0919 NEW0918 NEW0922 NEW0909 NEW0908\n",
       "4  ENSG00000042781 FALSE      2       2       2       2       2       2      \n",
       "5  ENSG00000072401 FALSE      2       2       2       2       2       2      \n",
       "7  ENSG00000100033  TRUE      2       2       2       2       2       2      \n",
       "9  ENSG00000107018  TRUE      2       3       2       2       2       2      \n",
       "26 ENSG00000151033 FALSE      1       2       2       2       2       2      \n",
       "28 ENSG00000160072 FALSE      2       1       1       2       2       2      \n",
       "   NEW0936 NEW0935 genis \n",
       "4  1       2       USH2A \n",
       "5  1       2       UBE2D1\n",
       "7  2       3       PRODH \n",
       "9  2       2       RLN1  \n",
       "26 2       2       LYZL2 \n",
       "28 2       2       ATAD3B"
      ]
     },
     "metadata": {},
     "output_type": "display_data"
    }
   ],
   "source": [
    "severedata <- severedata[apply(X = severedata,MARGIN = 1,function(x) paste0(x[3:10],collapse='_')) != '2_2_2_2_2_2_2_2',]\n",
    "head(severedata)"
   ]
  },
  {
   "cell_type": "code",
   "execution_count": 11,
   "id": "672bd8a6",
   "metadata": {},
   "outputs": [
    {
     "data": {
      "text/html": [
       "<table>\n",
       "<thead><tr><th></th><th scope=col>gene</th><th scope=col>whole_gene</th><th scope=col>NEW0921</th><th scope=col>NEW0931</th><th scope=col>NEW0907</th><th scope=col>NEW0923</th><th scope=col>NEW0930</th><th scope=col>NEW0929</th><th scope=col>NEW0928</th><th scope=col>NEW0927</th><th scope=col>NEW0932</th><th scope=col>NEW0934</th><th scope=col>NEW0933</th><th scope=col>NEW0937</th><th scope=col>genis</th></tr></thead>\n",
       "<tbody>\n",
       "\t<tr><th scope=row>1</th><td>ENSG00000005955</td><td> TRUE          </td><td>2              </td><td>3              </td><td>2              </td><td>2              </td><td>2              </td><td>2              </td><td>2              </td><td>2              </td><td>2              </td><td>2              </td><td>2              </td><td>2              </td><td>GGNBP2         </td></tr>\n",
       "\t<tr><th scope=row>2</th><td>ENSG00000006114</td><td> TRUE          </td><td>2              </td><td>3              </td><td>2              </td><td>2              </td><td>2              </td><td>2              </td><td>2              </td><td>2              </td><td>2              </td><td>2              </td><td>2              </td><td>2              </td><td>SYNGR          </td></tr>\n",
       "\t<tr><th scope=row>3</th><td>ENSG00000038945</td><td>FALSE          </td><td>2              </td><td>1              </td><td>2              </td><td>2              </td><td>2              </td><td>2              </td><td>2              </td><td>2              </td><td>2              </td><td>2              </td><td>2              </td><td>2              </td><td>MSR1           </td></tr>\n",
       "\t<tr><th scope=row>6</th><td>ENSG00000090857</td><td>FALSE          </td><td>1              </td><td>2              </td><td>2              </td><td>2              </td><td>2              </td><td>2              </td><td>2              </td><td>2              </td><td>2              </td><td>2              </td><td>2              </td><td>2              </td><td>PDPR           </td></tr>\n",
       "\t<tr><th scope=row>7</th><td>ENSG00000100033</td><td> TRUE          </td><td>2              </td><td>2              </td><td>3              </td><td>2              </td><td>2              </td><td>2              </td><td>3              </td><td>2              </td><td>2              </td><td>2              </td><td>2              </td><td>2              </td><td>PRODH          </td></tr>\n",
       "\t<tr><th scope=row>8</th><td>ENSG00000100033</td><td> TRUE          </td><td>2              </td><td>2              </td><td>2              </td><td>2              </td><td>4              </td><td>2              </td><td>2              </td><td>2              </td><td>2              </td><td>2              </td><td>2              </td><td>2              </td><td>PRODH          </td></tr>\n",
       "</tbody>\n",
       "</table>\n"
      ],
      "text/latex": [
       "\\begin{tabular}{r|lllllllllllllll}\n",
       "  & gene & whole\\_gene & NEW0921 & NEW0931 & NEW0907 & NEW0923 & NEW0930 & NEW0929 & NEW0928 & NEW0927 & NEW0932 & NEW0934 & NEW0933 & NEW0937 & genis\\\\\n",
       "\\hline\n",
       "\t1 & ENSG00000005955 &  TRUE           & 2               & 3               & 2               & 2               & 2               & 2               & 2               & 2               & 2               & 2               & 2               & 2               & GGNBP2         \\\\\n",
       "\t2 & ENSG00000006114 &  TRUE           & 2               & 3               & 2               & 2               & 2               & 2               & 2               & 2               & 2               & 2               & 2               & 2               & SYNGR          \\\\\n",
       "\t3 & ENSG00000038945 & FALSE           & 2               & 1               & 2               & 2               & 2               & 2               & 2               & 2               & 2               & 2               & 2               & 2               & MSR1           \\\\\n",
       "\t6 & ENSG00000090857 & FALSE           & 1               & 2               & 2               & 2               & 2               & 2               & 2               & 2               & 2               & 2               & 2               & 2               & PDPR           \\\\\n",
       "\t7 & ENSG00000100033 &  TRUE           & 2               & 2               & 3               & 2               & 2               & 2               & 3               & 2               & 2               & 2               & 2               & 2               & PRODH          \\\\\n",
       "\t8 & ENSG00000100033 &  TRUE           & 2               & 2               & 2               & 2               & 4               & 2               & 2               & 2               & 2               & 2               & 2               & 2               & PRODH          \\\\\n",
       "\\end{tabular}\n"
      ],
      "text/markdown": [
       "\n",
       "| <!--/--> | gene | whole_gene | NEW0921 | NEW0931 | NEW0907 | NEW0923 | NEW0930 | NEW0929 | NEW0928 | NEW0927 | NEW0932 | NEW0934 | NEW0933 | NEW0937 | genis |\n",
       "|---|---|---|---|---|---|---|---|---|---|---|---|---|---|---|---|\n",
       "| 1 | ENSG00000005955 |  TRUE           | 2               | 3               | 2               | 2               | 2               | 2               | 2               | 2               | 2               | 2               | 2               | 2               | GGNBP2          |\n",
       "| 2 | ENSG00000006114 |  TRUE           | 2               | 3               | 2               | 2               | 2               | 2               | 2               | 2               | 2               | 2               | 2               | 2               | SYNGR           |\n",
       "| 3 | ENSG00000038945 | FALSE           | 2               | 1               | 2               | 2               | 2               | 2               | 2               | 2               | 2               | 2               | 2               | 2               | MSR1            |\n",
       "| 6 | ENSG00000090857 | FALSE           | 1               | 2               | 2               | 2               | 2               | 2               | 2               | 2               | 2               | 2               | 2               | 2               | PDPR            |\n",
       "| 7 | ENSG00000100033 |  TRUE           | 2               | 2               | 3               | 2               | 2               | 2               | 3               | 2               | 2               | 2               | 2               | 2               | PRODH           |\n",
       "| 8 | ENSG00000100033 |  TRUE           | 2               | 2               | 2               | 2               | 4               | 2               | 2               | 2               | 2               | 2               | 2               | 2               | PRODH           |\n",
       "\n"
      ],
      "text/plain": [
       "  gene            whole_gene NEW0921 NEW0931 NEW0907 NEW0923 NEW0930 NEW0929\n",
       "1 ENSG00000005955  TRUE      2       3       2       2       2       2      \n",
       "2 ENSG00000006114  TRUE      2       3       2       2       2       2      \n",
       "3 ENSG00000038945 FALSE      2       1       2       2       2       2      \n",
       "6 ENSG00000090857 FALSE      1       2       2       2       2       2      \n",
       "7 ENSG00000100033  TRUE      2       2       3       2       2       2      \n",
       "8 ENSG00000100033  TRUE      2       2       2       2       4       2      \n",
       "  NEW0928 NEW0927 NEW0932 NEW0934 NEW0933 NEW0937 genis \n",
       "1 2       2       2       2       2       2       GGNBP2\n",
       "2 2       2       2       2       2       2       SYNGR \n",
       "3 2       2       2       2       2       2       MSR1  \n",
       "6 2       2       2       2       2       2       PDPR  \n",
       "7 3       2       2       2       2       2       PRODH \n",
       "8 2       2       2       2       2       2       PRODH "
      ]
     },
     "metadata": {},
     "output_type": "display_data"
    }
   ],
   "source": [
    "milddata <- milddata[apply(X = milddata,MARGIN = 1,function(x) paste0(x[3:10],collapse='_')) != '2_2_2_2_2_2_2_2',]\n",
    "head(milddata)"
   ]
  },
  {
   "cell_type": "code",
   "execution_count": 12,
   "id": "95f7d0db",
   "metadata": {},
   "outputs": [],
   "source": [
    "rownames(severedata) <- NULL\n",
    "rownames(milddata) <- NULL\n",
    "severecnvs <- unique(as.character(severedata[,\"genis\"]))\n",
    "mildcnvs <- unique(as.character(milddata[,\"genis\"]))\n",
    "cnvsevereonly <- setdiff(severecnvs,mildcnvs)\n",
    "cnvsnotsevereonly <- setdiff(mildcnvs,severecnvs)"
   ]
  },
  {
   "cell_type": "code",
   "execution_count": 13,
   "id": "344ec968",
   "metadata": {},
   "outputs": [
    {
     "data": {
      "text/html": [
       "<ol class=list-inline>\n",
       "\t<li>'USH2A'</li>\n",
       "\t<li>'UBE2D1'</li>\n",
       "\t<li>'ATAD3B'</li>\n",
       "\t<li>'TPCN2'</li>\n",
       "\t<li>'AKNAD1'</li>\n",
       "\t<li>'CLCNKB'</li>\n",
       "\t<li>'CASP12'</li>\n",
       "\t<li>'PSG5'</li>\n",
       "\t<li>'ZNF705B'</li>\n",
       "\t<li>'DEFB115'</li>\n",
       "\t<li>'ATAD3C'</li>\n",
       "</ol>\n"
      ],
      "text/latex": [
       "\\begin{enumerate*}\n",
       "\\item 'USH2A'\n",
       "\\item 'UBE2D1'\n",
       "\\item 'ATAD3B'\n",
       "\\item 'TPCN2'\n",
       "\\item 'AKNAD1'\n",
       "\\item 'CLCNKB'\n",
       "\\item 'CASP12'\n",
       "\\item 'PSG5'\n",
       "\\item 'ZNF705B'\n",
       "\\item 'DEFB115'\n",
       "\\item 'ATAD3C'\n",
       "\\end{enumerate*}\n"
      ],
      "text/markdown": [
       "1. 'USH2A'\n",
       "2. 'UBE2D1'\n",
       "3. 'ATAD3B'\n",
       "4. 'TPCN2'\n",
       "5. 'AKNAD1'\n",
       "6. 'CLCNKB'\n",
       "7. 'CASP12'\n",
       "8. 'PSG5'\n",
       "9. 'ZNF705B'\n",
       "10. 'DEFB115'\n",
       "11. 'ATAD3C'\n",
       "\n",
       "\n"
      ],
      "text/plain": [
       " [1] \"USH2A\"   \"UBE2D1\"  \"ATAD3B\"  \"TPCN2\"   \"AKNAD1\"  \"CLCNKB\"  \"CASP12\" \n",
       " [8] \"PSG5\"    \"ZNF705B\" \"DEFB115\" \"ATAD3C\" "
      ]
     },
     "metadata": {},
     "output_type": "display_data"
    }
   ],
   "source": [
    "cnvsevereonly"
   ]
  },
  {
   "cell_type": "markdown",
   "id": "bc5c025e",
   "metadata": {},
   "source": [
    "### Load CMS Causal genes"
   ]
  },
  {
   "cell_type": "code",
   "execution_count": 14,
   "id": "1f46dc89",
   "metadata": {},
   "outputs": [
    {
     "data": {
      "text/html": [
       "<ol class=list-inline>\n",
       "\t<li>'AGRN'</li>\n",
       "\t<li>'ALG14'</li>\n",
       "\t<li>'ALG2'</li>\n",
       "\t<li>'CHAT'</li>\n",
       "\t<li>'CHRNA1'</li>\n",
       "\t<li>'CHRNB1'</li>\n",
       "\t<li>'CHRND'</li>\n",
       "\t<li>'CHRNE'</li>\n",
       "\t<li>'CHRNG'</li>\n",
       "\t<li>'COL13A1'</li>\n",
       "\t<li>'COLQ'</li>\n",
       "\t<li>'DOK7'</li>\n",
       "\t<li>'DPAGT1'</li>\n",
       "\t<li>'GFPT1'</li>\n",
       "\t<li>'GMPPB'</li>\n",
       "\t<li>'LAMA5'</li>\n",
       "\t<li>'LAMB2'</li>\n",
       "\t<li>'LRP4'</li>\n",
       "\t<li>'MUSK'</li>\n",
       "\t<li>'MYO9A'</li>\n",
       "\t<li>'PLEC'</li>\n",
       "\t<li>'PREPL'</li>\n",
       "\t<li>'RAPSN'</li>\n",
       "\t<li>'RPH3A'</li>\n",
       "\t<li>'SCN4A'</li>\n",
       "\t<li>'SLC18A3'</li>\n",
       "\t<li>'SLC25A1'</li>\n",
       "\t<li>'SLC5A7'</li>\n",
       "\t<li>'SNAP25'</li>\n",
       "\t<li>'SYT2'</li>\n",
       "\t<li>'UNC13B'</li>\n",
       "\t<li>'VAMP1'</li>\n",
       "</ol>\n"
      ],
      "text/latex": [
       "\\begin{enumerate*}\n",
       "\\item 'AGRN'\n",
       "\\item 'ALG14'\n",
       "\\item 'ALG2'\n",
       "\\item 'CHAT'\n",
       "\\item 'CHRNA1'\n",
       "\\item 'CHRNB1'\n",
       "\\item 'CHRND'\n",
       "\\item 'CHRNE'\n",
       "\\item 'CHRNG'\n",
       "\\item 'COL13A1'\n",
       "\\item 'COLQ'\n",
       "\\item 'DOK7'\n",
       "\\item 'DPAGT1'\n",
       "\\item 'GFPT1'\n",
       "\\item 'GMPPB'\n",
       "\\item 'LAMA5'\n",
       "\\item 'LAMB2'\n",
       "\\item 'LRP4'\n",
       "\\item 'MUSK'\n",
       "\\item 'MYO9A'\n",
       "\\item 'PLEC'\n",
       "\\item 'PREPL'\n",
       "\\item 'RAPSN'\n",
       "\\item 'RPH3A'\n",
       "\\item 'SCN4A'\n",
       "\\item 'SLC18A3'\n",
       "\\item 'SLC25A1'\n",
       "\\item 'SLC5A7'\n",
       "\\item 'SNAP25'\n",
       "\\item 'SYT2'\n",
       "\\item 'UNC13B'\n",
       "\\item 'VAMP1'\n",
       "\\end{enumerate*}\n"
      ],
      "text/markdown": [
       "1. 'AGRN'\n",
       "2. 'ALG14'\n",
       "3. 'ALG2'\n",
       "4. 'CHAT'\n",
       "5. 'CHRNA1'\n",
       "6. 'CHRNB1'\n",
       "7. 'CHRND'\n",
       "8. 'CHRNE'\n",
       "9. 'CHRNG'\n",
       "10. 'COL13A1'\n",
       "11. 'COLQ'\n",
       "12. 'DOK7'\n",
       "13. 'DPAGT1'\n",
       "14. 'GFPT1'\n",
       "15. 'GMPPB'\n",
       "16. 'LAMA5'\n",
       "17. 'LAMB2'\n",
       "18. 'LRP4'\n",
       "19. 'MUSK'\n",
       "20. 'MYO9A'\n",
       "21. 'PLEC'\n",
       "22. 'PREPL'\n",
       "23. 'RAPSN'\n",
       "24. 'RPH3A'\n",
       "25. 'SCN4A'\n",
       "26. 'SLC18A3'\n",
       "27. 'SLC25A1'\n",
       "28. 'SLC5A7'\n",
       "29. 'SNAP25'\n",
       "30. 'SYT2'\n",
       "31. 'UNC13B'\n",
       "32. 'VAMP1'\n",
       "\n",
       "\n"
      ],
      "text/plain": [
       " [1] \"AGRN\"    \"ALG14\"   \"ALG2\"    \"CHAT\"    \"CHRNA1\"  \"CHRNB1\"  \"CHRND\"  \n",
       " [8] \"CHRNE\"   \"CHRNG\"   \"COL13A1\" \"COLQ\"    \"DOK7\"    \"DPAGT1\"  \"GFPT1\"  \n",
       "[15] \"GMPPB\"   \"LAMA5\"   \"LAMB2\"   \"LRP4\"    \"MUSK\"    \"MYO9A\"   \"PLEC\"   \n",
       "[22] \"PREPL\"   \"RAPSN\"   \"RPH3A\"   \"SCN4A\"   \"SLC18A3\" \"SLC25A1\" \"SLC5A7\" \n",
       "[29] \"SNAP25\"  \"SYT2\"    \"UNC13B\"  \"VAMP1\"  "
      ]
     },
     "metadata": {},
     "output_type": "display_data"
    }
   ],
   "source": [
    "cosa <- read.csv(\"data/InputGenes/cmsgenes.csv\",header=FALSE) #http://www.musclegenetable.fr/4DACTION/Blob_groupe2\n",
    "#cosa <- read.csv(\"data/InputGenes/genespaper.csv\",header=FALSE) #Table PMID:30552423\n",
    "cosa <- cosa[,1]\n",
    "cosa <- as.character(cosa)\n",
    "cosa"
   ]
  },
  {
   "cell_type": "code",
   "execution_count": 15,
   "id": "26febb15",
   "metadata": {},
   "outputs": [],
   "source": [
    "severeonly2 <- data.frame(severeonly)\n",
    "cosa2 <- data.frame(cosa)\n",
    "cnvsevereonly2 <- data.frame(cnvsevereonly)\n",
    "notsevereonly2 <- data.frame(notsevereonly)\n",
    "notcnvsevereonly2 <- data.frame(cnvsnotsevereonly)\n",
    "\n",
    "\n",
    "severeonly2[,2] <- 'CHVsevereonly'\n",
    "cosa2[,2] <- 'causal'\n",
    "cnvsevereonly2[,2] <- 'CNVsevereonly'\n",
    "notsevereonly2[,2] <- 'CHVnotsevereonly'\n",
    "notcnvsevereonly2[,2] <- 'CNVsnotsevereonly'\n",
    "\n",
    "#For Cytoscape plots\n",
    "write.table(rbind(as.matrix(severeonly2),as.matrix(cnvsevereonly2),as.matrix(cosa2)),file='Cytoscape_Session/SevereMetadata_Figure4_Supp_Fig_6.csv',sep='csv',quote=F,row.names = F,col.names = F)\n",
    "write.table(rbind(as.matrix(notsevereonly2),as.matrix(notcnvsevereonly2),as.matrix(cosa2)),file='Cytoscape_Session/NOTSevereMetadata_Figure4_Supp_Fig_6.csv',sep='csv',quote=F,row.names = F,col.names = F)\n"
   ]
  },
  {
   "cell_type": "markdown",
   "id": "c443f015",
   "metadata": {},
   "source": [
    "### Join causal and mutated genes"
   ]
  },
  {
   "cell_type": "code",
   "execution_count": 16,
   "id": "8eef5098",
   "metadata": {},
   "outputs": [],
   "source": [
    "# Setup depending on severity groups\n",
    "if(phenotype == \"severe\"){\n",
    "  algenes <- c(severeonly,cosa,cnvsevereonly) #Severe-Only Analysis \n",
    "}\n",
    "if(phenotype == \"notsevere\"){\n",
    "  algenes <- c(notsevereonly,cosa,cnvsnotsevereonly) #To get a Mild-Only  Analysis\n",
    "}"
   ]
  },
  {
   "cell_type": "code",
   "execution_count": 17,
   "id": "f05c1b11",
   "metadata": {},
   "outputs": [
    {
     "name": "stderr",
     "output_type": "stream",
     "text": [
      "'select()' returned 1:1 mapping between keys and columns\n"
     ]
    }
   ],
   "source": [
    "# Solve some missing gene mappings\n",
    "if(\"KIAA1919\" %in% algenes){\n",
    "  algenes <- replace(algenes,algenes== \"KIAA1919\",\"MFSD4B\")\n",
    "}\n",
    "if(\"FAM188B\" %in% algenes){\n",
    "  algenes <- replace(algenes,algenes== \"FAM188B\",\"MINDY4\")\n",
    "}\n",
    "if(\"C14orf159\" %in% algenes){\n",
    "  algenes <- replace(algenes,algenes== \"C14orf159\",\"DGLUCY\")\n",
    "}\n",
    "if(\"C1orf168\" %in% algenes){\n",
    "  algenes <- replace(algenes,algenes== \"C1orf168\",\"FYB2\")\n",
    "}\n",
    "if(\"IKBKAP\" %in% algenes){\n",
    "  algenes <- replace(algenes,algenes== \"IKBKAP\",\"ELP1\")\n",
    "}\n",
    "if(\"SYNGR\" %in% algenes){\n",
    "  algenes <- replace(algenes,algenes== \"SYNGR\",\"SYNGR1\")\n",
    "}\n",
    "if(\"ZNHI3\" %in% algenes){\n",
    "  algenes <- replace(algenes,algenes== \"ZNHI3\",\"ZNHIT3\")\n",
    "}\n",
    "if(\"FAM231D\" %in% algenes){\n",
    "  algenes <- replace(algenes,algenes== \"FAM231D\",\"LINC01145\")\n",
    "}\n",
    "if(\"SELO\" %in% algenes){\n",
    "  algenes <- replace(algenes,algenes== \"SELO\",\"SELENOO\")\n",
    "}\n",
    "if(\"MFSD7\" %in% algenes){\n",
    "  algenes <- replace(algenes,algenes== \"MFSD7\",\"SLC49A3\")\n",
    "}\n",
    "\n",
    "#Convert to entrez\n",
    "algenes2 <- algenes\n",
    "algenes <- mapIds(org.Hs.eg.db,keys = algenes,column = \"ENTREZID\",keytype=\"SYMBOL\",multiVals = \"first\")\n",
    "names(algenes) <- NULL"
   ]
  },
  {
   "cell_type": "markdown",
   "id": "89f1577d",
   "metadata": {},
   "source": [
    "### Create a table with the community ID of each gene in 'genescausales' vector."
   ]
  },
  {
   "cell_type": "code",
   "execution_count": 18,
   "id": "c69c03a1",
   "metadata": {},
   "outputs": [
    {
     "name": "stderr",
     "output_type": "stream",
     "text": [
      "'select()' returned 1:1 mapping between keys and columns\n"
     ]
    }
   ],
   "source": [
    "genescausales <- mapIds(org.Hs.eg.db,keys = algenes2,column = \"ENTREZID\",keytype=\"SYMBOL\",multiVals = \"first\")\n",
    "  genescausales <- as.matrix(genescausales)\n",
    "  rownames(genescausales) <- NULL\n",
    "  genescausales <- genescausales[,1]\n",
    "  genescausales <- unlist(genescausales) #need this unlist as sometimes R does not create a c() vector with the previous line\n",
    "  disease <- genescausales\n",
    "  res <- matrix(nrow= length(unlist(lista_comunidades[[1]],use.names = F)),ncol= 9)\n",
    "  rownames(res) <- unlist(lista_comunidades[[1]],use.names = F)\n",
    "\n"
   ]
  },
  {
   "cell_type": "code",
   "execution_count": 19,
   "id": "c0aa519d",
   "metadata": {},
   "outputs": [
    {
     "data": {
      "text/html": [
       "<table>\n",
       "<tbody>\n",
       "\t<tr><th scope=row>888860</th><td>NA</td><td>NA</td><td>NA</td><td>NA</td><td>NA</td><td>NA</td><td>NA</td><td>NA</td><td>NA</td></tr>\n",
       "\t<tr><th scope=row>886981</th><td>NA</td><td>NA</td><td>NA</td><td>NA</td><td>NA</td><td>NA</td><td>NA</td><td>NA</td><td>NA</td></tr>\n",
       "\t<tr><th scope=row>886865</th><td>NA</td><td>NA</td><td>NA</td><td>NA</td><td>NA</td><td>NA</td><td>NA</td><td>NA</td><td>NA</td></tr>\n",
       "\t<tr><th scope=row>886624</th><td>NA</td><td>NA</td><td>NA</td><td>NA</td><td>NA</td><td>NA</td><td>NA</td><td>NA</td><td>NA</td></tr>\n",
       "\t<tr><th scope=row>886174</th><td>NA</td><td>NA</td><td>NA</td><td>NA</td><td>NA</td><td>NA</td><td>NA</td><td>NA</td><td>NA</td></tr>\n",
       "\t<tr><th scope=row>885594</th><td>NA</td><td>NA</td><td>NA</td><td>NA</td><td>NA</td><td>NA</td><td>NA</td><td>NA</td><td>NA</td></tr>\n",
       "</tbody>\n",
       "</table>\n"
      ],
      "text/latex": [
       "\\begin{tabular}{r|lllllllll}\n",
       "\t888860 & NA & NA & NA & NA & NA & NA & NA & NA & NA\\\\\n",
       "\t886981 & NA & NA & NA & NA & NA & NA & NA & NA & NA\\\\\n",
       "\t886865 & NA & NA & NA & NA & NA & NA & NA & NA & NA\\\\\n",
       "\t886624 & NA & NA & NA & NA & NA & NA & NA & NA & NA\\\\\n",
       "\t886174 & NA & NA & NA & NA & NA & NA & NA & NA & NA\\\\\n",
       "\t885594 & NA & NA & NA & NA & NA & NA & NA & NA & NA\\\\\n",
       "\\end{tabular}\n"
      ],
      "text/markdown": [
       "\n",
       "| 888860 | NA | NA | NA | NA | NA | NA | NA | NA | NA |\n",
       "| 886981 | NA | NA | NA | NA | NA | NA | NA | NA | NA |\n",
       "| 886865 | NA | NA | NA | NA | NA | NA | NA | NA | NA |\n",
       "| 886624 | NA | NA | NA | NA | NA | NA | NA | NA | NA |\n",
       "| 886174 | NA | NA | NA | NA | NA | NA | NA | NA | NA |\n",
       "| 885594 | NA | NA | NA | NA | NA | NA | NA | NA | NA |\n",
       "\n"
      ],
      "text/plain": [
       "       [,1] [,2] [,3] [,4] [,5] [,6] [,7] [,8] [,9]\n",
       "888860 NA   NA   NA   NA   NA   NA   NA   NA   NA  \n",
       "886981 NA   NA   NA   NA   NA   NA   NA   NA   NA  \n",
       "886865 NA   NA   NA   NA   NA   NA   NA   NA   NA  \n",
       "886624 NA   NA   NA   NA   NA   NA   NA   NA   NA  \n",
       "886174 NA   NA   NA   NA   NA   NA   NA   NA   NA  \n",
       "885594 NA   NA   NA   NA   NA   NA   NA   NA   NA  "
      ]
     },
     "metadata": {},
     "output_type": "display_data"
    }
   ],
   "source": [
    "head(res)"
   ]
  },
  {
   "cell_type": "code",
   "execution_count": 20,
   "id": "16efc240",
   "metadata": {},
   "outputs": [],
   "source": [
    "#Remove genes not present on Multilayer network\n",
    "curl <- lapply(as.list(genescausales),function(x) which(sapply(cuatro, function(y) x %in% y)))\n",
    "res <- res[!unlist(lapply(curl,function(x) length(x)==0)),]"
   ]
  },
  {
   "cell_type": "code",
   "execution_count": 21,
   "id": "8babb6dc",
   "metadata": {},
   "outputs": [
    {
     "data": {
      "text/html": [
       "<table>\n",
       "<tbody>\n",
       "\t<tr><th scope=row>888860</th><td>NA</td><td>NA</td><td>NA</td><td>NA</td><td>NA</td><td>NA</td><td>NA</td><td>NA</td><td>NA</td></tr>\n",
       "\t<tr><th scope=row>886865</th><td>NA</td><td>NA</td><td>NA</td><td>NA</td><td>NA</td><td>NA</td><td>NA</td><td>NA</td><td>NA</td></tr>\n",
       "\t<tr><th scope=row>885594</th><td>NA</td><td>NA</td><td>NA</td><td>NA</td><td>NA</td><td>NA</td><td>NA</td><td>NA</td><td>NA</td></tr>\n",
       "\t<tr><th scope=row>888192</th><td>NA</td><td>NA</td><td>NA</td><td>NA</td><td>NA</td><td>NA</td><td>NA</td><td>NA</td><td>NA</td></tr>\n",
       "\t<tr><th scope=row>888777</th><td>NA</td><td>NA</td><td>NA</td><td>NA</td><td>NA</td><td>NA</td><td>NA</td><td>NA</td><td>NA</td></tr>\n",
       "\t<tr><th scope=row>887215</th><td>NA</td><td>NA</td><td>NA</td><td>NA</td><td>NA</td><td>NA</td><td>NA</td><td>NA</td><td>NA</td></tr>\n",
       "</tbody>\n",
       "</table>\n"
      ],
      "text/latex": [
       "\\begin{tabular}{r|lllllllll}\n",
       "\t888860 & NA & NA & NA & NA & NA & NA & NA & NA & NA\\\\\n",
       "\t886865 & NA & NA & NA & NA & NA & NA & NA & NA & NA\\\\\n",
       "\t885594 & NA & NA & NA & NA & NA & NA & NA & NA & NA\\\\\n",
       "\t888192 & NA & NA & NA & NA & NA & NA & NA & NA & NA\\\\\n",
       "\t888777 & NA & NA & NA & NA & NA & NA & NA & NA & NA\\\\\n",
       "\t887215 & NA & NA & NA & NA & NA & NA & NA & NA & NA\\\\\n",
       "\\end{tabular}\n"
      ],
      "text/markdown": [
       "\n",
       "| 888860 | NA | NA | NA | NA | NA | NA | NA | NA | NA |\n",
       "| 886865 | NA | NA | NA | NA | NA | NA | NA | NA | NA |\n",
       "| 885594 | NA | NA | NA | NA | NA | NA | NA | NA | NA |\n",
       "| 888192 | NA | NA | NA | NA | NA | NA | NA | NA | NA |\n",
       "| 888777 | NA | NA | NA | NA | NA | NA | NA | NA | NA |\n",
       "| 887215 | NA | NA | NA | NA | NA | NA | NA | NA | NA |\n",
       "\n"
      ],
      "text/plain": [
       "       [,1] [,2] [,3] [,4] [,5] [,6] [,7] [,8] [,9]\n",
       "888860 NA   NA   NA   NA   NA   NA   NA   NA   NA  \n",
       "886865 NA   NA   NA   NA   NA   NA   NA   NA   NA  \n",
       "885594 NA   NA   NA   NA   NA   NA   NA   NA   NA  \n",
       "888192 NA   NA   NA   NA   NA   NA   NA   NA   NA  \n",
       "888777 NA   NA   NA   NA   NA   NA   NA   NA   NA  \n",
       "887215 NA   NA   NA   NA   NA   NA   NA   NA   NA  "
      ]
     },
     "metadata": {},
     "output_type": "display_data"
    }
   ],
   "source": [
    "head(res)"
   ]
  },
  {
   "cell_type": "code",
   "execution_count": 22,
   "id": "fd7792ce",
   "metadata": {},
   "outputs": [
    {
     "data": {
      "text/html": [
       "<ol class=list-inline>\n",
       "\t<li>17382</li>\n",
       "\t<li>9</li>\n",
       "</ol>\n"
      ],
      "text/latex": [
       "\\begin{enumerate*}\n",
       "\\item 17382\n",
       "\\item 9\n",
       "\\end{enumerate*}\n"
      ],
      "text/markdown": [
       "1. 17382\n",
       "2. 9\n",
       "\n",
       "\n"
      ],
      "text/plain": [
       "[1] 17382     9"
      ]
     },
     "metadata": {},
     "output_type": "display_data"
    }
   ],
   "source": [
    "dim(res)"
   ]
  },
  {
   "cell_type": "code",
   "execution_count": 23,
   "id": "106411f1",
   "metadata": {},
   "outputs": [
    {
     "data": {
      "text/plain": [
       "[1] \"2023-03-22 17:20:24 CET\""
      ]
     },
     "metadata": {},
     "output_type": "display_data"
    }
   ],
   "source": [
    "Sys.time()"
   ]
  },
  {
   "cell_type": "code",
   "execution_count": 24,
   "id": "2ff5f355",
   "metadata": {
    "scrolled": true
   },
   "outputs": [],
   "source": [
    "for(i in 1:9){\n",
    "  current <- unlist(lapply(as.list(rownames(res)),function(x) which(sapply(lista_comunidades[[i]], function(y) x %in% y))))\n",
    "  res[,i] <- current\n",
    "}"
   ]
  },
  {
   "cell_type": "code",
   "execution_count": 25,
   "id": "a49f0bc5",
   "metadata": {},
   "outputs": [
    {
     "data": {
      "text/plain": [
       "[1] \"2023-03-22 17:22:37 CET\""
      ]
     },
     "metadata": {},
     "output_type": "display_data"
    }
   ],
   "source": [
    "Sys.time()"
   ]
  },
  {
   "cell_type": "code",
   "execution_count": 26,
   "id": "04622d1d",
   "metadata": {},
   "outputs": [
    {
     "data": {
      "text/html": [
       "<table>\n",
       "<tbody>\n",
       "\t<tr><th scope=row>888860</th><td>1  </td><td>9  </td><td>13 </td><td>117</td><td>222</td><td>343</td><td>455</td><td>574</td><td>703</td></tr>\n",
       "\t<tr><th scope=row>886865</th><td>1  </td><td>9  </td><td>13 </td><td>117</td><td>222</td><td>343</td><td>455</td><td>574</td><td>703</td></tr>\n",
       "\t<tr><th scope=row>885594</th><td>1  </td><td>9  </td><td>13 </td><td>117</td><td>222</td><td>343</td><td>455</td><td>574</td><td>703</td></tr>\n",
       "\t<tr><th scope=row>888192</th><td>1  </td><td>9  </td><td>13 </td><td>117</td><td>222</td><td>343</td><td>455</td><td>574</td><td>703</td></tr>\n",
       "\t<tr><th scope=row>888777</th><td>1  </td><td>9  </td><td>13 </td><td>117</td><td>222</td><td>343</td><td>455</td><td>574</td><td>703</td></tr>\n",
       "\t<tr><th scope=row>887215</th><td>1  </td><td>9  </td><td>13 </td><td>117</td><td>222</td><td>343</td><td>455</td><td>574</td><td>703</td></tr>\n",
       "</tbody>\n",
       "</table>\n"
      ],
      "text/latex": [
       "\\begin{tabular}{r|lllllllll}\n",
       "\t888860 & 1   & 9   & 13  & 117 & 222 & 343 & 455 & 574 & 703\\\\\n",
       "\t886865 & 1   & 9   & 13  & 117 & 222 & 343 & 455 & 574 & 703\\\\\n",
       "\t885594 & 1   & 9   & 13  & 117 & 222 & 343 & 455 & 574 & 703\\\\\n",
       "\t888192 & 1   & 9   & 13  & 117 & 222 & 343 & 455 & 574 & 703\\\\\n",
       "\t888777 & 1   & 9   & 13  & 117 & 222 & 343 & 455 & 574 & 703\\\\\n",
       "\t887215 & 1   & 9   & 13  & 117 & 222 & 343 & 455 & 574 & 703\\\\\n",
       "\\end{tabular}\n"
      ],
      "text/markdown": [
       "\n",
       "| 888860 | 1   | 9   | 13  | 117 | 222 | 343 | 455 | 574 | 703 |\n",
       "| 886865 | 1   | 9   | 13  | 117 | 222 | 343 | 455 | 574 | 703 |\n",
       "| 885594 | 1   | 9   | 13  | 117 | 222 | 343 | 455 | 574 | 703 |\n",
       "| 888192 | 1   | 9   | 13  | 117 | 222 | 343 | 455 | 574 | 703 |\n",
       "| 888777 | 1   | 9   | 13  | 117 | 222 | 343 | 455 | 574 | 703 |\n",
       "| 887215 | 1   | 9   | 13  | 117 | 222 | 343 | 455 | 574 | 703 |\n",
       "\n"
      ],
      "text/plain": [
       "       [,1] [,2] [,3] [,4] [,5] [,6] [,7] [,8] [,9]\n",
       "888860 1    9    13   117  222  343  455  574  703 \n",
       "886865 1    9    13   117  222  343  455  574  703 \n",
       "885594 1    9    13   117  222  343  455  574  703 \n",
       "888192 1    9    13   117  222  343  455  574  703 \n",
       "888777 1    9    13   117  222  343  455  574  703 \n",
       "887215 1    9    13   117  222  343  455  574  703 "
      ]
     },
     "metadata": {},
     "output_type": "display_data"
    }
   ],
   "source": [
    "head(res)"
   ]
  },
  {
   "cell_type": "markdown",
   "id": "827786e2",
   "metadata": {},
   "source": [
    "###  Generate Figure 4 graph (+ input graph for Cytoscape)"
   ]
  },
  {
   "cell_type": "code",
   "execution_count": 27,
   "id": "9715221a",
   "metadata": {},
   "outputs": [],
   "source": [
    "library(parallelDist)\n",
    "library(reshape2)"
   ]
  },
  {
   "cell_type": "code",
   "execution_count": null,
   "id": "d9497350",
   "metadata": {
    "scrolled": true
   },
   "outputs": [],
   "source": [
    "melted_dist <- as.matrix(parallelDist(res,'hamming',threads = 7)*9) #Machine has 8 threads.\n",
    "diag(melted_dist) <- NA\n",
    "melted_dist[lower.tri(melted_dist)] <- NA\n",
    "#head(melted_dist)"
   ]
  },
  {
   "cell_type": "code",
   "execution_count": null,
   "id": "10e8117e",
   "metadata": {},
   "outputs": [],
   "source": [
    "head(genescausales)"
   ]
  },
  {
   "cell_type": "code",
   "execution_count": null,
   "id": "b6f5d495",
   "metadata": {},
   "outputs": [],
   "source": [
    "melted_dist <- melted_dist[genescausales,genescausales]"
   ]
  },
  {
   "cell_type": "code",
   "execution_count": null,
   "id": "1c90a655",
   "metadata": {},
   "outputs": [],
   "source": [
    "rownames(melted_dist) <- mapIds(org.Hs.eg.db,keys = rownames(melted_dist),column = \"SYMBOL\",keytype=\"ENTREZID\",multiVals = \"first\")\n",
    "colnames(melted_dist) <- rownames(melted_dist)"
   ]
  },
  {
   "cell_type": "code",
   "execution_count": null,
   "id": "c0d97dac",
   "metadata": {},
   "outputs": [],
   "source": [
    "melted_dist <- melt(melted_dist)\n",
    "write.table(melted_dist[!is.na(melted_dist[,3]),],file='data/All_Communities_hamming_distance.csv',row.names = F,col.names = T,quote=F,sep=',') #Input for Figure 3 plots in Cytoscape!\n",
    "melted_dist <- melted_dist[melted_dist[,3]==0,] # Get pairs that are always together trough resolution\n",
    "melted_dist <- na.omit(melted_dist)\n",
    "dim(melted_dist)"
   ]
  },
  {
   "cell_type": "code",
   "execution_count": null,
   "id": "2fbf20ef",
   "metadata": {},
   "outputs": [],
   "source": [
    "head(melted_dist)"
   ]
  },
  {
   "cell_type": "code",
   "execution_count": null,
   "id": "9663119e",
   "metadata": {},
   "outputs": [],
   "source": [
    "g=simplify(graph_from_edgelist(as.matrix(melted_dist[,1:2]),directed = F))\n",
    "g"
   ]
  },
  {
   "cell_type": "code",
   "execution_count": null,
   "id": "735c2d57",
   "metadata": {},
   "outputs": [],
   "source": [
    "layouts <- grep(\"^layout_\", ls(\"package:igraph\"), value=TRUE)[-1]\n",
    "layouts"
   ]
  },
  {
   "cell_type": "code",
   "execution_count": null,
   "id": "80636c02",
   "metadata": {},
   "outputs": [],
   "source": [
    "#test.layout <- layout_components(g,weight.edge.lengths = edge_density(g)/100)\n",
    "options(repr.plot.width=25, repr.plot.height=15)\n",
    "set.seed(2020) #seed for layout\n",
    "plot(g, layout = layout_components)"
   ]
  },
  {
   "cell_type": "markdown",
   "id": "6c739a60",
   "metadata": {},
   "source": [
    "#### Write CSV file for plotting with Cytoscape (Figure 4)"
   ]
  },
  {
   "cell_type": "code",
   "execution_count": null,
   "id": "1cbbb9dc",
   "metadata": {},
   "outputs": [],
   "source": [
    "write.csv(x= as_edgelist(g),file= paste0(destfile,phenotype,\".csv\"),row.names=FALSE) "
   ]
  }
 ],
 "metadata": {
  "kernelspec": {
   "display_name": "R",
   "language": "R",
   "name": "ir"
  },
  "language_info": {
   "codemirror_mode": "r",
   "file_extension": ".r",
   "mimetype": "text/x-r-source",
   "name": "R",
   "pygments_lexer": "r",
   "version": "3.6.1"
  }
 },
 "nbformat": 4,
 "nbformat_minor": 5
}
