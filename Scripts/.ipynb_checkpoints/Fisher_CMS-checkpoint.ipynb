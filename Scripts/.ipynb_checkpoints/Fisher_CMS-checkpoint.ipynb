{
 "cells": [
  {
   "cell_type": "code",
   "execution_count": 2,
   "id": "0ca83439",
   "metadata": {},
   "outputs": [],
   "source": [
    "setwd('..')"
   ]
  },
  {
   "cell_type": "markdown",
   "id": "981e222b",
   "metadata": {},
   "source": [
    "### Read Phenotyping table"
   ]
  },
  {
   "cell_type": "code",
   "execution_count": 3,
   "id": "4d135c8c",
   "metadata": {},
   "outputs": [],
   "source": [
    "tab <- read.table('data/Fisher_Input/phenotyping_table.tsv',sep='\\t',header=T)\n",
    "\n",
    "tab <- tab[,-c(1:4)]\n",
    "colnames(tab) <- \n",
    "c(\n",
    "'Age',\n",
    "'Sex',\n",
    "'Severity',\n",
    "'Pyridostigmine',\n",
    "'Ptosis',\n",
    "'Swallowing dysfunction',\n",
    "'Speech dysfunction',\n",
    "'Head lift',\n",
    "'Shoulder lift',\n",
    "'Leg lift',\n",
    "'Rise from floor',\n",
    "'Respiratory dysfunction',\n",
    "'FCV'\n",
    ")\n",
    "\n",
    "tab$Severity <- ifelse(tab$Severity==\"severe\",'severe','not-severe')\n",
    "tab$Age <- ifelse(tab$Age<mean(tab$Age),'Y','N')\n",
    "tab$Sex <- ifelse(tab$Sex==\"F\",'Y','N')"
   ]
  },
  {
   "cell_type": "code",
   "execution_count": 5,
   "id": "c9a2c5b7",
   "metadata": {},
   "outputs": [
    {
     "data": {
      "text/html": [
       "<table>\n",
       "<thead><tr><th scope=col>Age</th><th scope=col>Sex</th><th scope=col>Severity</th><th scope=col>Pyridostigmine</th><th scope=col>Ptosis</th><th scope=col>Swallowing dysfunction</th><th scope=col>Speech dysfunction</th><th scope=col>Head lift</th><th scope=col>Shoulder lift</th><th scope=col>Leg lift</th><th scope=col>Rise from floor</th><th scope=col>Respiratory dysfunction</th><th scope=col>FCV</th></tr></thead>\n",
       "<tbody>\n",
       "\t<tr><td>N         </td><td>Y         </td><td>not-severe</td><td>Y         </td><td>N         </td><td>Y         </td><td>N         </td><td>Y         </td><td>Y         </td><td>Y         </td><td>Y         </td><td>N         </td><td>N         </td></tr>\n",
       "\t<tr><td>Y         </td><td>N         </td><td>severe    </td><td>Y         </td><td>Y         </td><td>Y         </td><td>N         </td><td>N         </td><td>Y         </td><td>N         </td><td>Y         </td><td>Y         </td><td>Y         </td></tr>\n",
       "\t<tr><td>Y         </td><td>Y         </td><td>severe    </td><td>Y         </td><td>Y         </td><td>N         </td><td>N         </td><td>Y         </td><td>Y         </td><td>Y         </td><td>Y         </td><td>NI        </td><td>Y         </td></tr>\n",
       "\t<tr><td>Y         </td><td>N         </td><td>not-severe</td><td>Y         </td><td>Y         </td><td>N         </td><td>N         </td><td>N         </td><td>N         </td><td>N         </td><td>Y         </td><td>NI        </td><td>NI        </td></tr>\n",
       "\t<tr><td>Y         </td><td>N         </td><td>not-severe</td><td>N         </td><td>Y         </td><td>N         </td><td>N         </td><td>N         </td><td>Y         </td><td>N         </td><td>Y         </td><td>NI        </td><td>N         </td></tr>\n",
       "\t<tr><td>N         </td><td>N         </td><td>not-severe</td><td>N         </td><td>Y         </td><td>N         </td><td>N         </td><td>N         </td><td>N         </td><td>N         </td><td>Y         </td><td>N         </td><td>Y         </td></tr>\n",
       "\t<tr><td>Y         </td><td>N         </td><td>not-severe</td><td>Y         </td><td>Y         </td><td>Y         </td><td>N         </td><td>N         </td><td>N         </td><td>N         </td><td>Y         </td><td>NI        </td><td>N         </td></tr>\n",
       "\t<tr><td>N         </td><td>Y         </td><td>not-severe</td><td>Y         </td><td>Y         </td><td>N         </td><td>N         </td><td>N         </td><td>N         </td><td>N         </td><td>Y         </td><td>NI        </td><td>N         </td></tr>\n",
       "\t<tr><td>N         </td><td>N         </td><td>not-severe</td><td>Y         </td><td>Y         </td><td>N         </td><td>N         </td><td>N         </td><td>N         </td><td>N         </td><td>Y         </td><td>NI        </td><td>Y         </td></tr>\n",
       "\t<tr><td>Y         </td><td>N         </td><td>not-severe</td><td>Y         </td><td>Y         </td><td>Y         </td><td>N         </td><td>N         </td><td>N         </td><td>N         </td><td>Y         </td><td>NI        </td><td>N         </td></tr>\n",
       "\t<tr><td>N         </td><td>Y         </td><td>not-severe</td><td>N         </td><td>Y         </td><td>Y         </td><td>N         </td><td>N         </td><td>Y         </td><td>N         </td><td>Y         </td><td>NI        </td><td>NI        </td></tr>\n",
       "\t<tr><td>N         </td><td>Y         </td><td>severe    </td><td>Y         </td><td>Y         </td><td>N         </td><td>N         </td><td>N         </td><td>Y         </td><td>N         </td><td>Y         </td><td>NI        </td><td>Y         </td></tr>\n",
       "\t<tr><td>Y         </td><td>N         </td><td>severe    </td><td>N         </td><td>N         </td><td>Y         </td><td>N         </td><td>Y         </td><td>Y         </td><td>Y         </td><td>Y         </td><td>NI        </td><td>Y         </td></tr>\n",
       "\t<tr><td>Y         </td><td>N         </td><td>not-severe</td><td>Y         </td><td>Y         </td><td>Y         </td><td>Y         </td><td>N         </td><td>Y         </td><td>Y         </td><td>Y         </td><td>NI        </td><td>N         </td></tr>\n",
       "\t<tr><td>Y         </td><td>N         </td><td>not-severe</td><td>Y         </td><td>N         </td><td>Y         </td><td>N         </td><td>Y         </td><td>Y         </td><td>N         </td><td>Y         </td><td>NI        </td><td>Y         </td></tr>\n",
       "\t<tr><td>Y         </td><td>Y         </td><td>severe    </td><td>Y         </td><td>Y         </td><td>Y         </td><td>N         </td><td>Y         </td><td>Y         </td><td>N         </td><td>Y         </td><td>NI        </td><td>Y         </td></tr>\n",
       "\t<tr><td>N         </td><td>N         </td><td>not-severe</td><td>Y         </td><td>N         </td><td>Y         </td><td>N         </td><td>N         </td><td>Y         </td><td>N         </td><td>Y         </td><td>N         </td><td>Y         </td></tr>\n",
       "\t<tr><td>N         </td><td>N         </td><td>severe    </td><td>N         </td><td>Y         </td><td>Y         </td><td>Y         </td><td>N         </td><td>Y         </td><td>Y         </td><td>Y         </td><td>N         </td><td>Y         </td></tr>\n",
       "\t<tr><td>N         </td><td>Y         </td><td>severe    </td><td>N         </td><td>Y         </td><td>N         </td><td>N         </td><td>Y         </td><td>Y         </td><td>Y         </td><td>N         </td><td>N         </td><td>Y         </td></tr>\n",
       "\t<tr><td>N         </td><td>N         </td><td>severe    </td><td>N         </td><td>Y         </td><td>Y         </td><td>N         </td><td>Y         </td><td>Y         </td><td>Y         </td><td>Y         </td><td>NI        </td><td>Y         </td></tr>\n",
       "</tbody>\n",
       "</table>\n"
      ],
      "text/latex": [
       "\\begin{tabular}{r|lllllllllllll}\n",
       " Age & Sex & Severity & Pyridostigmine & Ptosis & Swallowing dysfunction & Speech dysfunction & Head lift & Shoulder lift & Leg lift & Rise from floor & Respiratory dysfunction & FCV\\\\\n",
       "\\hline\n",
       "\t N          & Y          & not-severe & Y          & N          & Y          & N          & Y          & Y          & Y          & Y          & N          & N         \\\\\n",
       "\t Y          & N          & severe     & Y          & Y          & Y          & N          & N          & Y          & N          & Y          & Y          & Y         \\\\\n",
       "\t Y          & Y          & severe     & Y          & Y          & N          & N          & Y          & Y          & Y          & Y          & NI         & Y         \\\\\n",
       "\t Y          & N          & not-severe & Y          & Y          & N          & N          & N          & N          & N          & Y          & NI         & NI        \\\\\n",
       "\t Y          & N          & not-severe & N          & Y          & N          & N          & N          & Y          & N          & Y          & NI         & N         \\\\\n",
       "\t N          & N          & not-severe & N          & Y          & N          & N          & N          & N          & N          & Y          & N          & Y         \\\\\n",
       "\t Y          & N          & not-severe & Y          & Y          & Y          & N          & N          & N          & N          & Y          & NI         & N         \\\\\n",
       "\t N          & Y          & not-severe & Y          & Y          & N          & N          & N          & N          & N          & Y          & NI         & N         \\\\\n",
       "\t N          & N          & not-severe & Y          & Y          & N          & N          & N          & N          & N          & Y          & NI         & Y         \\\\\n",
       "\t Y          & N          & not-severe & Y          & Y          & Y          & N          & N          & N          & N          & Y          & NI         & N         \\\\\n",
       "\t N          & Y          & not-severe & N          & Y          & Y          & N          & N          & Y          & N          & Y          & NI         & NI        \\\\\n",
       "\t N          & Y          & severe     & Y          & Y          & N          & N          & N          & Y          & N          & Y          & NI         & Y         \\\\\n",
       "\t Y          & N          & severe     & N          & N          & Y          & N          & Y          & Y          & Y          & Y          & NI         & Y         \\\\\n",
       "\t Y          & N          & not-severe & Y          & Y          & Y          & Y          & N          & Y          & Y          & Y          & NI         & N         \\\\\n",
       "\t Y          & N          & not-severe & Y          & N          & Y          & N          & Y          & Y          & N          & Y          & NI         & Y         \\\\\n",
       "\t Y          & Y          & severe     & Y          & Y          & Y          & N          & Y          & Y          & N          & Y          & NI         & Y         \\\\\n",
       "\t N          & N          & not-severe & Y          & N          & Y          & N          & N          & Y          & N          & Y          & N          & Y         \\\\\n",
       "\t N          & N          & severe     & N          & Y          & Y          & Y          & N          & Y          & Y          & Y          & N          & Y         \\\\\n",
       "\t N          & Y          & severe     & N          & Y          & N          & N          & Y          & Y          & Y          & N          & N          & Y         \\\\\n",
       "\t N          & N          & severe     & N          & Y          & Y          & N          & Y          & Y          & Y          & Y          & NI         & Y         \\\\\n",
       "\\end{tabular}\n"
      ],
      "text/markdown": [
       "\n",
       "| Age | Sex | Severity | Pyridostigmine | Ptosis | Swallowing dysfunction | Speech dysfunction | Head lift | Shoulder lift | Leg lift | Rise from floor | Respiratory dysfunction | FCV |\n",
       "|---|---|---|---|---|---|---|---|---|---|---|---|---|\n",
       "| N          | Y          | not-severe | Y          | N          | Y          | N          | Y          | Y          | Y          | Y          | N          | N          |\n",
       "| Y          | N          | severe     | Y          | Y          | Y          | N          | N          | Y          | N          | Y          | Y          | Y          |\n",
       "| Y          | Y          | severe     | Y          | Y          | N          | N          | Y          | Y          | Y          | Y          | NI         | Y          |\n",
       "| Y          | N          | not-severe | Y          | Y          | N          | N          | N          | N          | N          | Y          | NI         | NI         |\n",
       "| Y          | N          | not-severe | N          | Y          | N          | N          | N          | Y          | N          | Y          | NI         | N          |\n",
       "| N          | N          | not-severe | N          | Y          | N          | N          | N          | N          | N          | Y          | N          | Y          |\n",
       "| Y          | N          | not-severe | Y          | Y          | Y          | N          | N          | N          | N          | Y          | NI         | N          |\n",
       "| N          | Y          | not-severe | Y          | Y          | N          | N          | N          | N          | N          | Y          | NI         | N          |\n",
       "| N          | N          | not-severe | Y          | Y          | N          | N          | N          | N          | N          | Y          | NI         | Y          |\n",
       "| Y          | N          | not-severe | Y          | Y          | Y          | N          | N          | N          | N          | Y          | NI         | N          |\n",
       "| N          | Y          | not-severe | N          | Y          | Y          | N          | N          | Y          | N          | Y          | NI         | NI         |\n",
       "| N          | Y          | severe     | Y          | Y          | N          | N          | N          | Y          | N          | Y          | NI         | Y          |\n",
       "| Y          | N          | severe     | N          | N          | Y          | N          | Y          | Y          | Y          | Y          | NI         | Y          |\n",
       "| Y          | N          | not-severe | Y          | Y          | Y          | Y          | N          | Y          | Y          | Y          | NI         | N          |\n",
       "| Y          | N          | not-severe | Y          | N          | Y          | N          | Y          | Y          | N          | Y          | NI         | Y          |\n",
       "| Y          | Y          | severe     | Y          | Y          | Y          | N          | Y          | Y          | N          | Y          | NI         | Y          |\n",
       "| N          | N          | not-severe | Y          | N          | Y          | N          | N          | Y          | N          | Y          | N          | Y          |\n",
       "| N          | N          | severe     | N          | Y          | Y          | Y          | N          | Y          | Y          | Y          | N          | Y          |\n",
       "| N          | Y          | severe     | N          | Y          | N          | N          | Y          | Y          | Y          | N          | N          | Y          |\n",
       "| N          | N          | severe     | N          | Y          | Y          | N          | Y          | Y          | Y          | Y          | NI         | Y          |\n",
       "\n"
      ],
      "text/plain": [
       "   Age Sex Severity   Pyridostigmine Ptosis Swallowing dysfunction\n",
       "1  N   Y   not-severe Y              N      Y                     \n",
       "2  Y   N   severe     Y              Y      Y                     \n",
       "3  Y   Y   severe     Y              Y      N                     \n",
       "4  Y   N   not-severe Y              Y      N                     \n",
       "5  Y   N   not-severe N              Y      N                     \n",
       "6  N   N   not-severe N              Y      N                     \n",
       "7  Y   N   not-severe Y              Y      Y                     \n",
       "8  N   Y   not-severe Y              Y      N                     \n",
       "9  N   N   not-severe Y              Y      N                     \n",
       "10 Y   N   not-severe Y              Y      Y                     \n",
       "11 N   Y   not-severe N              Y      Y                     \n",
       "12 N   Y   severe     Y              Y      N                     \n",
       "13 Y   N   severe     N              N      Y                     \n",
       "14 Y   N   not-severe Y              Y      Y                     \n",
       "15 Y   N   not-severe Y              N      Y                     \n",
       "16 Y   Y   severe     Y              Y      Y                     \n",
       "17 N   N   not-severe Y              N      Y                     \n",
       "18 N   N   severe     N              Y      Y                     \n",
       "19 N   Y   severe     N              Y      N                     \n",
       "20 N   N   severe     N              Y      Y                     \n",
       "   Speech dysfunction Head lift Shoulder lift Leg lift Rise from floor\n",
       "1  N                  Y         Y             Y        Y              \n",
       "2  N                  N         Y             N        Y              \n",
       "3  N                  Y         Y             Y        Y              \n",
       "4  N                  N         N             N        Y              \n",
       "5  N                  N         Y             N        Y              \n",
       "6  N                  N         N             N        Y              \n",
       "7  N                  N         N             N        Y              \n",
       "8  N                  N         N             N        Y              \n",
       "9  N                  N         N             N        Y              \n",
       "10 N                  N         N             N        Y              \n",
       "11 N                  N         Y             N        Y              \n",
       "12 N                  N         Y             N        Y              \n",
       "13 N                  Y         Y             Y        Y              \n",
       "14 Y                  N         Y             Y        Y              \n",
       "15 N                  Y         Y             N        Y              \n",
       "16 N                  Y         Y             N        Y              \n",
       "17 N                  N         Y             N        Y              \n",
       "18 Y                  N         Y             Y        Y              \n",
       "19 N                  Y         Y             Y        N              \n",
       "20 N                  Y         Y             Y        Y              \n",
       "   Respiratory dysfunction FCV\n",
       "1  N                       N  \n",
       "2  Y                       Y  \n",
       "3  NI                      Y  \n",
       "4  NI                      NI \n",
       "5  NI                      N  \n",
       "6  N                       Y  \n",
       "7  NI                      N  \n",
       "8  NI                      N  \n",
       "9  NI                      Y  \n",
       "10 NI                      N  \n",
       "11 NI                      NI \n",
       "12 NI                      Y  \n",
       "13 NI                      Y  \n",
       "14 NI                      N  \n",
       "15 NI                      Y  \n",
       "16 NI                      Y  \n",
       "17 N                       Y  \n",
       "18 N                       Y  \n",
       "19 N                       Y  \n",
       "20 NI                      Y  "
      ]
     },
     "metadata": {},
     "output_type": "display_data"
    }
   ],
   "source": [
    "tab"
   ]
  },
  {
   "cell_type": "markdown",
   "id": "aaa7d777",
   "metadata": {},
   "source": [
    "#### Fisher test fun"
   ]
  },
  {
   "cell_type": "code",
   "execution_count": 6,
   "id": "b3e4c1a7",
   "metadata": {},
   "outputs": [],
   "source": [
    "fisherP <- function(col_num){\n",
    "\ta <- tab[tab[,col_num]!=\"NI\",]\n",
    "\tcms <- matrix(c( \n",
    "\t\tlength(which(a[a$Severity==\"severe\",][,col_num]=='Y')),\n",
    "\t\tlength(which(a[a$Severity==\"severe\",][,col_num]=='N')),\n",
    "\t\tlength(which(a[a$Severity==\"not-severe\",][,col_num]=='Y')),\n",
    "\t\tlength(which(a[a$Severity==\"not-severe\",][,col_num]=='N'))),\n",
    "\tnrow = 2,\n",
    "\tdimnames = list(feature = c(\"Y\", \"N\"),\n",
    "                \tseverity = c(\"Y\", \"N\")))\n",
    "\tp <- fisher.test(cms, alternative = \"two.sided\")$p.value\n",
    "\treturn(p)\n",
    "}"
   ]
  },
  {
   "cell_type": "code",
   "execution_count": 7,
   "id": "4007b1f9",
   "metadata": {},
   "outputs": [],
   "source": [
    "co <- which(1:ncol(tab)!=which(colnames(tab) == \"Severity\"))\n",
    "res <- sapply(co,function(x) fisherP(x))\n",
    "names(res) <- colnames(tab)[co]\n",
    "res <- sort(res)"
   ]
  },
  {
   "cell_type": "markdown",
   "id": "8bf30291",
   "metadata": {},
   "source": [
    "#### Plot Supplementary Figure 1"
   ]
  },
  {
   "cell_type": "code",
   "execution_count": 8,
   "id": "261af12a",
   "metadata": {},
   "outputs": [
    {
     "data": {
      "image/png": "[encoded data removed]",
      "text/plain": [
       "plot without title"
      ]
     },
     "metadata": {},
     "output_type": "display_data"
    }
   ],
   "source": [
    "op <- par(mar=c(15,4,4,4),ps=18)\n",
    "bp <- barplot(res,ylab='p-value',names='')\n",
    "abline(h=0.05,lty='dashed')\n",
    "text(bp,-0.05,names(res),srt=90,xpd=T,adj=1)\n",
    "par(op)"
   ]
  },
  {
   "cell_type": "markdown",
   "id": "4c7ff78f",
   "metadata": {},
   "source": [
    "#### Save to pdf"
   ]
  },
  {
   "cell_type": "code",
   "execution_count": 9,
   "id": "c7ca9c7b",
   "metadata": {},
   "outputs": [
    {
     "data": {
      "text/html": [
       "<strong>png:</strong> 2"
      ],
      "text/latex": [
       "\\textbf{png:} 2"
      ],
      "text/markdown": [
       "**png:** 2"
      ],
      "text/plain": [
       "png \n",
       "  2 "
      ]
     },
     "metadata": {},
     "output_type": "display_data"
    },
    {
     "name": "stdout",
     "output_type": "stream",
     "text": [
      "                    FCV           Shoulder lift               Head lift \n",
      "             0.01282051              0.04189886              0.06233230 \n",
      "               Leg lift                     Sex          Pyridostigmine \n",
      "             0.06233230              0.35634675              0.35634675 \n",
      "        Rise from floor                  Ptosis                     Age \n",
      "             0.40000000              0.61857585              1.00000000 \n",
      " Swallowing dysfunction      Speech dysfunction Respiratory dysfunction \n",
      "             1.00000000              1.00000000              1.00000000 \n"
     ]
    }
   ],
   "source": [
    "pdf('Plots/Fisher_CMS.pdf',width=10)\n",
    "op <- par(mar=c(15,4,4,4),ps=18)\n",
    "bp <- barplot(res,ylab='p-value',names='')\n",
    "abline(h=0.05,lty='dashed')\n",
    "text(bp,-0.05,names(res),srt=90,xpd=T,adj=1)\n",
    "par(op)\n",
    "dev.off()\n",
    "\n",
    "print(res)"
   ]
  },
  {
   "cell_type": "code",
   "execution_count": null,
   "id": "6cf16274",
   "metadata": {},
   "outputs": [],
   "source": []
  }
 ],
 "metadata": {
  "kernelspec": {
   "display_name": "R",
   "language": "R",
   "name": "ir"
  },
  "language_info": {
   "codemirror_mode": "r",
   "file_extension": ".r",
   "mimetype": "text/x-r-source",
   "name": "R",
   "pygments_lexer": "r",
   "version": "3.6.1"
  }
 },
 "nbformat": 4,
 "nbformat_minor": 5
}
