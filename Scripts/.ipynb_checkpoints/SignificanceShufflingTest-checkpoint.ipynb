{
 "cells": [
  {
   "cell_type": "markdown",
   "id": "ed5ce887",
   "metadata": {},
   "source": [
    "#### The following Jupyter Notebook is an adaptation of the 'Figure_4_Plots.ipnyb' Jupyter Notebook. We redo the same analysis, but randomizing the severe / non severe assignments of each patient."
   ]
  },
  {
   "cell_type": "code",
   "execution_count": 1,
   "id": "3d65b3ea",
   "metadata": {},
   "outputs": [],
   "source": [
    "setwd('../')\n"
   ]
  },
  {
   "cell_type": "code",
   "execution_count": 2,
   "id": "6e855c2a",
   "metadata": {},
   "outputs": [],
   "source": [
    "set.seed(2023)"
   ]
  },
  {
   "cell_type": "markdown",
   "id": "ba3f9b0d",
   "metadata": {},
   "source": [
    "#### Setup for severe - non-severe patients"
   ]
  },
  {
   "cell_type": "code",
   "execution_count": 3,
   "id": "b1fc5863",
   "metadata": {
    "scrolled": true
   },
   "outputs": [
    {
     "name": "stderr",
     "output_type": "stream",
     "text": [
      "Loading required package: stats4\n",
      "Loading required package: BiocGenerics\n",
      "Loading required package: parallel\n",
      "\n",
      "Attaching package: ‘BiocGenerics’\n",
      "\n",
      "The following objects are masked from ‘package:parallel’:\n",
      "\n",
      "    clusterApply, clusterApplyLB, clusterCall, clusterEvalQ,\n",
      "    clusterExport, clusterMap, parApply, parCapply, parLapply,\n",
      "    parLapplyLB, parRapply, parSapply, parSapplyLB\n",
      "\n",
      "The following objects are masked from ‘package:stats’:\n",
      "\n",
      "    IQR, mad, sd, var, xtabs\n",
      "\n",
      "The following objects are masked from ‘package:base’:\n",
      "\n",
      "    anyDuplicated, append, as.data.frame, basename, cbind, colnames,\n",
      "    dirname, do.call, duplicated, eval, evalq, Filter, Find, get, grep,\n",
      "    grepl, intersect, is.unsorted, lapply, Map, mapply, match, mget,\n",
      "    order, paste, pmax, pmax.int, pmin, pmin.int, Position, rank,\n",
      "    rbind, Reduce, rownames, sapply, setdiff, sort, table, tapply,\n",
      "    union, unique, unsplit, which, which.max, which.min\n",
      "\n",
      "Loading required package: Biobase\n",
      "Welcome to Bioconductor\n",
      "\n",
      "    Vignettes contain introductory material; view with\n",
      "    'browseVignettes()'. To cite Bioconductor, see\n",
      "    'citation(\"Biobase\")', and for packages 'citation(\"pkgname\")'.\n",
      "\n",
      "Loading required package: IRanges\n",
      "Loading required package: S4Vectors\n",
      "\n",
      "Attaching package: ‘S4Vectors’\n",
      "\n",
      "The following object is masked from ‘package:base’:\n",
      "\n",
      "    expand.grid\n",
      "\n",
      "\n",
      "\n",
      "Attaching package: ‘igraph’\n",
      "\n",
      "The following object is masked from ‘package:IRanges’:\n",
      "\n",
      "    union\n",
      "\n",
      "The following object is masked from ‘package:S4Vectors’:\n",
      "\n",
      "    union\n",
      "\n",
      "The following objects are masked from ‘package:BiocGenerics’:\n",
      "\n",
      "    normalize, path, union\n",
      "\n",
      "The following objects are masked from ‘package:stats’:\n",
      "\n",
      "    decompose, spectrum\n",
      "\n",
      "The following object is masked from ‘package:base’:\n",
      "\n",
      "    union\n",
      "\n"
     ]
    }
   ],
   "source": [
    "phenotype <- \"notsevere\" # \"severe\" for severe-only analysis, \"notsevere\" for non-severe genes.\n",
    "\n",
    "destfile= \"Plots/Figure4_\" #Directory destination and name of the csv and pdf files that will be retrieved as output.\n",
    "\n",
    " \n",
    "#libraries needed:\n",
    "library(\"AnnotationDbi\")\n",
    "library(\"AnnotationDbi\")\n",
    "library(\"org.Hs.eg.db\")\n",
    "library(\"igraph\")\n",
    "library('parallelDist')\n",
    "library('reshape2')"
   ]
  },
  {
   "cell_type": "markdown",
   "id": "f49a1b05",
   "metadata": {},
   "source": [
    "### Read Community structure output files from MolTi"
   ]
  },
  {
   "cell_type": "code",
   "execution_count": 4,
   "id": "c929baf2",
   "metadata": {},
   "outputs": [],
   "source": [
    "cero <- readLines(\"data/MolTi/Community_Analysis/CommunitiesResolution0MultilayerNetwork5112018.csv\")\n",
    "cero <- strsplit(cero,\"\\t\")\n",
    "cerocinco <- readLines(\"data/MolTi/Community_Analysis/CommunitiesResolution05MultilayerNetwork5112018.csv\")\n",
    "cerocinco <- strsplit(cerocinco,\"\\t\")\n",
    "uno <- readLines(\"data/MolTi/Community_Analysis/CommunitiesResolution1MultilayerNetwork5112018.csv\")\n",
    "uno <- strsplit(uno,\"\\t\")\n",
    "unocinco <- readLines(\"data/MolTi/Community_Analysis/CommunitiesResolution15MultilayerNetwork5112018.csv\")\n",
    "unocinco <- strsplit(unocinco,\"\\t\")\n",
    "dos <- readLines(\"data/MolTi/Community_Analysis/CommunitiesResolution2MultilayerNetwork5112018.csv\")\n",
    "dos <- strsplit(dos,\"\\t\")\n",
    "doscinco <- readLines(\"data/MolTi/Community_Analysis/CommunitiesResolution25MultilayerNetwork5112018.csv\")\n",
    "doscinco <- strsplit(doscinco,\"\\t\")\n",
    "tres <- readLines(\"data/MolTi/Community_Analysis/CommunitiesResolution3MultilayerNetwork5112018.csv\")\n",
    "tres <- strsplit(tres,\"\\t\")\n",
    "trescinco <- readLines(\"data/MolTi/Community_Analysis/CommunitiesResolution35MultilayerNetwork5112018.csv\")\n",
    "trescinco <- strsplit(trescinco,\"\\t\")\n",
    "cuatro <- readLines(\"data/MolTi/Community_Analysis/CommunitiesResolution4MultilayerNetwork5112018.csv\")\n",
    "cuatro <- strsplit(cuatro,\"\\t\")"
   ]
  },
  {
   "cell_type": "code",
   "execution_count": 5,
   "id": "6076dfa1",
   "metadata": {},
   "outputs": [],
   "source": [
    "lista_comunidades <- list(cero,cerocinco,uno,unocinco,dos,doscinco,tres,trescinco,cuatro)"
   ]
  },
  {
   "cell_type": "code",
   "execution_count": 6,
   "id": "11334954",
   "metadata": {},
   "outputs": [],
   "source": [
    "lista_componentes <- list()\n",
    "lista_sizes <- list()"
   ]
  },
  {
   "cell_type": "markdown",
   "id": "54d67e0f",
   "metadata": {},
   "source": [
    "##### ~16min run"
   ]
  },
  {
   "cell_type": "code",
   "execution_count": 7,
   "id": "ecdb6a47",
   "metadata": {},
   "outputs": [
    {
     "data": {
      "text/plain": [
       "[1] \"2023-03-20 10:21:07 CET\""
      ]
     },
     "metadata": {},
     "output_type": "display_data"
    }
   ],
   "source": [
    "Sys.time()"
   ]
  },
  {
   "cell_type": "code",
   "execution_count": null,
   "id": "3a8d98ea",
   "metadata": {
    "scrolled": true
   },
   "outputs": [
    {
     "name": "stderr",
     "output_type": "stream",
     "text": [
      "'select()' returned 1:many mapping between keys and columns\n",
      "'select()' returned 1:1 mapping between keys and columns\n",
      "'select()' returned 1:1 mapping between keys and columns\n",
      "'select()' returned 1:1 mapping between keys and columns\n"
     ]
    },
    {
     "name": "stdout",
     "output_type": "stream",
     "text": [
      "[1] 1\n"
     ]
    },
    {
     "name": "stderr",
     "output_type": "stream",
     "text": [
      "2023-03-20 10:21:08\n",
      "'select()' returned 1:many mapping between keys and columns\n",
      "'select()' returned 1:1 mapping between keys and columns\n",
      "'select()' returned 1:1 mapping between keys and columns\n",
      "'select()' returned 1:1 mapping between keys and columns\n"
     ]
    },
    {
     "name": "stdout",
     "output_type": "stream",
     "text": [
      "[1] 2\n"
     ]
    },
    {
     "name": "stderr",
     "output_type": "stream",
     "text": [
      "2023-03-20 10:21:10\n",
      "'select()' returned 1:many mapping between keys and columns\n",
      "'select()' returned 1:1 mapping between keys and columns\n",
      "'select()' returned 1:1 mapping between keys and columns\n",
      "'select()' returned 1:1 mapping between keys and columns\n"
     ]
    },
    {
     "name": "stdout",
     "output_type": "stream",
     "text": [
      "[1] 3\n"
     ]
    },
    {
     "name": "stderr",
     "output_type": "stream",
     "text": [
      "2023-03-20 10:21:12\n",
      "'select()' returned 1:many mapping between keys and columns\n",
      "'select()' returned 1:1 mapping between keys and columns\n",
      "'select()' returned 1:1 mapping between keys and columns\n",
      "'select()' returned 1:1 mapping between keys and columns\n"
     ]
    },
    {
     "name": "stdout",
     "output_type": "stream",
     "text": [
      "[1] 4\n"
     ]
    },
    {
     "name": "stderr",
     "output_type": "stream",
     "text": [
      "2023-03-20 10:21:13\n",
      "'select()' returned 1:many mapping between keys and columns\n",
      "'select()' returned 1:1 mapping between keys and columns\n",
      "'select()' returned 1:1 mapping between keys and columns\n",
      "'select()' returned 1:1 mapping between keys and columns\n"
     ]
    },
    {
     "name": "stdout",
     "output_type": "stream",
     "text": [
      "[1] 5\n"
     ]
    },
    {
     "name": "stderr",
     "output_type": "stream",
     "text": [
      "2023-03-20 10:21:15\n",
      "'select()' returned 1:many mapping between keys and columns\n",
      "'select()' returned 1:1 mapping between keys and columns\n",
      "'select()' returned 1:1 mapping between keys and columns\n",
      "'select()' returned 1:1 mapping between keys and columns\n"
     ]
    },
    {
     "name": "stdout",
     "output_type": "stream",
     "text": [
      "[1] 6\n"
     ]
    },
    {
     "name": "stderr",
     "output_type": "stream",
     "text": [
      "2023-03-20 10:21:17\n",
      "'select()' returned 1:many mapping between keys and columns\n",
      "'select()' returned 1:1 mapping between keys and columns\n",
      "'select()' returned 1:1 mapping between keys and columns\n",
      "'select()' returned 1:1 mapping between keys and columns\n"
     ]
    },
    {
     "name": "stdout",
     "output_type": "stream",
     "text": [
      "[1] 7\n"
     ]
    },
    {
     "name": "stderr",
     "output_type": "stream",
     "text": [
      "2023-03-20 10:21:18\n",
      "'select()' returned 1:many mapping between keys and columns\n",
      "'select()' returned 1:1 mapping between keys and columns\n",
      "'select()' returned 1:1 mapping between keys and columns\n",
      "'select()' returned 1:1 mapping between keys and columns\n"
     ]
    },
    {
     "name": "stdout",
     "output_type": "stream",
     "text": [
      "[1] 8\n"
     ]
    },
    {
     "name": "stderr",
     "output_type": "stream",
     "text": [
      "2023-03-20 10:21:20\n",
      "'select()' returned 1:many mapping between keys and columns\n",
      "'select()' returned 1:1 mapping between keys and columns\n",
      "'select()' returned 1:1 mapping between keys and columns\n",
      "'select()' returned 1:1 mapping between keys and columns\n"
     ]
    },
    {
     "name": "stdout",
     "output_type": "stream",
     "text": [
      "[1] 9\n"
     ]
    },
    {
     "name": "stderr",
     "output_type": "stream",
     "text": [
      "2023-03-20 10:21:22\n",
      "'select()' returned 1:many mapping between keys and columns\n",
      "'select()' returned 1:1 mapping between keys and columns\n",
      "'select()' returned 1:1 mapping between keys and columns\n",
      "'select()' returned 1:1 mapping between keys and columns\n"
     ]
    },
    {
     "name": "stdout",
     "output_type": "stream",
     "text": [
      "[1] 10\n"
     ]
    },
    {
     "name": "stderr",
     "output_type": "stream",
     "text": [
      "2023-03-20 10:21:23\n",
      "'select()' returned 1:many mapping between keys and columns\n",
      "'select()' returned 1:1 mapping between keys and columns\n",
      "'select()' returned 1:1 mapping between keys and columns\n",
      "'select()' returned 1:1 mapping between keys and columns\n"
     ]
    },
    {
     "name": "stdout",
     "output_type": "stream",
     "text": [
      "[1] 11\n"
     ]
    },
    {
     "name": "stderr",
     "output_type": "stream",
     "text": [
      "2023-03-20 10:21:25\n",
      "'select()' returned 1:many mapping between keys and columns\n",
      "'select()' returned 1:1 mapping between keys and columns\n",
      "'select()' returned 1:1 mapping between keys and columns\n",
      "'select()' returned 1:1 mapping between keys and columns\n"
     ]
    },
    {
     "name": "stdout",
     "output_type": "stream",
     "text": [
      "[1] 12\n"
     ]
    },
    {
     "name": "stderr",
     "output_type": "stream",
     "text": [
      "2023-03-20 10:21:27\n",
      "'select()' returned 1:many mapping between keys and columns\n",
      "'select()' returned 1:1 mapping between keys and columns\n",
      "'select()' returned 1:1 mapping between keys and columns\n",
      "'select()' returned 1:1 mapping between keys and columns\n"
     ]
    },
    {
     "name": "stdout",
     "output_type": "stream",
     "text": [
      "[1] 13\n"
     ]
    },
    {
     "name": "stderr",
     "output_type": "stream",
     "text": [
      "2023-03-20 10:21:28\n",
      "'select()' returned 1:many mapping between keys and columns\n",
      "'select()' returned 1:1 mapping between keys and columns\n",
      "'select()' returned 1:1 mapping between keys and columns\n",
      "'select()' returned 1:1 mapping between keys and columns\n"
     ]
    },
    {
     "name": "stdout",
     "output_type": "stream",
     "text": [
      "[1] 14\n"
     ]
    },
    {
     "name": "stderr",
     "output_type": "stream",
     "text": [
      "2023-03-20 10:21:30\n",
      "'select()' returned 1:many mapping between keys and columns\n",
      "'select()' returned 1:1 mapping between keys and columns\n",
      "'select()' returned 1:1 mapping between keys and columns\n",
      "'select()' returned 1:1 mapping between keys and columns\n"
     ]
    },
    {
     "name": "stdout",
     "output_type": "stream",
     "text": [
      "[1] 15\n"
     ]
    },
    {
     "name": "stderr",
     "output_type": "stream",
     "text": [
      "2023-03-20 10:21:31\n",
      "'select()' returned 1:many mapping between keys and columns\n",
      "'select()' returned 1:1 mapping between keys and columns\n",
      "'select()' returned 1:1 mapping between keys and columns\n",
      "'select()' returned 1:1 mapping between keys and columns\n"
     ]
    },
    {
     "name": "stdout",
     "output_type": "stream",
     "text": [
      "[1] 16\n"
     ]
    },
    {
     "name": "stderr",
     "output_type": "stream",
     "text": [
      "2023-03-20 10:21:33\n",
      "'select()' returned 1:many mapping between keys and columns\n",
      "'select()' returned 1:1 mapping between keys and columns\n",
      "'select()' returned 1:1 mapping between keys and columns\n",
      "'select()' returned 1:1 mapping between keys and columns\n"
     ]
    },
    {
     "name": "stdout",
     "output_type": "stream",
     "text": [
      "[1] 17\n"
     ]
    },
    {
     "name": "stderr",
     "output_type": "stream",
     "text": [
      "2023-03-20 10:21:35\n",
      "'select()' returned 1:many mapping between keys and columns\n",
      "'select()' returned 1:1 mapping between keys and columns\n",
      "'select()' returned 1:1 mapping between keys and columns\n",
      "'select()' returned 1:1 mapping between keys and columns\n"
     ]
    },
    {
     "name": "stdout",
     "output_type": "stream",
     "text": [
      "[1] 18\n"
     ]
    },
    {
     "name": "stderr",
     "output_type": "stream",
     "text": [
      "2023-03-20 10:21:37\n",
      "'select()' returned 1:many mapping between keys and columns\n",
      "'select()' returned 1:1 mapping between keys and columns\n",
      "'select()' returned 1:1 mapping between keys and columns\n",
      "'select()' returned 1:1 mapping between keys and columns\n"
     ]
    },
    {
     "name": "stdout",
     "output_type": "stream",
     "text": [
      "[1] 19\n"
     ]
    },
    {
     "name": "stderr",
     "output_type": "stream",
     "text": [
      "2023-03-20 10:21:39\n",
      "'select()' returned 1:many mapping between keys and columns\n",
      "'select()' returned 1:1 mapping between keys and columns\n",
      "'select()' returned 1:1 mapping between keys and columns\n",
      "'select()' returned 1:1 mapping between keys and columns\n"
     ]
    },
    {
     "name": "stdout",
     "output_type": "stream",
     "text": [
      "[1] 20\n"
     ]
    },
    {
     "name": "stderr",
     "output_type": "stream",
     "text": [
      "2023-03-20 10:21:40\n",
      "'select()' returned 1:many mapping between keys and columns\n",
      "'select()' returned 1:1 mapping between keys and columns\n",
      "'select()' returned 1:1 mapping between keys and columns\n",
      "'select()' returned 1:1 mapping between keys and columns\n"
     ]
    },
    {
     "name": "stdout",
     "output_type": "stream",
     "text": [
      "[1] 21\n"
     ]
    },
    {
     "name": "stderr",
     "output_type": "stream",
     "text": [
      "2023-03-20 10:21:42\n",
      "'select()' returned 1:many mapping between keys and columns\n",
      "'select()' returned 1:1 mapping between keys and columns\n",
      "'select()' returned 1:1 mapping between keys and columns\n",
      "'select()' returned 1:1 mapping between keys and columns\n"
     ]
    },
    {
     "name": "stdout",
     "output_type": "stream",
     "text": [
      "[1] 22\n"
     ]
    },
    {
     "name": "stderr",
     "output_type": "stream",
     "text": [
      "2023-03-20 10:21:44\n",
      "'select()' returned 1:many mapping between keys and columns\n",
      "'select()' returned 1:1 mapping between keys and columns\n",
      "'select()' returned 1:1 mapping between keys and columns\n",
      "'select()' returned 1:1 mapping between keys and columns\n"
     ]
    },
    {
     "name": "stdout",
     "output_type": "stream",
     "text": [
      "[1] 23\n"
     ]
    },
    {
     "name": "stderr",
     "output_type": "stream",
     "text": [
      "2023-03-20 10:21:45\n",
      "'select()' returned 1:many mapping between keys and columns\n",
      "'select()' returned 1:1 mapping between keys and columns\n",
      "'select()' returned 1:1 mapping between keys and columns\n",
      "'select()' returned 1:1 mapping between keys and columns\n"
     ]
    },
    {
     "name": "stdout",
     "output_type": "stream",
     "text": [
      "[1] 24\n"
     ]
    },
    {
     "name": "stderr",
     "output_type": "stream",
     "text": [
      "2023-03-20 10:21:47\n",
      "'select()' returned 1:many mapping between keys and columns\n",
      "'select()' returned 1:1 mapping between keys and columns\n",
      "'select()' returned 1:1 mapping between keys and columns\n",
      "'select()' returned 1:1 mapping between keys and columns\n"
     ]
    },
    {
     "name": "stdout",
     "output_type": "stream",
     "text": [
      "[1] 25\n"
     ]
    },
    {
     "name": "stderr",
     "output_type": "stream",
     "text": [
      "2023-03-20 10:21:48\n",
      "'select()' returned 1:many mapping between keys and columns\n",
      "'select()' returned 1:1 mapping between keys and columns\n",
      "'select()' returned 1:1 mapping between keys and columns\n",
      "'select()' returned 1:1 mapping between keys and columns\n"
     ]
    },
    {
     "name": "stdout",
     "output_type": "stream",
     "text": [
      "[1] 26\n"
     ]
    },
    {
     "name": "stderr",
     "output_type": "stream",
     "text": [
      "2023-03-20 10:21:50\n",
      "'select()' returned 1:many mapping between keys and columns\n",
      "'select()' returned 1:1 mapping between keys and columns\n",
      "'select()' returned 1:1 mapping between keys and columns\n",
      "'select()' returned 1:1 mapping between keys and columns\n"
     ]
    },
    {
     "name": "stdout",
     "output_type": "stream",
     "text": [
      "[1] 27\n"
     ]
    },
    {
     "name": "stderr",
     "output_type": "stream",
     "text": [
      "2023-03-20 10:21:52\n",
      "'select()' returned 1:many mapping between keys and columns\n",
      "'select()' returned 1:1 mapping between keys and columns\n",
      "'select()' returned 1:1 mapping between keys and columns\n",
      "'select()' returned 1:1 mapping between keys and columns\n"
     ]
    },
    {
     "name": "stdout",
     "output_type": "stream",
     "text": [
      "[1] 28\n"
     ]
    },
    {
     "name": "stderr",
     "output_type": "stream",
     "text": [
      "2023-03-20 10:21:53\n",
      "'select()' returned 1:many mapping between keys and columns\n",
      "'select()' returned 1:1 mapping between keys and columns\n",
      "'select()' returned 1:1 mapping between keys and columns\n",
      "'select()' returned 1:1 mapping between keys and columns\n"
     ]
    },
    {
     "name": "stdout",
     "output_type": "stream",
     "text": [
      "[1] 29\n"
     ]
    },
    {
     "name": "stderr",
     "output_type": "stream",
     "text": [
      "2023-03-20 10:21:55\n",
      "'select()' returned 1:many mapping between keys and columns\n",
      "'select()' returned 1:1 mapping between keys and columns\n",
      "'select()' returned 1:1 mapping between keys and columns\n",
      "'select()' returned 1:1 mapping between keys and columns\n"
     ]
    },
    {
     "name": "stdout",
     "output_type": "stream",
     "text": [
      "[1] 30\n"
     ]
    },
    {
     "name": "stderr",
     "output_type": "stream",
     "text": [
      "2023-03-20 10:21:57\n",
      "'select()' returned 1:many mapping between keys and columns\n",
      "'select()' returned 1:1 mapping between keys and columns\n",
      "'select()' returned 1:1 mapping between keys and columns\n",
      "'select()' returned 1:1 mapping between keys and columns\n"
     ]
    },
    {
     "name": "stdout",
     "output_type": "stream",
     "text": [
      "[1] 31\n"
     ]
    },
    {
     "name": "stderr",
     "output_type": "stream",
     "text": [
      "2023-03-20 10:21:58\n",
      "'select()' returned 1:many mapping between keys and columns\n",
      "'select()' returned 1:1 mapping between keys and columns\n",
      "'select()' returned 1:1 mapping between keys and columns\n",
      "'select()' returned 1:1 mapping between keys and columns\n"
     ]
    },
    {
     "name": "stdout",
     "output_type": "stream",
     "text": [
      "[1] 32\n"
     ]
    },
    {
     "name": "stderr",
     "output_type": "stream",
     "text": [
      "2023-03-20 10:22:00\n",
      "'select()' returned 1:many mapping between keys and columns\n",
      "'select()' returned 1:1 mapping between keys and columns\n",
      "'select()' returned 1:1 mapping between keys and columns\n"
     ]
    }
   ],
   "source": [
    "for(k in 1:1000){\n",
    "# Load and randomize severe diagnosis for each patient\n",
    "patients2 <- read.table(file= \"data/MolTi/Community_Analysis/originalSevereDiagnosis.csv\",sep= \",\",header= F)\n",
    "patients2[,1] <- as.character(patients2[,1])\n",
    "patients2[,2] <- as.character(patients2[,2])\n",
    "patients2 <- cbind(patients2,0)\n",
    "patients2[,3] <- sample(patients2[,2])\n",
    "\n",
    "#Retrieve specific Compound Heterozygous Mutations for Severe & Non-severe groups\n",
    "    \n",
    "#Compound Heterozygous mutations\n",
    "patients <- read.table(file= \"data/InputGenes/compound_all_nov2018.csv\")\n",
    "patients[,1] <- as.character(patients[,1])\n",
    "patients[,2] <- as.character(patients[,2])\n",
    "patients <- split(patients[,2],patients[,1])\n",
    "severepatients <- patients[which(patients2[,3]==\"severe\")] #Uncomment and comment the next one for randomizing\n",
    "#severepatients <- patients[patients2[,1][which(patients2[,2]==\"severe\")]] ##Uncomment and comment the previous one for the original plot\n",
    "notseverepatients <- patients[which(patients2[,3]==\"notsevere\")] #Uncomment and comment the next one for randomizing\n",
    "#notseverepatients <- patients[patients2[,1][which(patients2[,2]==\"notsevere\")]] #Uncomment and comment the previous one for the original plot\n",
    "severe<- unlist(severepatients)\n",
    "names(severe) <- NULL\n",
    "notsevere <- unlist(notseverepatients)\n",
    "names(notsevere) <- NULL\n",
    "severeonly <- setdiff(severe,notsevere)\n",
    "notsevereonly <- setdiff(notsevere,severe)\n",
    "\n",
    "severepatientsnames <- names(severepatients)\n",
    "notseverepatientsnames <- names(notseverepatients)\n",
    "    \n",
    "# Retrieve specific Copy Number Variations for Severe & Non-severe groups\n",
    "cnvdata <- read.csv(\"data/InputGenes/CNV_genes_for_iker.tsv\",sep= \"\\t\")\n",
    "cnvdata[,\"gene\"] <- as.character(cnvdata[,\"gene\"])\n",
    "genis <- c(cnvdata[\"gene\"])$gene\n",
    "genis <- mapIds(org.Hs.eg.db,keys = genis,column = \"SYMBOL\",keytype=\"ENSEMBL\",multiVals = \"first\")\n",
    "# Manual mapping for missing IDs\n",
    "genis[\"ENSG00000005955\"] <- \"GGNBP2\" \n",
    "genis[\"ENSG00000006114\"] <- \"SYNGR\"\n",
    "genis[\"ENSG00000108264\"] <- \"TADA2A\"\n",
    "genis[\"ENSG00000108270\"] <- \"AATF\"\n",
    "genis[\"ENSG00000108272\"] <- \"DHRS11\"\n",
    "genis[\"ENSG00000108278\"] <- \"ZNHI3\"\n",
    "genis[\"ENSG00000108753\"] <- \"HNF1B\"\n",
    "genis[\"ENSG00000129282\"] <- \"MRM1\"\n",
    "genis[\"ENSG00000132130\"] <- \"LHX1\"\n",
    "genis[\"ENSG00000141140\"] <- \"MYO19\"\n",
    "genis[\"ENSG00000141141\"] <- \"DDX52\"\n",
    "genis[\"ENSG00000161326\"] <- \"DUSP14\"\n",
    "genis[\"ENSG00000167230\"] <- \"C17orf78\"\n",
    "genis[\"ENSG00000174093\"] <- \"RP11-1407O15.2\"\n",
    "genis[\"ENSG00000184886\"] <- \"PIGW\"\n",
    "genis[\"ENSG00000197681\"] <- \"TBC1D3\"\n",
    "genis[\"ENSG00000203815\"] <- \"FAM231D\"\n",
    "genis[\"ENSG00000219492\"] <- \"RP11-1396O31.13\"\n",
    "genis[\"ENSG00000229924\"] <- \"FAM90A26\"\n",
    "genis[\"ENSG00000250913\"] <- \"USP17L23\"\n",
    "genis[\"ENSG00000268172\"] <- \"AL590452.1\"\n",
    "genis <- as.matrix(genis)\n",
    "rownames(genis) <- NULL\n",
    "genis <- genis[,1]\n",
    "cnvdata <- cbind(cnvdata,genis)\n",
    "severedata <- cnvdata[,c(\"gene\",\"whole_gene\",severepatientsnames,\"genis\")]\n",
    "milddata <- cnvdata[,c(\"gene\",\"whole_gene\",notseverepatientsnames,\"genis\")]\n",
    "    \n",
    "severedata <- severedata[apply(X = severedata,MARGIN = 1,function(x) paste0(x[3:10],collapse='_')) != '2_2_2_2_2_2_2_2',]\n",
    "milddata <- milddata[apply(X = milddata,MARGIN = 1,function(x) paste0(x[3:10],collapse='_')) != '2_2_2_2_2_2_2_2',]\n",
    "\n",
    "rownames(severedata) <- NULL\n",
    "rownames(milddata) <- NULL\n",
    "severecnvs <- unique(as.character(severedata[,\"genis\"]))\n",
    "mildcnvs <- unique(as.character(milddata[,\"genis\"]))\n",
    "cnvsevereonly <- setdiff(severecnvs,mildcnvs)\n",
    "cnvsnotsevereonly <- setdiff(mildcnvs,severecnvs)\n",
    "\n",
    "# Load CMS Causal genes\n",
    "cosa <- read.csv(\"data/InputGenes/cmsgenes.csv\",header=FALSE) #http://www.musclegenetable.fr/4DACTION/Blob_groupe2\n",
    "#cosa <- read.csv(\"data/InputGenes/genespaper.csv\",header=FALSE) #Table PMID:30552423\n",
    "cosa <- cosa[,1]\n",
    "cosa <- as.character(cosa)\n",
    "                           \n",
    "# Join causal and mutated genes\n",
    "# Setup depending on severity groups\n",
    "if(phenotype == \"severe\"){\n",
    "  algenes <- c(severeonly,cosa,cnvsevereonly) #Severe-Only Analysis \n",
    "}\n",
    "if(phenotype == \"notsevere\"){\n",
    "  algenes <- c(notsevereonly,cosa,cnvsnotsevereonly) #To get a Mild-Only  Analysis\n",
    "}                        \n",
    "# Solve some missing gene mappings\n",
    "if(\"KIAA1919\" %in% algenes){\n",
    "  algenes <- replace(algenes,algenes== \"KIAA1919\",\"MFSD4B\")\n",
    "}\n",
    "if(\"FAM188B\" %in% algenes){\n",
    "  algenes <- replace(algenes,algenes== \"FAM188B\",\"MINDY4\")\n",
    "}\n",
    "if(\"C14orf159\" %in% algenes){\n",
    "  algenes <- replace(algenes,algenes== \"C14orf159\",\"DGLUCY\")\n",
    "}\n",
    "if(\"C1orf168\" %in% algenes){\n",
    "  algenes <- replace(algenes,algenes== \"C1orf168\",\"FYB2\")\n",
    "}\n",
    "if(\"IKBKAP\" %in% algenes){\n",
    "  algenes <- replace(algenes,algenes== \"IKBKAP\",\"ELP1\")\n",
    "}\n",
    "if(\"SYNGR\" %in% algenes){\n",
    "  algenes <- replace(algenes,algenes== \"SYNGR\",\"SYNGR1\")\n",
    "}\n",
    "if(\"ZNHI3\" %in% algenes){\n",
    "  algenes <- replace(algenes,algenes== \"ZNHI3\",\"ZNHIT3\")\n",
    "}\n",
    "if(\"FAM231D\" %in% algenes){\n",
    "  algenes <- replace(algenes,algenes== \"FAM231D\",\"LINC01145\")\n",
    "}\n",
    "if(\"SELO\" %in% algenes){\n",
    "  algenes <- replace(algenes,algenes== \"SELO\",\"SELENOO\")\n",
    "}\n",
    "if(\"MFSD7\" %in% algenes){\n",
    "  algenes <- replace(algenes,algenes== \"MFSD7\",\"SLC49A3\")\n",
    "}\n",
    "\n",
    "#Convert to entrez\n",
    "algenes2 <- algenes\n",
    "algenes <- mapIds(org.Hs.eg.db,keys = algenes,column = \"ENTREZID\",keytype=\"SYMBOL\",multiVals = \"first\")\n",
    "names(algenes) <- NULL                           \n",
    "\n",
    "# Create a table with the community ID of each gene in 'genescausales' vector.\n",
    "genescausales <- mapIds(org.Hs.eg.db,keys = algenes2,column = \"ENTREZID\",keytype=\"SYMBOL\",multiVals = \"first\")\n",
    "genescausales <- as.matrix(genescausales)\n",
    "rownames(genescausales) <- NULL\n",
    "genescausales <- genescausales[,1]\n",
    "genescausales <- unlist(genescausales) #need this unlist as sometimes R does not create a c() vector with the previous line\n",
    "disease <- genescausales\n",
    "res <- matrix(nrow= length(disease),ncol= 9)\n",
    "rownames(res) <- disease\n",
    "\n",
    "#Remove genes not present on Multilayer network\n",
    "curl <- lapply(as.list(genescausales),function(x) which(sapply(cuatro, function(y) x %in% y)))\n",
    "res <- res[!unlist(lapply(curl,function(x) length(x)==0)),]\n",
    "\n",
    "for(i in 1:9){\n",
    "  current <- unlist(lapply(as.list(rownames(res)),function(x) which(sapply(lista_comunidades[[i]], function(y) x %in% y))))\n",
    "  res[,i] <- current\n",
    "} \n",
    "   \n",
    "#  Generate shared community pertinance graph for randomly produced module                                                                          \n",
    "melted_dist <- as.matrix(parallelDist(res,'hamming',threads = 7)*9)\n",
    "diag(melted_dist) <- NA\n",
    "melted_dist[lower.tri(melted_dist)] <- NA\n",
    "\n",
    "rownames(melted_dist) <- mapIds(org.Hs.eg.db,keys = rownames(melted_dist),column = \"SYMBOL\",keytype=\"ENTREZID\",multiVals = \"first\")\n",
    "colnames(melted_dist) <- rownames(melted_dist)\n",
    "\n",
    "melted_dist <- melt(melted_dist)\n",
    "melted_dist <- melted_dist[melted_dist[,3]==0,] # Get pairs that are always together trough resolution\n",
    "melted_dist <- na.omit(melted_dist)\n",
    "#dim(melted_dist)                                                                         \n",
    "g=simplify(graph_from_edgelist(as.matrix(melted_dist[,1:2]),directed = F))\n",
    "componentes <- components(g)\n",
    "lista_componentes[[k]] <- componentes$membership   \n",
    "lista_sizes[[k]] <- componentes$csize\n",
    "print(k)                                                                           \n",
    "message(Sys.time())\n",
    "}                                                                           "
   ]
  },
  {
   "cell_type": "code",
   "execution_count": null,
   "id": "0c810be8",
   "metadata": {},
   "outputs": [],
   "source": [
    "Sys.time()"
   ]
  },
  {
   "cell_type": "code",
   "execution_count": null,
   "id": "e6b6007d",
   "metadata": {},
   "outputs": [],
   "source": [
    "head(lista_sizes)"
   ]
  },
  {
   "cell_type": "markdown",
   "id": "f6fa1990",
   "metadata": {},
   "source": [
    "#### Check significance of finding Figure 4 modules upon severe / non-severe labelling shuffling"
   ]
  },
  {
   "cell_type": "code",
   "execution_count": null,
   "id": "81d9a4be",
   "metadata": {},
   "outputs": [],
   "source": [
    "if(phenotype=='severe'){\n",
    "    interesting_module <- c('PLEC','VCAN','TNXB','LOXL3','LAMB2','LRP4','HSPG2','LAMA5','COL13A1','TNC','USH2A','LAMA2','CHGB','AGRN','COL15A1')\n",
    "} \n",
    "if(phenotype=='notsevere'){\n",
    "    interesting_module <- c('LRP4','COL6A5','TLL2','MCAM','ADAMTS9','HMCN1','COL13A1','MSR1','LAMB2','LAMB4','LAMA5','ADAM28','PLEC','ITIH5','AGRN')\n",
    "} \n",
    "maximum_per_iter <- c()\n",
    "for(q in 1:length(lista_componentes)){\n",
    "lista_cool <- split(names(lista_componentes[[q]]),lista_componentes[[q]])\n",
    "num <- max(unlist(lapply(lista_cool,function(x) length(interesting_module[interesting_module %in% x]))))\n",
    "maximum_per_iter <- c(maximum_per_iter,num)\n",
    "}                "
   ]
  },
  {
   "cell_type": "code",
   "execution_count": null,
   "id": "bba65d16",
   "metadata": {},
   "outputs": [],
   "source": [
    "length(interesting_module) #15 genes (Severe)"
   ]
  },
  {
   "cell_type": "code",
   "execution_count": null,
   "id": "87200556",
   "metadata": {
    "scrolled": true
   },
   "outputs": [],
   "source": [
    "table(maximum_per_iter)/1000"
   ]
  },
  {
   "cell_type": "markdown",
   "id": "6490adbb",
   "metadata": {},
   "source": [
    "#### Finding a module with 13 or more of these genes is already significant. (p-value = 0.022) (Severe Module)"
   ]
  },
  {
   "cell_type": "markdown",
   "id": "e4216322",
   "metadata": {},
   "source": [
    "#### Finding a module with 13 or more of these genes is already significant. (p-value = ) (Not-severe Module)"
   ]
  },
  {
   "cell_type": "code",
   "execution_count": null,
   "id": "b48677e3",
   "metadata": {},
   "outputs": [],
   "source": []
  }
 ],
 "metadata": {
  "kernelspec": {
   "display_name": "R",
   "language": "R",
   "name": "ir"
  },
  "language_info": {
   "codemirror_mode": "r",
   "file_extension": ".r",
   "mimetype": "text/x-r-source",
   "name": "R",
   "pygments_lexer": "r",
   "version": "3.6.1"
  }
 },
 "nbformat": 4,
 "nbformat_minor": 5
}
