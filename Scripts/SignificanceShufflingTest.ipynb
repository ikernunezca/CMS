{
 "cells": [
  {
   "cell_type": "markdown",
   "id": "ed5ce887",
   "metadata": {},
   "source": [
    "#### The following Jupyter Notebook is an adaptation of the 'Figure_4_Plots.ipnyb' Jupyter Notebook. We redo the same analysis, but randomizing the severe / non severe assignments of each patient."
   ]
  },
  {
   "cell_type": "code",
   "execution_count": 1,
   "id": "3d65b3ea",
   "metadata": {},
   "outputs": [],
   "source": [
    "setwd('../')\n"
   ]
  },
  {
   "cell_type": "code",
   "execution_count": 14,
   "id": "6e855c2a",
   "metadata": {},
   "outputs": [],
   "source": [
    "set.seed(2023) #for reproducibility"
   ]
  },
  {
   "cell_type": "markdown",
   "id": "ba3f9b0d",
   "metadata": {},
   "source": [
    "#### Setup for severe - non-severe patients"
   ]
  },
  {
   "cell_type": "code",
   "execution_count": 3,
   "id": "b1fc5863",
   "metadata": {
    "scrolled": true
   },
   "outputs": [
    {
     "name": "stderr",
     "output_type": "stream",
     "text": [
      "Loading required package: stats4\n",
      "Loading required package: BiocGenerics\n",
      "Loading required package: parallel\n",
      "\n",
      "Attaching package: ‘BiocGenerics’\n",
      "\n",
      "The following objects are masked from ‘package:parallel’:\n",
      "\n",
      "    clusterApply, clusterApplyLB, clusterCall, clusterEvalQ,\n",
      "    clusterExport, clusterMap, parApply, parCapply, parLapply,\n",
      "    parLapplyLB, parRapply, parSapply, parSapplyLB\n",
      "\n",
      "The following objects are masked from ‘package:stats’:\n",
      "\n",
      "    IQR, mad, sd, var, xtabs\n",
      "\n",
      "The following objects are masked from ‘package:base’:\n",
      "\n",
      "    anyDuplicated, append, as.data.frame, basename, cbind, colnames,\n",
      "    dirname, do.call, duplicated, eval, evalq, Filter, Find, get, grep,\n",
      "    grepl, intersect, is.unsorted, lapply, Map, mapply, match, mget,\n",
      "    order, paste, pmax, pmax.int, pmin, pmin.int, Position, rank,\n",
      "    rbind, Reduce, rownames, sapply, setdiff, sort, table, tapply,\n",
      "    union, unique, unsplit, which, which.max, which.min\n",
      "\n",
      "Loading required package: Biobase\n",
      "Welcome to Bioconductor\n",
      "\n",
      "    Vignettes contain introductory material; view with\n",
      "    'browseVignettes()'. To cite Bioconductor, see\n",
      "    'citation(\"Biobase\")', and for packages 'citation(\"pkgname\")'.\n",
      "\n",
      "Loading required package: IRanges\n",
      "Loading required package: S4Vectors\n",
      "\n",
      "Attaching package: ‘S4Vectors’\n",
      "\n",
      "The following object is masked from ‘package:base’:\n",
      "\n",
      "    expand.grid\n",
      "\n",
      "\n",
      "\n",
      "Attaching package: ‘igraph’\n",
      "\n",
      "The following object is masked from ‘package:IRanges’:\n",
      "\n",
      "    union\n",
      "\n",
      "The following object is masked from ‘package:S4Vectors’:\n",
      "\n",
      "    union\n",
      "\n",
      "The following objects are masked from ‘package:BiocGenerics’:\n",
      "\n",
      "    normalize, path, union\n",
      "\n",
      "The following objects are masked from ‘package:stats’:\n",
      "\n",
      "    decompose, spectrum\n",
      "\n",
      "The following object is masked from ‘package:base’:\n",
      "\n",
      "    union\n",
      "\n"
     ]
    }
   ],
   "source": [
    "phenotype <- \"severe\" # \"severe\" for severe-only analysis, \"notsevere\" for non-severe genes.\n",
    "\n",
    "destfile= \"Plots/Figure4_\" #Directory destination and name of the csv and pdf files that will be retrieved as output.\n",
    "\n",
    " \n",
    "#libraries needed:\n",
    "library(\"AnnotationDbi\")\n",
    "library(\"AnnotationDbi\")\n",
    "library(\"org.Hs.eg.db\")\n",
    "library(\"igraph\")\n",
    "library('parallelDist')\n",
    "library('reshape2')"
   ]
  },
  {
   "cell_type": "markdown",
   "id": "f49a1b05",
   "metadata": {},
   "source": [
    "### Read Community structure output files from MolTi"
   ]
  },
  {
   "cell_type": "code",
   "execution_count": 4,
   "id": "c929baf2",
   "metadata": {},
   "outputs": [],
   "source": [
    "cero <- readLines(\"data/MolTi/Community_Analysis/CommunitiesResolution0MultilayerNetwork5112018.csv\")\n",
    "cero <- strsplit(cero,\"\\t\")\n",
    "cerocinco <- readLines(\"data/MolTi/Community_Analysis/CommunitiesResolution05MultilayerNetwork5112018.csv\")\n",
    "cerocinco <- strsplit(cerocinco,\"\\t\")\n",
    "uno <- readLines(\"data/MolTi/Community_Analysis/CommunitiesResolution1MultilayerNetwork5112018.csv\")\n",
    "uno <- strsplit(uno,\"\\t\")\n",
    "unocinco <- readLines(\"data/MolTi/Community_Analysis/CommunitiesResolution15MultilayerNetwork5112018.csv\")\n",
    "unocinco <- strsplit(unocinco,\"\\t\")\n",
    "dos <- readLines(\"data/MolTi/Community_Analysis/CommunitiesResolution2MultilayerNetwork5112018.csv\")\n",
    "dos <- strsplit(dos,\"\\t\")\n",
    "doscinco <- readLines(\"data/MolTi/Community_Analysis/CommunitiesResolution25MultilayerNetwork5112018.csv\")\n",
    "doscinco <- strsplit(doscinco,\"\\t\")\n",
    "tres <- readLines(\"data/MolTi/Community_Analysis/CommunitiesResolution3MultilayerNetwork5112018.csv\")\n",
    "tres <- strsplit(tres,\"\\t\")\n",
    "trescinco <- readLines(\"data/MolTi/Community_Analysis/CommunitiesResolution35MultilayerNetwork5112018.csv\")\n",
    "trescinco <- strsplit(trescinco,\"\\t\")\n",
    "cuatro <- readLines(\"data/MolTi/Community_Analysis/CommunitiesResolution4MultilayerNetwork5112018.csv\")\n",
    "cuatro <- strsplit(cuatro,\"\\t\")"
   ]
  },
  {
   "cell_type": "code",
   "execution_count": 5,
   "id": "6076dfa1",
   "metadata": {},
   "outputs": [],
   "source": [
    "lista_comunidades <- list(cero,cerocinco,uno,unocinco,dos,doscinco,tres,trescinco,cuatro)"
   ]
  },
  {
   "cell_type": "code",
   "execution_count": 6,
   "id": "11334954",
   "metadata": {},
   "outputs": [],
   "source": [
    "lista_componentes <- list()\n",
    "lista_sizes <- list()"
   ]
  },
  {
   "cell_type": "markdown",
   "id": "54d67e0f",
   "metadata": {},
   "source": [
    "##### ~16min run"
   ]
  },
  {
   "cell_type": "code",
   "execution_count": 7,
   "id": "ecdb6a47",
   "metadata": {},
   "outputs": [
    {
     "data": {
      "text/plain": [
       "[1] \"2023-03-20 11:15:18 CET\""
      ]
     },
     "metadata": {},
     "output_type": "display_data"
    }
   ],
   "source": [
    "Sys.time()"
   ]
  },
  {
   "cell_type": "code",
   "execution_count": 8,
   "id": "3a8d98ea",
   "metadata": {
    "scrolled": true
   },
   "outputs": [
    {
     "name": "stderr",
     "output_type": "stream",
     "text": [
      "'select()' returned 1:many mapping between keys and columns\n",
      "'select()' returned 1:1 mapping between keys and columns\n",
      "'select()' returned 1:1 mapping between keys and columns\n",
      "'select()' returned 1:1 mapping between keys and columns\n"
     ]
    },
    {
     "name": "stdout",
     "output_type": "stream",
     "text": [
      "[1] 1\n"
     ]
    },
    {
     "name": "stderr",
     "output_type": "stream",
     "text": [
      "2023-03-20 11:15:20\n",
      "'select()' returned 1:many mapping between keys and columns\n",
      "'select()' returned 1:1 mapping between keys and columns\n",
      "'select()' returned 1:1 mapping between keys and columns\n",
      "'select()' returned 1:1 mapping between keys and columns\n"
     ]
    },
    {
     "name": "stdout",
     "output_type": "stream",
     "text": [
      "[1] 2\n"
     ]
    },
    {
     "name": "stderr",
     "output_type": "stream",
     "text": [
      "2023-03-20 11:15:21\n",
      "'select()' returned 1:many mapping between keys and columns\n",
      "'select()' returned 1:1 mapping between keys and columns\n",
      "'select()' returned 1:1 mapping between keys and columns\n",
      "'select()' returned 1:1 mapping between keys and columns\n"
     ]
    },
    {
     "name": "stdout",
     "output_type": "stream",
     "text": [
      "[1] 3\n"
     ]
    },
    {
     "name": "stderr",
     "output_type": "stream",
     "text": [
      "2023-03-20 11:15:22\n",
      "'select()' returned 1:many mapping between keys and columns\n",
      "'select()' returned 1:1 mapping between keys and columns\n",
      "'select()' returned 1:1 mapping between keys and columns\n",
      "'select()' returned 1:1 mapping between keys and columns\n"
     ]
    },
    {
     "name": "stdout",
     "output_type": "stream",
     "text": [
      "[1] 4\n"
     ]
    },
    {
     "name": "stderr",
     "output_type": "stream",
     "text": [
      "2023-03-20 11:15:24\n",
      "'select()' returned 1:many mapping between keys and columns\n",
      "'select()' returned 1:1 mapping between keys and columns\n",
      "'select()' returned 1:1 mapping between keys and columns\n",
      "'select()' returned 1:1 mapping between keys and columns\n"
     ]
    },
    {
     "name": "stdout",
     "output_type": "stream",
     "text": [
      "[1] 5\n"
     ]
    },
    {
     "name": "stderr",
     "output_type": "stream",
     "text": [
      "2023-03-20 11:15:25\n",
      "'select()' returned 1:many mapping between keys and columns\n",
      "'select()' returned 1:1 mapping between keys and columns\n",
      "'select()' returned 1:1 mapping between keys and columns\n",
      "'select()' returned 1:1 mapping between keys and columns\n"
     ]
    },
    {
     "name": "stdout",
     "output_type": "stream",
     "text": [
      "[1] 6\n"
     ]
    },
    {
     "name": "stderr",
     "output_type": "stream",
     "text": [
      "2023-03-20 11:15:27\n",
      "'select()' returned 1:many mapping between keys and columns\n",
      "'select()' returned 1:1 mapping between keys and columns\n",
      "'select()' returned 1:1 mapping between keys and columns\n",
      "'select()' returned 1:1 mapping between keys and columns\n"
     ]
    },
    {
     "name": "stdout",
     "output_type": "stream",
     "text": [
      "[1] 7\n"
     ]
    },
    {
     "name": "stderr",
     "output_type": "stream",
     "text": [
      "2023-03-20 11:15:28\n",
      "'select()' returned 1:many mapping between keys and columns\n",
      "'select()' returned 1:1 mapping between keys and columns\n",
      "'select()' returned 1:1 mapping between keys and columns\n",
      "'select()' returned 1:1 mapping between keys and columns\n"
     ]
    },
    {
     "name": "stdout",
     "output_type": "stream",
     "text": [
      "[1] 8\n"
     ]
    },
    {
     "name": "stderr",
     "output_type": "stream",
     "text": [
      "2023-03-20 11:15:29\n",
      "'select()' returned 1:many mapping between keys and columns\n",
      "'select()' returned 1:1 mapping between keys and columns\n",
      "'select()' returned 1:1 mapping between keys and columns\n",
      "'select()' returned 1:1 mapping between keys and columns\n"
     ]
    },
    {
     "name": "stdout",
     "output_type": "stream",
     "text": [
      "[1] 9\n"
     ]
    },
    {
     "name": "stderr",
     "output_type": "stream",
     "text": [
      "2023-03-20 11:15:31\n",
      "'select()' returned 1:many mapping between keys and columns\n",
      "'select()' returned 1:1 mapping between keys and columns\n",
      "'select()' returned 1:1 mapping between keys and columns\n",
      "'select()' returned 1:1 mapping between keys and columns\n"
     ]
    },
    {
     "name": "stdout",
     "output_type": "stream",
     "text": [
      "[1] 10\n"
     ]
    },
    {
     "name": "stderr",
     "output_type": "stream",
     "text": [
      "2023-03-20 11:15:32\n",
      "'select()' returned 1:many mapping between keys and columns\n",
      "'select()' returned 1:1 mapping between keys and columns\n",
      "'select()' returned 1:1 mapping between keys and columns\n",
      "'select()' returned 1:1 mapping between keys and columns\n"
     ]
    },
    {
     "name": "stdout",
     "output_type": "stream",
     "text": [
      "[1] 11\n"
     ]
    },
    {
     "name": "stderr",
     "output_type": "stream",
     "text": [
      "2023-03-20 11:15:34\n",
      "'select()' returned 1:many mapping between keys and columns\n",
      "'select()' returned 1:1 mapping between keys and columns\n",
      "'select()' returned 1:1 mapping between keys and columns\n",
      "'select()' returned 1:1 mapping between keys and columns\n"
     ]
    },
    {
     "name": "stdout",
     "output_type": "stream",
     "text": [
      "[1] 12\n"
     ]
    },
    {
     "name": "stderr",
     "output_type": "stream",
     "text": [
      "2023-03-20 11:15:35\n",
      "'select()' returned 1:many mapping between keys and columns\n",
      "'select()' returned 1:1 mapping between keys and columns\n",
      "'select()' returned 1:1 mapping between keys and columns\n",
      "'select()' returned 1:1 mapping between keys and columns\n"
     ]
    },
    {
     "name": "stdout",
     "output_type": "stream",
     "text": [
      "[1] 13\n"
     ]
    },
    {
     "name": "stderr",
     "output_type": "stream",
     "text": [
      "2023-03-20 11:15:36\n",
      "'select()' returned 1:many mapping between keys and columns\n",
      "'select()' returned 1:1 mapping between keys and columns\n",
      "'select()' returned 1:1 mapping between keys and columns\n",
      "'select()' returned 1:1 mapping between keys and columns\n"
     ]
    },
    {
     "name": "stdout",
     "output_type": "stream",
     "text": [
      "[1] 14\n"
     ]
    },
    {
     "name": "stderr",
     "output_type": "stream",
     "text": [
      "2023-03-20 11:15:38\n",
      "'select()' returned 1:many mapping between keys and columns\n",
      "'select()' returned 1:1 mapping between keys and columns\n",
      "'select()' returned 1:1 mapping between keys and columns\n",
      "'select()' returned 1:1 mapping between keys and columns\n"
     ]
    },
    {
     "name": "stdout",
     "output_type": "stream",
     "text": [
      "[1] 15\n"
     ]
    },
    {
     "name": "stderr",
     "output_type": "stream",
     "text": [
      "2023-03-20 11:15:39\n",
      "'select()' returned 1:many mapping between keys and columns\n",
      "'select()' returned 1:1 mapping between keys and columns\n",
      "'select()' returned 1:1 mapping between keys and columns\n",
      "'select()' returned 1:1 mapping between keys and columns\n"
     ]
    },
    {
     "name": "stdout",
     "output_type": "stream",
     "text": [
      "[1] 16\n"
     ]
    },
    {
     "name": "stderr",
     "output_type": "stream",
     "text": [
      "2023-03-20 11:15:41\n",
      "'select()' returned 1:many mapping between keys and columns\n",
      "'select()' returned 1:1 mapping between keys and columns\n",
      "'select()' returned 1:1 mapping between keys and columns\n",
      "'select()' returned 1:1 mapping between keys and columns\n"
     ]
    },
    {
     "name": "stdout",
     "output_type": "stream",
     "text": [
      "[1] 17\n"
     ]
    },
    {
     "name": "stderr",
     "output_type": "stream",
     "text": [
      "2023-03-20 11:15:42\n",
      "'select()' returned 1:many mapping between keys and columns\n",
      "'select()' returned 1:1 mapping between keys and columns\n",
      "'select()' returned 1:1 mapping between keys and columns\n",
      "'select()' returned 1:1 mapping between keys and columns\n"
     ]
    },
    {
     "name": "stdout",
     "output_type": "stream",
     "text": [
      "[1] 18\n"
     ]
    },
    {
     "name": "stderr",
     "output_type": "stream",
     "text": [
      "2023-03-20 11:15:44\n",
      "'select()' returned 1:many mapping between keys and columns\n",
      "'select()' returned 1:1 mapping between keys and columns\n",
      "'select()' returned 1:1 mapping between keys and columns\n",
      "'select()' returned 1:1 mapping between keys and columns\n"
     ]
    },
    {
     "name": "stdout",
     "output_type": "stream",
     "text": [
      "[1] 19\n"
     ]
    },
    {
     "name": "stderr",
     "output_type": "stream",
     "text": [
      "2023-03-20 11:15:45\n",
      "'select()' returned 1:many mapping between keys and columns\n",
      "'select()' returned 1:1 mapping between keys and columns\n",
      "'select()' returned 1:1 mapping between keys and columns\n",
      "'select()' returned 1:1 mapping between keys and columns\n"
     ]
    },
    {
     "name": "stdout",
     "output_type": "stream",
     "text": [
      "[1] 20\n"
     ]
    },
    {
     "name": "stderr",
     "output_type": "stream",
     "text": [
      "2023-03-20 11:15:47\n",
      "'select()' returned 1:many mapping between keys and columns\n",
      "'select()' returned 1:1 mapping between keys and columns\n",
      "'select()' returned 1:1 mapping between keys and columns\n",
      "'select()' returned 1:1 mapping between keys and columns\n"
     ]
    },
    {
     "name": "stdout",
     "output_type": "stream",
     "text": [
      "[1] 21\n"
     ]
    },
    {
     "name": "stderr",
     "output_type": "stream",
     "text": [
      "2023-03-20 11:15:48\n",
      "'select()' returned 1:many mapping between keys and columns\n",
      "'select()' returned 1:1 mapping between keys and columns\n",
      "'select()' returned 1:1 mapping between keys and columns\n",
      "'select()' returned 1:1 mapping between keys and columns\n"
     ]
    },
    {
     "name": "stdout",
     "output_type": "stream",
     "text": [
      "[1] 22\n"
     ]
    },
    {
     "name": "stderr",
     "output_type": "stream",
     "text": [
      "2023-03-20 11:15:49\n",
      "'select()' returned 1:many mapping between keys and columns\n",
      "'select()' returned 1:1 mapping between keys and columns\n",
      "'select()' returned 1:1 mapping between keys and columns\n",
      "'select()' returned 1:1 mapping between keys and columns\n"
     ]
    },
    {
     "name": "stdout",
     "output_type": "stream",
     "text": [
      "[1] 23\n"
     ]
    },
    {
     "name": "stderr",
     "output_type": "stream",
     "text": [
      "2023-03-20 11:15:51\n",
      "'select()' returned 1:many mapping between keys and columns\n",
      "'select()' returned 1:1 mapping between keys and columns\n",
      "'select()' returned 1:1 mapping between keys and columns\n",
      "'select()' returned 1:1 mapping between keys and columns\n"
     ]
    },
    {
     "name": "stdout",
     "output_type": "stream",
     "text": [
      "[1] 24\n"
     ]
    },
    {
     "name": "stderr",
     "output_type": "stream",
     "text": [
      "2023-03-20 11:15:52\n",
      "'select()' returned 1:many mapping between keys and columns\n",
      "'select()' returned 1:1 mapping between keys and columns\n",
      "'select()' returned 1:1 mapping between keys and columns\n",
      "'select()' returned 1:1 mapping between keys and columns\n"
     ]
    },
    {
     "name": "stdout",
     "output_type": "stream",
     "text": [
      "[1] 25\n"
     ]
    },
    {
     "name": "stderr",
     "output_type": "stream",
     "text": [
      "2023-03-20 11:15:53\n",
      "'select()' returned 1:many mapping between keys and columns\n",
      "'select()' returned 1:1 mapping between keys and columns\n",
      "'select()' returned 1:1 mapping between keys and columns\n",
      "'select()' returned 1:1 mapping between keys and columns\n"
     ]
    },
    {
     "name": "stdout",
     "output_type": "stream",
     "text": [
      "[1] 26\n"
     ]
    },
    {
     "name": "stderr",
     "output_type": "stream",
     "text": [
      "2023-03-20 11:15:55\n",
      "'select()' returned 1:many mapping between keys and columns\n",
      "'select()' returned 1:1 mapping between keys and columns\n",
      "'select()' returned 1:1 mapping between keys and columns\n",
      "'select()' returned 1:1 mapping between keys and columns\n"
     ]
    },
    {
     "name": "stdout",
     "output_type": "stream",
     "text": [
      "[1] 27\n"
     ]
    },
    {
     "name": "stderr",
     "output_type": "stream",
     "text": [
      "2023-03-20 11:15:56\n",
      "'select()' returned 1:many mapping between keys and columns\n",
      "'select()' returned 1:1 mapping between keys and columns\n",
      "'select()' returned 1:1 mapping between keys and columns\n",
      "'select()' returned 1:1 mapping between keys and columns\n"
     ]
    },
    {
     "name": "stdout",
     "output_type": "stream",
     "text": [
      "[1] 28\n"
     ]
    },
    {
     "name": "stderr",
     "output_type": "stream",
     "text": [
      "2023-03-20 11:15:58\n",
      "'select()' returned 1:many mapping between keys and columns\n",
      "'select()' returned 1:1 mapping between keys and columns\n",
      "'select()' returned 1:1 mapping between keys and columns\n",
      "'select()' returned 1:1 mapping between keys and columns\n"
     ]
    },
    {
     "name": "stdout",
     "output_type": "stream",
     "text": [
      "[1] 29\n"
     ]
    },
    {
     "name": "stderr",
     "output_type": "stream",
     "text": [
      "2023-03-20 11:15:59\n",
      "'select()' returned 1:many mapping between keys and columns\n",
      "'select()' returned 1:1 mapping between keys and columns\n",
      "'select()' returned 1:1 mapping between keys and columns\n",
      "'select()' returned 1:1 mapping between keys and columns\n"
     ]
    },
    {
     "name": "stdout",
     "output_type": "stream",
     "text": [
      "[1] 30\n"
     ]
    },
    {
     "name": "stderr",
     "output_type": "stream",
     "text": [
      "2023-03-20 11:16:01\n",
      "'select()' returned 1:many mapping between keys and columns\n",
      "'select()' returned 1:1 mapping between keys and columns\n",
      "'select()' returned 1:1 mapping between keys and columns\n",
      "'select()' returned 1:1 mapping between keys and columns\n"
     ]
    },
    {
     "name": "stdout",
     "output_type": "stream",
     "text": [
      "[1] 31\n"
     ]
    },
    {
     "name": "stderr",
     "output_type": "stream",
     "text": [
      "2023-03-20 11:16:02\n",
      "'select()' returned 1:many mapping between keys and columns\n",
      "'select()' returned 1:1 mapping between keys and columns\n",
      "'select()' returned 1:1 mapping between keys and columns\n",
      "'select()' returned 1:1 mapping between keys and columns\n"
     ]
    },
    {
     "name": "stdout",
     "output_type": "stream",
     "text": [
      "[1] 32\n"
     ]
    },
    {
     "name": "stderr",
     "output_type": "stream",
     "text": [
      "2023-03-20 11:16:04\n",
      "'select()' returned 1:many mapping between keys and columns\n",
      "'select()' returned 1:1 mapping between keys and columns\n",
      "'select()' returned 1:1 mapping between keys and columns\n",
      "'select()' returned 1:1 mapping between keys and columns\n"
     ]
    },
    {
     "name": "stdout",
     "output_type": "stream",
     "text": [
      "[1] 33\n"
     ]
    },
    {
     "name": "stderr",
     "output_type": "stream",
     "text": [
      "2023-03-20 11:16:05\n",
      "'select()' returned 1:many mapping between keys and columns\n",
      "'select()' returned 1:1 mapping between keys and columns\n",
      "'select()' returned 1:1 mapping between keys and columns\n",
      "'select()' returned 1:1 mapping between keys and columns\n"
     ]
    },
    {
     "name": "stdout",
     "output_type": "stream",
     "text": [
      "[1] 34\n"
     ]
    },
    {
     "name": "stderr",
     "output_type": "stream",
     "text": [
      "2023-03-20 11:16:07\n",
      "'select()' returned 1:many mapping between keys and columns\n",
      "'select()' returned 1:1 mapping between keys and columns\n",
      "'select()' returned 1:1 mapping between keys and columns\n",
      "'select()' returned 1:1 mapping between keys and columns\n"
     ]
    },
    {
     "name": "stdout",
     "output_type": "stream",
     "text": [
      "[1] 35\n"
     ]
    },
    {
     "name": "stderr",
     "output_type": "stream",
     "text": [
      "2023-03-20 11:16:08\n",
      "'select()' returned 1:many mapping between keys and columns\n",
      "'select()' returned 1:1 mapping between keys and columns\n",
      "'select()' returned 1:1 mapping between keys and columns\n",
      "'select()' returned 1:1 mapping between keys and columns\n"
     ]
    },
    {
     "name": "stdout",
     "output_type": "stream",
     "text": [
      "[1] 36\n"
     ]
    },
    {
     "name": "stderr",
     "output_type": "stream",
     "text": [
      "2023-03-20 11:16:10\n",
      "'select()' returned 1:many mapping between keys and columns\n",
      "'select()' returned 1:1 mapping between keys and columns\n",
      "'select()' returned 1:1 mapping between keys and columns\n",
      "'select()' returned 1:1 mapping between keys and columns\n"
     ]
    },
    {
     "name": "stdout",
     "output_type": "stream",
     "text": [
      "[1] 37\n"
     ]
    },
    {
     "name": "stderr",
     "output_type": "stream",
     "text": [
      "2023-03-20 11:16:11\n",
      "'select()' returned 1:many mapping between keys and columns\n",
      "'select()' returned 1:1 mapping between keys and columns\n",
      "'select()' returned 1:1 mapping between keys and columns\n",
      "'select()' returned 1:1 mapping between keys and columns\n"
     ]
    },
    {
     "name": "stdout",
     "output_type": "stream",
     "text": [
      "[1] 38\n"
     ]
    },
    {
     "name": "stderr",
     "output_type": "stream",
     "text": [
      "2023-03-20 11:16:12\n",
      "'select()' returned 1:many mapping between keys and columns\n",
      "'select()' returned 1:1 mapping between keys and columns\n",
      "'select()' returned 1:1 mapping between keys and columns\n",
      "'select()' returned 1:1 mapping between keys and columns\n"
     ]
    },
    {
     "name": "stdout",
     "output_type": "stream",
     "text": [
      "[1] 39\n"
     ]
    },
    {
     "name": "stderr",
     "output_type": "stream",
     "text": [
      "2023-03-20 11:16:14\n",
      "'select()' returned 1:many mapping between keys and columns\n",
      "'select()' returned 1:1 mapping between keys and columns\n",
      "'select()' returned 1:1 mapping between keys and columns\n",
      "'select()' returned 1:1 mapping between keys and columns\n"
     ]
    },
    {
     "name": "stdout",
     "output_type": "stream",
     "text": [
      "[1] 40\n"
     ]
    },
    {
     "name": "stderr",
     "output_type": "stream",
     "text": [
      "2023-03-20 11:16:15\n",
      "'select()' returned 1:many mapping between keys and columns\n",
      "'select()' returned 1:1 mapping between keys and columns\n",
      "'select()' returned 1:1 mapping between keys and columns\n",
      "'select()' returned 1:1 mapping between keys and columns\n"
     ]
    },
    {
     "name": "stdout",
     "output_type": "stream",
     "text": [
      "[1] 41\n"
     ]
    },
    {
     "name": "stderr",
     "output_type": "stream",
     "text": [
      "2023-03-20 11:16:17\n",
      "'select()' returned 1:many mapping between keys and columns\n",
      "'select()' returned 1:1 mapping between keys and columns\n",
      "'select()' returned 1:1 mapping between keys and columns\n",
      "'select()' returned 1:1 mapping between keys and columns\n"
     ]
    },
    {
     "name": "stdout",
     "output_type": "stream",
     "text": [
      "[1] 42\n"
     ]
    },
    {
     "name": "stderr",
     "output_type": "stream",
     "text": [
      "2023-03-20 11:16:18\n",
      "'select()' returned 1:many mapping between keys and columns\n",
      "'select()' returned 1:1 mapping between keys and columns\n",
      "'select()' returned 1:1 mapping between keys and columns\n",
      "'select()' returned 1:1 mapping between keys and columns\n"
     ]
    },
    {
     "name": "stdout",
     "output_type": "stream",
     "text": [
      "[1] 43\n"
     ]
    },
    {
     "name": "stderr",
     "output_type": "stream",
     "text": [
      "2023-03-20 11:16:19\n",
      "'select()' returned 1:many mapping between keys and columns\n",
      "'select()' returned 1:1 mapping between keys and columns\n",
      "'select()' returned 1:1 mapping between keys and columns\n",
      "'select()' returned 1:1 mapping between keys and columns\n"
     ]
    },
    {
     "name": "stdout",
     "output_type": "stream",
     "text": [
      "[1] 44\n"
     ]
    },
    {
     "name": "stderr",
     "output_type": "stream",
     "text": [
      "2023-03-20 11:16:21\n",
      "'select()' returned 1:many mapping between keys and columns\n",
      "'select()' returned 1:1 mapping between keys and columns\n",
      "'select()' returned 1:1 mapping between keys and columns\n",
      "'select()' returned 1:1 mapping between keys and columns\n"
     ]
    },
    {
     "name": "stdout",
     "output_type": "stream",
     "text": [
      "[1] 45\n"
     ]
    },
    {
     "name": "stderr",
     "output_type": "stream",
     "text": [
      "2023-03-20 11:16:22\n",
      "'select()' returned 1:many mapping between keys and columns\n",
      "'select()' returned 1:1 mapping between keys and columns\n",
      "'select()' returned 1:1 mapping between keys and columns\n",
      "'select()' returned 1:1 mapping between keys and columns\n"
     ]
    },
    {
     "name": "stdout",
     "output_type": "stream",
     "text": [
      "[1] 46\n"
     ]
    },
    {
     "name": "stderr",
     "output_type": "stream",
     "text": [
      "2023-03-20 11:16:24\n",
      "'select()' returned 1:many mapping between keys and columns\n",
      "'select()' returned 1:1 mapping between keys and columns\n",
      "'select()' returned 1:1 mapping between keys and columns\n",
      "'select()' returned 1:1 mapping between keys and columns\n"
     ]
    },
    {
     "name": "stdout",
     "output_type": "stream",
     "text": [
      "[1] 47\n"
     ]
    },
    {
     "name": "stderr",
     "output_type": "stream",
     "text": [
      "2023-03-20 11:16:25\n",
      "'select()' returned 1:many mapping between keys and columns\n",
      "'select()' returned 1:1 mapping between keys and columns\n",
      "'select()' returned 1:1 mapping between keys and columns\n",
      "'select()' returned 1:1 mapping between keys and columns\n"
     ]
    },
    {
     "name": "stdout",
     "output_type": "stream",
     "text": [
      "[1] 48\n"
     ]
    },
    {
     "name": "stderr",
     "output_type": "stream",
     "text": [
      "2023-03-20 11:16:27\n",
      "'select()' returned 1:many mapping between keys and columns\n",
      "'select()' returned 1:1 mapping between keys and columns\n",
      "'select()' returned 1:1 mapping between keys and columns\n",
      "'select()' returned 1:1 mapping between keys and columns\n"
     ]
    },
    {
     "name": "stdout",
     "output_type": "stream",
     "text": [
      "[1] 49\n"
     ]
    },
    {
     "name": "stderr",
     "output_type": "stream",
     "text": [
      "2023-03-20 11:16:28\n",
      "'select()' returned 1:many mapping between keys and columns\n",
      "'select()' returned 1:1 mapping between keys and columns\n",
      "'select()' returned 1:1 mapping between keys and columns\n",
      "'select()' returned 1:1 mapping between keys and columns\n"
     ]
    },
    {
     "name": "stdout",
     "output_type": "stream",
     "text": [
      "[1] 50\n"
     ]
    },
    {
     "name": "stderr",
     "output_type": "stream",
     "text": [
      "2023-03-20 11:16:30\n",
      "'select()' returned 1:many mapping between keys and columns\n",
      "'select()' returned 1:1 mapping between keys and columns\n",
      "'select()' returned 1:1 mapping between keys and columns\n",
      "'select()' returned 1:1 mapping between keys and columns\n"
     ]
    },
    {
     "name": "stdout",
     "output_type": "stream",
     "text": [
      "[1] 51\n"
     ]
    },
    {
     "name": "stderr",
     "output_type": "stream",
     "text": [
      "2023-03-20 11:16:31\n",
      "'select()' returned 1:many mapping between keys and columns\n",
      "'select()' returned 1:1 mapping between keys and columns\n",
      "'select()' returned 1:1 mapping between keys and columns\n",
      "'select()' returned 1:1 mapping between keys and columns\n"
     ]
    },
    {
     "name": "stdout",
     "output_type": "stream",
     "text": [
      "[1] 52\n"
     ]
    },
    {
     "name": "stderr",
     "output_type": "stream",
     "text": [
      "2023-03-20 11:16:32\n",
      "'select()' returned 1:many mapping between keys and columns\n",
      "'select()' returned 1:1 mapping between keys and columns\n",
      "'select()' returned 1:1 mapping between keys and columns\n",
      "'select()' returned 1:1 mapping between keys and columns\n"
     ]
    },
    {
     "name": "stdout",
     "output_type": "stream",
     "text": [
      "[1] 53\n"
     ]
    },
    {
     "name": "stderr",
     "output_type": "stream",
     "text": [
      "2023-03-20 11:16:34\n",
      "'select()' returned 1:many mapping between keys and columns\n",
      "'select()' returned 1:1 mapping between keys and columns\n",
      "'select()' returned 1:1 mapping between keys and columns\n",
      "'select()' returned 1:1 mapping between keys and columns\n"
     ]
    },
    {
     "name": "stdout",
     "output_type": "stream",
     "text": [
      "[1] 54\n"
     ]
    },
    {
     "name": "stderr",
     "output_type": "stream",
     "text": [
      "2023-03-20 11:16:35\n",
      "'select()' returned 1:many mapping between keys and columns\n",
      "'select()' returned 1:1 mapping between keys and columns\n",
      "'select()' returned 1:1 mapping between keys and columns\n",
      "'select()' returned 1:1 mapping between keys and columns\n"
     ]
    },
    {
     "name": "stdout",
     "output_type": "stream",
     "text": [
      "[1] 55\n"
     ]
    },
    {
     "name": "stderr",
     "output_type": "stream",
     "text": [
      "2023-03-20 11:16:36\n",
      "'select()' returned 1:many mapping between keys and columns\n",
      "'select()' returned 1:1 mapping between keys and columns\n",
      "'select()' returned 1:1 mapping between keys and columns\n",
      "'select()' returned 1:1 mapping between keys and columns\n"
     ]
    },
    {
     "name": "stdout",
     "output_type": "stream",
     "text": [
      "[1] 56\n"
     ]
    },
    {
     "name": "stderr",
     "output_type": "stream",
     "text": [
      "2023-03-20 11:16:38\n",
      "'select()' returned 1:many mapping between keys and columns\n",
      "'select()' returned 1:1 mapping between keys and columns\n",
      "'select()' returned 1:1 mapping between keys and columns\n",
      "'select()' returned 1:1 mapping between keys and columns\n"
     ]
    },
    {
     "name": "stdout",
     "output_type": "stream",
     "text": [
      "[1] 57\n"
     ]
    },
    {
     "name": "stderr",
     "output_type": "stream",
     "text": [
      "2023-03-20 11:16:39\n",
      "'select()' returned 1:many mapping between keys and columns\n",
      "'select()' returned 1:1 mapping between keys and columns\n",
      "'select()' returned 1:1 mapping between keys and columns\n",
      "'select()' returned 1:1 mapping between keys and columns\n"
     ]
    },
    {
     "name": "stdout",
     "output_type": "stream",
     "text": [
      "[1] 58\n"
     ]
    },
    {
     "name": "stderr",
     "output_type": "stream",
     "text": [
      "2023-03-20 11:16:41\n",
      "'select()' returned 1:many mapping between keys and columns\n",
      "'select()' returned 1:1 mapping between keys and columns\n",
      "'select()' returned 1:1 mapping between keys and columns\n",
      "'select()' returned 1:1 mapping between keys and columns\n"
     ]
    },
    {
     "name": "stdout",
     "output_type": "stream",
     "text": [
      "[1] 59\n"
     ]
    },
    {
     "name": "stderr",
     "output_type": "stream",
     "text": [
      "2023-03-20 11:16:42\n",
      "'select()' returned 1:many mapping between keys and columns\n",
      "'select()' returned 1:1 mapping between keys and columns\n",
      "'select()' returned 1:1 mapping between keys and columns\n",
      "'select()' returned 1:1 mapping between keys and columns\n"
     ]
    },
    {
     "name": "stdout",
     "output_type": "stream",
     "text": [
      "[1] 60\n"
     ]
    },
    {
     "name": "stderr",
     "output_type": "stream",
     "text": [
      "2023-03-20 11:16:43\n",
      "'select()' returned 1:many mapping between keys and columns\n",
      "'select()' returned 1:1 mapping between keys and columns\n",
      "'select()' returned 1:1 mapping between keys and columns\n",
      "'select()' returned 1:1 mapping between keys and columns\n"
     ]
    },
    {
     "name": "stdout",
     "output_type": "stream",
     "text": [
      "[1] 61\n"
     ]
    },
    {
     "name": "stderr",
     "output_type": "stream",
     "text": [
      "2023-03-20 11:16:45\n",
      "'select()' returned 1:many mapping between keys and columns\n",
      "'select()' returned 1:1 mapping between keys and columns\n",
      "'select()' returned 1:1 mapping between keys and columns\n",
      "'select()' returned 1:1 mapping between keys and columns\n"
     ]
    },
    {
     "name": "stdout",
     "output_type": "stream",
     "text": [
      "[1] 62\n"
     ]
    },
    {
     "name": "stderr",
     "output_type": "stream",
     "text": [
      "2023-03-20 11:16:46\n",
      "'select()' returned 1:many mapping between keys and columns\n",
      "'select()' returned 1:1 mapping between keys and columns\n",
      "'select()' returned 1:1 mapping between keys and columns\n",
      "'select()' returned 1:1 mapping between keys and columns\n"
     ]
    },
    {
     "name": "stdout",
     "output_type": "stream",
     "text": [
      "[1] 63\n"
     ]
    },
    {
     "name": "stderr",
     "output_type": "stream",
     "text": [
      "2023-03-20 11:16:48\n",
      "'select()' returned 1:many mapping between keys and columns\n",
      "'select()' returned 1:1 mapping between keys and columns\n",
      "'select()' returned 1:1 mapping between keys and columns\n",
      "'select()' returned 1:1 mapping between keys and columns\n"
     ]
    },
    {
     "name": "stdout",
     "output_type": "stream",
     "text": [
      "[1] 64\n"
     ]
    },
    {
     "name": "stderr",
     "output_type": "stream",
     "text": [
      "2023-03-20 11:16:49\n",
      "'select()' returned 1:many mapping between keys and columns\n",
      "'select()' returned 1:1 mapping between keys and columns\n",
      "'select()' returned 1:1 mapping between keys and columns\n",
      "'select()' returned 1:1 mapping between keys and columns\n"
     ]
    },
    {
     "name": "stdout",
     "output_type": "stream",
     "text": [
      "[1] 65\n"
     ]
    },
    {
     "name": "stderr",
     "output_type": "stream",
     "text": [
      "2023-03-20 11:16:51\n",
      "'select()' returned 1:many mapping between keys and columns\n",
      "'select()' returned 1:1 mapping between keys and columns\n",
      "'select()' returned 1:1 mapping between keys and columns\n",
      "'select()' returned 1:1 mapping between keys and columns\n"
     ]
    },
    {
     "name": "stdout",
     "output_type": "stream",
     "text": [
      "[1] 66\n"
     ]
    },
    {
     "name": "stderr",
     "output_type": "stream",
     "text": [
      "2023-03-20 11:16:52\n",
      "'select()' returned 1:many mapping between keys and columns\n",
      "'select()' returned 1:1 mapping between keys and columns\n",
      "'select()' returned 1:1 mapping between keys and columns\n",
      "'select()' returned 1:1 mapping between keys and columns\n"
     ]
    },
    {
     "name": "stdout",
     "output_type": "stream",
     "text": [
      "[1] 67\n"
     ]
    },
    {
     "name": "stderr",
     "output_type": "stream",
     "text": [
      "2023-03-20 11:16:53\n",
      "'select()' returned 1:many mapping between keys and columns\n",
      "'select()' returned 1:1 mapping between keys and columns\n",
      "'select()' returned 1:1 mapping between keys and columns\n",
      "'select()' returned 1:1 mapping between keys and columns\n"
     ]
    },
    {
     "name": "stdout",
     "output_type": "stream",
     "text": [
      "[1] 68\n"
     ]
    },
    {
     "name": "stderr",
     "output_type": "stream",
     "text": [
      "2023-03-20 11:16:55\n",
      "'select()' returned 1:many mapping between keys and columns\n",
      "'select()' returned 1:1 mapping between keys and columns\n",
      "'select()' returned 1:1 mapping between keys and columns\n",
      "'select()' returned 1:1 mapping between keys and columns\n"
     ]
    },
    {
     "name": "stdout",
     "output_type": "stream",
     "text": [
      "[1] 69\n"
     ]
    },
    {
     "name": "stderr",
     "output_type": "stream",
     "text": [
      "2023-03-20 11:16:56\n",
      "'select()' returned 1:many mapping between keys and columns\n",
      "'select()' returned 1:1 mapping between keys and columns\n",
      "'select()' returned 1:1 mapping between keys and columns\n",
      "'select()' returned 1:1 mapping between keys and columns\n"
     ]
    },
    {
     "name": "stdout",
     "output_type": "stream",
     "text": [
      "[1] 70\n"
     ]
    },
    {
     "name": "stderr",
     "output_type": "stream",
     "text": [
      "2023-03-20 11:16:58\n",
      "'select()' returned 1:many mapping between keys and columns\n",
      "'select()' returned 1:1 mapping between keys and columns\n",
      "'select()' returned 1:1 mapping between keys and columns\n",
      "'select()' returned 1:1 mapping between keys and columns\n"
     ]
    },
    {
     "name": "stdout",
     "output_type": "stream",
     "text": [
      "[1] 71\n"
     ]
    },
    {
     "name": "stderr",
     "output_type": "stream",
     "text": [
      "2023-03-20 11:16:59\n",
      "'select()' returned 1:many mapping between keys and columns\n",
      "'select()' returned 1:1 mapping between keys and columns\n",
      "'select()' returned 1:1 mapping between keys and columns\n",
      "'select()' returned 1:1 mapping between keys and columns\n"
     ]
    },
    {
     "name": "stdout",
     "output_type": "stream",
     "text": [
      "[1] 72\n"
     ]
    },
    {
     "name": "stderr",
     "output_type": "stream",
     "text": [
      "2023-03-20 11:17:00\n",
      "'select()' returned 1:many mapping between keys and columns\n",
      "'select()' returned 1:1 mapping between keys and columns\n",
      "'select()' returned 1:1 mapping between keys and columns\n",
      "'select()' returned 1:1 mapping between keys and columns\n"
     ]
    },
    {
     "name": "stdout",
     "output_type": "stream",
     "text": [
      "[1] 73\n"
     ]
    },
    {
     "name": "stderr",
     "output_type": "stream",
     "text": [
      "2023-03-20 11:17:02\n",
      "'select()' returned 1:many mapping between keys and columns\n",
      "'select()' returned 1:1 mapping between keys and columns\n",
      "'select()' returned 1:1 mapping between keys and columns\n",
      "'select()' returned 1:1 mapping between keys and columns\n"
     ]
    },
    {
     "name": "stdout",
     "output_type": "stream",
     "text": [
      "[1] 74\n"
     ]
    },
    {
     "name": "stderr",
     "output_type": "stream",
     "text": [
      "2023-03-20 11:17:03\n",
      "'select()' returned 1:many mapping between keys and columns\n",
      "'select()' returned 1:1 mapping between keys and columns\n",
      "'select()' returned 1:1 mapping between keys and columns\n",
      "'select()' returned 1:1 mapping between keys and columns\n"
     ]
    },
    {
     "name": "stdout",
     "output_type": "stream",
     "text": [
      "[1] 75\n"
     ]
    },
    {
     "name": "stderr",
     "output_type": "stream",
     "text": [
      "2023-03-20 11:17:05\n",
      "'select()' returned 1:many mapping between keys and columns\n",
      "'select()' returned 1:1 mapping between keys and columns\n",
      "'select()' returned 1:1 mapping between keys and columns\n",
      "'select()' returned 1:1 mapping between keys and columns\n"
     ]
    },
    {
     "name": "stdout",
     "output_type": "stream",
     "text": [
      "[1] 76\n"
     ]
    },
    {
     "name": "stderr",
     "output_type": "stream",
     "text": [
      "2023-03-20 11:17:06\n",
      "'select()' returned 1:many mapping between keys and columns\n",
      "'select()' returned 1:1 mapping between keys and columns\n",
      "'select()' returned 1:1 mapping between keys and columns\n",
      "'select()' returned 1:1 mapping between keys and columns\n"
     ]
    },
    {
     "name": "stdout",
     "output_type": "stream",
     "text": [
      "[1] 77\n"
     ]
    },
    {
     "name": "stderr",
     "output_type": "stream",
     "text": [
      "2023-03-20 11:17:08\n",
      "'select()' returned 1:many mapping between keys and columns\n",
      "'select()' returned 1:1 mapping between keys and columns\n",
      "'select()' returned 1:1 mapping between keys and columns\n",
      "'select()' returned 1:1 mapping between keys and columns\n"
     ]
    },
    {
     "name": "stdout",
     "output_type": "stream",
     "text": [
      "[1] 78\n"
     ]
    },
    {
     "name": "stderr",
     "output_type": "stream",
     "text": [
      "2023-03-20 11:17:09\n",
      "'select()' returned 1:many mapping between keys and columns\n",
      "'select()' returned 1:1 mapping between keys and columns\n",
      "'select()' returned 1:1 mapping between keys and columns\n",
      "'select()' returned 1:1 mapping between keys and columns\n"
     ]
    },
    {
     "name": "stdout",
     "output_type": "stream",
     "text": [
      "[1] 79\n"
     ]
    },
    {
     "name": "stderr",
     "output_type": "stream",
     "text": [
      "2023-03-20 11:17:11\n",
      "'select()' returned 1:many mapping between keys and columns\n",
      "'select()' returned 1:1 mapping between keys and columns\n",
      "'select()' returned 1:1 mapping between keys and columns\n",
      "'select()' returned 1:1 mapping between keys and columns\n"
     ]
    },
    {
     "name": "stdout",
     "output_type": "stream",
     "text": [
      "[1] 80\n"
     ]
    },
    {
     "name": "stderr",
     "output_type": "stream",
     "text": [
      "2023-03-20 11:17:12\n",
      "'select()' returned 1:many mapping between keys and columns\n",
      "'select()' returned 1:1 mapping between keys and columns\n",
      "'select()' returned 1:1 mapping between keys and columns\n",
      "'select()' returned 1:1 mapping between keys and columns\n"
     ]
    },
    {
     "name": "stdout",
     "output_type": "stream",
     "text": [
      "[1] 81\n"
     ]
    },
    {
     "name": "stderr",
     "output_type": "stream",
     "text": [
      "2023-03-20 11:17:14\n",
      "'select()' returned 1:many mapping between keys and columns\n",
      "'select()' returned 1:1 mapping between keys and columns\n",
      "'select()' returned 1:1 mapping between keys and columns\n",
      "'select()' returned 1:1 mapping between keys and columns\n"
     ]
    },
    {
     "name": "stdout",
     "output_type": "stream",
     "text": [
      "[1] 82\n"
     ]
    },
    {
     "name": "stderr",
     "output_type": "stream",
     "text": [
      "2023-03-20 11:17:15\n",
      "'select()' returned 1:many mapping between keys and columns\n",
      "'select()' returned 1:1 mapping between keys and columns\n",
      "'select()' returned 1:1 mapping between keys and columns\n",
      "'select()' returned 1:1 mapping between keys and columns\n"
     ]
    },
    {
     "name": "stdout",
     "output_type": "stream",
     "text": [
      "[1] 83\n"
     ]
    },
    {
     "name": "stderr",
     "output_type": "stream",
     "text": [
      "2023-03-20 11:17:17\n",
      "'select()' returned 1:many mapping between keys and columns\n",
      "'select()' returned 1:1 mapping between keys and columns\n",
      "'select()' returned 1:1 mapping between keys and columns\n",
      "'select()' returned 1:1 mapping between keys and columns\n"
     ]
    },
    {
     "name": "stdout",
     "output_type": "stream",
     "text": [
      "[1] 84\n"
     ]
    },
    {
     "name": "stderr",
     "output_type": "stream",
     "text": [
      "2023-03-20 11:17:18\n",
      "'select()' returned 1:many mapping between keys and columns\n",
      "'select()' returned 1:1 mapping between keys and columns\n",
      "'select()' returned 1:1 mapping between keys and columns\n",
      "'select()' returned 1:1 mapping between keys and columns\n"
     ]
    },
    {
     "name": "stdout",
     "output_type": "stream",
     "text": [
      "[1] 85\n"
     ]
    },
    {
     "name": "stderr",
     "output_type": "stream",
     "text": [
      "2023-03-20 11:17:20\n",
      "'select()' returned 1:many mapping between keys and columns\n",
      "'select()' returned 1:1 mapping between keys and columns\n",
      "'select()' returned 1:1 mapping between keys and columns\n",
      "'select()' returned 1:1 mapping between keys and columns\n"
     ]
    },
    {
     "name": "stdout",
     "output_type": "stream",
     "text": [
      "[1] 86\n"
     ]
    },
    {
     "name": "stderr",
     "output_type": "stream",
     "text": [
      "2023-03-20 11:17:21\n",
      "'select()' returned 1:many mapping between keys and columns\n",
      "'select()' returned 1:1 mapping between keys and columns\n",
      "'select()' returned 1:1 mapping between keys and columns\n",
      "'select()' returned 1:1 mapping between keys and columns\n"
     ]
    },
    {
     "name": "stdout",
     "output_type": "stream",
     "text": [
      "[1] 87\n"
     ]
    },
    {
     "name": "stderr",
     "output_type": "stream",
     "text": [
      "2023-03-20 11:17:23\n",
      "'select()' returned 1:many mapping between keys and columns\n",
      "'select()' returned 1:1 mapping between keys and columns\n",
      "'select()' returned 1:1 mapping between keys and columns\n",
      "'select()' returned 1:1 mapping between keys and columns\n"
     ]
    },
    {
     "name": "stdout",
     "output_type": "stream",
     "text": [
      "[1] 88\n"
     ]
    },
    {
     "name": "stderr",
     "output_type": "stream",
     "text": [
      "2023-03-20 11:17:25\n",
      "'select()' returned 1:many mapping between keys and columns\n",
      "'select()' returned 1:1 mapping between keys and columns\n",
      "'select()' returned 1:1 mapping between keys and columns\n",
      "'select()' returned 1:1 mapping between keys and columns\n"
     ]
    },
    {
     "name": "stdout",
     "output_type": "stream",
     "text": [
      "[1] 89\n"
     ]
    },
    {
     "name": "stderr",
     "output_type": "stream",
     "text": [
      "2023-03-20 11:17:26\n",
      "'select()' returned 1:many mapping between keys and columns\n",
      "'select()' returned 1:1 mapping between keys and columns\n",
      "'select()' returned 1:1 mapping between keys and columns\n",
      "'select()' returned 1:1 mapping between keys and columns\n"
     ]
    },
    {
     "name": "stdout",
     "output_type": "stream",
     "text": [
      "[1] 90\n"
     ]
    },
    {
     "name": "stderr",
     "output_type": "stream",
     "text": [
      "2023-03-20 11:17:28\n",
      "'select()' returned 1:many mapping between keys and columns\n",
      "'select()' returned 1:1 mapping between keys and columns\n",
      "'select()' returned 1:1 mapping between keys and columns\n",
      "'select()' returned 1:1 mapping between keys and columns\n"
     ]
    },
    {
     "name": "stdout",
     "output_type": "stream",
     "text": [
      "[1] 91\n"
     ]
    },
    {
     "name": "stderr",
     "output_type": "stream",
     "text": [
      "2023-03-20 11:17:29\n",
      "'select()' returned 1:many mapping between keys and columns\n",
      "'select()' returned 1:1 mapping between keys and columns\n",
      "'select()' returned 1:1 mapping between keys and columns\n",
      "'select()' returned 1:1 mapping between keys and columns\n"
     ]
    },
    {
     "name": "stdout",
     "output_type": "stream",
     "text": [
      "[1] 92\n"
     ]
    },
    {
     "name": "stderr",
     "output_type": "stream",
     "text": [
      "2023-03-20 11:17:31\n",
      "'select()' returned 1:many mapping between keys and columns\n",
      "'select()' returned 1:1 mapping between keys and columns\n",
      "'select()' returned 1:1 mapping between keys and columns\n",
      "'select()' returned 1:1 mapping between keys and columns\n"
     ]
    },
    {
     "name": "stdout",
     "output_type": "stream",
     "text": [
      "[1] 93\n"
     ]
    },
    {
     "name": "stderr",
     "output_type": "stream",
     "text": [
      "2023-03-20 11:17:33\n",
      "'select()' returned 1:many mapping between keys and columns\n",
      "'select()' returned 1:1 mapping between keys and columns\n",
      "'select()' returned 1:1 mapping between keys and columns\n",
      "'select()' returned 1:1 mapping between keys and columns\n"
     ]
    },
    {
     "name": "stdout",
     "output_type": "stream",
     "text": [
      "[1] 94\n"
     ]
    },
    {
     "name": "stderr",
     "output_type": "stream",
     "text": [
      "2023-03-20 11:17:34\n",
      "'select()' returned 1:many mapping between keys and columns\n",
      "'select()' returned 1:1 mapping between keys and columns\n",
      "'select()' returned 1:1 mapping between keys and columns\n",
      "'select()' returned 1:1 mapping between keys and columns\n"
     ]
    },
    {
     "name": "stdout",
     "output_type": "stream",
     "text": [
      "[1] 95\n"
     ]
    },
    {
     "name": "stderr",
     "output_type": "stream",
     "text": [
      "2023-03-20 11:17:35\n",
      "'select()' returned 1:many mapping between keys and columns\n",
      "'select()' returned 1:1 mapping between keys and columns\n",
      "'select()' returned 1:1 mapping between keys and columns\n",
      "'select()' returned 1:1 mapping between keys and columns\n"
     ]
    },
    {
     "name": "stdout",
     "output_type": "stream",
     "text": [
      "[1] 96\n"
     ]
    },
    {
     "name": "stderr",
     "output_type": "stream",
     "text": [
      "2023-03-20 11:17:37\n",
      "'select()' returned 1:many mapping between keys and columns\n",
      "'select()' returned 1:1 mapping between keys and columns\n",
      "'select()' returned 1:1 mapping between keys and columns\n",
      "'select()' returned 1:1 mapping between keys and columns\n"
     ]
    },
    {
     "name": "stdout",
     "output_type": "stream",
     "text": [
      "[1] 97\n"
     ]
    },
    {
     "name": "stderr",
     "output_type": "stream",
     "text": [
      "2023-03-20 11:17:38\n",
      "'select()' returned 1:many mapping between keys and columns\n",
      "'select()' returned 1:1 mapping between keys and columns\n",
      "'select()' returned 1:1 mapping between keys and columns\n",
      "'select()' returned 1:1 mapping between keys and columns\n"
     ]
    },
    {
     "name": "stdout",
     "output_type": "stream",
     "text": [
      "[1] 98\n"
     ]
    },
    {
     "name": "stderr",
     "output_type": "stream",
     "text": [
      "2023-03-20 11:17:40\n",
      "'select()' returned 1:many mapping between keys and columns\n",
      "'select()' returned 1:1 mapping between keys and columns\n",
      "'select()' returned 1:1 mapping between keys and columns\n",
      "'select()' returned 1:1 mapping between keys and columns\n"
     ]
    },
    {
     "name": "stdout",
     "output_type": "stream",
     "text": [
      "[1] 99\n"
     ]
    },
    {
     "name": "stderr",
     "output_type": "stream",
     "text": [
      "2023-03-20 11:17:41\n",
      "'select()' returned 1:many mapping between keys and columns\n",
      "'select()' returned 1:1 mapping between keys and columns\n",
      "'select()' returned 1:1 mapping between keys and columns\n",
      "'select()' returned 1:1 mapping between keys and columns\n"
     ]
    },
    {
     "name": "stdout",
     "output_type": "stream",
     "text": [
      "[1] 100\n"
     ]
    },
    {
     "name": "stderr",
     "output_type": "stream",
     "text": [
      "2023-03-20 11:17:43\n",
      "'select()' returned 1:many mapping between keys and columns\n",
      "'select()' returned 1:1 mapping between keys and columns\n",
      "'select()' returned 1:1 mapping between keys and columns\n",
      "'select()' returned 1:1 mapping between keys and columns\n"
     ]
    },
    {
     "name": "stdout",
     "output_type": "stream",
     "text": [
      "[1] 101\n"
     ]
    },
    {
     "name": "stderr",
     "output_type": "stream",
     "text": [
      "2023-03-20 11:17:44\n",
      "'select()' returned 1:many mapping between keys and columns\n",
      "'select()' returned 1:1 mapping between keys and columns\n",
      "'select()' returned 1:1 mapping between keys and columns\n",
      "'select()' returned 1:1 mapping between keys and columns\n"
     ]
    },
    {
     "name": "stdout",
     "output_type": "stream",
     "text": [
      "[1] 102\n"
     ]
    },
    {
     "name": "stderr",
     "output_type": "stream",
     "text": [
      "2023-03-20 11:17:45\n",
      "'select()' returned 1:many mapping between keys and columns\n",
      "'select()' returned 1:1 mapping between keys and columns\n",
      "'select()' returned 1:1 mapping between keys and columns\n",
      "'select()' returned 1:1 mapping between keys and columns\n"
     ]
    },
    {
     "name": "stdout",
     "output_type": "stream",
     "text": [
      "[1] 103\n"
     ]
    },
    {
     "name": "stderr",
     "output_type": "stream",
     "text": [
      "2023-03-20 11:17:47\n",
      "'select()' returned 1:many mapping between keys and columns\n",
      "'select()' returned 1:1 mapping between keys and columns\n",
      "'select()' returned 1:1 mapping between keys and columns\n",
      "'select()' returned 1:1 mapping between keys and columns\n"
     ]
    },
    {
     "name": "stdout",
     "output_type": "stream",
     "text": [
      "[1] 104\n"
     ]
    },
    {
     "name": "stderr",
     "output_type": "stream",
     "text": [
      "2023-03-20 11:17:48\n",
      "'select()' returned 1:many mapping between keys and columns\n",
      "'select()' returned 1:1 mapping between keys and columns\n",
      "'select()' returned 1:1 mapping between keys and columns\n",
      "'select()' returned 1:1 mapping between keys and columns\n"
     ]
    },
    {
     "name": "stdout",
     "output_type": "stream",
     "text": [
      "[1] 105\n"
     ]
    },
    {
     "name": "stderr",
     "output_type": "stream",
     "text": [
      "2023-03-20 11:17:49\n",
      "'select()' returned 1:many mapping between keys and columns\n",
      "'select()' returned 1:1 mapping between keys and columns\n",
      "'select()' returned 1:1 mapping between keys and columns\n",
      "'select()' returned 1:1 mapping between keys and columns\n"
     ]
    },
    {
     "name": "stdout",
     "output_type": "stream",
     "text": [
      "[1] 106\n"
     ]
    },
    {
     "name": "stderr",
     "output_type": "stream",
     "text": [
      "2023-03-20 11:17:51\n",
      "'select()' returned 1:many mapping between keys and columns\n",
      "'select()' returned 1:1 mapping between keys and columns\n",
      "'select()' returned 1:1 mapping between keys and columns\n",
      "'select()' returned 1:1 mapping between keys and columns\n"
     ]
    },
    {
     "name": "stdout",
     "output_type": "stream",
     "text": [
      "[1] 107\n"
     ]
    },
    {
     "name": "stderr",
     "output_type": "stream",
     "text": [
      "2023-03-20 11:17:53\n",
      "'select()' returned 1:many mapping between keys and columns\n",
      "'select()' returned 1:1 mapping between keys and columns\n",
      "'select()' returned 1:1 mapping between keys and columns\n",
      "'select()' returned 1:1 mapping between keys and columns\n"
     ]
    },
    {
     "name": "stdout",
     "output_type": "stream",
     "text": [
      "[1] 108\n"
     ]
    },
    {
     "name": "stderr",
     "output_type": "stream",
     "text": [
      "2023-03-20 11:17:55\n",
      "'select()' returned 1:many mapping between keys and columns\n",
      "'select()' returned 1:1 mapping between keys and columns\n",
      "'select()' returned 1:1 mapping between keys and columns\n",
      "'select()' returned 1:1 mapping between keys and columns\n"
     ]
    },
    {
     "name": "stdout",
     "output_type": "stream",
     "text": [
      "[1] 109\n"
     ]
    },
    {
     "name": "stderr",
     "output_type": "stream",
     "text": [
      "2023-03-20 11:17:56\n",
      "'select()' returned 1:many mapping between keys and columns\n",
      "'select()' returned 1:1 mapping between keys and columns\n",
      "'select()' returned 1:1 mapping between keys and columns\n",
      "'select()' returned 1:1 mapping between keys and columns\n"
     ]
    },
    {
     "name": "stdout",
     "output_type": "stream",
     "text": [
      "[1] 110\n"
     ]
    },
    {
     "name": "stderr",
     "output_type": "stream",
     "text": [
      "2023-03-20 11:17:58\n",
      "'select()' returned 1:many mapping between keys and columns\n",
      "'select()' returned 1:1 mapping between keys and columns\n",
      "'select()' returned 1:1 mapping between keys and columns\n",
      "'select()' returned 1:1 mapping between keys and columns\n"
     ]
    },
    {
     "name": "stdout",
     "output_type": "stream",
     "text": [
      "[1] 111\n"
     ]
    },
    {
     "name": "stderr",
     "output_type": "stream",
     "text": [
      "2023-03-20 11:17:59\n",
      "'select()' returned 1:many mapping between keys and columns\n",
      "'select()' returned 1:1 mapping between keys and columns\n",
      "'select()' returned 1:1 mapping between keys and columns\n",
      "'select()' returned 1:1 mapping between keys and columns\n"
     ]
    },
    {
     "name": "stdout",
     "output_type": "stream",
     "text": [
      "[1] 112\n"
     ]
    },
    {
     "name": "stderr",
     "output_type": "stream",
     "text": [
      "2023-03-20 11:18:01\n",
      "'select()' returned 1:many mapping between keys and columns\n",
      "'select()' returned 1:1 mapping between keys and columns\n",
      "'select()' returned 1:1 mapping between keys and columns\n",
      "'select()' returned 1:1 mapping between keys and columns\n"
     ]
    },
    {
     "name": "stdout",
     "output_type": "stream",
     "text": [
      "[1] 113\n"
     ]
    },
    {
     "name": "stderr",
     "output_type": "stream",
     "text": [
      "2023-03-20 11:18:02\n",
      "'select()' returned 1:many mapping between keys and columns\n",
      "'select()' returned 1:1 mapping between keys and columns\n",
      "'select()' returned 1:1 mapping between keys and columns\n",
      "'select()' returned 1:1 mapping between keys and columns\n"
     ]
    },
    {
     "name": "stdout",
     "output_type": "stream",
     "text": [
      "[1] 114\n"
     ]
    },
    {
     "name": "stderr",
     "output_type": "stream",
     "text": [
      "2023-03-20 11:18:04\n",
      "'select()' returned 1:many mapping between keys and columns\n",
      "'select()' returned 1:1 mapping between keys and columns\n",
      "'select()' returned 1:1 mapping between keys and columns\n",
      "'select()' returned 1:1 mapping between keys and columns\n"
     ]
    },
    {
     "name": "stdout",
     "output_type": "stream",
     "text": [
      "[1] 115\n"
     ]
    },
    {
     "name": "stderr",
     "output_type": "stream",
     "text": [
      "2023-03-20 11:18:06\n",
      "'select()' returned 1:many mapping between keys and columns\n",
      "'select()' returned 1:1 mapping between keys and columns\n",
      "'select()' returned 1:1 mapping between keys and columns\n",
      "'select()' returned 1:1 mapping between keys and columns\n"
     ]
    },
    {
     "name": "stdout",
     "output_type": "stream",
     "text": [
      "[1] 116\n"
     ]
    },
    {
     "name": "stderr",
     "output_type": "stream",
     "text": [
      "2023-03-20 11:18:07\n",
      "'select()' returned 1:many mapping between keys and columns\n",
      "'select()' returned 1:1 mapping between keys and columns\n",
      "'select()' returned 1:1 mapping between keys and columns\n",
      "'select()' returned 1:1 mapping between keys and columns\n"
     ]
    },
    {
     "name": "stdout",
     "output_type": "stream",
     "text": [
      "[1] 117\n"
     ]
    },
    {
     "name": "stderr",
     "output_type": "stream",
     "text": [
      "2023-03-20 11:18:09\n",
      "'select()' returned 1:many mapping between keys and columns\n",
      "'select()' returned 1:1 mapping between keys and columns\n",
      "'select()' returned 1:1 mapping between keys and columns\n",
      "'select()' returned 1:1 mapping between keys and columns\n"
     ]
    },
    {
     "name": "stdout",
     "output_type": "stream",
     "text": [
      "[1] 118\n"
     ]
    },
    {
     "name": "stderr",
     "output_type": "stream",
     "text": [
      "2023-03-20 11:18:10\n",
      "'select()' returned 1:many mapping between keys and columns\n",
      "'select()' returned 1:1 mapping between keys and columns\n",
      "'select()' returned 1:1 mapping between keys and columns\n",
      "'select()' returned 1:1 mapping between keys and columns\n"
     ]
    },
    {
     "name": "stdout",
     "output_type": "stream",
     "text": [
      "[1] 119\n"
     ]
    },
    {
     "name": "stderr",
     "output_type": "stream",
     "text": [
      "2023-03-20 11:18:12\n",
      "'select()' returned 1:many mapping between keys and columns\n",
      "'select()' returned 1:1 mapping between keys and columns\n",
      "'select()' returned 1:1 mapping between keys and columns\n",
      "'select()' returned 1:1 mapping between keys and columns\n"
     ]
    },
    {
     "name": "stdout",
     "output_type": "stream",
     "text": [
      "[1] 120\n"
     ]
    },
    {
     "name": "stderr",
     "output_type": "stream",
     "text": [
      "2023-03-20 11:18:13\n",
      "'select()' returned 1:many mapping between keys and columns\n",
      "'select()' returned 1:1 mapping between keys and columns\n",
      "'select()' returned 1:1 mapping between keys and columns\n",
      "'select()' returned 1:1 mapping between keys and columns\n"
     ]
    },
    {
     "name": "stdout",
     "output_type": "stream",
     "text": [
      "[1] 121\n"
     ]
    },
    {
     "name": "stderr",
     "output_type": "stream",
     "text": [
      "2023-03-20 11:18:14\n",
      "'select()' returned 1:many mapping between keys and columns\n",
      "'select()' returned 1:1 mapping between keys and columns\n",
      "'select()' returned 1:1 mapping between keys and columns\n",
      "'select()' returned 1:1 mapping between keys and columns\n"
     ]
    },
    {
     "name": "stdout",
     "output_type": "stream",
     "text": [
      "[1] 122\n"
     ]
    },
    {
     "name": "stderr",
     "output_type": "stream",
     "text": [
      "2023-03-20 11:18:16\n",
      "'select()' returned 1:many mapping between keys and columns\n",
      "'select()' returned 1:1 mapping between keys and columns\n",
      "'select()' returned 1:1 mapping between keys and columns\n",
      "'select()' returned 1:1 mapping between keys and columns\n"
     ]
    },
    {
     "name": "stdout",
     "output_type": "stream",
     "text": [
      "[1] 123\n"
     ]
    },
    {
     "name": "stderr",
     "output_type": "stream",
     "text": [
      "2023-03-20 11:18:17\n",
      "'select()' returned 1:many mapping between keys and columns\n",
      "'select()' returned 1:1 mapping between keys and columns\n",
      "'select()' returned 1:1 mapping between keys and columns\n",
      "'select()' returned 1:1 mapping between keys and columns\n"
     ]
    },
    {
     "name": "stdout",
     "output_type": "stream",
     "text": [
      "[1] 124\n"
     ]
    },
    {
     "name": "stderr",
     "output_type": "stream",
     "text": [
      "2023-03-20 11:18:19\n",
      "'select()' returned 1:many mapping between keys and columns\n",
      "'select()' returned 1:1 mapping between keys and columns\n",
      "'select()' returned 1:1 mapping between keys and columns\n",
      "'select()' returned 1:1 mapping between keys and columns\n"
     ]
    },
    {
     "name": "stdout",
     "output_type": "stream",
     "text": [
      "[1] 125\n"
     ]
    },
    {
     "name": "stderr",
     "output_type": "stream",
     "text": [
      "2023-03-20 11:18:20\n",
      "'select()' returned 1:many mapping between keys and columns\n",
      "'select()' returned 1:1 mapping between keys and columns\n",
      "'select()' returned 1:1 mapping between keys and columns\n",
      "'select()' returned 1:1 mapping between keys and columns\n"
     ]
    },
    {
     "name": "stdout",
     "output_type": "stream",
     "text": [
      "[1] 126\n"
     ]
    },
    {
     "name": "stderr",
     "output_type": "stream",
     "text": [
      "2023-03-20 11:18:22\n",
      "'select()' returned 1:many mapping between keys and columns\n",
      "'select()' returned 1:1 mapping between keys and columns\n",
      "'select()' returned 1:1 mapping between keys and columns\n",
      "'select()' returned 1:1 mapping between keys and columns\n"
     ]
    },
    {
     "name": "stdout",
     "output_type": "stream",
     "text": [
      "[1] 127\n"
     ]
    },
    {
     "name": "stderr",
     "output_type": "stream",
     "text": [
      "2023-03-20 11:18:23\n",
      "'select()' returned 1:many mapping between keys and columns\n",
      "'select()' returned 1:1 mapping between keys and columns\n",
      "'select()' returned 1:1 mapping between keys and columns\n",
      "'select()' returned 1:1 mapping between keys and columns\n"
     ]
    },
    {
     "name": "stdout",
     "output_type": "stream",
     "text": [
      "[1] 128\n"
     ]
    },
    {
     "name": "stderr",
     "output_type": "stream",
     "text": [
      "2023-03-20 11:18:25\n",
      "'select()' returned 1:many mapping between keys and columns\n",
      "'select()' returned 1:1 mapping between keys and columns\n",
      "'select()' returned 1:1 mapping between keys and columns\n",
      "'select()' returned 1:1 mapping between keys and columns\n"
     ]
    },
    {
     "name": "stdout",
     "output_type": "stream",
     "text": [
      "[1] 129\n"
     ]
    },
    {
     "name": "stderr",
     "output_type": "stream",
     "text": [
      "2023-03-20 11:18:27\n",
      "'select()' returned 1:many mapping between keys and columns\n",
      "'select()' returned 1:1 mapping between keys and columns\n",
      "'select()' returned 1:1 mapping between keys and columns\n",
      "'select()' returned 1:1 mapping between keys and columns\n"
     ]
    },
    {
     "name": "stdout",
     "output_type": "stream",
     "text": [
      "[1] 130\n"
     ]
    },
    {
     "name": "stderr",
     "output_type": "stream",
     "text": [
      "2023-03-20 11:18:29\n",
      "'select()' returned 1:many mapping between keys and columns\n",
      "'select()' returned 1:1 mapping between keys and columns\n",
      "'select()' returned 1:1 mapping between keys and columns\n",
      "'select()' returned 1:1 mapping between keys and columns\n"
     ]
    },
    {
     "name": "stdout",
     "output_type": "stream",
     "text": [
      "[1] 131\n"
     ]
    },
    {
     "name": "stderr",
     "output_type": "stream",
     "text": [
      "2023-03-20 11:18:30\n",
      "'select()' returned 1:many mapping between keys and columns\n",
      "'select()' returned 1:1 mapping between keys and columns\n",
      "'select()' returned 1:1 mapping between keys and columns\n",
      "'select()' returned 1:1 mapping between keys and columns\n"
     ]
    },
    {
     "name": "stdout",
     "output_type": "stream",
     "text": [
      "[1] 132\n"
     ]
    },
    {
     "name": "stderr",
     "output_type": "stream",
     "text": [
      "2023-03-20 11:18:31\n",
      "'select()' returned 1:many mapping between keys and columns\n",
      "'select()' returned 1:1 mapping between keys and columns\n",
      "'select()' returned 1:1 mapping between keys and columns\n",
      "'select()' returned 1:1 mapping between keys and columns\n"
     ]
    },
    {
     "name": "stdout",
     "output_type": "stream",
     "text": [
      "[1] 133\n"
     ]
    },
    {
     "name": "stderr",
     "output_type": "stream",
     "text": [
      "2023-03-20 11:18:33\n",
      "'select()' returned 1:many mapping between keys and columns\n",
      "'select()' returned 1:1 mapping between keys and columns\n",
      "'select()' returned 1:1 mapping between keys and columns\n",
      "'select()' returned 1:1 mapping between keys and columns\n"
     ]
    },
    {
     "name": "stdout",
     "output_type": "stream",
     "text": [
      "[1] 134\n"
     ]
    },
    {
     "name": "stderr",
     "output_type": "stream",
     "text": [
      "2023-03-20 11:18:34\n",
      "'select()' returned 1:many mapping between keys and columns\n",
      "'select()' returned 1:1 mapping between keys and columns\n",
      "'select()' returned 1:1 mapping between keys and columns\n",
      "'select()' returned 1:1 mapping between keys and columns\n"
     ]
    },
    {
     "name": "stdout",
     "output_type": "stream",
     "text": [
      "[1] 135\n"
     ]
    },
    {
     "name": "stderr",
     "output_type": "stream",
     "text": [
      "2023-03-20 11:18:36\n",
      "'select()' returned 1:many mapping between keys and columns\n",
      "'select()' returned 1:1 mapping between keys and columns\n",
      "'select()' returned 1:1 mapping between keys and columns\n",
      "'select()' returned 1:1 mapping between keys and columns\n"
     ]
    },
    {
     "name": "stdout",
     "output_type": "stream",
     "text": [
      "[1] 136\n"
     ]
    },
    {
     "name": "stderr",
     "output_type": "stream",
     "text": [
      "2023-03-20 11:18:37\n",
      "'select()' returned 1:many mapping between keys and columns\n",
      "'select()' returned 1:1 mapping between keys and columns\n",
      "'select()' returned 1:1 mapping between keys and columns\n",
      "'select()' returned 1:1 mapping between keys and columns\n"
     ]
    },
    {
     "name": "stdout",
     "output_type": "stream",
     "text": [
      "[1] 137\n"
     ]
    },
    {
     "name": "stderr",
     "output_type": "stream",
     "text": [
      "2023-03-20 11:18:38\n",
      "'select()' returned 1:many mapping between keys and columns\n",
      "'select()' returned 1:1 mapping between keys and columns\n",
      "'select()' returned 1:1 mapping between keys and columns\n",
      "'select()' returned 1:1 mapping between keys and columns\n"
     ]
    },
    {
     "name": "stdout",
     "output_type": "stream",
     "text": [
      "[1] 138\n"
     ]
    },
    {
     "name": "stderr",
     "output_type": "stream",
     "text": [
      "2023-03-20 11:18:40\n",
      "'select()' returned 1:many mapping between keys and columns\n",
      "'select()' returned 1:1 mapping between keys and columns\n",
      "'select()' returned 1:1 mapping between keys and columns\n",
      "'select()' returned 1:1 mapping between keys and columns\n"
     ]
    },
    {
     "name": "stdout",
     "output_type": "stream",
     "text": [
      "[1] 139\n"
     ]
    },
    {
     "name": "stderr",
     "output_type": "stream",
     "text": [
      "2023-03-20 11:18:42\n",
      "'select()' returned 1:many mapping between keys and columns\n",
      "'select()' returned 1:1 mapping between keys and columns\n",
      "'select()' returned 1:1 mapping between keys and columns\n",
      "'select()' returned 1:1 mapping between keys and columns\n"
     ]
    },
    {
     "name": "stdout",
     "output_type": "stream",
     "text": [
      "[1] 140\n"
     ]
    },
    {
     "name": "stderr",
     "output_type": "stream",
     "text": [
      "2023-03-20 11:18:43\n",
      "'select()' returned 1:many mapping between keys and columns\n",
      "'select()' returned 1:1 mapping between keys and columns\n",
      "'select()' returned 1:1 mapping between keys and columns\n",
      "'select()' returned 1:1 mapping between keys and columns\n"
     ]
    },
    {
     "name": "stdout",
     "output_type": "stream",
     "text": [
      "[1] 141\n"
     ]
    },
    {
     "name": "stderr",
     "output_type": "stream",
     "text": [
      "2023-03-20 11:18:45\n",
      "'select()' returned 1:many mapping between keys and columns\n",
      "'select()' returned 1:1 mapping between keys and columns\n",
      "'select()' returned 1:1 mapping between keys and columns\n",
      "'select()' returned 1:1 mapping between keys and columns\n"
     ]
    },
    {
     "name": "stdout",
     "output_type": "stream",
     "text": [
      "[1] 142\n"
     ]
    },
    {
     "name": "stderr",
     "output_type": "stream",
     "text": [
      "2023-03-20 11:18:46\n",
      "'select()' returned 1:many mapping between keys and columns\n",
      "'select()' returned 1:1 mapping between keys and columns\n",
      "'select()' returned 1:1 mapping between keys and columns\n",
      "'select()' returned 1:1 mapping between keys and columns\n"
     ]
    },
    {
     "name": "stdout",
     "output_type": "stream",
     "text": [
      "[1] 143\n"
     ]
    },
    {
     "name": "stderr",
     "output_type": "stream",
     "text": [
      "2023-03-20 11:18:48\n",
      "'select()' returned 1:many mapping between keys and columns\n",
      "'select()' returned 1:1 mapping between keys and columns\n",
      "'select()' returned 1:1 mapping between keys and columns\n",
      "'select()' returned 1:1 mapping between keys and columns\n"
     ]
    },
    {
     "name": "stdout",
     "output_type": "stream",
     "text": [
      "[1] 144\n"
     ]
    },
    {
     "name": "stderr",
     "output_type": "stream",
     "text": [
      "2023-03-20 11:18:49\n",
      "'select()' returned 1:many mapping between keys and columns\n",
      "'select()' returned 1:1 mapping between keys and columns\n",
      "'select()' returned 1:1 mapping between keys and columns\n",
      "'select()' returned 1:1 mapping between keys and columns\n"
     ]
    },
    {
     "name": "stdout",
     "output_type": "stream",
     "text": [
      "[1] 145\n"
     ]
    },
    {
     "name": "stderr",
     "output_type": "stream",
     "text": [
      "2023-03-20 11:18:51\n",
      "'select()' returned 1:many mapping between keys and columns\n",
      "'select()' returned 1:1 mapping between keys and columns\n",
      "'select()' returned 1:1 mapping between keys and columns\n",
      "'select()' returned 1:1 mapping between keys and columns\n"
     ]
    },
    {
     "name": "stdout",
     "output_type": "stream",
     "text": [
      "[1] 146\n"
     ]
    },
    {
     "name": "stderr",
     "output_type": "stream",
     "text": [
      "2023-03-20 11:18:52\n",
      "'select()' returned 1:many mapping between keys and columns\n",
      "'select()' returned 1:1 mapping between keys and columns\n",
      "'select()' returned 1:1 mapping between keys and columns\n",
      "'select()' returned 1:1 mapping between keys and columns\n"
     ]
    },
    {
     "name": "stdout",
     "output_type": "stream",
     "text": [
      "[1] 147\n"
     ]
    },
    {
     "name": "stderr",
     "output_type": "stream",
     "text": [
      "2023-03-20 11:18:54\n",
      "'select()' returned 1:many mapping between keys and columns\n",
      "'select()' returned 1:1 mapping between keys and columns\n",
      "'select()' returned 1:1 mapping between keys and columns\n",
      "'select()' returned 1:1 mapping between keys and columns\n"
     ]
    },
    {
     "name": "stdout",
     "output_type": "stream",
     "text": [
      "[1] 148\n"
     ]
    },
    {
     "name": "stderr",
     "output_type": "stream",
     "text": [
      "2023-03-20 11:18:55\n",
      "'select()' returned 1:many mapping between keys and columns\n",
      "'select()' returned 1:1 mapping between keys and columns\n",
      "'select()' returned 1:1 mapping between keys and columns\n",
      "'select()' returned 1:1 mapping between keys and columns\n"
     ]
    },
    {
     "name": "stdout",
     "output_type": "stream",
     "text": [
      "[1] 149\n"
     ]
    },
    {
     "name": "stderr",
     "output_type": "stream",
     "text": [
      "2023-03-20 11:18:57\n",
      "'select()' returned 1:many mapping between keys and columns\n",
      "'select()' returned 1:1 mapping between keys and columns\n",
      "'select()' returned 1:1 mapping between keys and columns\n",
      "'select()' returned 1:1 mapping between keys and columns\n"
     ]
    },
    {
     "name": "stdout",
     "output_type": "stream",
     "text": [
      "[1] 150\n"
     ]
    },
    {
     "name": "stderr",
     "output_type": "stream",
     "text": [
      "2023-03-20 11:18:58\n",
      "'select()' returned 1:many mapping between keys and columns\n",
      "'select()' returned 1:1 mapping between keys and columns\n",
      "'select()' returned 1:1 mapping between keys and columns\n",
      "'select()' returned 1:1 mapping between keys and columns\n"
     ]
    },
    {
     "name": "stdout",
     "output_type": "stream",
     "text": [
      "[1] 151\n"
     ]
    },
    {
     "name": "stderr",
     "output_type": "stream",
     "text": [
      "2023-03-20 11:19:00\n",
      "'select()' returned 1:many mapping between keys and columns\n",
      "'select()' returned 1:1 mapping between keys and columns\n",
      "'select()' returned 1:1 mapping between keys and columns\n",
      "'select()' returned 1:1 mapping between keys and columns\n"
     ]
    },
    {
     "name": "stdout",
     "output_type": "stream",
     "text": [
      "[1] 152\n"
     ]
    },
    {
     "name": "stderr",
     "output_type": "stream",
     "text": [
      "2023-03-20 11:19:01\n",
      "'select()' returned 1:many mapping between keys and columns\n",
      "'select()' returned 1:1 mapping between keys and columns\n",
      "'select()' returned 1:1 mapping between keys and columns\n",
      "'select()' returned 1:1 mapping between keys and columns\n"
     ]
    },
    {
     "name": "stdout",
     "output_type": "stream",
     "text": [
      "[1] 153\n"
     ]
    },
    {
     "name": "stderr",
     "output_type": "stream",
     "text": [
      "2023-03-20 11:19:03\n",
      "'select()' returned 1:many mapping between keys and columns\n",
      "'select()' returned 1:1 mapping between keys and columns\n",
      "'select()' returned 1:1 mapping between keys and columns\n",
      "'select()' returned 1:1 mapping between keys and columns\n"
     ]
    },
    {
     "name": "stdout",
     "output_type": "stream",
     "text": [
      "[1] 154\n"
     ]
    },
    {
     "name": "stderr",
     "output_type": "stream",
     "text": [
      "2023-03-20 11:19:04\n",
      "'select()' returned 1:many mapping between keys and columns\n",
      "'select()' returned 1:1 mapping between keys and columns\n",
      "'select()' returned 1:1 mapping between keys and columns\n",
      "'select()' returned 1:1 mapping between keys and columns\n"
     ]
    },
    {
     "name": "stdout",
     "output_type": "stream",
     "text": [
      "[1] 155\n"
     ]
    },
    {
     "name": "stderr",
     "output_type": "stream",
     "text": [
      "2023-03-20 11:19:05\n",
      "'select()' returned 1:many mapping between keys and columns\n",
      "'select()' returned 1:1 mapping between keys and columns\n",
      "'select()' returned 1:1 mapping between keys and columns\n",
      "'select()' returned 1:1 mapping between keys and columns\n"
     ]
    },
    {
     "name": "stdout",
     "output_type": "stream",
     "text": [
      "[1] 156\n"
     ]
    },
    {
     "name": "stderr",
     "output_type": "stream",
     "text": [
      "2023-03-20 11:19:07\n",
      "'select()' returned 1:many mapping between keys and columns\n",
      "'select()' returned 1:1 mapping between keys and columns\n",
      "'select()' returned 1:1 mapping between keys and columns\n",
      "'select()' returned 1:1 mapping between keys and columns\n"
     ]
    },
    {
     "name": "stdout",
     "output_type": "stream",
     "text": [
      "[1] 157\n"
     ]
    },
    {
     "name": "stderr",
     "output_type": "stream",
     "text": [
      "2023-03-20 11:19:08\n",
      "'select()' returned 1:many mapping between keys and columns\n",
      "'select()' returned 1:1 mapping between keys and columns\n",
      "'select()' returned 1:1 mapping between keys and columns\n",
      "'select()' returned 1:1 mapping between keys and columns\n"
     ]
    },
    {
     "name": "stdout",
     "output_type": "stream",
     "text": [
      "[1] 158\n"
     ]
    },
    {
     "name": "stderr",
     "output_type": "stream",
     "text": [
      "2023-03-20 11:19:10\n",
      "'select()' returned 1:many mapping between keys and columns\n",
      "'select()' returned 1:1 mapping between keys and columns\n",
      "'select()' returned 1:1 mapping between keys and columns\n",
      "'select()' returned 1:1 mapping between keys and columns\n"
     ]
    },
    {
     "name": "stdout",
     "output_type": "stream",
     "text": [
      "[1] 159\n"
     ]
    },
    {
     "name": "stderr",
     "output_type": "stream",
     "text": [
      "2023-03-20 11:19:11\n",
      "'select()' returned 1:many mapping between keys and columns\n",
      "'select()' returned 1:1 mapping between keys and columns\n",
      "'select()' returned 1:1 mapping between keys and columns\n",
      "'select()' returned 1:1 mapping between keys and columns\n"
     ]
    },
    {
     "name": "stdout",
     "output_type": "stream",
     "text": [
      "[1] 160\n"
     ]
    },
    {
     "name": "stderr",
     "output_type": "stream",
     "text": [
      "2023-03-20 11:19:13\n",
      "'select()' returned 1:many mapping between keys and columns\n",
      "'select()' returned 1:1 mapping between keys and columns\n",
      "'select()' returned 1:1 mapping between keys and columns\n",
      "'select()' returned 1:1 mapping between keys and columns\n"
     ]
    },
    {
     "name": "stdout",
     "output_type": "stream",
     "text": [
      "[1] 161\n"
     ]
    },
    {
     "name": "stderr",
     "output_type": "stream",
     "text": [
      "2023-03-20 11:19:14\n",
      "'select()' returned 1:many mapping between keys and columns\n",
      "'select()' returned 1:1 mapping between keys and columns\n",
      "'select()' returned 1:1 mapping between keys and columns\n",
      "'select()' returned 1:1 mapping between keys and columns\n"
     ]
    },
    {
     "name": "stdout",
     "output_type": "stream",
     "text": [
      "[1] 162\n"
     ]
    },
    {
     "name": "stderr",
     "output_type": "stream",
     "text": [
      "2023-03-20 11:19:15\n",
      "'select()' returned 1:many mapping between keys and columns\n",
      "'select()' returned 1:1 mapping between keys and columns\n",
      "'select()' returned 1:1 mapping between keys and columns\n",
      "'select()' returned 1:1 mapping between keys and columns\n"
     ]
    },
    {
     "name": "stdout",
     "output_type": "stream",
     "text": [
      "[1] 163\n"
     ]
    },
    {
     "name": "stderr",
     "output_type": "stream",
     "text": [
      "2023-03-20 11:19:17\n",
      "'select()' returned 1:many mapping between keys and columns\n",
      "'select()' returned 1:1 mapping between keys and columns\n",
      "'select()' returned 1:1 mapping between keys and columns\n",
      "'select()' returned 1:1 mapping between keys and columns\n"
     ]
    },
    {
     "name": "stdout",
     "output_type": "stream",
     "text": [
      "[1] 164\n"
     ]
    },
    {
     "name": "stderr",
     "output_type": "stream",
     "text": [
      "2023-03-20 11:19:19\n",
      "'select()' returned 1:many mapping between keys and columns\n",
      "'select()' returned 1:1 mapping between keys and columns\n",
      "'select()' returned 1:1 mapping between keys and columns\n",
      "'select()' returned 1:1 mapping between keys and columns\n"
     ]
    },
    {
     "name": "stdout",
     "output_type": "stream",
     "text": [
      "[1] 165\n"
     ]
    },
    {
     "name": "stderr",
     "output_type": "stream",
     "text": [
      "2023-03-20 11:19:20\n",
      "'select()' returned 1:many mapping between keys and columns\n",
      "'select()' returned 1:1 mapping between keys and columns\n",
      "'select()' returned 1:1 mapping between keys and columns\n",
      "'select()' returned 1:1 mapping between keys and columns\n"
     ]
    },
    {
     "name": "stdout",
     "output_type": "stream",
     "text": [
      "[1] 166\n"
     ]
    },
    {
     "name": "stderr",
     "output_type": "stream",
     "text": [
      "2023-03-20 11:19:22\n",
      "'select()' returned 1:many mapping between keys and columns\n",
      "'select()' returned 1:1 mapping between keys and columns\n",
      "'select()' returned 1:1 mapping between keys and columns\n",
      "'select()' returned 1:1 mapping between keys and columns\n"
     ]
    },
    {
     "name": "stdout",
     "output_type": "stream",
     "text": [
      "[1] 167\n"
     ]
    },
    {
     "name": "stderr",
     "output_type": "stream",
     "text": [
      "2023-03-20 11:19:23\n",
      "'select()' returned 1:many mapping between keys and columns\n",
      "'select()' returned 1:1 mapping between keys and columns\n",
      "'select()' returned 1:1 mapping between keys and columns\n",
      "'select()' returned 1:1 mapping between keys and columns\n"
     ]
    },
    {
     "name": "stdout",
     "output_type": "stream",
     "text": [
      "[1] 168\n"
     ]
    },
    {
     "name": "stderr",
     "output_type": "stream",
     "text": [
      "2023-03-20 11:19:24\n",
      "'select()' returned 1:many mapping between keys and columns\n",
      "'select()' returned 1:1 mapping between keys and columns\n",
      "'select()' returned 1:1 mapping between keys and columns\n",
      "'select()' returned 1:1 mapping between keys and columns\n"
     ]
    },
    {
     "name": "stdout",
     "output_type": "stream",
     "text": [
      "[1] 169\n"
     ]
    },
    {
     "name": "stderr",
     "output_type": "stream",
     "text": [
      "2023-03-20 11:19:26\n",
      "'select()' returned 1:many mapping between keys and columns\n",
      "'select()' returned 1:1 mapping between keys and columns\n",
      "'select()' returned 1:1 mapping between keys and columns\n",
      "'select()' returned 1:1 mapping between keys and columns\n"
     ]
    },
    {
     "name": "stdout",
     "output_type": "stream",
     "text": [
      "[1] 170\n"
     ]
    },
    {
     "name": "stderr",
     "output_type": "stream",
     "text": [
      "2023-03-20 11:19:27\n",
      "'select()' returned 1:many mapping between keys and columns\n",
      "'select()' returned 1:1 mapping between keys and columns\n",
      "'select()' returned 1:1 mapping between keys and columns\n",
      "'select()' returned 1:1 mapping between keys and columns\n"
     ]
    },
    {
     "name": "stdout",
     "output_type": "stream",
     "text": [
      "[1] 171\n"
     ]
    },
    {
     "name": "stderr",
     "output_type": "stream",
     "text": [
      "2023-03-20 11:19:29\n",
      "'select()' returned 1:many mapping between keys and columns\n",
      "'select()' returned 1:1 mapping between keys and columns\n",
      "'select()' returned 1:1 mapping between keys and columns\n",
      "'select()' returned 1:1 mapping between keys and columns\n"
     ]
    },
    {
     "name": "stdout",
     "output_type": "stream",
     "text": [
      "[1] 172\n"
     ]
    },
    {
     "name": "stderr",
     "output_type": "stream",
     "text": [
      "2023-03-20 11:19:30\n",
      "'select()' returned 1:many mapping between keys and columns\n",
      "'select()' returned 1:1 mapping between keys and columns\n",
      "'select()' returned 1:1 mapping between keys and columns\n",
      "'select()' returned 1:1 mapping between keys and columns\n"
     ]
    },
    {
     "name": "stdout",
     "output_type": "stream",
     "text": [
      "[1] 173\n"
     ]
    },
    {
     "name": "stderr",
     "output_type": "stream",
     "text": [
      "2023-03-20 11:19:32\n",
      "'select()' returned 1:many mapping between keys and columns\n",
      "'select()' returned 1:1 mapping between keys and columns\n",
      "'select()' returned 1:1 mapping between keys and columns\n",
      "'select()' returned 1:1 mapping between keys and columns\n"
     ]
    },
    {
     "name": "stdout",
     "output_type": "stream",
     "text": [
      "[1] 174\n"
     ]
    },
    {
     "name": "stderr",
     "output_type": "stream",
     "text": [
      "2023-03-20 11:19:33\n",
      "'select()' returned 1:many mapping between keys and columns\n",
      "'select()' returned 1:1 mapping between keys and columns\n",
      "'select()' returned 1:1 mapping between keys and columns\n",
      "'select()' returned 1:1 mapping between keys and columns\n"
     ]
    },
    {
     "name": "stdout",
     "output_type": "stream",
     "text": [
      "[1] 175\n"
     ]
    },
    {
     "name": "stderr",
     "output_type": "stream",
     "text": [
      "2023-03-20 11:19:35\n",
      "'select()' returned 1:many mapping between keys and columns\n",
      "'select()' returned 1:1 mapping between keys and columns\n",
      "'select()' returned 1:1 mapping between keys and columns\n",
      "'select()' returned 1:1 mapping between keys and columns\n"
     ]
    },
    {
     "name": "stdout",
     "output_type": "stream",
     "text": [
      "[1] 176\n"
     ]
    },
    {
     "name": "stderr",
     "output_type": "stream",
     "text": [
      "2023-03-20 11:19:36\n",
      "'select()' returned 1:many mapping between keys and columns\n",
      "'select()' returned 1:1 mapping between keys and columns\n",
      "'select()' returned 1:1 mapping between keys and columns\n",
      "'select()' returned 1:1 mapping between keys and columns\n"
     ]
    },
    {
     "name": "stdout",
     "output_type": "stream",
     "text": [
      "[1] 177\n"
     ]
    },
    {
     "name": "stderr",
     "output_type": "stream",
     "text": [
      "2023-03-20 11:19:38\n",
      "'select()' returned 1:many mapping between keys and columns\n",
      "'select()' returned 1:1 mapping between keys and columns\n",
      "'select()' returned 1:1 mapping between keys and columns\n",
      "'select()' returned 1:1 mapping between keys and columns\n"
     ]
    },
    {
     "name": "stdout",
     "output_type": "stream",
     "text": [
      "[1] 178\n"
     ]
    },
    {
     "name": "stderr",
     "output_type": "stream",
     "text": [
      "2023-03-20 11:19:39\n",
      "'select()' returned 1:many mapping between keys and columns\n",
      "'select()' returned 1:1 mapping between keys and columns\n",
      "'select()' returned 1:1 mapping between keys and columns\n",
      "'select()' returned 1:1 mapping between keys and columns\n"
     ]
    },
    {
     "name": "stdout",
     "output_type": "stream",
     "text": [
      "[1] 179\n"
     ]
    },
    {
     "name": "stderr",
     "output_type": "stream",
     "text": [
      "2023-03-20 11:19:41\n",
      "'select()' returned 1:many mapping between keys and columns\n",
      "'select()' returned 1:1 mapping between keys and columns\n",
      "'select()' returned 1:1 mapping between keys and columns\n",
      "'select()' returned 1:1 mapping between keys and columns\n"
     ]
    },
    {
     "name": "stdout",
     "output_type": "stream",
     "text": [
      "[1] 180\n"
     ]
    },
    {
     "name": "stderr",
     "output_type": "stream",
     "text": [
      "2023-03-20 11:19:42\n",
      "'select()' returned 1:many mapping between keys and columns\n",
      "'select()' returned 1:1 mapping between keys and columns\n",
      "'select()' returned 1:1 mapping between keys and columns\n",
      "'select()' returned 1:1 mapping between keys and columns\n"
     ]
    },
    {
     "name": "stdout",
     "output_type": "stream",
     "text": [
      "[1] 181\n"
     ]
    },
    {
     "name": "stderr",
     "output_type": "stream",
     "text": [
      "2023-03-20 11:19:44\n",
      "'select()' returned 1:many mapping between keys and columns\n",
      "'select()' returned 1:1 mapping between keys and columns\n",
      "'select()' returned 1:1 mapping between keys and columns\n",
      "'select()' returned 1:1 mapping between keys and columns\n"
     ]
    },
    {
     "name": "stdout",
     "output_type": "stream",
     "text": [
      "[1] 182\n"
     ]
    },
    {
     "name": "stderr",
     "output_type": "stream",
     "text": [
      "2023-03-20 11:19:45\n",
      "'select()' returned 1:many mapping between keys and columns\n",
      "'select()' returned 1:1 mapping between keys and columns\n",
      "'select()' returned 1:1 mapping between keys and columns\n",
      "'select()' returned 1:1 mapping between keys and columns\n"
     ]
    },
    {
     "name": "stdout",
     "output_type": "stream",
     "text": [
      "[1] 183\n"
     ]
    },
    {
     "name": "stderr",
     "output_type": "stream",
     "text": [
      "2023-03-20 11:19:47\n",
      "'select()' returned 1:many mapping between keys and columns\n",
      "'select()' returned 1:1 mapping between keys and columns\n",
      "'select()' returned 1:1 mapping between keys and columns\n",
      "'select()' returned 1:1 mapping between keys and columns\n"
     ]
    },
    {
     "name": "stdout",
     "output_type": "stream",
     "text": [
      "[1] 184\n"
     ]
    },
    {
     "name": "stderr",
     "output_type": "stream",
     "text": [
      "2023-03-20 11:19:48\n",
      "'select()' returned 1:many mapping between keys and columns\n",
      "'select()' returned 1:1 mapping between keys and columns\n",
      "'select()' returned 1:1 mapping between keys and columns\n",
      "'select()' returned 1:1 mapping between keys and columns\n"
     ]
    },
    {
     "name": "stdout",
     "output_type": "stream",
     "text": [
      "[1] 185\n"
     ]
    },
    {
     "name": "stderr",
     "output_type": "stream",
     "text": [
      "2023-03-20 11:19:49\n",
      "'select()' returned 1:many mapping between keys and columns\n",
      "'select()' returned 1:1 mapping between keys and columns\n",
      "'select()' returned 1:1 mapping between keys and columns\n",
      "'select()' returned 1:1 mapping between keys and columns\n"
     ]
    },
    {
     "name": "stdout",
     "output_type": "stream",
     "text": [
      "[1] 186\n"
     ]
    },
    {
     "name": "stderr",
     "output_type": "stream",
     "text": [
      "2023-03-20 11:19:51\n",
      "'select()' returned 1:many mapping between keys and columns\n",
      "'select()' returned 1:1 mapping between keys and columns\n",
      "'select()' returned 1:1 mapping between keys and columns\n",
      "'select()' returned 1:1 mapping between keys and columns\n"
     ]
    },
    {
     "name": "stdout",
     "output_type": "stream",
     "text": [
      "[1] 187\n"
     ]
    },
    {
     "name": "stderr",
     "output_type": "stream",
     "text": [
      "2023-03-20 11:19:52\n",
      "'select()' returned 1:many mapping between keys and columns\n",
      "'select()' returned 1:1 mapping between keys and columns\n",
      "'select()' returned 1:1 mapping between keys and columns\n",
      "'select()' returned 1:1 mapping between keys and columns\n"
     ]
    },
    {
     "name": "stdout",
     "output_type": "stream",
     "text": [
      "[1] 188\n"
     ]
    },
    {
     "name": "stderr",
     "output_type": "stream",
     "text": [
      "2023-03-20 11:19:54\n",
      "'select()' returned 1:many mapping between keys and columns\n",
      "'select()' returned 1:1 mapping between keys and columns\n",
      "'select()' returned 1:1 mapping between keys and columns\n",
      "'select()' returned 1:1 mapping between keys and columns\n"
     ]
    },
    {
     "name": "stdout",
     "output_type": "stream",
     "text": [
      "[1] 189\n"
     ]
    },
    {
     "name": "stderr",
     "output_type": "stream",
     "text": [
      "2023-03-20 11:19:55\n",
      "'select()' returned 1:many mapping between keys and columns\n",
      "'select()' returned 1:1 mapping between keys and columns\n",
      "'select()' returned 1:1 mapping between keys and columns\n",
      "'select()' returned 1:1 mapping between keys and columns\n"
     ]
    },
    {
     "name": "stdout",
     "output_type": "stream",
     "text": [
      "[1] 190\n"
     ]
    },
    {
     "name": "stderr",
     "output_type": "stream",
     "text": [
      "2023-03-20 11:19:57\n",
      "'select()' returned 1:many mapping between keys and columns\n",
      "'select()' returned 1:1 mapping between keys and columns\n",
      "'select()' returned 1:1 mapping between keys and columns\n",
      "'select()' returned 1:1 mapping between keys and columns\n"
     ]
    },
    {
     "name": "stdout",
     "output_type": "stream",
     "text": [
      "[1] 191\n"
     ]
    },
    {
     "name": "stderr",
     "output_type": "stream",
     "text": [
      "2023-03-20 11:19:58\n",
      "'select()' returned 1:many mapping between keys and columns\n",
      "'select()' returned 1:1 mapping between keys and columns\n",
      "'select()' returned 1:1 mapping between keys and columns\n",
      "'select()' returned 1:1 mapping between keys and columns\n"
     ]
    },
    {
     "name": "stdout",
     "output_type": "stream",
     "text": [
      "[1] 192\n"
     ]
    },
    {
     "name": "stderr",
     "output_type": "stream",
     "text": [
      "2023-03-20 11:20:00\n",
      "'select()' returned 1:many mapping between keys and columns\n",
      "'select()' returned 1:1 mapping between keys and columns\n",
      "'select()' returned 1:1 mapping between keys and columns\n",
      "'select()' returned 1:1 mapping between keys and columns\n"
     ]
    },
    {
     "name": "stdout",
     "output_type": "stream",
     "text": [
      "[1] 193\n"
     ]
    },
    {
     "name": "stderr",
     "output_type": "stream",
     "text": [
      "2023-03-20 11:20:01\n",
      "'select()' returned 1:many mapping between keys and columns\n",
      "'select()' returned 1:1 mapping between keys and columns\n",
      "'select()' returned 1:1 mapping between keys and columns\n",
      "'select()' returned 1:1 mapping between keys and columns\n"
     ]
    },
    {
     "name": "stdout",
     "output_type": "stream",
     "text": [
      "[1] 194\n"
     ]
    },
    {
     "name": "stderr",
     "output_type": "stream",
     "text": [
      "2023-03-20 11:20:03\n",
      "'select()' returned 1:many mapping between keys and columns\n",
      "'select()' returned 1:1 mapping between keys and columns\n",
      "'select()' returned 1:1 mapping between keys and columns\n",
      "'select()' returned 1:1 mapping between keys and columns\n"
     ]
    },
    {
     "name": "stdout",
     "output_type": "stream",
     "text": [
      "[1] 195\n"
     ]
    },
    {
     "name": "stderr",
     "output_type": "stream",
     "text": [
      "2023-03-20 11:20:04\n",
      "'select()' returned 1:many mapping between keys and columns\n",
      "'select()' returned 1:1 mapping between keys and columns\n",
      "'select()' returned 1:1 mapping between keys and columns\n",
      "'select()' returned 1:1 mapping between keys and columns\n"
     ]
    },
    {
     "name": "stdout",
     "output_type": "stream",
     "text": [
      "[1] 196\n"
     ]
    },
    {
     "name": "stderr",
     "output_type": "stream",
     "text": [
      "2023-03-20 11:20:06\n",
      "'select()' returned 1:many mapping between keys and columns\n",
      "'select()' returned 1:1 mapping between keys and columns\n",
      "'select()' returned 1:1 mapping between keys and columns\n",
      "'select()' returned 1:1 mapping between keys and columns\n"
     ]
    },
    {
     "name": "stdout",
     "output_type": "stream",
     "text": [
      "[1] 197\n"
     ]
    },
    {
     "name": "stderr",
     "output_type": "stream",
     "text": [
      "2023-03-20 11:20:07\n",
      "'select()' returned 1:many mapping between keys and columns\n",
      "'select()' returned 1:1 mapping between keys and columns\n",
      "'select()' returned 1:1 mapping between keys and columns\n",
      "'select()' returned 1:1 mapping between keys and columns\n"
     ]
    },
    {
     "name": "stdout",
     "output_type": "stream",
     "text": [
      "[1] 198\n"
     ]
    },
    {
     "name": "stderr",
     "output_type": "stream",
     "text": [
      "2023-03-20 11:20:09\n",
      "'select()' returned 1:many mapping between keys and columns\n",
      "'select()' returned 1:1 mapping between keys and columns\n",
      "'select()' returned 1:1 mapping between keys and columns\n",
      "'select()' returned 1:1 mapping between keys and columns\n"
     ]
    },
    {
     "name": "stdout",
     "output_type": "stream",
     "text": [
      "[1] 199\n"
     ]
    },
    {
     "name": "stderr",
     "output_type": "stream",
     "text": [
      "2023-03-20 11:20:10\n",
      "'select()' returned 1:many mapping between keys and columns\n",
      "'select()' returned 1:1 mapping between keys and columns\n",
      "'select()' returned 1:1 mapping between keys and columns\n",
      "'select()' returned 1:1 mapping between keys and columns\n"
     ]
    },
    {
     "name": "stdout",
     "output_type": "stream",
     "text": [
      "[1] 200\n"
     ]
    },
    {
     "name": "stderr",
     "output_type": "stream",
     "text": [
      "2023-03-20 11:20:12\n",
      "'select()' returned 1:many mapping between keys and columns\n",
      "'select()' returned 1:1 mapping between keys and columns\n",
      "'select()' returned 1:1 mapping between keys and columns\n",
      "'select()' returned 1:1 mapping between keys and columns\n"
     ]
    },
    {
     "name": "stdout",
     "output_type": "stream",
     "text": [
      "[1] 201\n"
     ]
    },
    {
     "name": "stderr",
     "output_type": "stream",
     "text": [
      "2023-03-20 11:20:13\n",
      "'select()' returned 1:many mapping between keys and columns\n",
      "'select()' returned 1:1 mapping between keys and columns\n",
      "'select()' returned 1:1 mapping between keys and columns\n",
      "'select()' returned 1:1 mapping between keys and columns\n"
     ]
    },
    {
     "name": "stdout",
     "output_type": "stream",
     "text": [
      "[1] 202\n"
     ]
    },
    {
     "name": "stderr",
     "output_type": "stream",
     "text": [
      "2023-03-20 11:20:15\n",
      "'select()' returned 1:many mapping between keys and columns\n",
      "'select()' returned 1:1 mapping between keys and columns\n",
      "'select()' returned 1:1 mapping between keys and columns\n",
      "'select()' returned 1:1 mapping between keys and columns\n"
     ]
    },
    {
     "name": "stdout",
     "output_type": "stream",
     "text": [
      "[1] 203\n"
     ]
    },
    {
     "name": "stderr",
     "output_type": "stream",
     "text": [
      "2023-03-20 11:20:16\n",
      "'select()' returned 1:many mapping between keys and columns\n",
      "'select()' returned 1:1 mapping between keys and columns\n",
      "'select()' returned 1:1 mapping between keys and columns\n",
      "'select()' returned 1:1 mapping between keys and columns\n"
     ]
    },
    {
     "name": "stdout",
     "output_type": "stream",
     "text": [
      "[1] 204\n"
     ]
    },
    {
     "name": "stderr",
     "output_type": "stream",
     "text": [
      "2023-03-20 11:20:18\n",
      "'select()' returned 1:many mapping between keys and columns\n",
      "'select()' returned 1:1 mapping between keys and columns\n",
      "'select()' returned 1:1 mapping between keys and columns\n",
      "'select()' returned 1:1 mapping between keys and columns\n"
     ]
    },
    {
     "name": "stdout",
     "output_type": "stream",
     "text": [
      "[1] 205\n"
     ]
    },
    {
     "name": "stderr",
     "output_type": "stream",
     "text": [
      "2023-03-20 11:20:19\n",
      "'select()' returned 1:many mapping between keys and columns\n",
      "'select()' returned 1:1 mapping between keys and columns\n",
      "'select()' returned 1:1 mapping between keys and columns\n",
      "'select()' returned 1:1 mapping between keys and columns\n"
     ]
    },
    {
     "name": "stdout",
     "output_type": "stream",
     "text": [
      "[1] 206\n"
     ]
    },
    {
     "name": "stderr",
     "output_type": "stream",
     "text": [
      "2023-03-20 11:20:20\n",
      "'select()' returned 1:many mapping between keys and columns\n",
      "'select()' returned 1:1 mapping between keys and columns\n",
      "'select()' returned 1:1 mapping between keys and columns\n",
      "'select()' returned 1:1 mapping between keys and columns\n"
     ]
    },
    {
     "name": "stdout",
     "output_type": "stream",
     "text": [
      "[1] 207\n"
     ]
    },
    {
     "name": "stderr",
     "output_type": "stream",
     "text": [
      "2023-03-20 11:20:22\n",
      "'select()' returned 1:many mapping between keys and columns\n",
      "'select()' returned 1:1 mapping between keys and columns\n",
      "'select()' returned 1:1 mapping between keys and columns\n",
      "'select()' returned 1:1 mapping between keys and columns\n"
     ]
    },
    {
     "name": "stdout",
     "output_type": "stream",
     "text": [
      "[1] 208\n"
     ]
    },
    {
     "name": "stderr",
     "output_type": "stream",
     "text": [
      "2023-03-20 11:20:23\n",
      "'select()' returned 1:many mapping between keys and columns\n",
      "'select()' returned 1:1 mapping between keys and columns\n",
      "'select()' returned 1:1 mapping between keys and columns\n",
      "'select()' returned 1:1 mapping between keys and columns\n"
     ]
    },
    {
     "name": "stdout",
     "output_type": "stream",
     "text": [
      "[1] 209\n"
     ]
    },
    {
     "name": "stderr",
     "output_type": "stream",
     "text": [
      "2023-03-20 11:20:25\n",
      "'select()' returned 1:many mapping between keys and columns\n",
      "'select()' returned 1:1 mapping between keys and columns\n",
      "'select()' returned 1:1 mapping between keys and columns\n",
      "'select()' returned 1:1 mapping between keys and columns\n"
     ]
    },
    {
     "name": "stdout",
     "output_type": "stream",
     "text": [
      "[1] 210\n"
     ]
    },
    {
     "name": "stderr",
     "output_type": "stream",
     "text": [
      "2023-03-20 11:20:26\n",
      "'select()' returned 1:many mapping between keys and columns\n",
      "'select()' returned 1:1 mapping between keys and columns\n",
      "'select()' returned 1:1 mapping between keys and columns\n",
      "'select()' returned 1:1 mapping between keys and columns\n"
     ]
    },
    {
     "name": "stdout",
     "output_type": "stream",
     "text": [
      "[1] 211\n"
     ]
    },
    {
     "name": "stderr",
     "output_type": "stream",
     "text": [
      "2023-03-20 11:20:28\n",
      "'select()' returned 1:many mapping between keys and columns\n",
      "'select()' returned 1:1 mapping between keys and columns\n",
      "'select()' returned 1:1 mapping between keys and columns\n",
      "'select()' returned 1:1 mapping between keys and columns\n"
     ]
    },
    {
     "name": "stdout",
     "output_type": "stream",
     "text": [
      "[1] 212\n"
     ]
    },
    {
     "name": "stderr",
     "output_type": "stream",
     "text": [
      "2023-03-20 11:20:29\n",
      "'select()' returned 1:many mapping between keys and columns\n",
      "'select()' returned 1:1 mapping between keys and columns\n",
      "'select()' returned 1:1 mapping between keys and columns\n",
      "'select()' returned 1:1 mapping between keys and columns\n"
     ]
    },
    {
     "name": "stdout",
     "output_type": "stream",
     "text": [
      "[1] 213\n"
     ]
    },
    {
     "name": "stderr",
     "output_type": "stream",
     "text": [
      "2023-03-20 11:20:31\n",
      "'select()' returned 1:many mapping between keys and columns\n",
      "'select()' returned 1:1 mapping between keys and columns\n",
      "'select()' returned 1:1 mapping between keys and columns\n",
      "'select()' returned 1:1 mapping between keys and columns\n"
     ]
    },
    {
     "name": "stdout",
     "output_type": "stream",
     "text": [
      "[1] 214\n"
     ]
    },
    {
     "name": "stderr",
     "output_type": "stream",
     "text": [
      "2023-03-20 11:20:32\n",
      "'select()' returned 1:many mapping between keys and columns\n",
      "'select()' returned 1:1 mapping between keys and columns\n",
      "'select()' returned 1:1 mapping between keys and columns\n",
      "'select()' returned 1:1 mapping between keys and columns\n"
     ]
    },
    {
     "name": "stdout",
     "output_type": "stream",
     "text": [
      "[1] 215\n"
     ]
    },
    {
     "name": "stderr",
     "output_type": "stream",
     "text": [
      "2023-03-20 11:20:34\n",
      "'select()' returned 1:many mapping between keys and columns\n",
      "'select()' returned 1:1 mapping between keys and columns\n",
      "'select()' returned 1:1 mapping between keys and columns\n",
      "'select()' returned 1:1 mapping between keys and columns\n"
     ]
    },
    {
     "name": "stdout",
     "output_type": "stream",
     "text": [
      "[1] 216\n"
     ]
    },
    {
     "name": "stderr",
     "output_type": "stream",
     "text": [
      "2023-03-20 11:20:36\n",
      "'select()' returned 1:many mapping between keys and columns\n",
      "'select()' returned 1:1 mapping between keys and columns\n",
      "'select()' returned 1:1 mapping between keys and columns\n",
      "'select()' returned 1:1 mapping between keys and columns\n"
     ]
    },
    {
     "name": "stdout",
     "output_type": "stream",
     "text": [
      "[1] 217\n"
     ]
    },
    {
     "name": "stderr",
     "output_type": "stream",
     "text": [
      "2023-03-20 11:20:37\n",
      "'select()' returned 1:many mapping between keys and columns\n",
      "'select()' returned 1:1 mapping between keys and columns\n",
      "'select()' returned 1:1 mapping between keys and columns\n",
      "'select()' returned 1:1 mapping between keys and columns\n"
     ]
    },
    {
     "name": "stdout",
     "output_type": "stream",
     "text": [
      "[1] 218\n"
     ]
    },
    {
     "name": "stderr",
     "output_type": "stream",
     "text": [
      "2023-03-20 11:20:38\n",
      "'select()' returned 1:many mapping between keys and columns\n",
      "'select()' returned 1:1 mapping between keys and columns\n",
      "'select()' returned 1:1 mapping between keys and columns\n",
      "'select()' returned 1:1 mapping between keys and columns\n"
     ]
    },
    {
     "name": "stdout",
     "output_type": "stream",
     "text": [
      "[1] 219\n"
     ]
    },
    {
     "name": "stderr",
     "output_type": "stream",
     "text": [
      "2023-03-20 11:20:40\n",
      "'select()' returned 1:many mapping between keys and columns\n",
      "'select()' returned 1:1 mapping between keys and columns\n",
      "'select()' returned 1:1 mapping between keys and columns\n",
      "'select()' returned 1:1 mapping between keys and columns\n"
     ]
    },
    {
     "name": "stdout",
     "output_type": "stream",
     "text": [
      "[1] 220\n"
     ]
    },
    {
     "name": "stderr",
     "output_type": "stream",
     "text": [
      "2023-03-20 11:20:42\n",
      "'select()' returned 1:many mapping between keys and columns\n",
      "'select()' returned 1:1 mapping between keys and columns\n",
      "'select()' returned 1:1 mapping between keys and columns\n",
      "'select()' returned 1:1 mapping between keys and columns\n"
     ]
    },
    {
     "name": "stdout",
     "output_type": "stream",
     "text": [
      "[1] 221\n"
     ]
    },
    {
     "name": "stderr",
     "output_type": "stream",
     "text": [
      "2023-03-20 11:20:43\n",
      "'select()' returned 1:many mapping between keys and columns\n",
      "'select()' returned 1:1 mapping between keys and columns\n",
      "'select()' returned 1:1 mapping between keys and columns\n",
      "'select()' returned 1:1 mapping between keys and columns\n"
     ]
    },
    {
     "name": "stdout",
     "output_type": "stream",
     "text": [
      "[1] 222\n"
     ]
    },
    {
     "name": "stderr",
     "output_type": "stream",
     "text": [
      "2023-03-20 11:20:45\n",
      "'select()' returned 1:many mapping between keys and columns\n",
      "'select()' returned 1:1 mapping between keys and columns\n",
      "'select()' returned 1:1 mapping between keys and columns\n",
      "'select()' returned 1:1 mapping between keys and columns\n"
     ]
    },
    {
     "name": "stdout",
     "output_type": "stream",
     "text": [
      "[1] 223\n"
     ]
    },
    {
     "name": "stderr",
     "output_type": "stream",
     "text": [
      "2023-03-20 11:20:47\n",
      "'select()' returned 1:many mapping between keys and columns\n",
      "'select()' returned 1:1 mapping between keys and columns\n",
      "'select()' returned 1:1 mapping between keys and columns\n",
      "'select()' returned 1:1 mapping between keys and columns\n"
     ]
    },
    {
     "name": "stdout",
     "output_type": "stream",
     "text": [
      "[1] 224\n"
     ]
    },
    {
     "name": "stderr",
     "output_type": "stream",
     "text": [
      "2023-03-20 11:20:48\n",
      "'select()' returned 1:many mapping between keys and columns\n",
      "'select()' returned 1:1 mapping between keys and columns\n",
      "'select()' returned 1:1 mapping between keys and columns\n",
      "'select()' returned 1:1 mapping between keys and columns\n"
     ]
    },
    {
     "name": "stdout",
     "output_type": "stream",
     "text": [
      "[1] 225\n"
     ]
    },
    {
     "name": "stderr",
     "output_type": "stream",
     "text": [
      "2023-03-20 11:20:50\n",
      "'select()' returned 1:many mapping between keys and columns\n",
      "'select()' returned 1:1 mapping between keys and columns\n",
      "'select()' returned 1:1 mapping between keys and columns\n",
      "'select()' returned 1:1 mapping between keys and columns\n"
     ]
    },
    {
     "name": "stdout",
     "output_type": "stream",
     "text": [
      "[1] 226\n"
     ]
    },
    {
     "name": "stderr",
     "output_type": "stream",
     "text": [
      "2023-03-20 11:20:51\n",
      "'select()' returned 1:many mapping between keys and columns\n",
      "'select()' returned 1:1 mapping between keys and columns\n",
      "'select()' returned 1:1 mapping between keys and columns\n",
      "'select()' returned 1:1 mapping between keys and columns\n"
     ]
    },
    {
     "name": "stdout",
     "output_type": "stream",
     "text": [
      "[1] 227\n"
     ]
    },
    {
     "name": "stderr",
     "output_type": "stream",
     "text": [
      "2023-03-20 11:20:53\n",
      "'select()' returned 1:many mapping between keys and columns\n",
      "'select()' returned 1:1 mapping between keys and columns\n",
      "'select()' returned 1:1 mapping between keys and columns\n",
      "'select()' returned 1:1 mapping between keys and columns\n"
     ]
    },
    {
     "name": "stdout",
     "output_type": "stream",
     "text": [
      "[1] 228\n"
     ]
    },
    {
     "name": "stderr",
     "output_type": "stream",
     "text": [
      "2023-03-20 11:20:54\n",
      "'select()' returned 1:many mapping between keys and columns\n",
      "'select()' returned 1:1 mapping between keys and columns\n",
      "'select()' returned 1:1 mapping between keys and columns\n",
      "'select()' returned 1:1 mapping between keys and columns\n"
     ]
    },
    {
     "name": "stdout",
     "output_type": "stream",
     "text": [
      "[1] 229\n"
     ]
    },
    {
     "name": "stderr",
     "output_type": "stream",
     "text": [
      "2023-03-20 11:20:56\n",
      "'select()' returned 1:many mapping between keys and columns\n",
      "'select()' returned 1:1 mapping between keys and columns\n",
      "'select()' returned 1:1 mapping between keys and columns\n",
      "'select()' returned 1:1 mapping between keys and columns\n"
     ]
    },
    {
     "name": "stdout",
     "output_type": "stream",
     "text": [
      "[1] 230\n"
     ]
    },
    {
     "name": "stderr",
     "output_type": "stream",
     "text": [
      "2023-03-20 11:20:58\n",
      "'select()' returned 1:many mapping between keys and columns\n",
      "'select()' returned 1:1 mapping between keys and columns\n",
      "'select()' returned 1:1 mapping between keys and columns\n",
      "'select()' returned 1:1 mapping between keys and columns\n"
     ]
    },
    {
     "name": "stdout",
     "output_type": "stream",
     "text": [
      "[1] 231\n"
     ]
    },
    {
     "name": "stderr",
     "output_type": "stream",
     "text": [
      "2023-03-20 11:21:00\n",
      "'select()' returned 1:many mapping between keys and columns\n",
      "'select()' returned 1:1 mapping between keys and columns\n",
      "'select()' returned 1:1 mapping between keys and columns\n",
      "'select()' returned 1:1 mapping between keys and columns\n"
     ]
    },
    {
     "name": "stdout",
     "output_type": "stream",
     "text": [
      "[1] 232\n"
     ]
    },
    {
     "name": "stderr",
     "output_type": "stream",
     "text": [
      "2023-03-20 11:21:02\n",
      "'select()' returned 1:many mapping between keys and columns\n",
      "'select()' returned 1:1 mapping between keys and columns\n",
      "'select()' returned 1:1 mapping between keys and columns\n",
      "'select()' returned 1:1 mapping between keys and columns\n"
     ]
    },
    {
     "name": "stdout",
     "output_type": "stream",
     "text": [
      "[1] 233\n"
     ]
    },
    {
     "name": "stderr",
     "output_type": "stream",
     "text": [
      "2023-03-20 11:21:03\n",
      "'select()' returned 1:many mapping between keys and columns\n",
      "'select()' returned 1:1 mapping between keys and columns\n",
      "'select()' returned 1:1 mapping between keys and columns\n",
      "'select()' returned 1:1 mapping between keys and columns\n"
     ]
    },
    {
     "name": "stdout",
     "output_type": "stream",
     "text": [
      "[1] 234\n"
     ]
    },
    {
     "name": "stderr",
     "output_type": "stream",
     "text": [
      "2023-03-20 11:21:06\n",
      "'select()' returned 1:many mapping between keys and columns\n",
      "'select()' returned 1:1 mapping between keys and columns\n",
      "'select()' returned 1:1 mapping between keys and columns\n",
      "'select()' returned 1:1 mapping between keys and columns\n"
     ]
    },
    {
     "name": "stdout",
     "output_type": "stream",
     "text": [
      "[1] 235\n"
     ]
    },
    {
     "name": "stderr",
     "output_type": "stream",
     "text": [
      "2023-03-20 11:21:08\n",
      "'select()' returned 1:many mapping between keys and columns\n",
      "'select()' returned 1:1 mapping between keys and columns\n",
      "'select()' returned 1:1 mapping between keys and columns\n",
      "'select()' returned 1:1 mapping between keys and columns\n"
     ]
    },
    {
     "name": "stdout",
     "output_type": "stream",
     "text": [
      "[1] 236\n"
     ]
    },
    {
     "name": "stderr",
     "output_type": "stream",
     "text": [
      "2023-03-20 11:21:09\n",
      "'select()' returned 1:many mapping between keys and columns\n",
      "'select()' returned 1:1 mapping between keys and columns\n",
      "'select()' returned 1:1 mapping between keys and columns\n",
      "'select()' returned 1:1 mapping between keys and columns\n"
     ]
    },
    {
     "name": "stdout",
     "output_type": "stream",
     "text": [
      "[1] 237\n"
     ]
    },
    {
     "name": "stderr",
     "output_type": "stream",
     "text": [
      "2023-03-20 11:21:10\n",
      "'select()' returned 1:many mapping between keys and columns\n",
      "'select()' returned 1:1 mapping between keys and columns\n",
      "'select()' returned 1:1 mapping between keys and columns\n",
      "'select()' returned 1:1 mapping between keys and columns\n"
     ]
    },
    {
     "name": "stdout",
     "output_type": "stream",
     "text": [
      "[1] 238\n"
     ]
    },
    {
     "name": "stderr",
     "output_type": "stream",
     "text": [
      "2023-03-20 11:21:12\n",
      "'select()' returned 1:many mapping between keys and columns\n",
      "'select()' returned 1:1 mapping between keys and columns\n",
      "'select()' returned 1:1 mapping between keys and columns\n",
      "'select()' returned 1:1 mapping between keys and columns\n"
     ]
    },
    {
     "name": "stdout",
     "output_type": "stream",
     "text": [
      "[1] 239\n"
     ]
    },
    {
     "name": "stderr",
     "output_type": "stream",
     "text": [
      "2023-03-20 11:21:13\n",
      "'select()' returned 1:many mapping between keys and columns\n",
      "'select()' returned 1:1 mapping between keys and columns\n",
      "'select()' returned 1:1 mapping between keys and columns\n",
      "'select()' returned 1:1 mapping between keys and columns\n"
     ]
    },
    {
     "name": "stdout",
     "output_type": "stream",
     "text": [
      "[1] 240\n"
     ]
    },
    {
     "name": "stderr",
     "output_type": "stream",
     "text": [
      "2023-03-20 11:21:15\n",
      "'select()' returned 1:many mapping between keys and columns\n",
      "'select()' returned 1:1 mapping between keys and columns\n",
      "'select()' returned 1:1 mapping between keys and columns\n",
      "'select()' returned 1:1 mapping between keys and columns\n"
     ]
    },
    {
     "name": "stdout",
     "output_type": "stream",
     "text": [
      "[1] 241\n"
     ]
    },
    {
     "name": "stderr",
     "output_type": "stream",
     "text": [
      "2023-03-20 11:21:16\n",
      "'select()' returned 1:many mapping between keys and columns\n",
      "'select()' returned 1:1 mapping between keys and columns\n",
      "'select()' returned 1:1 mapping between keys and columns\n",
      "'select()' returned 1:1 mapping between keys and columns\n"
     ]
    },
    {
     "name": "stdout",
     "output_type": "stream",
     "text": [
      "[1] 242\n"
     ]
    },
    {
     "name": "stderr",
     "output_type": "stream",
     "text": [
      "2023-03-20 11:21:18\n",
      "'select()' returned 1:many mapping between keys and columns\n",
      "'select()' returned 1:1 mapping between keys and columns\n",
      "'select()' returned 1:1 mapping between keys and columns\n",
      "'select()' returned 1:1 mapping between keys and columns\n"
     ]
    },
    {
     "name": "stdout",
     "output_type": "stream",
     "text": [
      "[1] 243\n"
     ]
    },
    {
     "name": "stderr",
     "output_type": "stream",
     "text": [
      "2023-03-20 11:21:19\n",
      "'select()' returned 1:many mapping between keys and columns\n",
      "'select()' returned 1:1 mapping between keys and columns\n",
      "'select()' returned 1:1 mapping between keys and columns\n",
      "'select()' returned 1:1 mapping between keys and columns\n"
     ]
    },
    {
     "name": "stdout",
     "output_type": "stream",
     "text": [
      "[1] 244\n"
     ]
    },
    {
     "name": "stderr",
     "output_type": "stream",
     "text": [
      "2023-03-20 11:21:20\n",
      "'select()' returned 1:many mapping between keys and columns\n",
      "'select()' returned 1:1 mapping between keys and columns\n",
      "'select()' returned 1:1 mapping between keys and columns\n",
      "'select()' returned 1:1 mapping between keys and columns\n"
     ]
    },
    {
     "name": "stdout",
     "output_type": "stream",
     "text": [
      "[1] 245\n"
     ]
    },
    {
     "name": "stderr",
     "output_type": "stream",
     "text": [
      "2023-03-20 11:21:22\n",
      "'select()' returned 1:many mapping between keys and columns\n",
      "'select()' returned 1:1 mapping between keys and columns\n",
      "'select()' returned 1:1 mapping between keys and columns\n",
      "'select()' returned 1:1 mapping between keys and columns\n"
     ]
    },
    {
     "name": "stdout",
     "output_type": "stream",
     "text": [
      "[1] 246\n"
     ]
    },
    {
     "name": "stderr",
     "output_type": "stream",
     "text": [
      "2023-03-20 11:21:23\n",
      "'select()' returned 1:many mapping between keys and columns\n",
      "'select()' returned 1:1 mapping between keys and columns\n",
      "'select()' returned 1:1 mapping between keys and columns\n",
      "'select()' returned 1:1 mapping between keys and columns\n"
     ]
    },
    {
     "name": "stdout",
     "output_type": "stream",
     "text": [
      "[1] 247\n"
     ]
    },
    {
     "name": "stderr",
     "output_type": "stream",
     "text": [
      "2023-03-20 11:21:26\n",
      "'select()' returned 1:many mapping between keys and columns\n",
      "'select()' returned 1:1 mapping between keys and columns\n",
      "'select()' returned 1:1 mapping between keys and columns\n",
      "'select()' returned 1:1 mapping between keys and columns\n"
     ]
    },
    {
     "name": "stdout",
     "output_type": "stream",
     "text": [
      "[1] 248\n"
     ]
    },
    {
     "name": "stderr",
     "output_type": "stream",
     "text": [
      "2023-03-20 11:21:28\n",
      "'select()' returned 1:many mapping between keys and columns\n",
      "'select()' returned 1:1 mapping between keys and columns\n",
      "'select()' returned 1:1 mapping between keys and columns\n",
      "'select()' returned 1:1 mapping between keys and columns\n"
     ]
    },
    {
     "name": "stdout",
     "output_type": "stream",
     "text": [
      "[1] 249\n"
     ]
    },
    {
     "name": "stderr",
     "output_type": "stream",
     "text": [
      "2023-03-20 11:21:29\n",
      "'select()' returned 1:many mapping between keys and columns\n",
      "'select()' returned 1:1 mapping between keys and columns\n",
      "'select()' returned 1:1 mapping between keys and columns\n",
      "'select()' returned 1:1 mapping between keys and columns\n"
     ]
    },
    {
     "name": "stdout",
     "output_type": "stream",
     "text": [
      "[1] 250\n"
     ]
    },
    {
     "name": "stderr",
     "output_type": "stream",
     "text": [
      "2023-03-20 11:21:30\n",
      "'select()' returned 1:many mapping between keys and columns\n",
      "'select()' returned 1:1 mapping between keys and columns\n",
      "'select()' returned 1:1 mapping between keys and columns\n",
      "'select()' returned 1:1 mapping between keys and columns\n"
     ]
    },
    {
     "name": "stdout",
     "output_type": "stream",
     "text": [
      "[1] 251\n"
     ]
    },
    {
     "name": "stderr",
     "output_type": "stream",
     "text": [
      "2023-03-20 11:21:32\n",
      "'select()' returned 1:many mapping between keys and columns\n",
      "'select()' returned 1:1 mapping between keys and columns\n",
      "'select()' returned 1:1 mapping between keys and columns\n",
      "'select()' returned 1:1 mapping between keys and columns\n"
     ]
    },
    {
     "name": "stdout",
     "output_type": "stream",
     "text": [
      "[1] 252\n"
     ]
    },
    {
     "name": "stderr",
     "output_type": "stream",
     "text": [
      "2023-03-20 11:21:34\n",
      "'select()' returned 1:many mapping between keys and columns\n",
      "'select()' returned 1:1 mapping between keys and columns\n",
      "'select()' returned 1:1 mapping between keys and columns\n",
      "'select()' returned 1:1 mapping between keys and columns\n"
     ]
    },
    {
     "name": "stdout",
     "output_type": "stream",
     "text": [
      "[1] 253\n"
     ]
    },
    {
     "name": "stderr",
     "output_type": "stream",
     "text": [
      "2023-03-20 11:21:35\n",
      "'select()' returned 1:many mapping between keys and columns\n",
      "'select()' returned 1:1 mapping between keys and columns\n",
      "'select()' returned 1:1 mapping between keys and columns\n",
      "'select()' returned 1:1 mapping between keys and columns\n"
     ]
    },
    {
     "name": "stdout",
     "output_type": "stream",
     "text": [
      "[1] 254\n"
     ]
    },
    {
     "name": "stderr",
     "output_type": "stream",
     "text": [
      "2023-03-20 11:21:36\n",
      "'select()' returned 1:many mapping between keys and columns\n",
      "'select()' returned 1:1 mapping between keys and columns\n",
      "'select()' returned 1:1 mapping between keys and columns\n",
      "'select()' returned 1:1 mapping between keys and columns\n"
     ]
    },
    {
     "name": "stdout",
     "output_type": "stream",
     "text": [
      "[1] 255\n"
     ]
    },
    {
     "name": "stderr",
     "output_type": "stream",
     "text": [
      "2023-03-20 11:21:38\n",
      "'select()' returned 1:many mapping between keys and columns\n",
      "'select()' returned 1:1 mapping between keys and columns\n",
      "'select()' returned 1:1 mapping between keys and columns\n",
      "'select()' returned 1:1 mapping between keys and columns\n"
     ]
    },
    {
     "name": "stdout",
     "output_type": "stream",
     "text": [
      "[1] 256\n"
     ]
    },
    {
     "name": "stderr",
     "output_type": "stream",
     "text": [
      "2023-03-20 11:21:40\n",
      "'select()' returned 1:many mapping between keys and columns\n",
      "'select()' returned 1:1 mapping between keys and columns\n",
      "'select()' returned 1:1 mapping between keys and columns\n",
      "'select()' returned 1:1 mapping between keys and columns\n"
     ]
    },
    {
     "name": "stdout",
     "output_type": "stream",
     "text": [
      "[1] 257\n"
     ]
    },
    {
     "name": "stderr",
     "output_type": "stream",
     "text": [
      "2023-03-20 11:21:41\n",
      "'select()' returned 1:many mapping between keys and columns\n",
      "'select()' returned 1:1 mapping between keys and columns\n",
      "'select()' returned 1:1 mapping between keys and columns\n",
      "'select()' returned 1:1 mapping between keys and columns\n"
     ]
    },
    {
     "name": "stdout",
     "output_type": "stream",
     "text": [
      "[1] 258\n"
     ]
    },
    {
     "name": "stderr",
     "output_type": "stream",
     "text": [
      "2023-03-20 11:21:43\n",
      "'select()' returned 1:many mapping between keys and columns\n",
      "'select()' returned 1:1 mapping between keys and columns\n",
      "'select()' returned 1:1 mapping between keys and columns\n",
      "'select()' returned 1:1 mapping between keys and columns\n"
     ]
    },
    {
     "name": "stdout",
     "output_type": "stream",
     "text": [
      "[1] 259\n"
     ]
    },
    {
     "name": "stderr",
     "output_type": "stream",
     "text": [
      "2023-03-20 11:21:44\n",
      "'select()' returned 1:many mapping between keys and columns\n",
      "'select()' returned 1:1 mapping between keys and columns\n",
      "'select()' returned 1:1 mapping between keys and columns\n",
      "'select()' returned 1:1 mapping between keys and columns\n"
     ]
    },
    {
     "name": "stdout",
     "output_type": "stream",
     "text": [
      "[1] 260\n"
     ]
    },
    {
     "name": "stderr",
     "output_type": "stream",
     "text": [
      "2023-03-20 11:21:45\n",
      "'select()' returned 1:many mapping between keys and columns\n",
      "'select()' returned 1:1 mapping between keys and columns\n",
      "'select()' returned 1:1 mapping between keys and columns\n",
      "'select()' returned 1:1 mapping between keys and columns\n"
     ]
    },
    {
     "name": "stdout",
     "output_type": "stream",
     "text": [
      "[1] 261\n"
     ]
    },
    {
     "name": "stderr",
     "output_type": "stream",
     "text": [
      "2023-03-20 11:21:47\n",
      "'select()' returned 1:many mapping between keys and columns\n",
      "'select()' returned 1:1 mapping between keys and columns\n",
      "'select()' returned 1:1 mapping between keys and columns\n",
      "'select()' returned 1:1 mapping between keys and columns\n"
     ]
    },
    {
     "name": "stdout",
     "output_type": "stream",
     "text": [
      "[1] 262\n"
     ]
    },
    {
     "name": "stderr",
     "output_type": "stream",
     "text": [
      "2023-03-20 11:21:49\n",
      "'select()' returned 1:many mapping between keys and columns\n",
      "'select()' returned 1:1 mapping between keys and columns\n",
      "'select()' returned 1:1 mapping between keys and columns\n",
      "'select()' returned 1:1 mapping between keys and columns\n"
     ]
    },
    {
     "name": "stdout",
     "output_type": "stream",
     "text": [
      "[1] 263\n"
     ]
    },
    {
     "name": "stderr",
     "output_type": "stream",
     "text": [
      "2023-03-20 11:21:51\n",
      "'select()' returned 1:many mapping between keys and columns\n",
      "'select()' returned 1:1 mapping between keys and columns\n",
      "'select()' returned 1:1 mapping between keys and columns\n",
      "'select()' returned 1:1 mapping between keys and columns\n"
     ]
    },
    {
     "name": "stdout",
     "output_type": "stream",
     "text": [
      "[1] 264\n"
     ]
    },
    {
     "name": "stderr",
     "output_type": "stream",
     "text": [
      "2023-03-20 11:21:52\n",
      "'select()' returned 1:many mapping between keys and columns\n",
      "'select()' returned 1:1 mapping between keys and columns\n",
      "'select()' returned 1:1 mapping between keys and columns\n",
      "'select()' returned 1:1 mapping between keys and columns\n"
     ]
    },
    {
     "name": "stdout",
     "output_type": "stream",
     "text": [
      "[1] 265\n"
     ]
    },
    {
     "name": "stderr",
     "output_type": "stream",
     "text": [
      "2023-03-20 11:21:54\n",
      "'select()' returned 1:many mapping between keys and columns\n",
      "'select()' returned 1:1 mapping between keys and columns\n",
      "'select()' returned 1:1 mapping between keys and columns\n",
      "'select()' returned 1:1 mapping between keys and columns\n"
     ]
    },
    {
     "name": "stdout",
     "output_type": "stream",
     "text": [
      "[1] 266\n"
     ]
    },
    {
     "name": "stderr",
     "output_type": "stream",
     "text": [
      "2023-03-20 11:21:55\n",
      "'select()' returned 1:many mapping between keys and columns\n",
      "'select()' returned 1:1 mapping between keys and columns\n",
      "'select()' returned 1:1 mapping between keys and columns\n",
      "'select()' returned 1:1 mapping between keys and columns\n"
     ]
    },
    {
     "name": "stdout",
     "output_type": "stream",
     "text": [
      "[1] 267\n"
     ]
    },
    {
     "name": "stderr",
     "output_type": "stream",
     "text": [
      "2023-03-20 11:21:57\n",
      "'select()' returned 1:many mapping between keys and columns\n",
      "'select()' returned 1:1 mapping between keys and columns\n",
      "'select()' returned 1:1 mapping between keys and columns\n",
      "'select()' returned 1:1 mapping between keys and columns\n"
     ]
    },
    {
     "name": "stdout",
     "output_type": "stream",
     "text": [
      "[1] 268\n"
     ]
    },
    {
     "name": "stderr",
     "output_type": "stream",
     "text": [
      "2023-03-20 11:21:58\n",
      "'select()' returned 1:many mapping between keys and columns\n",
      "'select()' returned 1:1 mapping between keys and columns\n",
      "'select()' returned 1:1 mapping between keys and columns\n",
      "'select()' returned 1:1 mapping between keys and columns\n"
     ]
    },
    {
     "name": "stdout",
     "output_type": "stream",
     "text": [
      "[1] 269\n"
     ]
    },
    {
     "name": "stderr",
     "output_type": "stream",
     "text": [
      "2023-03-20 11:22:00\n",
      "'select()' returned 1:many mapping between keys and columns\n",
      "'select()' returned 1:1 mapping between keys and columns\n",
      "'select()' returned 1:1 mapping between keys and columns\n",
      "'select()' returned 1:1 mapping between keys and columns\n"
     ]
    },
    {
     "name": "stdout",
     "output_type": "stream",
     "text": [
      "[1] 270\n"
     ]
    },
    {
     "name": "stderr",
     "output_type": "stream",
     "text": [
      "2023-03-20 11:22:01\n",
      "'select()' returned 1:many mapping between keys and columns\n",
      "'select()' returned 1:1 mapping between keys and columns\n",
      "'select()' returned 1:1 mapping between keys and columns\n",
      "'select()' returned 1:1 mapping between keys and columns\n"
     ]
    },
    {
     "name": "stdout",
     "output_type": "stream",
     "text": [
      "[1] 271\n"
     ]
    },
    {
     "name": "stderr",
     "output_type": "stream",
     "text": [
      "2023-03-20 11:22:03\n",
      "'select()' returned 1:many mapping between keys and columns\n",
      "'select()' returned 1:1 mapping between keys and columns\n",
      "'select()' returned 1:1 mapping between keys and columns\n",
      "'select()' returned 1:1 mapping between keys and columns\n"
     ]
    },
    {
     "name": "stdout",
     "output_type": "stream",
     "text": [
      "[1] 272\n"
     ]
    },
    {
     "name": "stderr",
     "output_type": "stream",
     "text": [
      "2023-03-20 11:22:05\n",
      "'select()' returned 1:many mapping between keys and columns\n",
      "'select()' returned 1:1 mapping between keys and columns\n",
      "'select()' returned 1:1 mapping between keys and columns\n",
      "'select()' returned 1:1 mapping between keys and columns\n"
     ]
    },
    {
     "name": "stdout",
     "output_type": "stream",
     "text": [
      "[1] 273\n"
     ]
    },
    {
     "name": "stderr",
     "output_type": "stream",
     "text": [
      "2023-03-20 11:22:07\n",
      "'select()' returned 1:many mapping between keys and columns\n",
      "'select()' returned 1:1 mapping between keys and columns\n",
      "'select()' returned 1:1 mapping between keys and columns\n",
      "'select()' returned 1:1 mapping between keys and columns\n"
     ]
    },
    {
     "name": "stdout",
     "output_type": "stream",
     "text": [
      "[1] 274\n"
     ]
    },
    {
     "name": "stderr",
     "output_type": "stream",
     "text": [
      "2023-03-20 11:22:08\n",
      "'select()' returned 1:many mapping between keys and columns\n",
      "'select()' returned 1:1 mapping between keys and columns\n",
      "'select()' returned 1:1 mapping between keys and columns\n",
      "'select()' returned 1:1 mapping between keys and columns\n"
     ]
    },
    {
     "name": "stdout",
     "output_type": "stream",
     "text": [
      "[1] 275\n"
     ]
    },
    {
     "name": "stderr",
     "output_type": "stream",
     "text": [
      "2023-03-20 11:22:10\n",
      "'select()' returned 1:many mapping between keys and columns\n",
      "'select()' returned 1:1 mapping between keys and columns\n",
      "'select()' returned 1:1 mapping between keys and columns\n",
      "'select()' returned 1:1 mapping between keys and columns\n"
     ]
    },
    {
     "name": "stdout",
     "output_type": "stream",
     "text": [
      "[1] 276\n"
     ]
    },
    {
     "name": "stderr",
     "output_type": "stream",
     "text": [
      "2023-03-20 11:22:12\n",
      "'select()' returned 1:many mapping between keys and columns\n",
      "'select()' returned 1:1 mapping between keys and columns\n",
      "'select()' returned 1:1 mapping between keys and columns\n",
      "'select()' returned 1:1 mapping between keys and columns\n"
     ]
    },
    {
     "name": "stdout",
     "output_type": "stream",
     "text": [
      "[1] 277\n"
     ]
    },
    {
     "name": "stderr",
     "output_type": "stream",
     "text": [
      "2023-03-20 11:22:13\n",
      "'select()' returned 1:many mapping between keys and columns\n",
      "'select()' returned 1:1 mapping between keys and columns\n",
      "'select()' returned 1:1 mapping between keys and columns\n",
      "'select()' returned 1:1 mapping between keys and columns\n"
     ]
    },
    {
     "name": "stdout",
     "output_type": "stream",
     "text": [
      "[1] 278\n"
     ]
    },
    {
     "name": "stderr",
     "output_type": "stream",
     "text": [
      "2023-03-20 11:22:15\n",
      "'select()' returned 1:many mapping between keys and columns\n",
      "'select()' returned 1:1 mapping between keys and columns\n",
      "'select()' returned 1:1 mapping between keys and columns\n",
      "'select()' returned 1:1 mapping between keys and columns\n"
     ]
    },
    {
     "name": "stdout",
     "output_type": "stream",
     "text": [
      "[1] 279\n"
     ]
    },
    {
     "name": "stderr",
     "output_type": "stream",
     "text": [
      "2023-03-20 11:22:16\n",
      "'select()' returned 1:many mapping between keys and columns\n",
      "'select()' returned 1:1 mapping between keys and columns\n",
      "'select()' returned 1:1 mapping between keys and columns\n",
      "'select()' returned 1:1 mapping between keys and columns\n"
     ]
    },
    {
     "name": "stdout",
     "output_type": "stream",
     "text": [
      "[1] 280\n"
     ]
    },
    {
     "name": "stderr",
     "output_type": "stream",
     "text": [
      "2023-03-20 11:22:18\n",
      "'select()' returned 1:many mapping between keys and columns\n",
      "'select()' returned 1:1 mapping between keys and columns\n",
      "'select()' returned 1:1 mapping between keys and columns\n",
      "'select()' returned 1:1 mapping between keys and columns\n"
     ]
    },
    {
     "name": "stdout",
     "output_type": "stream",
     "text": [
      "[1] 281\n"
     ]
    },
    {
     "name": "stderr",
     "output_type": "stream",
     "text": [
      "2023-03-20 11:22:19\n",
      "'select()' returned 1:many mapping between keys and columns\n",
      "'select()' returned 1:1 mapping between keys and columns\n",
      "'select()' returned 1:1 mapping between keys and columns\n",
      "'select()' returned 1:1 mapping between keys and columns\n"
     ]
    },
    {
     "name": "stdout",
     "output_type": "stream",
     "text": [
      "[1] 282\n"
     ]
    },
    {
     "name": "stderr",
     "output_type": "stream",
     "text": [
      "2023-03-20 11:22:21\n",
      "'select()' returned 1:many mapping between keys and columns\n",
      "'select()' returned 1:1 mapping between keys and columns\n",
      "'select()' returned 1:1 mapping between keys and columns\n",
      "'select()' returned 1:1 mapping between keys and columns\n"
     ]
    },
    {
     "name": "stdout",
     "output_type": "stream",
     "text": [
      "[1] 283\n"
     ]
    },
    {
     "name": "stderr",
     "output_type": "stream",
     "text": [
      "2023-03-20 11:22:22\n",
      "'select()' returned 1:many mapping between keys and columns\n",
      "'select()' returned 1:1 mapping between keys and columns\n",
      "'select()' returned 1:1 mapping between keys and columns\n",
      "'select()' returned 1:1 mapping between keys and columns\n"
     ]
    },
    {
     "name": "stdout",
     "output_type": "stream",
     "text": [
      "[1] 284\n"
     ]
    },
    {
     "name": "stderr",
     "output_type": "stream",
     "text": [
      "2023-03-20 11:22:24\n",
      "'select()' returned 1:many mapping between keys and columns\n",
      "'select()' returned 1:1 mapping between keys and columns\n",
      "'select()' returned 1:1 mapping between keys and columns\n",
      "'select()' returned 1:1 mapping between keys and columns\n"
     ]
    },
    {
     "name": "stdout",
     "output_type": "stream",
     "text": [
      "[1] 285\n"
     ]
    },
    {
     "name": "stderr",
     "output_type": "stream",
     "text": [
      "2023-03-20 11:22:26\n",
      "'select()' returned 1:many mapping between keys and columns\n",
      "'select()' returned 1:1 mapping between keys and columns\n",
      "'select()' returned 1:1 mapping between keys and columns\n",
      "'select()' returned 1:1 mapping between keys and columns\n"
     ]
    },
    {
     "name": "stdout",
     "output_type": "stream",
     "text": [
      "[1] 286\n"
     ]
    },
    {
     "name": "stderr",
     "output_type": "stream",
     "text": [
      "2023-03-20 11:22:27\n",
      "'select()' returned 1:many mapping between keys and columns\n",
      "'select()' returned 1:1 mapping between keys and columns\n",
      "'select()' returned 1:1 mapping between keys and columns\n",
      "'select()' returned 1:1 mapping between keys and columns\n"
     ]
    },
    {
     "name": "stdout",
     "output_type": "stream",
     "text": [
      "[1] 287\n"
     ]
    },
    {
     "name": "stderr",
     "output_type": "stream",
     "text": [
      "2023-03-20 11:22:28\n",
      "'select()' returned 1:many mapping between keys and columns\n",
      "'select()' returned 1:1 mapping between keys and columns\n",
      "'select()' returned 1:1 mapping between keys and columns\n",
      "'select()' returned 1:1 mapping between keys and columns\n"
     ]
    },
    {
     "name": "stdout",
     "output_type": "stream",
     "text": [
      "[1] 288\n"
     ]
    },
    {
     "name": "stderr",
     "output_type": "stream",
     "text": [
      "2023-03-20 11:22:30\n",
      "'select()' returned 1:many mapping between keys and columns\n",
      "'select()' returned 1:1 mapping between keys and columns\n",
      "'select()' returned 1:1 mapping between keys and columns\n",
      "'select()' returned 1:1 mapping between keys and columns\n"
     ]
    },
    {
     "name": "stdout",
     "output_type": "stream",
     "text": [
      "[1] 289\n"
     ]
    },
    {
     "name": "stderr",
     "output_type": "stream",
     "text": [
      "2023-03-20 11:22:32\n",
      "'select()' returned 1:many mapping between keys and columns\n",
      "'select()' returned 1:1 mapping between keys and columns\n",
      "'select()' returned 1:1 mapping between keys and columns\n",
      "'select()' returned 1:1 mapping between keys and columns\n"
     ]
    },
    {
     "name": "stdout",
     "output_type": "stream",
     "text": [
      "[1] 290\n"
     ]
    },
    {
     "name": "stderr",
     "output_type": "stream",
     "text": [
      "2023-03-20 11:22:33\n",
      "'select()' returned 1:many mapping between keys and columns\n",
      "'select()' returned 1:1 mapping between keys and columns\n",
      "'select()' returned 1:1 mapping between keys and columns\n",
      "'select()' returned 1:1 mapping between keys and columns\n"
     ]
    },
    {
     "name": "stdout",
     "output_type": "stream",
     "text": [
      "[1] 291\n"
     ]
    },
    {
     "name": "stderr",
     "output_type": "stream",
     "text": [
      "2023-03-20 11:22:34\n",
      "'select()' returned 1:many mapping between keys and columns\n",
      "'select()' returned 1:1 mapping between keys and columns\n",
      "'select()' returned 1:1 mapping between keys and columns\n",
      "'select()' returned 1:1 mapping between keys and columns\n"
     ]
    },
    {
     "name": "stdout",
     "output_type": "stream",
     "text": [
      "[1] 292\n"
     ]
    },
    {
     "name": "stderr",
     "output_type": "stream",
     "text": [
      "2023-03-20 11:22:36\n",
      "'select()' returned 1:many mapping between keys and columns\n",
      "'select()' returned 1:1 mapping between keys and columns\n",
      "'select()' returned 1:1 mapping between keys and columns\n",
      "'select()' returned 1:1 mapping between keys and columns\n"
     ]
    },
    {
     "name": "stdout",
     "output_type": "stream",
     "text": [
      "[1] 293\n"
     ]
    },
    {
     "name": "stderr",
     "output_type": "stream",
     "text": [
      "2023-03-20 11:22:38\n",
      "'select()' returned 1:many mapping between keys and columns\n",
      "'select()' returned 1:1 mapping between keys and columns\n",
      "'select()' returned 1:1 mapping between keys and columns\n",
      "'select()' returned 1:1 mapping between keys and columns\n"
     ]
    },
    {
     "name": "stdout",
     "output_type": "stream",
     "text": [
      "[1] 294\n"
     ]
    },
    {
     "name": "stderr",
     "output_type": "stream",
     "text": [
      "2023-03-20 11:22:39\n",
      "'select()' returned 1:many mapping between keys and columns\n",
      "'select()' returned 1:1 mapping between keys and columns\n",
      "'select()' returned 1:1 mapping between keys and columns\n",
      "'select()' returned 1:1 mapping between keys and columns\n"
     ]
    },
    {
     "name": "stdout",
     "output_type": "stream",
     "text": [
      "[1] 295\n"
     ]
    },
    {
     "name": "stderr",
     "output_type": "stream",
     "text": [
      "2023-03-20 11:22:41\n",
      "'select()' returned 1:many mapping between keys and columns\n",
      "'select()' returned 1:1 mapping between keys and columns\n",
      "'select()' returned 1:1 mapping between keys and columns\n",
      "'select()' returned 1:1 mapping between keys and columns\n"
     ]
    },
    {
     "name": "stdout",
     "output_type": "stream",
     "text": [
      "[1] 296\n"
     ]
    },
    {
     "name": "stderr",
     "output_type": "stream",
     "text": [
      "2023-03-20 11:22:42\n",
      "'select()' returned 1:many mapping between keys and columns\n",
      "'select()' returned 1:1 mapping between keys and columns\n",
      "'select()' returned 1:1 mapping between keys and columns\n",
      "'select()' returned 1:1 mapping between keys and columns\n"
     ]
    },
    {
     "name": "stdout",
     "output_type": "stream",
     "text": [
      "[1] 297\n"
     ]
    },
    {
     "name": "stderr",
     "output_type": "stream",
     "text": [
      "2023-03-20 11:22:45\n",
      "'select()' returned 1:many mapping between keys and columns\n",
      "'select()' returned 1:1 mapping between keys and columns\n",
      "'select()' returned 1:1 mapping between keys and columns\n",
      "'select()' returned 1:1 mapping between keys and columns\n"
     ]
    },
    {
     "name": "stdout",
     "output_type": "stream",
     "text": [
      "[1] 298\n"
     ]
    },
    {
     "name": "stderr",
     "output_type": "stream",
     "text": [
      "2023-03-20 11:22:46\n",
      "'select()' returned 1:many mapping between keys and columns\n",
      "'select()' returned 1:1 mapping between keys and columns\n",
      "'select()' returned 1:1 mapping between keys and columns\n",
      "'select()' returned 1:1 mapping between keys and columns\n"
     ]
    },
    {
     "name": "stdout",
     "output_type": "stream",
     "text": [
      "[1] 299\n"
     ]
    },
    {
     "name": "stderr",
     "output_type": "stream",
     "text": [
      "2023-03-20 11:22:48\n",
      "'select()' returned 1:many mapping between keys and columns\n",
      "'select()' returned 1:1 mapping between keys and columns\n",
      "'select()' returned 1:1 mapping between keys and columns\n",
      "'select()' returned 1:1 mapping between keys and columns\n"
     ]
    },
    {
     "name": "stdout",
     "output_type": "stream",
     "text": [
      "[1] 300\n"
     ]
    },
    {
     "name": "stderr",
     "output_type": "stream",
     "text": [
      "2023-03-20 11:22:50\n",
      "'select()' returned 1:many mapping between keys and columns\n",
      "'select()' returned 1:1 mapping between keys and columns\n",
      "'select()' returned 1:1 mapping between keys and columns\n",
      "'select()' returned 1:1 mapping between keys and columns\n"
     ]
    },
    {
     "name": "stdout",
     "output_type": "stream",
     "text": [
      "[1] 301\n"
     ]
    },
    {
     "name": "stderr",
     "output_type": "stream",
     "text": [
      "2023-03-20 11:22:51\n",
      "'select()' returned 1:many mapping between keys and columns\n",
      "'select()' returned 1:1 mapping between keys and columns\n",
      "'select()' returned 1:1 mapping between keys and columns\n",
      "'select()' returned 1:1 mapping between keys and columns\n"
     ]
    },
    {
     "name": "stdout",
     "output_type": "stream",
     "text": [
      "[1] 302\n"
     ]
    },
    {
     "name": "stderr",
     "output_type": "stream",
     "text": [
      "2023-03-20 11:22:53\n",
      "'select()' returned 1:many mapping between keys and columns\n",
      "'select()' returned 1:1 mapping between keys and columns\n",
      "'select()' returned 1:1 mapping between keys and columns\n",
      "'select()' returned 1:1 mapping between keys and columns\n"
     ]
    },
    {
     "name": "stdout",
     "output_type": "stream",
     "text": [
      "[1] 303\n"
     ]
    },
    {
     "name": "stderr",
     "output_type": "stream",
     "text": [
      "2023-03-20 11:22:54\n",
      "'select()' returned 1:many mapping between keys and columns\n",
      "'select()' returned 1:1 mapping between keys and columns\n",
      "'select()' returned 1:1 mapping between keys and columns\n",
      "'select()' returned 1:1 mapping between keys and columns\n"
     ]
    },
    {
     "name": "stdout",
     "output_type": "stream",
     "text": [
      "[1] 304\n"
     ]
    },
    {
     "name": "stderr",
     "output_type": "stream",
     "text": [
      "2023-03-20 11:22:56\n",
      "'select()' returned 1:many mapping between keys and columns\n",
      "'select()' returned 1:1 mapping between keys and columns\n",
      "'select()' returned 1:1 mapping between keys and columns\n",
      "'select()' returned 1:1 mapping between keys and columns\n"
     ]
    },
    {
     "name": "stdout",
     "output_type": "stream",
     "text": [
      "[1] 305\n"
     ]
    },
    {
     "name": "stderr",
     "output_type": "stream",
     "text": [
      "2023-03-20 11:22:57\n",
      "'select()' returned 1:many mapping between keys and columns\n",
      "'select()' returned 1:1 mapping between keys and columns\n",
      "'select()' returned 1:1 mapping between keys and columns\n",
      "'select()' returned 1:1 mapping between keys and columns\n"
     ]
    },
    {
     "name": "stdout",
     "output_type": "stream",
     "text": [
      "[1] 306\n"
     ]
    },
    {
     "name": "stderr",
     "output_type": "stream",
     "text": [
      "2023-03-20 11:22:59\n",
      "'select()' returned 1:many mapping between keys and columns\n",
      "'select()' returned 1:1 mapping between keys and columns\n",
      "'select()' returned 1:1 mapping between keys and columns\n",
      "'select()' returned 1:1 mapping between keys and columns\n"
     ]
    },
    {
     "name": "stdout",
     "output_type": "stream",
     "text": [
      "[1] 307\n"
     ]
    },
    {
     "name": "stderr",
     "output_type": "stream",
     "text": [
      "2023-03-20 11:23:00\n",
      "'select()' returned 1:many mapping between keys and columns\n",
      "'select()' returned 1:1 mapping between keys and columns\n",
      "'select()' returned 1:1 mapping between keys and columns\n",
      "'select()' returned 1:1 mapping between keys and columns\n"
     ]
    },
    {
     "name": "stdout",
     "output_type": "stream",
     "text": [
      "[1] 308\n"
     ]
    },
    {
     "name": "stderr",
     "output_type": "stream",
     "text": [
      "2023-03-20 11:23:02\n",
      "'select()' returned 1:many mapping between keys and columns\n",
      "'select()' returned 1:1 mapping between keys and columns\n",
      "'select()' returned 1:1 mapping between keys and columns\n",
      "'select()' returned 1:1 mapping between keys and columns\n"
     ]
    },
    {
     "name": "stdout",
     "output_type": "stream",
     "text": [
      "[1] 309\n"
     ]
    },
    {
     "name": "stderr",
     "output_type": "stream",
     "text": [
      "2023-03-20 11:23:03\n",
      "'select()' returned 1:many mapping between keys and columns\n",
      "'select()' returned 1:1 mapping between keys and columns\n",
      "'select()' returned 1:1 mapping between keys and columns\n",
      "'select()' returned 1:1 mapping between keys and columns\n"
     ]
    },
    {
     "name": "stdout",
     "output_type": "stream",
     "text": [
      "[1] 310\n"
     ]
    },
    {
     "name": "stderr",
     "output_type": "stream",
     "text": [
      "2023-03-20 11:23:05\n",
      "'select()' returned 1:many mapping between keys and columns\n",
      "'select()' returned 1:1 mapping between keys and columns\n",
      "'select()' returned 1:1 mapping between keys and columns\n",
      "'select()' returned 1:1 mapping between keys and columns\n"
     ]
    },
    {
     "name": "stdout",
     "output_type": "stream",
     "text": [
      "[1] 311\n"
     ]
    },
    {
     "name": "stderr",
     "output_type": "stream",
     "text": [
      "2023-03-20 11:23:06\n",
      "'select()' returned 1:many mapping between keys and columns\n",
      "'select()' returned 1:1 mapping between keys and columns\n",
      "'select()' returned 1:1 mapping between keys and columns\n",
      "'select()' returned 1:1 mapping between keys and columns\n"
     ]
    },
    {
     "name": "stdout",
     "output_type": "stream",
     "text": [
      "[1] 312\n"
     ]
    },
    {
     "name": "stderr",
     "output_type": "stream",
     "text": [
      "2023-03-20 11:23:08\n",
      "'select()' returned 1:many mapping between keys and columns\n",
      "'select()' returned 1:1 mapping between keys and columns\n",
      "'select()' returned 1:1 mapping between keys and columns\n",
      "'select()' returned 1:1 mapping between keys and columns\n"
     ]
    },
    {
     "name": "stdout",
     "output_type": "stream",
     "text": [
      "[1] 313\n"
     ]
    },
    {
     "name": "stderr",
     "output_type": "stream",
     "text": [
      "2023-03-20 11:23:09\n",
      "'select()' returned 1:many mapping between keys and columns\n",
      "'select()' returned 1:1 mapping between keys and columns\n",
      "'select()' returned 1:1 mapping between keys and columns\n",
      "'select()' returned 1:1 mapping between keys and columns\n"
     ]
    },
    {
     "name": "stdout",
     "output_type": "stream",
     "text": [
      "[1] 314\n"
     ]
    },
    {
     "name": "stderr",
     "output_type": "stream",
     "text": [
      "2023-03-20 11:23:11\n",
      "'select()' returned 1:many mapping between keys and columns\n",
      "'select()' returned 1:1 mapping between keys and columns\n",
      "'select()' returned 1:1 mapping between keys and columns\n",
      "'select()' returned 1:1 mapping between keys and columns\n"
     ]
    },
    {
     "name": "stdout",
     "output_type": "stream",
     "text": [
      "[1] 315\n"
     ]
    },
    {
     "name": "stderr",
     "output_type": "stream",
     "text": [
      "2023-03-20 11:23:12\n",
      "'select()' returned 1:many mapping between keys and columns\n",
      "'select()' returned 1:1 mapping between keys and columns\n",
      "'select()' returned 1:1 mapping between keys and columns\n",
      "'select()' returned 1:1 mapping between keys and columns\n"
     ]
    },
    {
     "name": "stdout",
     "output_type": "stream",
     "text": [
      "[1] 316\n"
     ]
    },
    {
     "name": "stderr",
     "output_type": "stream",
     "text": [
      "2023-03-20 11:23:13\n",
      "'select()' returned 1:many mapping between keys and columns\n",
      "'select()' returned 1:1 mapping between keys and columns\n",
      "'select()' returned 1:1 mapping between keys and columns\n",
      "'select()' returned 1:1 mapping between keys and columns\n"
     ]
    },
    {
     "name": "stdout",
     "output_type": "stream",
     "text": [
      "[1] 317\n"
     ]
    },
    {
     "name": "stderr",
     "output_type": "stream",
     "text": [
      "2023-03-20 11:23:15\n",
      "'select()' returned 1:many mapping between keys and columns\n",
      "'select()' returned 1:1 mapping between keys and columns\n",
      "'select()' returned 1:1 mapping between keys and columns\n",
      "'select()' returned 1:1 mapping between keys and columns\n"
     ]
    },
    {
     "name": "stdout",
     "output_type": "stream",
     "text": [
      "[1] 318\n"
     ]
    },
    {
     "name": "stderr",
     "output_type": "stream",
     "text": [
      "2023-03-20 11:23:17\n",
      "'select()' returned 1:many mapping between keys and columns\n",
      "'select()' returned 1:1 mapping between keys and columns\n",
      "'select()' returned 1:1 mapping between keys and columns\n",
      "'select()' returned 1:1 mapping between keys and columns\n"
     ]
    },
    {
     "name": "stdout",
     "output_type": "stream",
     "text": [
      "[1] 319\n"
     ]
    },
    {
     "name": "stderr",
     "output_type": "stream",
     "text": [
      "2023-03-20 11:23:18\n",
      "'select()' returned 1:many mapping between keys and columns\n",
      "'select()' returned 1:1 mapping between keys and columns\n",
      "'select()' returned 1:1 mapping between keys and columns\n",
      "'select()' returned 1:1 mapping between keys and columns\n"
     ]
    },
    {
     "name": "stdout",
     "output_type": "stream",
     "text": [
      "[1] 320\n"
     ]
    },
    {
     "name": "stderr",
     "output_type": "stream",
     "text": [
      "2023-03-20 11:23:19\n",
      "'select()' returned 1:many mapping between keys and columns\n",
      "'select()' returned 1:1 mapping between keys and columns\n",
      "'select()' returned 1:1 mapping between keys and columns\n",
      "'select()' returned 1:1 mapping between keys and columns\n"
     ]
    },
    {
     "name": "stdout",
     "output_type": "stream",
     "text": [
      "[1] 321\n"
     ]
    },
    {
     "name": "stderr",
     "output_type": "stream",
     "text": [
      "2023-03-20 11:23:21\n",
      "'select()' returned 1:many mapping between keys and columns\n",
      "'select()' returned 1:1 mapping between keys and columns\n",
      "'select()' returned 1:1 mapping between keys and columns\n",
      "'select()' returned 1:1 mapping between keys and columns\n"
     ]
    },
    {
     "name": "stdout",
     "output_type": "stream",
     "text": [
      "[1] 322\n"
     ]
    },
    {
     "name": "stderr",
     "output_type": "stream",
     "text": [
      "2023-03-20 11:23:23\n",
      "'select()' returned 1:many mapping between keys and columns\n",
      "'select()' returned 1:1 mapping between keys and columns\n",
      "'select()' returned 1:1 mapping between keys and columns\n",
      "'select()' returned 1:1 mapping between keys and columns\n"
     ]
    },
    {
     "name": "stdout",
     "output_type": "stream",
     "text": [
      "[1] 323\n"
     ]
    },
    {
     "name": "stderr",
     "output_type": "stream",
     "text": [
      "2023-03-20 11:23:25\n",
      "'select()' returned 1:many mapping between keys and columns\n",
      "'select()' returned 1:1 mapping between keys and columns\n",
      "'select()' returned 1:1 mapping between keys and columns\n",
      "'select()' returned 1:1 mapping between keys and columns\n"
     ]
    },
    {
     "name": "stdout",
     "output_type": "stream",
     "text": [
      "[1] 324\n"
     ]
    },
    {
     "name": "stderr",
     "output_type": "stream",
     "text": [
      "2023-03-20 11:23:26\n",
      "'select()' returned 1:many mapping between keys and columns\n",
      "'select()' returned 1:1 mapping between keys and columns\n",
      "'select()' returned 1:1 mapping between keys and columns\n",
      "'select()' returned 1:1 mapping between keys and columns\n"
     ]
    },
    {
     "name": "stdout",
     "output_type": "stream",
     "text": [
      "[1] 325\n"
     ]
    },
    {
     "name": "stderr",
     "output_type": "stream",
     "text": [
      "2023-03-20 11:23:28\n",
      "'select()' returned 1:many mapping between keys and columns\n",
      "'select()' returned 1:1 mapping between keys and columns\n",
      "'select()' returned 1:1 mapping between keys and columns\n",
      "'select()' returned 1:1 mapping between keys and columns\n"
     ]
    },
    {
     "name": "stdout",
     "output_type": "stream",
     "text": [
      "[1] 326\n"
     ]
    },
    {
     "name": "stderr",
     "output_type": "stream",
     "text": [
      "2023-03-20 11:23:29\n",
      "'select()' returned 1:many mapping between keys and columns\n",
      "'select()' returned 1:1 mapping between keys and columns\n",
      "'select()' returned 1:1 mapping between keys and columns\n",
      "'select()' returned 1:1 mapping between keys and columns\n"
     ]
    },
    {
     "name": "stdout",
     "output_type": "stream",
     "text": [
      "[1] 327\n"
     ]
    },
    {
     "name": "stderr",
     "output_type": "stream",
     "text": [
      "2023-03-20 11:23:31\n",
      "'select()' returned 1:many mapping between keys and columns\n",
      "'select()' returned 1:1 mapping between keys and columns\n",
      "'select()' returned 1:1 mapping between keys and columns\n",
      "'select()' returned 1:1 mapping between keys and columns\n"
     ]
    },
    {
     "name": "stdout",
     "output_type": "stream",
     "text": [
      "[1] 328\n"
     ]
    },
    {
     "name": "stderr",
     "output_type": "stream",
     "text": [
      "2023-03-20 11:23:34\n",
      "'select()' returned 1:many mapping between keys and columns\n",
      "'select()' returned 1:1 mapping between keys and columns\n",
      "'select()' returned 1:1 mapping between keys and columns\n",
      "'select()' returned 1:1 mapping between keys and columns\n"
     ]
    },
    {
     "name": "stdout",
     "output_type": "stream",
     "text": [
      "[1] 329\n"
     ]
    },
    {
     "name": "stderr",
     "output_type": "stream",
     "text": [
      "2023-03-20 11:23:36\n",
      "'select()' returned 1:many mapping between keys and columns\n",
      "'select()' returned 1:1 mapping between keys and columns\n",
      "'select()' returned 1:1 mapping between keys and columns\n",
      "'select()' returned 1:1 mapping between keys and columns\n"
     ]
    },
    {
     "name": "stdout",
     "output_type": "stream",
     "text": [
      "[1] 330\n"
     ]
    },
    {
     "name": "stderr",
     "output_type": "stream",
     "text": [
      "2023-03-20 11:23:38\n",
      "'select()' returned 1:many mapping between keys and columns\n",
      "'select()' returned 1:1 mapping between keys and columns\n",
      "'select()' returned 1:1 mapping between keys and columns\n",
      "'select()' returned 1:1 mapping between keys and columns\n"
     ]
    },
    {
     "name": "stdout",
     "output_type": "stream",
     "text": [
      "[1] 331\n"
     ]
    },
    {
     "name": "stderr",
     "output_type": "stream",
     "text": [
      "2023-03-20 11:23:39\n",
      "'select()' returned 1:many mapping between keys and columns\n",
      "'select()' returned 1:1 mapping between keys and columns\n",
      "'select()' returned 1:1 mapping between keys and columns\n",
      "'select()' returned 1:1 mapping between keys and columns\n"
     ]
    },
    {
     "name": "stdout",
     "output_type": "stream",
     "text": [
      "[1] 332\n"
     ]
    },
    {
     "name": "stderr",
     "output_type": "stream",
     "text": [
      "2023-03-20 11:23:41\n",
      "'select()' returned 1:many mapping between keys and columns\n",
      "'select()' returned 1:1 mapping between keys and columns\n",
      "'select()' returned 1:1 mapping between keys and columns\n",
      "'select()' returned 1:1 mapping between keys and columns\n"
     ]
    },
    {
     "name": "stdout",
     "output_type": "stream",
     "text": [
      "[1] 333\n"
     ]
    },
    {
     "name": "stderr",
     "output_type": "stream",
     "text": [
      "2023-03-20 11:23:43\n",
      "'select()' returned 1:many mapping between keys and columns\n",
      "'select()' returned 1:1 mapping between keys and columns\n",
      "'select()' returned 1:1 mapping between keys and columns\n",
      "'select()' returned 1:1 mapping between keys and columns\n"
     ]
    },
    {
     "name": "stdout",
     "output_type": "stream",
     "text": [
      "[1] 334\n"
     ]
    },
    {
     "name": "stderr",
     "output_type": "stream",
     "text": [
      "2023-03-20 11:23:46\n",
      "'select()' returned 1:many mapping between keys and columns\n",
      "'select()' returned 1:1 mapping between keys and columns\n",
      "'select()' returned 1:1 mapping between keys and columns\n",
      "'select()' returned 1:1 mapping between keys and columns\n"
     ]
    },
    {
     "name": "stdout",
     "output_type": "stream",
     "text": [
      "[1] 335\n"
     ]
    },
    {
     "name": "stderr",
     "output_type": "stream",
     "text": [
      "2023-03-20 11:23:48\n",
      "'select()' returned 1:many mapping between keys and columns\n",
      "'select()' returned 1:1 mapping between keys and columns\n",
      "'select()' returned 1:1 mapping between keys and columns\n",
      "'select()' returned 1:1 mapping between keys and columns\n"
     ]
    },
    {
     "name": "stdout",
     "output_type": "stream",
     "text": [
      "[1] 336\n"
     ]
    },
    {
     "name": "stderr",
     "output_type": "stream",
     "text": [
      "2023-03-20 11:23:50\n",
      "'select()' returned 1:many mapping between keys and columns\n",
      "'select()' returned 1:1 mapping between keys and columns\n",
      "'select()' returned 1:1 mapping between keys and columns\n",
      "'select()' returned 1:1 mapping between keys and columns\n"
     ]
    },
    {
     "name": "stdout",
     "output_type": "stream",
     "text": [
      "[1] 337\n"
     ]
    },
    {
     "name": "stderr",
     "output_type": "stream",
     "text": [
      "2023-03-20 11:23:51\n",
      "'select()' returned 1:many mapping between keys and columns\n",
      "'select()' returned 1:1 mapping between keys and columns\n",
      "'select()' returned 1:1 mapping between keys and columns\n",
      "'select()' returned 1:1 mapping between keys and columns\n"
     ]
    },
    {
     "name": "stdout",
     "output_type": "stream",
     "text": [
      "[1] 338\n"
     ]
    },
    {
     "name": "stderr",
     "output_type": "stream",
     "text": [
      "2023-03-20 11:23:53\n",
      "'select()' returned 1:many mapping between keys and columns\n",
      "'select()' returned 1:1 mapping between keys and columns\n",
      "'select()' returned 1:1 mapping between keys and columns\n",
      "'select()' returned 1:1 mapping between keys and columns\n"
     ]
    },
    {
     "name": "stdout",
     "output_type": "stream",
     "text": [
      "[1] 339\n"
     ]
    },
    {
     "name": "stderr",
     "output_type": "stream",
     "text": [
      "2023-03-20 11:23:54\n",
      "'select()' returned 1:many mapping between keys and columns\n",
      "'select()' returned 1:1 mapping between keys and columns\n",
      "'select()' returned 1:1 mapping between keys and columns\n",
      "'select()' returned 1:1 mapping between keys and columns\n"
     ]
    },
    {
     "name": "stdout",
     "output_type": "stream",
     "text": [
      "[1] 340\n"
     ]
    },
    {
     "name": "stderr",
     "output_type": "stream",
     "text": [
      "2023-03-20 11:23:56\n",
      "'select()' returned 1:many mapping between keys and columns\n",
      "'select()' returned 1:1 mapping between keys and columns\n",
      "'select()' returned 1:1 mapping between keys and columns\n",
      "'select()' returned 1:1 mapping between keys and columns\n"
     ]
    },
    {
     "name": "stdout",
     "output_type": "stream",
     "text": [
      "[1] 341\n"
     ]
    },
    {
     "name": "stderr",
     "output_type": "stream",
     "text": [
      "2023-03-20 11:23:58\n",
      "'select()' returned 1:many mapping between keys and columns\n",
      "'select()' returned 1:1 mapping between keys and columns\n",
      "'select()' returned 1:1 mapping between keys and columns\n",
      "'select()' returned 1:1 mapping between keys and columns\n"
     ]
    },
    {
     "name": "stdout",
     "output_type": "stream",
     "text": [
      "[1] 342\n"
     ]
    },
    {
     "name": "stderr",
     "output_type": "stream",
     "text": [
      "2023-03-20 11:23:59\n",
      "'select()' returned 1:many mapping between keys and columns\n",
      "'select()' returned 1:1 mapping between keys and columns\n",
      "'select()' returned 1:1 mapping between keys and columns\n",
      "'select()' returned 1:1 mapping between keys and columns\n"
     ]
    },
    {
     "name": "stdout",
     "output_type": "stream",
     "text": [
      "[1] 343\n"
     ]
    },
    {
     "name": "stderr",
     "output_type": "stream",
     "text": [
      "2023-03-20 11:24:01\n",
      "'select()' returned 1:many mapping between keys and columns\n",
      "'select()' returned 1:1 mapping between keys and columns\n",
      "'select()' returned 1:1 mapping between keys and columns\n",
      "'select()' returned 1:1 mapping between keys and columns\n"
     ]
    },
    {
     "name": "stdout",
     "output_type": "stream",
     "text": [
      "[1] 344\n"
     ]
    },
    {
     "name": "stderr",
     "output_type": "stream",
     "text": [
      "2023-03-20 11:24:02\n",
      "'select()' returned 1:many mapping between keys and columns\n",
      "'select()' returned 1:1 mapping between keys and columns\n",
      "'select()' returned 1:1 mapping between keys and columns\n",
      "'select()' returned 1:1 mapping between keys and columns\n"
     ]
    },
    {
     "name": "stdout",
     "output_type": "stream",
     "text": [
      "[1] 345\n"
     ]
    },
    {
     "name": "stderr",
     "output_type": "stream",
     "text": [
      "2023-03-20 11:24:04\n",
      "'select()' returned 1:many mapping between keys and columns\n",
      "'select()' returned 1:1 mapping between keys and columns\n",
      "'select()' returned 1:1 mapping between keys and columns\n",
      "'select()' returned 1:1 mapping between keys and columns\n"
     ]
    },
    {
     "name": "stdout",
     "output_type": "stream",
     "text": [
      "[1] 346\n"
     ]
    },
    {
     "name": "stderr",
     "output_type": "stream",
     "text": [
      "2023-03-20 11:24:06\n",
      "'select()' returned 1:many mapping between keys and columns\n",
      "'select()' returned 1:1 mapping between keys and columns\n",
      "'select()' returned 1:1 mapping between keys and columns\n",
      "'select()' returned 1:1 mapping between keys and columns\n"
     ]
    },
    {
     "name": "stdout",
     "output_type": "stream",
     "text": [
      "[1] 347\n"
     ]
    },
    {
     "name": "stderr",
     "output_type": "stream",
     "text": [
      "2023-03-20 11:24:07\n",
      "'select()' returned 1:many mapping between keys and columns\n",
      "'select()' returned 1:1 mapping between keys and columns\n",
      "'select()' returned 1:1 mapping between keys and columns\n",
      "'select()' returned 1:1 mapping between keys and columns\n"
     ]
    },
    {
     "name": "stdout",
     "output_type": "stream",
     "text": [
      "[1] 348\n"
     ]
    },
    {
     "name": "stderr",
     "output_type": "stream",
     "text": [
      "2023-03-20 11:24:09\n",
      "'select()' returned 1:many mapping between keys and columns\n",
      "'select()' returned 1:1 mapping between keys and columns\n",
      "'select()' returned 1:1 mapping between keys and columns\n",
      "'select()' returned 1:1 mapping between keys and columns\n"
     ]
    },
    {
     "name": "stdout",
     "output_type": "stream",
     "text": [
      "[1] 349\n"
     ]
    },
    {
     "name": "stderr",
     "output_type": "stream",
     "text": [
      "2023-03-20 11:24:10\n",
      "'select()' returned 1:many mapping between keys and columns\n",
      "'select()' returned 1:1 mapping between keys and columns\n",
      "'select()' returned 1:1 mapping between keys and columns\n",
      "'select()' returned 1:1 mapping between keys and columns\n"
     ]
    },
    {
     "name": "stdout",
     "output_type": "stream",
     "text": [
      "[1] 350\n"
     ]
    },
    {
     "name": "stderr",
     "output_type": "stream",
     "text": [
      "2023-03-20 11:24:12\n",
      "'select()' returned 1:many mapping between keys and columns\n",
      "'select()' returned 1:1 mapping between keys and columns\n",
      "'select()' returned 1:1 mapping between keys and columns\n",
      "'select()' returned 1:1 mapping between keys and columns\n"
     ]
    },
    {
     "name": "stdout",
     "output_type": "stream",
     "text": [
      "[1] 351\n"
     ]
    },
    {
     "name": "stderr",
     "output_type": "stream",
     "text": [
      "2023-03-20 11:24:13\n",
      "'select()' returned 1:many mapping between keys and columns\n",
      "'select()' returned 1:1 mapping between keys and columns\n",
      "'select()' returned 1:1 mapping between keys and columns\n",
      "'select()' returned 1:1 mapping between keys and columns\n"
     ]
    },
    {
     "name": "stdout",
     "output_type": "stream",
     "text": [
      "[1] 352\n"
     ]
    },
    {
     "name": "stderr",
     "output_type": "stream",
     "text": [
      "2023-03-20 11:24:15\n",
      "'select()' returned 1:many mapping between keys and columns\n",
      "'select()' returned 1:1 mapping between keys and columns\n",
      "'select()' returned 1:1 mapping between keys and columns\n",
      "'select()' returned 1:1 mapping between keys and columns\n"
     ]
    },
    {
     "name": "stdout",
     "output_type": "stream",
     "text": [
      "[1] 353\n"
     ]
    },
    {
     "name": "stderr",
     "output_type": "stream",
     "text": [
      "2023-03-20 11:24:16\n",
      "'select()' returned 1:many mapping between keys and columns\n",
      "'select()' returned 1:1 mapping between keys and columns\n",
      "'select()' returned 1:1 mapping between keys and columns\n",
      "'select()' returned 1:1 mapping between keys and columns\n"
     ]
    },
    {
     "name": "stdout",
     "output_type": "stream",
     "text": [
      "[1] 354\n"
     ]
    },
    {
     "name": "stderr",
     "output_type": "stream",
     "text": [
      "2023-03-20 11:24:17\n",
      "'select()' returned 1:many mapping between keys and columns\n",
      "'select()' returned 1:1 mapping between keys and columns\n",
      "'select()' returned 1:1 mapping between keys and columns\n",
      "'select()' returned 1:1 mapping between keys and columns\n"
     ]
    },
    {
     "name": "stdout",
     "output_type": "stream",
     "text": [
      "[1] 355\n"
     ]
    },
    {
     "name": "stderr",
     "output_type": "stream",
     "text": [
      "2023-03-20 11:24:19\n",
      "'select()' returned 1:many mapping between keys and columns\n",
      "'select()' returned 1:1 mapping between keys and columns\n",
      "'select()' returned 1:1 mapping between keys and columns\n",
      "'select()' returned 1:1 mapping between keys and columns\n"
     ]
    },
    {
     "name": "stdout",
     "output_type": "stream",
     "text": [
      "[1] 356\n"
     ]
    },
    {
     "name": "stderr",
     "output_type": "stream",
     "text": [
      "2023-03-20 11:24:21\n",
      "'select()' returned 1:many mapping between keys and columns\n",
      "'select()' returned 1:1 mapping between keys and columns\n",
      "'select()' returned 1:1 mapping between keys and columns\n",
      "'select()' returned 1:1 mapping between keys and columns\n"
     ]
    },
    {
     "name": "stdout",
     "output_type": "stream",
     "text": [
      "[1] 357\n"
     ]
    },
    {
     "name": "stderr",
     "output_type": "stream",
     "text": [
      "2023-03-20 11:24:22\n",
      "'select()' returned 1:many mapping between keys and columns\n",
      "'select()' returned 1:1 mapping between keys and columns\n",
      "'select()' returned 1:1 mapping between keys and columns\n",
      "'select()' returned 1:1 mapping between keys and columns\n"
     ]
    },
    {
     "name": "stdout",
     "output_type": "stream",
     "text": [
      "[1] 358\n"
     ]
    },
    {
     "name": "stderr",
     "output_type": "stream",
     "text": [
      "2023-03-20 11:24:24\n",
      "'select()' returned 1:many mapping between keys and columns\n",
      "'select()' returned 1:1 mapping between keys and columns\n",
      "'select()' returned 1:1 mapping between keys and columns\n",
      "'select()' returned 1:1 mapping between keys and columns\n"
     ]
    },
    {
     "name": "stdout",
     "output_type": "stream",
     "text": [
      "[1] 359\n"
     ]
    },
    {
     "name": "stderr",
     "output_type": "stream",
     "text": [
      "2023-03-20 11:24:25\n",
      "'select()' returned 1:many mapping between keys and columns\n",
      "'select()' returned 1:1 mapping between keys and columns\n",
      "'select()' returned 1:1 mapping between keys and columns\n",
      "'select()' returned 1:1 mapping between keys and columns\n"
     ]
    },
    {
     "name": "stdout",
     "output_type": "stream",
     "text": [
      "[1] 360\n"
     ]
    },
    {
     "name": "stderr",
     "output_type": "stream",
     "text": [
      "2023-03-20 11:24:27\n",
      "'select()' returned 1:many mapping between keys and columns\n",
      "'select()' returned 1:1 mapping between keys and columns\n",
      "'select()' returned 1:1 mapping between keys and columns\n",
      "'select()' returned 1:1 mapping between keys and columns\n"
     ]
    },
    {
     "name": "stdout",
     "output_type": "stream",
     "text": [
      "[1] 361\n"
     ]
    },
    {
     "name": "stderr",
     "output_type": "stream",
     "text": [
      "2023-03-20 11:24:28\n",
      "'select()' returned 1:many mapping between keys and columns\n",
      "'select()' returned 1:1 mapping between keys and columns\n",
      "'select()' returned 1:1 mapping between keys and columns\n",
      "'select()' returned 1:1 mapping between keys and columns\n"
     ]
    },
    {
     "name": "stdout",
     "output_type": "stream",
     "text": [
      "[1] 362\n"
     ]
    },
    {
     "name": "stderr",
     "output_type": "stream",
     "text": [
      "2023-03-20 11:24:30\n",
      "'select()' returned 1:many mapping between keys and columns\n",
      "'select()' returned 1:1 mapping between keys and columns\n",
      "'select()' returned 1:1 mapping between keys and columns\n",
      "'select()' returned 1:1 mapping between keys and columns\n"
     ]
    },
    {
     "name": "stdout",
     "output_type": "stream",
     "text": [
      "[1] 363\n"
     ]
    },
    {
     "name": "stderr",
     "output_type": "stream",
     "text": [
      "2023-03-20 11:24:31\n",
      "'select()' returned 1:many mapping between keys and columns\n",
      "'select()' returned 1:1 mapping between keys and columns\n",
      "'select()' returned 1:1 mapping between keys and columns\n",
      "'select()' returned 1:1 mapping between keys and columns\n"
     ]
    },
    {
     "name": "stdout",
     "output_type": "stream",
     "text": [
      "[1] 364\n"
     ]
    },
    {
     "name": "stderr",
     "output_type": "stream",
     "text": [
      "2023-03-20 11:24:33\n",
      "'select()' returned 1:many mapping between keys and columns\n",
      "'select()' returned 1:1 mapping between keys and columns\n",
      "'select()' returned 1:1 mapping between keys and columns\n",
      "'select()' returned 1:1 mapping between keys and columns\n"
     ]
    },
    {
     "name": "stdout",
     "output_type": "stream",
     "text": [
      "[1] 365\n"
     ]
    },
    {
     "name": "stderr",
     "output_type": "stream",
     "text": [
      "2023-03-20 11:24:34\n",
      "'select()' returned 1:many mapping between keys and columns\n",
      "'select()' returned 1:1 mapping between keys and columns\n",
      "'select()' returned 1:1 mapping between keys and columns\n",
      "'select()' returned 1:1 mapping between keys and columns\n"
     ]
    },
    {
     "name": "stdout",
     "output_type": "stream",
     "text": [
      "[1] 366\n"
     ]
    },
    {
     "name": "stderr",
     "output_type": "stream",
     "text": [
      "2023-03-20 11:24:36\n",
      "'select()' returned 1:many mapping between keys and columns\n",
      "'select()' returned 1:1 mapping between keys and columns\n",
      "'select()' returned 1:1 mapping between keys and columns\n",
      "'select()' returned 1:1 mapping between keys and columns\n"
     ]
    },
    {
     "name": "stdout",
     "output_type": "stream",
     "text": [
      "[1] 367\n"
     ]
    },
    {
     "name": "stderr",
     "output_type": "stream",
     "text": [
      "2023-03-20 11:24:37\n",
      "'select()' returned 1:many mapping between keys and columns\n",
      "'select()' returned 1:1 mapping between keys and columns\n",
      "'select()' returned 1:1 mapping between keys and columns\n",
      "'select()' returned 1:1 mapping between keys and columns\n"
     ]
    },
    {
     "name": "stdout",
     "output_type": "stream",
     "text": [
      "[1] 368\n"
     ]
    },
    {
     "name": "stderr",
     "output_type": "stream",
     "text": [
      "2023-03-20 11:24:39\n",
      "'select()' returned 1:many mapping between keys and columns\n",
      "'select()' returned 1:1 mapping between keys and columns\n",
      "'select()' returned 1:1 mapping between keys and columns\n",
      "'select()' returned 1:1 mapping between keys and columns\n"
     ]
    },
    {
     "name": "stdout",
     "output_type": "stream",
     "text": [
      "[1] 369\n"
     ]
    },
    {
     "name": "stderr",
     "output_type": "stream",
     "text": [
      "2023-03-20 11:24:40\n",
      "'select()' returned 1:many mapping between keys and columns\n",
      "'select()' returned 1:1 mapping between keys and columns\n",
      "'select()' returned 1:1 mapping between keys and columns\n",
      "'select()' returned 1:1 mapping between keys and columns\n"
     ]
    },
    {
     "name": "stdout",
     "output_type": "stream",
     "text": [
      "[1] 370\n"
     ]
    },
    {
     "name": "stderr",
     "output_type": "stream",
     "text": [
      "2023-03-20 11:24:42\n",
      "'select()' returned 1:many mapping between keys and columns\n",
      "'select()' returned 1:1 mapping between keys and columns\n",
      "'select()' returned 1:1 mapping between keys and columns\n",
      "'select()' returned 1:1 mapping between keys and columns\n"
     ]
    },
    {
     "name": "stdout",
     "output_type": "stream",
     "text": [
      "[1] 371\n"
     ]
    },
    {
     "name": "stderr",
     "output_type": "stream",
     "text": [
      "2023-03-20 11:24:43\n",
      "'select()' returned 1:many mapping between keys and columns\n",
      "'select()' returned 1:1 mapping between keys and columns\n",
      "'select()' returned 1:1 mapping between keys and columns\n",
      "'select()' returned 1:1 mapping between keys and columns\n"
     ]
    },
    {
     "name": "stdout",
     "output_type": "stream",
     "text": [
      "[1] 372\n"
     ]
    },
    {
     "name": "stderr",
     "output_type": "stream",
     "text": [
      "2023-03-20 11:24:45\n",
      "'select()' returned 1:many mapping between keys and columns\n",
      "'select()' returned 1:1 mapping between keys and columns\n",
      "'select()' returned 1:1 mapping between keys and columns\n",
      "'select()' returned 1:1 mapping between keys and columns\n"
     ]
    },
    {
     "name": "stdout",
     "output_type": "stream",
     "text": [
      "[1] 373\n"
     ]
    },
    {
     "name": "stderr",
     "output_type": "stream",
     "text": [
      "2023-03-20 11:24:46\n",
      "'select()' returned 1:many mapping between keys and columns\n",
      "'select()' returned 1:1 mapping between keys and columns\n",
      "'select()' returned 1:1 mapping between keys and columns\n",
      "'select()' returned 1:1 mapping between keys and columns\n"
     ]
    },
    {
     "name": "stdout",
     "output_type": "stream",
     "text": [
      "[1] 374\n"
     ]
    },
    {
     "name": "stderr",
     "output_type": "stream",
     "text": [
      "2023-03-20 11:24:48\n",
      "'select()' returned 1:many mapping between keys and columns\n",
      "'select()' returned 1:1 mapping between keys and columns\n",
      "'select()' returned 1:1 mapping between keys and columns\n",
      "'select()' returned 1:1 mapping between keys and columns\n"
     ]
    },
    {
     "name": "stdout",
     "output_type": "stream",
     "text": [
      "[1] 375\n"
     ]
    },
    {
     "name": "stderr",
     "output_type": "stream",
     "text": [
      "2023-03-20 11:24:49\n",
      "'select()' returned 1:many mapping between keys and columns\n",
      "'select()' returned 1:1 mapping between keys and columns\n",
      "'select()' returned 1:1 mapping between keys and columns\n",
      "'select()' returned 1:1 mapping between keys and columns\n"
     ]
    },
    {
     "name": "stdout",
     "output_type": "stream",
     "text": [
      "[1] 376\n"
     ]
    },
    {
     "name": "stderr",
     "output_type": "stream",
     "text": [
      "2023-03-20 11:24:50\n",
      "'select()' returned 1:many mapping between keys and columns\n",
      "'select()' returned 1:1 mapping between keys and columns\n",
      "'select()' returned 1:1 mapping between keys and columns\n",
      "'select()' returned 1:1 mapping between keys and columns\n"
     ]
    },
    {
     "name": "stdout",
     "output_type": "stream",
     "text": [
      "[1] 377\n"
     ]
    },
    {
     "name": "stderr",
     "output_type": "stream",
     "text": [
      "2023-03-20 11:24:52\n",
      "'select()' returned 1:many mapping between keys and columns\n",
      "'select()' returned 1:1 mapping between keys and columns\n",
      "'select()' returned 1:1 mapping between keys and columns\n",
      "'select()' returned 1:1 mapping between keys and columns\n"
     ]
    },
    {
     "name": "stdout",
     "output_type": "stream",
     "text": [
      "[1] 378\n"
     ]
    },
    {
     "name": "stderr",
     "output_type": "stream",
     "text": [
      "2023-03-20 11:24:53\n",
      "'select()' returned 1:many mapping between keys and columns\n",
      "'select()' returned 1:1 mapping between keys and columns\n",
      "'select()' returned 1:1 mapping between keys and columns\n",
      "'select()' returned 1:1 mapping between keys and columns\n"
     ]
    },
    {
     "name": "stdout",
     "output_type": "stream",
     "text": [
      "[1] 379\n"
     ]
    },
    {
     "name": "stderr",
     "output_type": "stream",
     "text": [
      "2023-03-20 11:24:55\n",
      "'select()' returned 1:many mapping between keys and columns\n",
      "'select()' returned 1:1 mapping between keys and columns\n",
      "'select()' returned 1:1 mapping between keys and columns\n",
      "'select()' returned 1:1 mapping between keys and columns\n"
     ]
    },
    {
     "name": "stdout",
     "output_type": "stream",
     "text": [
      "[1] 380\n"
     ]
    },
    {
     "name": "stderr",
     "output_type": "stream",
     "text": [
      "2023-03-20 11:24:56\n",
      "'select()' returned 1:many mapping between keys and columns\n",
      "'select()' returned 1:1 mapping between keys and columns\n",
      "'select()' returned 1:1 mapping between keys and columns\n",
      "'select()' returned 1:1 mapping between keys and columns\n"
     ]
    },
    {
     "name": "stdout",
     "output_type": "stream",
     "text": [
      "[1] 381\n"
     ]
    },
    {
     "name": "stderr",
     "output_type": "stream",
     "text": [
      "2023-03-20 11:24:58\n",
      "'select()' returned 1:many mapping between keys and columns\n",
      "'select()' returned 1:1 mapping between keys and columns\n",
      "'select()' returned 1:1 mapping between keys and columns\n",
      "'select()' returned 1:1 mapping between keys and columns\n"
     ]
    },
    {
     "name": "stdout",
     "output_type": "stream",
     "text": [
      "[1] 382\n"
     ]
    },
    {
     "name": "stderr",
     "output_type": "stream",
     "text": [
      "2023-03-20 11:24:59\n",
      "'select()' returned 1:many mapping between keys and columns\n",
      "'select()' returned 1:1 mapping between keys and columns\n",
      "'select()' returned 1:1 mapping between keys and columns\n",
      "'select()' returned 1:1 mapping between keys and columns\n"
     ]
    },
    {
     "name": "stdout",
     "output_type": "stream",
     "text": [
      "[1] 383\n"
     ]
    },
    {
     "name": "stderr",
     "output_type": "stream",
     "text": [
      "2023-03-20 11:25:01\n",
      "'select()' returned 1:many mapping between keys and columns\n",
      "'select()' returned 1:1 mapping between keys and columns\n",
      "'select()' returned 1:1 mapping between keys and columns\n",
      "'select()' returned 1:1 mapping between keys and columns\n"
     ]
    },
    {
     "name": "stdout",
     "output_type": "stream",
     "text": [
      "[1] 384\n"
     ]
    },
    {
     "name": "stderr",
     "output_type": "stream",
     "text": [
      "2023-03-20 11:25:02\n",
      "'select()' returned 1:many mapping between keys and columns\n",
      "'select()' returned 1:1 mapping between keys and columns\n",
      "'select()' returned 1:1 mapping between keys and columns\n",
      "'select()' returned 1:1 mapping between keys and columns\n"
     ]
    },
    {
     "name": "stdout",
     "output_type": "stream",
     "text": [
      "[1] 385\n"
     ]
    },
    {
     "name": "stderr",
     "output_type": "stream",
     "text": [
      "2023-03-20 11:25:04\n",
      "'select()' returned 1:many mapping between keys and columns\n",
      "'select()' returned 1:1 mapping between keys and columns\n",
      "'select()' returned 1:1 mapping between keys and columns\n",
      "'select()' returned 1:1 mapping between keys and columns\n"
     ]
    },
    {
     "name": "stdout",
     "output_type": "stream",
     "text": [
      "[1] 386\n"
     ]
    },
    {
     "name": "stderr",
     "output_type": "stream",
     "text": [
      "2023-03-20 11:25:05\n",
      "'select()' returned 1:many mapping between keys and columns\n",
      "'select()' returned 1:1 mapping between keys and columns\n",
      "'select()' returned 1:1 mapping between keys and columns\n",
      "'select()' returned 1:1 mapping between keys and columns\n"
     ]
    },
    {
     "name": "stdout",
     "output_type": "stream",
     "text": [
      "[1] 387\n"
     ]
    },
    {
     "name": "stderr",
     "output_type": "stream",
     "text": [
      "2023-03-20 11:25:06\n",
      "'select()' returned 1:many mapping between keys and columns\n",
      "'select()' returned 1:1 mapping between keys and columns\n",
      "'select()' returned 1:1 mapping between keys and columns\n",
      "'select()' returned 1:1 mapping between keys and columns\n"
     ]
    },
    {
     "name": "stdout",
     "output_type": "stream",
     "text": [
      "[1] 388\n"
     ]
    },
    {
     "name": "stderr",
     "output_type": "stream",
     "text": [
      "2023-03-20 11:25:08\n",
      "'select()' returned 1:many mapping between keys and columns\n",
      "'select()' returned 1:1 mapping between keys and columns\n",
      "'select()' returned 1:1 mapping between keys and columns\n",
      "'select()' returned 1:1 mapping between keys and columns\n"
     ]
    },
    {
     "name": "stdout",
     "output_type": "stream",
     "text": [
      "[1] 389\n"
     ]
    },
    {
     "name": "stderr",
     "output_type": "stream",
     "text": [
      "2023-03-20 11:25:10\n",
      "'select()' returned 1:many mapping between keys and columns\n",
      "'select()' returned 1:1 mapping between keys and columns\n",
      "'select()' returned 1:1 mapping between keys and columns\n",
      "'select()' returned 1:1 mapping between keys and columns\n"
     ]
    },
    {
     "name": "stdout",
     "output_type": "stream",
     "text": [
      "[1] 390\n"
     ]
    },
    {
     "name": "stderr",
     "output_type": "stream",
     "text": [
      "2023-03-20 11:25:11\n",
      "'select()' returned 1:many mapping between keys and columns\n",
      "'select()' returned 1:1 mapping between keys and columns\n",
      "'select()' returned 1:1 mapping between keys and columns\n",
      "'select()' returned 1:1 mapping between keys and columns\n"
     ]
    },
    {
     "name": "stdout",
     "output_type": "stream",
     "text": [
      "[1] 391\n"
     ]
    },
    {
     "name": "stderr",
     "output_type": "stream",
     "text": [
      "2023-03-20 11:25:12\n",
      "'select()' returned 1:many mapping between keys and columns\n",
      "'select()' returned 1:1 mapping between keys and columns\n",
      "'select()' returned 1:1 mapping between keys and columns\n",
      "'select()' returned 1:1 mapping between keys and columns\n"
     ]
    },
    {
     "name": "stdout",
     "output_type": "stream",
     "text": [
      "[1] 392\n"
     ]
    },
    {
     "name": "stderr",
     "output_type": "stream",
     "text": [
      "2023-03-20 11:25:14\n",
      "'select()' returned 1:many mapping between keys and columns\n",
      "'select()' returned 1:1 mapping between keys and columns\n",
      "'select()' returned 1:1 mapping between keys and columns\n",
      "'select()' returned 1:1 mapping between keys and columns\n"
     ]
    },
    {
     "name": "stdout",
     "output_type": "stream",
     "text": [
      "[1] 393\n"
     ]
    },
    {
     "name": "stderr",
     "output_type": "stream",
     "text": [
      "2023-03-20 11:25:15\n",
      "'select()' returned 1:many mapping between keys and columns\n",
      "'select()' returned 1:1 mapping between keys and columns\n",
      "'select()' returned 1:1 mapping between keys and columns\n",
      "'select()' returned 1:1 mapping between keys and columns\n"
     ]
    },
    {
     "name": "stdout",
     "output_type": "stream",
     "text": [
      "[1] 394\n"
     ]
    },
    {
     "name": "stderr",
     "output_type": "stream",
     "text": [
      "2023-03-20 11:25:17\n",
      "'select()' returned 1:many mapping between keys and columns\n",
      "'select()' returned 1:1 mapping between keys and columns\n",
      "'select()' returned 1:1 mapping between keys and columns\n",
      "'select()' returned 1:1 mapping between keys and columns\n"
     ]
    },
    {
     "name": "stdout",
     "output_type": "stream",
     "text": [
      "[1] 395\n"
     ]
    },
    {
     "name": "stderr",
     "output_type": "stream",
     "text": [
      "2023-03-20 11:25:18\n",
      "'select()' returned 1:many mapping between keys and columns\n",
      "'select()' returned 1:1 mapping between keys and columns\n",
      "'select()' returned 1:1 mapping between keys and columns\n",
      "'select()' returned 1:1 mapping between keys and columns\n"
     ]
    },
    {
     "name": "stdout",
     "output_type": "stream",
     "text": [
      "[1] 396\n"
     ]
    },
    {
     "name": "stderr",
     "output_type": "stream",
     "text": [
      "2023-03-20 11:25:20\n",
      "'select()' returned 1:many mapping between keys and columns\n",
      "'select()' returned 1:1 mapping between keys and columns\n",
      "'select()' returned 1:1 mapping between keys and columns\n",
      "'select()' returned 1:1 mapping between keys and columns\n"
     ]
    },
    {
     "name": "stdout",
     "output_type": "stream",
     "text": [
      "[1] 397\n"
     ]
    },
    {
     "name": "stderr",
     "output_type": "stream",
     "text": [
      "2023-03-20 11:25:21\n",
      "'select()' returned 1:many mapping between keys and columns\n",
      "'select()' returned 1:1 mapping between keys and columns\n",
      "'select()' returned 1:1 mapping between keys and columns\n",
      "'select()' returned 1:1 mapping between keys and columns\n"
     ]
    },
    {
     "name": "stdout",
     "output_type": "stream",
     "text": [
      "[1] 398\n"
     ]
    },
    {
     "name": "stderr",
     "output_type": "stream",
     "text": [
      "2023-03-20 11:25:22\n",
      "'select()' returned 1:many mapping between keys and columns\n",
      "'select()' returned 1:1 mapping between keys and columns\n",
      "'select()' returned 1:1 mapping between keys and columns\n",
      "'select()' returned 1:1 mapping between keys and columns\n"
     ]
    },
    {
     "name": "stdout",
     "output_type": "stream",
     "text": [
      "[1] 399\n"
     ]
    },
    {
     "name": "stderr",
     "output_type": "stream",
     "text": [
      "2023-03-20 11:25:24\n",
      "'select()' returned 1:many mapping between keys and columns\n",
      "'select()' returned 1:1 mapping between keys and columns\n",
      "'select()' returned 1:1 mapping between keys and columns\n",
      "'select()' returned 1:1 mapping between keys and columns\n"
     ]
    },
    {
     "name": "stdout",
     "output_type": "stream",
     "text": [
      "[1] 400\n"
     ]
    },
    {
     "name": "stderr",
     "output_type": "stream",
     "text": [
      "2023-03-20 11:25:25\n",
      "'select()' returned 1:many mapping between keys and columns\n",
      "'select()' returned 1:1 mapping between keys and columns\n",
      "'select()' returned 1:1 mapping between keys and columns\n",
      "'select()' returned 1:1 mapping between keys and columns\n"
     ]
    },
    {
     "name": "stdout",
     "output_type": "stream",
     "text": [
      "[1] 401\n"
     ]
    },
    {
     "name": "stderr",
     "output_type": "stream",
     "text": [
      "2023-03-20 11:25:27\n",
      "'select()' returned 1:many mapping between keys and columns\n",
      "'select()' returned 1:1 mapping between keys and columns\n",
      "'select()' returned 1:1 mapping between keys and columns\n",
      "'select()' returned 1:1 mapping between keys and columns\n"
     ]
    },
    {
     "name": "stdout",
     "output_type": "stream",
     "text": [
      "[1] 402\n"
     ]
    },
    {
     "name": "stderr",
     "output_type": "stream",
     "text": [
      "2023-03-20 11:25:28\n",
      "'select()' returned 1:many mapping between keys and columns\n",
      "'select()' returned 1:1 mapping between keys and columns\n",
      "'select()' returned 1:1 mapping between keys and columns\n",
      "'select()' returned 1:1 mapping between keys and columns\n"
     ]
    },
    {
     "name": "stdout",
     "output_type": "stream",
     "text": [
      "[1] 403\n"
     ]
    },
    {
     "name": "stderr",
     "output_type": "stream",
     "text": [
      "2023-03-20 11:25:30\n",
      "'select()' returned 1:many mapping between keys and columns\n",
      "'select()' returned 1:1 mapping between keys and columns\n",
      "'select()' returned 1:1 mapping between keys and columns\n",
      "'select()' returned 1:1 mapping between keys and columns\n"
     ]
    },
    {
     "name": "stdout",
     "output_type": "stream",
     "text": [
      "[1] 404\n"
     ]
    },
    {
     "name": "stderr",
     "output_type": "stream",
     "text": [
      "2023-03-20 11:25:31\n",
      "'select()' returned 1:many mapping between keys and columns\n",
      "'select()' returned 1:1 mapping between keys and columns\n",
      "'select()' returned 1:1 mapping between keys and columns\n",
      "'select()' returned 1:1 mapping between keys and columns\n"
     ]
    },
    {
     "name": "stdout",
     "output_type": "stream",
     "text": [
      "[1] 405\n"
     ]
    },
    {
     "name": "stderr",
     "output_type": "stream",
     "text": [
      "2023-03-20 11:25:33\n",
      "'select()' returned 1:many mapping between keys and columns\n",
      "'select()' returned 1:1 mapping between keys and columns\n",
      "'select()' returned 1:1 mapping between keys and columns\n",
      "'select()' returned 1:1 mapping between keys and columns\n"
     ]
    },
    {
     "name": "stdout",
     "output_type": "stream",
     "text": [
      "[1] 406\n"
     ]
    },
    {
     "name": "stderr",
     "output_type": "stream",
     "text": [
      "2023-03-20 11:25:35\n",
      "'select()' returned 1:many mapping between keys and columns\n",
      "'select()' returned 1:1 mapping between keys and columns\n",
      "'select()' returned 1:1 mapping between keys and columns\n",
      "'select()' returned 1:1 mapping between keys and columns\n"
     ]
    },
    {
     "name": "stdout",
     "output_type": "stream",
     "text": [
      "[1] 407\n"
     ]
    },
    {
     "name": "stderr",
     "output_type": "stream",
     "text": [
      "2023-03-20 11:25:36\n",
      "'select()' returned 1:many mapping between keys and columns\n",
      "'select()' returned 1:1 mapping between keys and columns\n",
      "'select()' returned 1:1 mapping between keys and columns\n",
      "'select()' returned 1:1 mapping between keys and columns\n"
     ]
    },
    {
     "name": "stdout",
     "output_type": "stream",
     "text": [
      "[1] 408\n"
     ]
    },
    {
     "name": "stderr",
     "output_type": "stream",
     "text": [
      "2023-03-20 11:25:38\n",
      "'select()' returned 1:many mapping between keys and columns\n",
      "'select()' returned 1:1 mapping between keys and columns\n",
      "'select()' returned 1:1 mapping between keys and columns\n",
      "'select()' returned 1:1 mapping between keys and columns\n"
     ]
    },
    {
     "name": "stdout",
     "output_type": "stream",
     "text": [
      "[1] 409\n"
     ]
    },
    {
     "name": "stderr",
     "output_type": "stream",
     "text": [
      "2023-03-20 11:25:39\n",
      "'select()' returned 1:many mapping between keys and columns\n",
      "'select()' returned 1:1 mapping between keys and columns\n",
      "'select()' returned 1:1 mapping between keys and columns\n",
      "'select()' returned 1:1 mapping between keys and columns\n"
     ]
    },
    {
     "name": "stdout",
     "output_type": "stream",
     "text": [
      "[1] 410\n"
     ]
    },
    {
     "name": "stderr",
     "output_type": "stream",
     "text": [
      "2023-03-20 11:25:41\n",
      "'select()' returned 1:many mapping between keys and columns\n",
      "'select()' returned 1:1 mapping between keys and columns\n",
      "'select()' returned 1:1 mapping between keys and columns\n",
      "'select()' returned 1:1 mapping between keys and columns\n"
     ]
    },
    {
     "name": "stdout",
     "output_type": "stream",
     "text": [
      "[1] 411\n"
     ]
    },
    {
     "name": "stderr",
     "output_type": "stream",
     "text": [
      "2023-03-20 11:25:42\n",
      "'select()' returned 1:many mapping between keys and columns\n",
      "'select()' returned 1:1 mapping between keys and columns\n",
      "'select()' returned 1:1 mapping between keys and columns\n",
      "'select()' returned 1:1 mapping between keys and columns\n"
     ]
    },
    {
     "name": "stdout",
     "output_type": "stream",
     "text": [
      "[1] 412\n"
     ]
    },
    {
     "name": "stderr",
     "output_type": "stream",
     "text": [
      "2023-03-20 11:25:43\n",
      "'select()' returned 1:many mapping between keys and columns\n",
      "'select()' returned 1:1 mapping between keys and columns\n",
      "'select()' returned 1:1 mapping between keys and columns\n",
      "'select()' returned 1:1 mapping between keys and columns\n"
     ]
    },
    {
     "name": "stdout",
     "output_type": "stream",
     "text": [
      "[1] 413\n"
     ]
    },
    {
     "name": "stderr",
     "output_type": "stream",
     "text": [
      "2023-03-20 11:25:45\n",
      "'select()' returned 1:many mapping between keys and columns\n",
      "'select()' returned 1:1 mapping between keys and columns\n",
      "'select()' returned 1:1 mapping between keys and columns\n",
      "'select()' returned 1:1 mapping between keys and columns\n"
     ]
    },
    {
     "name": "stdout",
     "output_type": "stream",
     "text": [
      "[1] 414\n"
     ]
    },
    {
     "name": "stderr",
     "output_type": "stream",
     "text": [
      "2023-03-20 11:25:46\n",
      "'select()' returned 1:many mapping between keys and columns\n",
      "'select()' returned 1:1 mapping between keys and columns\n",
      "'select()' returned 1:1 mapping between keys and columns\n",
      "'select()' returned 1:1 mapping between keys and columns\n"
     ]
    },
    {
     "name": "stdout",
     "output_type": "stream",
     "text": [
      "[1] 415\n"
     ]
    },
    {
     "name": "stderr",
     "output_type": "stream",
     "text": [
      "2023-03-20 11:25:48\n",
      "'select()' returned 1:many mapping between keys and columns\n",
      "'select()' returned 1:1 mapping between keys and columns\n",
      "'select()' returned 1:1 mapping between keys and columns\n",
      "'select()' returned 1:1 mapping between keys and columns\n"
     ]
    },
    {
     "name": "stdout",
     "output_type": "stream",
     "text": [
      "[1] 416\n"
     ]
    },
    {
     "name": "stderr",
     "output_type": "stream",
     "text": [
      "2023-03-20 11:25:49\n",
      "'select()' returned 1:many mapping between keys and columns\n",
      "'select()' returned 1:1 mapping between keys and columns\n",
      "'select()' returned 1:1 mapping between keys and columns\n",
      "'select()' returned 1:1 mapping between keys and columns\n"
     ]
    },
    {
     "name": "stdout",
     "output_type": "stream",
     "text": [
      "[1] 417\n"
     ]
    },
    {
     "name": "stderr",
     "output_type": "stream",
     "text": [
      "2023-03-20 11:25:50\n",
      "'select()' returned 1:many mapping between keys and columns\n",
      "'select()' returned 1:1 mapping between keys and columns\n",
      "'select()' returned 1:1 mapping between keys and columns\n",
      "'select()' returned 1:1 mapping between keys and columns\n"
     ]
    },
    {
     "name": "stdout",
     "output_type": "stream",
     "text": [
      "[1] 418\n"
     ]
    },
    {
     "name": "stderr",
     "output_type": "stream",
     "text": [
      "2023-03-20 11:25:52\n",
      "'select()' returned 1:many mapping between keys and columns\n",
      "'select()' returned 1:1 mapping between keys and columns\n",
      "'select()' returned 1:1 mapping between keys and columns\n",
      "'select()' returned 1:1 mapping between keys and columns\n"
     ]
    },
    {
     "name": "stdout",
     "output_type": "stream",
     "text": [
      "[1] 419\n"
     ]
    },
    {
     "name": "stderr",
     "output_type": "stream",
     "text": [
      "2023-03-20 11:25:53\n",
      "'select()' returned 1:many mapping between keys and columns\n",
      "'select()' returned 1:1 mapping between keys and columns\n",
      "'select()' returned 1:1 mapping between keys and columns\n",
      "'select()' returned 1:1 mapping between keys and columns\n"
     ]
    },
    {
     "name": "stdout",
     "output_type": "stream",
     "text": [
      "[1] 420\n"
     ]
    },
    {
     "name": "stderr",
     "output_type": "stream",
     "text": [
      "2023-03-20 11:25:55\n",
      "'select()' returned 1:many mapping between keys and columns\n",
      "'select()' returned 1:1 mapping between keys and columns\n",
      "'select()' returned 1:1 mapping between keys and columns\n",
      "'select()' returned 1:1 mapping between keys and columns\n"
     ]
    },
    {
     "name": "stdout",
     "output_type": "stream",
     "text": [
      "[1] 421\n"
     ]
    },
    {
     "name": "stderr",
     "output_type": "stream",
     "text": [
      "2023-03-20 11:25:56\n",
      "'select()' returned 1:many mapping between keys and columns\n",
      "'select()' returned 1:1 mapping between keys and columns\n",
      "'select()' returned 1:1 mapping between keys and columns\n",
      "'select()' returned 1:1 mapping between keys and columns\n"
     ]
    },
    {
     "name": "stdout",
     "output_type": "stream",
     "text": [
      "[1] 422\n"
     ]
    },
    {
     "name": "stderr",
     "output_type": "stream",
     "text": [
      "2023-03-20 11:25:58\n",
      "'select()' returned 1:many mapping between keys and columns\n",
      "'select()' returned 1:1 mapping between keys and columns\n",
      "'select()' returned 1:1 mapping between keys and columns\n",
      "'select()' returned 1:1 mapping between keys and columns\n"
     ]
    },
    {
     "name": "stdout",
     "output_type": "stream",
     "text": [
      "[1] 423\n"
     ]
    },
    {
     "name": "stderr",
     "output_type": "stream",
     "text": [
      "2023-03-20 11:25:59\n",
      "'select()' returned 1:many mapping between keys and columns\n",
      "'select()' returned 1:1 mapping between keys and columns\n",
      "'select()' returned 1:1 mapping between keys and columns\n",
      "'select()' returned 1:1 mapping between keys and columns\n"
     ]
    },
    {
     "name": "stdout",
     "output_type": "stream",
     "text": [
      "[1] 424\n"
     ]
    },
    {
     "name": "stderr",
     "output_type": "stream",
     "text": [
      "2023-03-20 11:26:01\n",
      "'select()' returned 1:many mapping between keys and columns\n",
      "'select()' returned 1:1 mapping between keys and columns\n",
      "'select()' returned 1:1 mapping between keys and columns\n",
      "'select()' returned 1:1 mapping between keys and columns\n"
     ]
    },
    {
     "name": "stdout",
     "output_type": "stream",
     "text": [
      "[1] 425\n"
     ]
    },
    {
     "name": "stderr",
     "output_type": "stream",
     "text": [
      "2023-03-20 11:26:02\n",
      "'select()' returned 1:many mapping between keys and columns\n",
      "'select()' returned 1:1 mapping between keys and columns\n",
      "'select()' returned 1:1 mapping between keys and columns\n",
      "'select()' returned 1:1 mapping between keys and columns\n"
     ]
    },
    {
     "name": "stdout",
     "output_type": "stream",
     "text": [
      "[1] 426\n"
     ]
    },
    {
     "name": "stderr",
     "output_type": "stream",
     "text": [
      "2023-03-20 11:26:03\n",
      "'select()' returned 1:many mapping between keys and columns\n",
      "'select()' returned 1:1 mapping between keys and columns\n",
      "'select()' returned 1:1 mapping between keys and columns\n",
      "'select()' returned 1:1 mapping between keys and columns\n"
     ]
    },
    {
     "name": "stdout",
     "output_type": "stream",
     "text": [
      "[1] 427\n"
     ]
    },
    {
     "name": "stderr",
     "output_type": "stream",
     "text": [
      "2023-03-20 11:26:05\n",
      "'select()' returned 1:many mapping between keys and columns\n",
      "'select()' returned 1:1 mapping between keys and columns\n",
      "'select()' returned 1:1 mapping between keys and columns\n",
      "'select()' returned 1:1 mapping between keys and columns\n"
     ]
    },
    {
     "name": "stdout",
     "output_type": "stream",
     "text": [
      "[1] 428\n"
     ]
    },
    {
     "name": "stderr",
     "output_type": "stream",
     "text": [
      "2023-03-20 11:26:07\n",
      "'select()' returned 1:many mapping between keys and columns\n",
      "'select()' returned 1:1 mapping between keys and columns\n",
      "'select()' returned 1:1 mapping between keys and columns\n",
      "'select()' returned 1:1 mapping between keys and columns\n"
     ]
    },
    {
     "name": "stdout",
     "output_type": "stream",
     "text": [
      "[1] 429\n"
     ]
    },
    {
     "name": "stderr",
     "output_type": "stream",
     "text": [
      "2023-03-20 11:26:08\n",
      "'select()' returned 1:many mapping between keys and columns\n",
      "'select()' returned 1:1 mapping between keys and columns\n",
      "'select()' returned 1:1 mapping between keys and columns\n",
      "'select()' returned 1:1 mapping between keys and columns\n"
     ]
    },
    {
     "name": "stdout",
     "output_type": "stream",
     "text": [
      "[1] 430\n"
     ]
    },
    {
     "name": "stderr",
     "output_type": "stream",
     "text": [
      "2023-03-20 11:26:10\n",
      "'select()' returned 1:many mapping between keys and columns\n",
      "'select()' returned 1:1 mapping between keys and columns\n",
      "'select()' returned 1:1 mapping between keys and columns\n",
      "'select()' returned 1:1 mapping between keys and columns\n"
     ]
    },
    {
     "name": "stdout",
     "output_type": "stream",
     "text": [
      "[1] 431\n"
     ]
    },
    {
     "name": "stderr",
     "output_type": "stream",
     "text": [
      "2023-03-20 11:26:11\n",
      "'select()' returned 1:many mapping between keys and columns\n",
      "'select()' returned 1:1 mapping between keys and columns\n",
      "'select()' returned 1:1 mapping between keys and columns\n",
      "'select()' returned 1:1 mapping between keys and columns\n"
     ]
    },
    {
     "name": "stdout",
     "output_type": "stream",
     "text": [
      "[1] 432\n"
     ]
    },
    {
     "name": "stderr",
     "output_type": "stream",
     "text": [
      "2023-03-20 11:26:12\n",
      "'select()' returned 1:many mapping between keys and columns\n",
      "'select()' returned 1:1 mapping between keys and columns\n",
      "'select()' returned 1:1 mapping between keys and columns\n",
      "'select()' returned 1:1 mapping between keys and columns\n"
     ]
    },
    {
     "name": "stdout",
     "output_type": "stream",
     "text": [
      "[1] 433\n"
     ]
    },
    {
     "name": "stderr",
     "output_type": "stream",
     "text": [
      "2023-03-20 11:26:14\n",
      "'select()' returned 1:many mapping between keys and columns\n",
      "'select()' returned 1:1 mapping between keys and columns\n",
      "'select()' returned 1:1 mapping between keys and columns\n",
      "'select()' returned 1:1 mapping between keys and columns\n"
     ]
    },
    {
     "name": "stdout",
     "output_type": "stream",
     "text": [
      "[1] 434\n"
     ]
    },
    {
     "name": "stderr",
     "output_type": "stream",
     "text": [
      "2023-03-20 11:26:15\n",
      "'select()' returned 1:many mapping between keys and columns\n",
      "'select()' returned 1:1 mapping between keys and columns\n",
      "'select()' returned 1:1 mapping between keys and columns\n",
      "'select()' returned 1:1 mapping between keys and columns\n"
     ]
    },
    {
     "name": "stdout",
     "output_type": "stream",
     "text": [
      "[1] 435\n"
     ]
    },
    {
     "name": "stderr",
     "output_type": "stream",
     "text": [
      "2023-03-20 11:26:17\n",
      "'select()' returned 1:many mapping between keys and columns\n",
      "'select()' returned 1:1 mapping between keys and columns\n",
      "'select()' returned 1:1 mapping between keys and columns\n",
      "'select()' returned 1:1 mapping between keys and columns\n"
     ]
    },
    {
     "name": "stdout",
     "output_type": "stream",
     "text": [
      "[1] 436\n"
     ]
    },
    {
     "name": "stderr",
     "output_type": "stream",
     "text": [
      "2023-03-20 11:26:18\n",
      "'select()' returned 1:many mapping between keys and columns\n",
      "'select()' returned 1:1 mapping between keys and columns\n",
      "'select()' returned 1:1 mapping between keys and columns\n",
      "'select()' returned 1:1 mapping between keys and columns\n"
     ]
    },
    {
     "name": "stdout",
     "output_type": "stream",
     "text": [
      "[1] 437\n"
     ]
    },
    {
     "name": "stderr",
     "output_type": "stream",
     "text": [
      "2023-03-20 11:26:20\n",
      "'select()' returned 1:many mapping between keys and columns\n",
      "'select()' returned 1:1 mapping between keys and columns\n",
      "'select()' returned 1:1 mapping between keys and columns\n",
      "'select()' returned 1:1 mapping between keys and columns\n"
     ]
    },
    {
     "name": "stdout",
     "output_type": "stream",
     "text": [
      "[1] 438\n"
     ]
    },
    {
     "name": "stderr",
     "output_type": "stream",
     "text": [
      "2023-03-20 11:26:21\n",
      "'select()' returned 1:many mapping between keys and columns\n",
      "'select()' returned 1:1 mapping between keys and columns\n",
      "'select()' returned 1:1 mapping between keys and columns\n",
      "'select()' returned 1:1 mapping between keys and columns\n"
     ]
    },
    {
     "name": "stdout",
     "output_type": "stream",
     "text": [
      "[1] 439\n"
     ]
    },
    {
     "name": "stderr",
     "output_type": "stream",
     "text": [
      "2023-03-20 11:26:23\n",
      "'select()' returned 1:many mapping between keys and columns\n",
      "'select()' returned 1:1 mapping between keys and columns\n",
      "'select()' returned 1:1 mapping between keys and columns\n",
      "'select()' returned 1:1 mapping between keys and columns\n"
     ]
    },
    {
     "name": "stdout",
     "output_type": "stream",
     "text": [
      "[1] 440\n"
     ]
    },
    {
     "name": "stderr",
     "output_type": "stream",
     "text": [
      "2023-03-20 11:26:24\n",
      "'select()' returned 1:many mapping between keys and columns\n",
      "'select()' returned 1:1 mapping between keys and columns\n",
      "'select()' returned 1:1 mapping between keys and columns\n",
      "'select()' returned 1:1 mapping between keys and columns\n"
     ]
    },
    {
     "name": "stdout",
     "output_type": "stream",
     "text": [
      "[1] 441\n"
     ]
    },
    {
     "name": "stderr",
     "output_type": "stream",
     "text": [
      "2023-03-20 11:26:26\n",
      "'select()' returned 1:many mapping between keys and columns\n",
      "'select()' returned 1:1 mapping between keys and columns\n",
      "'select()' returned 1:1 mapping between keys and columns\n",
      "'select()' returned 1:1 mapping between keys and columns\n"
     ]
    },
    {
     "name": "stdout",
     "output_type": "stream",
     "text": [
      "[1] 442\n"
     ]
    },
    {
     "name": "stderr",
     "output_type": "stream",
     "text": [
      "2023-03-20 11:26:27\n",
      "'select()' returned 1:many mapping between keys and columns\n",
      "'select()' returned 1:1 mapping between keys and columns\n",
      "'select()' returned 1:1 mapping between keys and columns\n",
      "'select()' returned 1:1 mapping between keys and columns\n"
     ]
    },
    {
     "name": "stdout",
     "output_type": "stream",
     "text": [
      "[1] 443\n"
     ]
    },
    {
     "name": "stderr",
     "output_type": "stream",
     "text": [
      "2023-03-20 11:26:28\n",
      "'select()' returned 1:many mapping between keys and columns\n",
      "'select()' returned 1:1 mapping between keys and columns\n",
      "'select()' returned 1:1 mapping between keys and columns\n",
      "'select()' returned 1:1 mapping between keys and columns\n"
     ]
    },
    {
     "name": "stdout",
     "output_type": "stream",
     "text": [
      "[1] 444\n"
     ]
    },
    {
     "name": "stderr",
     "output_type": "stream",
     "text": [
      "2023-03-20 11:26:30\n",
      "'select()' returned 1:many mapping between keys and columns\n",
      "'select()' returned 1:1 mapping between keys and columns\n",
      "'select()' returned 1:1 mapping between keys and columns\n",
      "'select()' returned 1:1 mapping between keys and columns\n"
     ]
    },
    {
     "name": "stdout",
     "output_type": "stream",
     "text": [
      "[1] 445\n"
     ]
    },
    {
     "name": "stderr",
     "output_type": "stream",
     "text": [
      "2023-03-20 11:26:31\n",
      "'select()' returned 1:many mapping between keys and columns\n",
      "'select()' returned 1:1 mapping between keys and columns\n",
      "'select()' returned 1:1 mapping between keys and columns\n",
      "'select()' returned 1:1 mapping between keys and columns\n"
     ]
    },
    {
     "name": "stdout",
     "output_type": "stream",
     "text": [
      "[1] 446\n"
     ]
    },
    {
     "name": "stderr",
     "output_type": "stream",
     "text": [
      "2023-03-20 11:26:33\n",
      "'select()' returned 1:many mapping between keys and columns\n",
      "'select()' returned 1:1 mapping between keys and columns\n",
      "'select()' returned 1:1 mapping between keys and columns\n",
      "'select()' returned 1:1 mapping between keys and columns\n"
     ]
    },
    {
     "name": "stdout",
     "output_type": "stream",
     "text": [
      "[1] 447\n"
     ]
    },
    {
     "name": "stderr",
     "output_type": "stream",
     "text": [
      "2023-03-20 11:26:34\n",
      "'select()' returned 1:many mapping between keys and columns\n",
      "'select()' returned 1:1 mapping between keys and columns\n",
      "'select()' returned 1:1 mapping between keys and columns\n",
      "'select()' returned 1:1 mapping between keys and columns\n"
     ]
    },
    {
     "name": "stdout",
     "output_type": "stream",
     "text": [
      "[1] 448\n"
     ]
    },
    {
     "name": "stderr",
     "output_type": "stream",
     "text": [
      "2023-03-20 11:26:36\n",
      "'select()' returned 1:many mapping between keys and columns\n",
      "'select()' returned 1:1 mapping between keys and columns\n",
      "'select()' returned 1:1 mapping between keys and columns\n",
      "'select()' returned 1:1 mapping between keys and columns\n"
     ]
    },
    {
     "name": "stdout",
     "output_type": "stream",
     "text": [
      "[1] 449\n"
     ]
    },
    {
     "name": "stderr",
     "output_type": "stream",
     "text": [
      "2023-03-20 11:26:37\n",
      "'select()' returned 1:many mapping between keys and columns\n",
      "'select()' returned 1:1 mapping between keys and columns\n",
      "'select()' returned 1:1 mapping between keys and columns\n",
      "'select()' returned 1:1 mapping between keys and columns\n"
     ]
    },
    {
     "name": "stdout",
     "output_type": "stream",
     "text": [
      "[1] 450\n"
     ]
    },
    {
     "name": "stderr",
     "output_type": "stream",
     "text": [
      "2023-03-20 11:26:39\n",
      "'select()' returned 1:many mapping between keys and columns\n",
      "'select()' returned 1:1 mapping between keys and columns\n",
      "'select()' returned 1:1 mapping between keys and columns\n",
      "'select()' returned 1:1 mapping between keys and columns\n"
     ]
    },
    {
     "name": "stdout",
     "output_type": "stream",
     "text": [
      "[1] 451\n"
     ]
    },
    {
     "name": "stderr",
     "output_type": "stream",
     "text": [
      "2023-03-20 11:26:40\n",
      "'select()' returned 1:many mapping between keys and columns\n",
      "'select()' returned 1:1 mapping between keys and columns\n",
      "'select()' returned 1:1 mapping between keys and columns\n",
      "'select()' returned 1:1 mapping between keys and columns\n"
     ]
    },
    {
     "name": "stdout",
     "output_type": "stream",
     "text": [
      "[1] 452\n"
     ]
    },
    {
     "name": "stderr",
     "output_type": "stream",
     "text": [
      "2023-03-20 11:26:42\n",
      "'select()' returned 1:many mapping between keys and columns\n",
      "'select()' returned 1:1 mapping between keys and columns\n",
      "'select()' returned 1:1 mapping between keys and columns\n",
      "'select()' returned 1:1 mapping between keys and columns\n"
     ]
    },
    {
     "name": "stdout",
     "output_type": "stream",
     "text": [
      "[1] 453\n"
     ]
    },
    {
     "name": "stderr",
     "output_type": "stream",
     "text": [
      "2023-03-20 11:26:43\n",
      "'select()' returned 1:many mapping between keys and columns\n",
      "'select()' returned 1:1 mapping between keys and columns\n",
      "'select()' returned 1:1 mapping between keys and columns\n",
      "'select()' returned 1:1 mapping between keys and columns\n"
     ]
    },
    {
     "name": "stdout",
     "output_type": "stream",
     "text": [
      "[1] 454\n"
     ]
    },
    {
     "name": "stderr",
     "output_type": "stream",
     "text": [
      "2023-03-20 11:26:45\n",
      "'select()' returned 1:many mapping between keys and columns\n",
      "'select()' returned 1:1 mapping between keys and columns\n",
      "'select()' returned 1:1 mapping between keys and columns\n",
      "'select()' returned 1:1 mapping between keys and columns\n"
     ]
    },
    {
     "name": "stdout",
     "output_type": "stream",
     "text": [
      "[1] 455\n"
     ]
    },
    {
     "name": "stderr",
     "output_type": "stream",
     "text": [
      "2023-03-20 11:26:46\n",
      "'select()' returned 1:many mapping between keys and columns\n",
      "'select()' returned 1:1 mapping between keys and columns\n",
      "'select()' returned 1:1 mapping between keys and columns\n",
      "'select()' returned 1:1 mapping between keys and columns\n"
     ]
    },
    {
     "name": "stdout",
     "output_type": "stream",
     "text": [
      "[1] 456\n"
     ]
    },
    {
     "name": "stderr",
     "output_type": "stream",
     "text": [
      "2023-03-20 11:26:48\n",
      "'select()' returned 1:many mapping between keys and columns\n",
      "'select()' returned 1:1 mapping between keys and columns\n",
      "'select()' returned 1:1 mapping between keys and columns\n",
      "'select()' returned 1:1 mapping between keys and columns\n"
     ]
    },
    {
     "name": "stdout",
     "output_type": "stream",
     "text": [
      "[1] 457\n"
     ]
    },
    {
     "name": "stderr",
     "output_type": "stream",
     "text": [
      "2023-03-20 11:26:49\n",
      "'select()' returned 1:many mapping between keys and columns\n",
      "'select()' returned 1:1 mapping between keys and columns\n",
      "'select()' returned 1:1 mapping between keys and columns\n",
      "'select()' returned 1:1 mapping between keys and columns\n"
     ]
    },
    {
     "name": "stdout",
     "output_type": "stream",
     "text": [
      "[1] 458\n"
     ]
    },
    {
     "name": "stderr",
     "output_type": "stream",
     "text": [
      "2023-03-20 11:26:51\n",
      "'select()' returned 1:many mapping between keys and columns\n",
      "'select()' returned 1:1 mapping between keys and columns\n",
      "'select()' returned 1:1 mapping between keys and columns\n",
      "'select()' returned 1:1 mapping between keys and columns\n"
     ]
    },
    {
     "name": "stdout",
     "output_type": "stream",
     "text": [
      "[1] 459\n"
     ]
    },
    {
     "name": "stderr",
     "output_type": "stream",
     "text": [
      "2023-03-20 11:26:52\n",
      "'select()' returned 1:many mapping between keys and columns\n",
      "'select()' returned 1:1 mapping between keys and columns\n",
      "'select()' returned 1:1 mapping between keys and columns\n",
      "'select()' returned 1:1 mapping between keys and columns\n"
     ]
    },
    {
     "name": "stdout",
     "output_type": "stream",
     "text": [
      "[1] 460\n"
     ]
    },
    {
     "name": "stderr",
     "output_type": "stream",
     "text": [
      "2023-03-20 11:26:54\n",
      "'select()' returned 1:many mapping between keys and columns\n",
      "'select()' returned 1:1 mapping between keys and columns\n",
      "'select()' returned 1:1 mapping between keys and columns\n",
      "'select()' returned 1:1 mapping between keys and columns\n"
     ]
    },
    {
     "name": "stdout",
     "output_type": "stream",
     "text": [
      "[1] 461\n"
     ]
    },
    {
     "name": "stderr",
     "output_type": "stream",
     "text": [
      "2023-03-20 11:26:55\n",
      "'select()' returned 1:many mapping between keys and columns\n",
      "'select()' returned 1:1 mapping between keys and columns\n",
      "'select()' returned 1:1 mapping between keys and columns\n",
      "'select()' returned 1:1 mapping between keys and columns\n"
     ]
    },
    {
     "name": "stdout",
     "output_type": "stream",
     "text": [
      "[1] 462\n"
     ]
    },
    {
     "name": "stderr",
     "output_type": "stream",
     "text": [
      "2023-03-20 11:26:56\n",
      "'select()' returned 1:many mapping between keys and columns\n",
      "'select()' returned 1:1 mapping between keys and columns\n",
      "'select()' returned 1:1 mapping between keys and columns\n",
      "'select()' returned 1:1 mapping between keys and columns\n"
     ]
    },
    {
     "name": "stdout",
     "output_type": "stream",
     "text": [
      "[1] 463\n"
     ]
    },
    {
     "name": "stderr",
     "output_type": "stream",
     "text": [
      "2023-03-20 11:26:58\n",
      "'select()' returned 1:many mapping between keys and columns\n",
      "'select()' returned 1:1 mapping between keys and columns\n",
      "'select()' returned 1:1 mapping between keys and columns\n",
      "'select()' returned 1:1 mapping between keys and columns\n"
     ]
    },
    {
     "name": "stdout",
     "output_type": "stream",
     "text": [
      "[1] 464\n"
     ]
    },
    {
     "name": "stderr",
     "output_type": "stream",
     "text": [
      "2023-03-20 11:26:59\n",
      "'select()' returned 1:many mapping between keys and columns\n",
      "'select()' returned 1:1 mapping between keys and columns\n",
      "'select()' returned 1:1 mapping between keys and columns\n",
      "'select()' returned 1:1 mapping between keys and columns\n"
     ]
    },
    {
     "name": "stdout",
     "output_type": "stream",
     "text": [
      "[1] 465\n"
     ]
    },
    {
     "name": "stderr",
     "output_type": "stream",
     "text": [
      "2023-03-20 11:27:01\n",
      "'select()' returned 1:many mapping between keys and columns\n",
      "'select()' returned 1:1 mapping between keys and columns\n",
      "'select()' returned 1:1 mapping between keys and columns\n",
      "'select()' returned 1:1 mapping between keys and columns\n"
     ]
    },
    {
     "name": "stdout",
     "output_type": "stream",
     "text": [
      "[1] 466\n"
     ]
    },
    {
     "name": "stderr",
     "output_type": "stream",
     "text": [
      "2023-03-20 11:27:02\n",
      "'select()' returned 1:many mapping between keys and columns\n",
      "'select()' returned 1:1 mapping between keys and columns\n",
      "'select()' returned 1:1 mapping between keys and columns\n",
      "'select()' returned 1:1 mapping between keys and columns\n"
     ]
    },
    {
     "name": "stdout",
     "output_type": "stream",
     "text": [
      "[1] 467\n"
     ]
    },
    {
     "name": "stderr",
     "output_type": "stream",
     "text": [
      "2023-03-20 11:27:04\n",
      "'select()' returned 1:many mapping between keys and columns\n",
      "'select()' returned 1:1 mapping between keys and columns\n",
      "'select()' returned 1:1 mapping between keys and columns\n",
      "'select()' returned 1:1 mapping between keys and columns\n"
     ]
    },
    {
     "name": "stdout",
     "output_type": "stream",
     "text": [
      "[1] 468\n"
     ]
    },
    {
     "name": "stderr",
     "output_type": "stream",
     "text": [
      "2023-03-20 11:27:05\n",
      "'select()' returned 1:many mapping between keys and columns\n",
      "'select()' returned 1:1 mapping between keys and columns\n",
      "'select()' returned 1:1 mapping between keys and columns\n",
      "'select()' returned 1:1 mapping between keys and columns\n"
     ]
    },
    {
     "name": "stdout",
     "output_type": "stream",
     "text": [
      "[1] 469\n"
     ]
    },
    {
     "name": "stderr",
     "output_type": "stream",
     "text": [
      "2023-03-20 11:27:07\n",
      "'select()' returned 1:many mapping between keys and columns\n",
      "'select()' returned 1:1 mapping between keys and columns\n",
      "'select()' returned 1:1 mapping between keys and columns\n",
      "'select()' returned 1:1 mapping between keys and columns\n"
     ]
    },
    {
     "name": "stdout",
     "output_type": "stream",
     "text": [
      "[1] 470\n"
     ]
    },
    {
     "name": "stderr",
     "output_type": "stream",
     "text": [
      "2023-03-20 11:27:08\n",
      "'select()' returned 1:many mapping between keys and columns\n",
      "'select()' returned 1:1 mapping between keys and columns\n",
      "'select()' returned 1:1 mapping between keys and columns\n",
      "'select()' returned 1:1 mapping between keys and columns\n"
     ]
    },
    {
     "name": "stdout",
     "output_type": "stream",
     "text": [
      "[1] 471\n"
     ]
    },
    {
     "name": "stderr",
     "output_type": "stream",
     "text": [
      "2023-03-20 11:27:10\n",
      "'select()' returned 1:many mapping between keys and columns\n",
      "'select()' returned 1:1 mapping between keys and columns\n",
      "'select()' returned 1:1 mapping between keys and columns\n",
      "'select()' returned 1:1 mapping between keys and columns\n"
     ]
    },
    {
     "name": "stdout",
     "output_type": "stream",
     "text": [
      "[1] 472\n"
     ]
    },
    {
     "name": "stderr",
     "output_type": "stream",
     "text": [
      "2023-03-20 11:27:11\n",
      "'select()' returned 1:many mapping between keys and columns\n",
      "'select()' returned 1:1 mapping between keys and columns\n",
      "'select()' returned 1:1 mapping between keys and columns\n",
      "'select()' returned 1:1 mapping between keys and columns\n"
     ]
    },
    {
     "name": "stdout",
     "output_type": "stream",
     "text": [
      "[1] 473\n"
     ]
    },
    {
     "name": "stderr",
     "output_type": "stream",
     "text": [
      "2023-03-20 11:27:12\n",
      "'select()' returned 1:many mapping between keys and columns\n",
      "'select()' returned 1:1 mapping between keys and columns\n",
      "'select()' returned 1:1 mapping between keys and columns\n",
      "'select()' returned 1:1 mapping between keys and columns\n"
     ]
    },
    {
     "name": "stdout",
     "output_type": "stream",
     "text": [
      "[1] 474\n"
     ]
    },
    {
     "name": "stderr",
     "output_type": "stream",
     "text": [
      "2023-03-20 11:27:14\n",
      "'select()' returned 1:many mapping between keys and columns\n",
      "'select()' returned 1:1 mapping between keys and columns\n",
      "'select()' returned 1:1 mapping between keys and columns\n",
      "'select()' returned 1:1 mapping between keys and columns\n"
     ]
    },
    {
     "name": "stdout",
     "output_type": "stream",
     "text": [
      "[1] 475\n"
     ]
    },
    {
     "name": "stderr",
     "output_type": "stream",
     "text": [
      "2023-03-20 11:27:15\n",
      "'select()' returned 1:many mapping between keys and columns\n",
      "'select()' returned 1:1 mapping between keys and columns\n",
      "'select()' returned 1:1 mapping between keys and columns\n",
      "'select()' returned 1:1 mapping between keys and columns\n"
     ]
    },
    {
     "name": "stdout",
     "output_type": "stream",
     "text": [
      "[1] 476\n"
     ]
    },
    {
     "name": "stderr",
     "output_type": "stream",
     "text": [
      "2023-03-20 11:27:17\n",
      "'select()' returned 1:many mapping between keys and columns\n",
      "'select()' returned 1:1 mapping between keys and columns\n",
      "'select()' returned 1:1 mapping between keys and columns\n",
      "'select()' returned 1:1 mapping between keys and columns\n"
     ]
    },
    {
     "name": "stdout",
     "output_type": "stream",
     "text": [
      "[1] 477\n"
     ]
    },
    {
     "name": "stderr",
     "output_type": "stream",
     "text": [
      "2023-03-20 11:27:18\n",
      "'select()' returned 1:many mapping between keys and columns\n",
      "'select()' returned 1:1 mapping between keys and columns\n",
      "'select()' returned 1:1 mapping between keys and columns\n",
      "'select()' returned 1:1 mapping between keys and columns\n"
     ]
    },
    {
     "name": "stdout",
     "output_type": "stream",
     "text": [
      "[1] 478\n"
     ]
    },
    {
     "name": "stderr",
     "output_type": "stream",
     "text": [
      "2023-03-20 11:27:19\n",
      "'select()' returned 1:many mapping between keys and columns\n",
      "'select()' returned 1:1 mapping between keys and columns\n",
      "'select()' returned 1:1 mapping between keys and columns\n",
      "'select()' returned 1:1 mapping between keys and columns\n"
     ]
    },
    {
     "name": "stdout",
     "output_type": "stream",
     "text": [
      "[1] 479\n"
     ]
    },
    {
     "name": "stderr",
     "output_type": "stream",
     "text": [
      "2023-03-20 11:27:21\n",
      "'select()' returned 1:many mapping between keys and columns\n",
      "'select()' returned 1:1 mapping between keys and columns\n",
      "'select()' returned 1:1 mapping between keys and columns\n",
      "'select()' returned 1:1 mapping between keys and columns\n"
     ]
    },
    {
     "name": "stdout",
     "output_type": "stream",
     "text": [
      "[1] 480\n"
     ]
    },
    {
     "name": "stderr",
     "output_type": "stream",
     "text": [
      "2023-03-20 11:27:22\n",
      "'select()' returned 1:many mapping between keys and columns\n",
      "'select()' returned 1:1 mapping between keys and columns\n",
      "'select()' returned 1:1 mapping between keys and columns\n",
      "'select()' returned 1:1 mapping between keys and columns\n"
     ]
    },
    {
     "name": "stdout",
     "output_type": "stream",
     "text": [
      "[1] 481\n"
     ]
    },
    {
     "name": "stderr",
     "output_type": "stream",
     "text": [
      "2023-03-20 11:27:23\n",
      "'select()' returned 1:many mapping between keys and columns\n",
      "'select()' returned 1:1 mapping between keys and columns\n",
      "'select()' returned 1:1 mapping between keys and columns\n",
      "'select()' returned 1:1 mapping between keys and columns\n"
     ]
    },
    {
     "name": "stdout",
     "output_type": "stream",
     "text": [
      "[1] 482\n"
     ]
    },
    {
     "name": "stderr",
     "output_type": "stream",
     "text": [
      "2023-03-20 11:27:25\n",
      "'select()' returned 1:many mapping between keys and columns\n",
      "'select()' returned 1:1 mapping between keys and columns\n",
      "'select()' returned 1:1 mapping between keys and columns\n",
      "'select()' returned 1:1 mapping between keys and columns\n"
     ]
    },
    {
     "name": "stdout",
     "output_type": "stream",
     "text": [
      "[1] 483\n"
     ]
    },
    {
     "name": "stderr",
     "output_type": "stream",
     "text": [
      "2023-03-20 11:27:27\n",
      "'select()' returned 1:many mapping between keys and columns\n",
      "'select()' returned 1:1 mapping between keys and columns\n",
      "'select()' returned 1:1 mapping between keys and columns\n",
      "'select()' returned 1:1 mapping between keys and columns\n"
     ]
    },
    {
     "name": "stdout",
     "output_type": "stream",
     "text": [
      "[1] 484\n"
     ]
    },
    {
     "name": "stderr",
     "output_type": "stream",
     "text": [
      "2023-03-20 11:27:28\n",
      "'select()' returned 1:many mapping between keys and columns\n",
      "'select()' returned 1:1 mapping between keys and columns\n",
      "'select()' returned 1:1 mapping between keys and columns\n",
      "'select()' returned 1:1 mapping between keys and columns\n"
     ]
    },
    {
     "name": "stdout",
     "output_type": "stream",
     "text": [
      "[1] 485\n"
     ]
    },
    {
     "name": "stderr",
     "output_type": "stream",
     "text": [
      "2023-03-20 11:27:29\n",
      "'select()' returned 1:many mapping between keys and columns\n",
      "'select()' returned 1:1 mapping between keys and columns\n",
      "'select()' returned 1:1 mapping between keys and columns\n",
      "'select()' returned 1:1 mapping between keys and columns\n"
     ]
    },
    {
     "name": "stdout",
     "output_type": "stream",
     "text": [
      "[1] 486\n"
     ]
    },
    {
     "name": "stderr",
     "output_type": "stream",
     "text": [
      "2023-03-20 11:27:31\n",
      "'select()' returned 1:many mapping between keys and columns\n",
      "'select()' returned 1:1 mapping between keys and columns\n",
      "'select()' returned 1:1 mapping between keys and columns\n",
      "'select()' returned 1:1 mapping between keys and columns\n"
     ]
    },
    {
     "name": "stdout",
     "output_type": "stream",
     "text": [
      "[1] 487\n"
     ]
    },
    {
     "name": "stderr",
     "output_type": "stream",
     "text": [
      "2023-03-20 11:27:32\n",
      "'select()' returned 1:many mapping between keys and columns\n",
      "'select()' returned 1:1 mapping between keys and columns\n",
      "'select()' returned 1:1 mapping between keys and columns\n",
      "'select()' returned 1:1 mapping between keys and columns\n"
     ]
    },
    {
     "name": "stdout",
     "output_type": "stream",
     "text": [
      "[1] 488\n"
     ]
    },
    {
     "name": "stderr",
     "output_type": "stream",
     "text": [
      "2023-03-20 11:27:34\n",
      "'select()' returned 1:many mapping between keys and columns\n",
      "'select()' returned 1:1 mapping between keys and columns\n",
      "'select()' returned 1:1 mapping between keys and columns\n",
      "'select()' returned 1:1 mapping between keys and columns\n"
     ]
    },
    {
     "name": "stdout",
     "output_type": "stream",
     "text": [
      "[1] 489\n"
     ]
    },
    {
     "name": "stderr",
     "output_type": "stream",
     "text": [
      "2023-03-20 11:27:36\n",
      "'select()' returned 1:many mapping between keys and columns\n",
      "'select()' returned 1:1 mapping between keys and columns\n",
      "'select()' returned 1:1 mapping between keys and columns\n",
      "'select()' returned 1:1 mapping between keys and columns\n"
     ]
    },
    {
     "name": "stdout",
     "output_type": "stream",
     "text": [
      "[1] 490\n"
     ]
    },
    {
     "name": "stderr",
     "output_type": "stream",
     "text": [
      "2023-03-20 11:27:37\n",
      "'select()' returned 1:many mapping between keys and columns\n",
      "'select()' returned 1:1 mapping between keys and columns\n",
      "'select()' returned 1:1 mapping between keys and columns\n",
      "'select()' returned 1:1 mapping between keys and columns\n"
     ]
    },
    {
     "name": "stdout",
     "output_type": "stream",
     "text": [
      "[1] 491\n"
     ]
    },
    {
     "name": "stderr",
     "output_type": "stream",
     "text": [
      "2023-03-20 11:27:39\n",
      "'select()' returned 1:many mapping between keys and columns\n",
      "'select()' returned 1:1 mapping between keys and columns\n",
      "'select()' returned 1:1 mapping between keys and columns\n",
      "'select()' returned 1:1 mapping between keys and columns\n"
     ]
    },
    {
     "name": "stdout",
     "output_type": "stream",
     "text": [
      "[1] 492\n"
     ]
    },
    {
     "name": "stderr",
     "output_type": "stream",
     "text": [
      "2023-03-20 11:27:40\n",
      "'select()' returned 1:many mapping between keys and columns\n",
      "'select()' returned 1:1 mapping between keys and columns\n",
      "'select()' returned 1:1 mapping between keys and columns\n",
      "'select()' returned 1:1 mapping between keys and columns\n"
     ]
    },
    {
     "name": "stdout",
     "output_type": "stream",
     "text": [
      "[1] 493\n"
     ]
    },
    {
     "name": "stderr",
     "output_type": "stream",
     "text": [
      "2023-03-20 11:27:41\n",
      "'select()' returned 1:many mapping between keys and columns\n",
      "'select()' returned 1:1 mapping between keys and columns\n",
      "'select()' returned 1:1 mapping between keys and columns\n",
      "'select()' returned 1:1 mapping between keys and columns\n"
     ]
    },
    {
     "name": "stdout",
     "output_type": "stream",
     "text": [
      "[1] 494\n"
     ]
    },
    {
     "name": "stderr",
     "output_type": "stream",
     "text": [
      "2023-03-20 11:27:43\n",
      "'select()' returned 1:many mapping between keys and columns\n",
      "'select()' returned 1:1 mapping between keys and columns\n",
      "'select()' returned 1:1 mapping between keys and columns\n",
      "'select()' returned 1:1 mapping between keys and columns\n"
     ]
    },
    {
     "name": "stdout",
     "output_type": "stream",
     "text": [
      "[1] 495\n"
     ]
    },
    {
     "name": "stderr",
     "output_type": "stream",
     "text": [
      "2023-03-20 11:27:44\n",
      "'select()' returned 1:many mapping between keys and columns\n",
      "'select()' returned 1:1 mapping between keys and columns\n",
      "'select()' returned 1:1 mapping between keys and columns\n",
      "'select()' returned 1:1 mapping between keys and columns\n"
     ]
    },
    {
     "name": "stdout",
     "output_type": "stream",
     "text": [
      "[1] 496\n"
     ]
    },
    {
     "name": "stderr",
     "output_type": "stream",
     "text": [
      "2023-03-20 11:27:46\n",
      "'select()' returned 1:many mapping between keys and columns\n",
      "'select()' returned 1:1 mapping between keys and columns\n",
      "'select()' returned 1:1 mapping between keys and columns\n",
      "'select()' returned 1:1 mapping between keys and columns\n"
     ]
    },
    {
     "name": "stdout",
     "output_type": "stream",
     "text": [
      "[1] 497\n"
     ]
    },
    {
     "name": "stderr",
     "output_type": "stream",
     "text": [
      "2023-03-20 11:27:47\n",
      "'select()' returned 1:many mapping between keys and columns\n",
      "'select()' returned 1:1 mapping between keys and columns\n",
      "'select()' returned 1:1 mapping between keys and columns\n",
      "'select()' returned 1:1 mapping between keys and columns\n"
     ]
    },
    {
     "name": "stdout",
     "output_type": "stream",
     "text": [
      "[1] 498\n"
     ]
    },
    {
     "name": "stderr",
     "output_type": "stream",
     "text": [
      "2023-03-20 11:27:49\n",
      "'select()' returned 1:many mapping between keys and columns\n",
      "'select()' returned 1:1 mapping between keys and columns\n",
      "'select()' returned 1:1 mapping between keys and columns\n",
      "'select()' returned 1:1 mapping between keys and columns\n"
     ]
    },
    {
     "name": "stdout",
     "output_type": "stream",
     "text": [
      "[1] 499\n"
     ]
    },
    {
     "name": "stderr",
     "output_type": "stream",
     "text": [
      "2023-03-20 11:27:50\n",
      "'select()' returned 1:many mapping between keys and columns\n",
      "'select()' returned 1:1 mapping between keys and columns\n",
      "'select()' returned 1:1 mapping between keys and columns\n",
      "'select()' returned 1:1 mapping between keys and columns\n"
     ]
    },
    {
     "name": "stdout",
     "output_type": "stream",
     "text": [
      "[1] 500\n"
     ]
    },
    {
     "name": "stderr",
     "output_type": "stream",
     "text": [
      "2023-03-20 11:27:51\n",
      "'select()' returned 1:many mapping between keys and columns\n",
      "'select()' returned 1:1 mapping between keys and columns\n",
      "'select()' returned 1:1 mapping between keys and columns\n",
      "'select()' returned 1:1 mapping between keys and columns\n"
     ]
    },
    {
     "name": "stdout",
     "output_type": "stream",
     "text": [
      "[1] 501\n"
     ]
    },
    {
     "name": "stderr",
     "output_type": "stream",
     "text": [
      "2023-03-20 11:27:53\n",
      "'select()' returned 1:many mapping between keys and columns\n",
      "'select()' returned 1:1 mapping between keys and columns\n",
      "'select()' returned 1:1 mapping between keys and columns\n",
      "'select()' returned 1:1 mapping between keys and columns\n"
     ]
    },
    {
     "name": "stdout",
     "output_type": "stream",
     "text": [
      "[1] 502\n"
     ]
    },
    {
     "name": "stderr",
     "output_type": "stream",
     "text": [
      "2023-03-20 11:27:54\n",
      "'select()' returned 1:many mapping between keys and columns\n",
      "'select()' returned 1:1 mapping between keys and columns\n",
      "'select()' returned 1:1 mapping between keys and columns\n",
      "'select()' returned 1:1 mapping between keys and columns\n"
     ]
    },
    {
     "name": "stdout",
     "output_type": "stream",
     "text": [
      "[1] 503\n"
     ]
    },
    {
     "name": "stderr",
     "output_type": "stream",
     "text": [
      "2023-03-20 11:27:56\n",
      "'select()' returned 1:many mapping between keys and columns\n",
      "'select()' returned 1:1 mapping between keys and columns\n",
      "'select()' returned 1:1 mapping between keys and columns\n",
      "'select()' returned 1:1 mapping between keys and columns\n"
     ]
    },
    {
     "name": "stdout",
     "output_type": "stream",
     "text": [
      "[1] 504\n"
     ]
    },
    {
     "name": "stderr",
     "output_type": "stream",
     "text": [
      "2023-03-20 11:27:58\n",
      "'select()' returned 1:many mapping between keys and columns\n",
      "'select()' returned 1:1 mapping between keys and columns\n",
      "'select()' returned 1:1 mapping between keys and columns\n",
      "'select()' returned 1:1 mapping between keys and columns\n"
     ]
    },
    {
     "name": "stdout",
     "output_type": "stream",
     "text": [
      "[1] 505\n"
     ]
    },
    {
     "name": "stderr",
     "output_type": "stream",
     "text": [
      "2023-03-20 11:27:59\n",
      "'select()' returned 1:many mapping between keys and columns\n",
      "'select()' returned 1:1 mapping between keys and columns\n",
      "'select()' returned 1:1 mapping between keys and columns\n",
      "'select()' returned 1:1 mapping between keys and columns\n"
     ]
    },
    {
     "name": "stdout",
     "output_type": "stream",
     "text": [
      "[1] 506\n"
     ]
    },
    {
     "name": "stderr",
     "output_type": "stream",
     "text": [
      "2023-03-20 11:28:01\n",
      "'select()' returned 1:many mapping between keys and columns\n",
      "'select()' returned 1:1 mapping between keys and columns\n",
      "'select()' returned 1:1 mapping between keys and columns\n",
      "'select()' returned 1:1 mapping between keys and columns\n"
     ]
    },
    {
     "name": "stdout",
     "output_type": "stream",
     "text": [
      "[1] 507\n"
     ]
    },
    {
     "name": "stderr",
     "output_type": "stream",
     "text": [
      "2023-03-20 11:28:02\n",
      "'select()' returned 1:many mapping between keys and columns\n",
      "'select()' returned 1:1 mapping between keys and columns\n",
      "'select()' returned 1:1 mapping between keys and columns\n",
      "'select()' returned 1:1 mapping between keys and columns\n"
     ]
    },
    {
     "name": "stdout",
     "output_type": "stream",
     "text": [
      "[1] 508\n"
     ]
    },
    {
     "name": "stderr",
     "output_type": "stream",
     "text": [
      "2023-03-20 11:28:03\n",
      "'select()' returned 1:many mapping between keys and columns\n",
      "'select()' returned 1:1 mapping between keys and columns\n",
      "'select()' returned 1:1 mapping between keys and columns\n",
      "'select()' returned 1:1 mapping between keys and columns\n"
     ]
    },
    {
     "name": "stdout",
     "output_type": "stream",
     "text": [
      "[1] 509\n"
     ]
    },
    {
     "name": "stderr",
     "output_type": "stream",
     "text": [
      "2023-03-20 11:28:05\n",
      "'select()' returned 1:many mapping between keys and columns\n",
      "'select()' returned 1:1 mapping between keys and columns\n",
      "'select()' returned 1:1 mapping between keys and columns\n",
      "'select()' returned 1:1 mapping between keys and columns\n"
     ]
    },
    {
     "name": "stdout",
     "output_type": "stream",
     "text": [
      "[1] 510\n"
     ]
    },
    {
     "name": "stderr",
     "output_type": "stream",
     "text": [
      "2023-03-20 11:28:06\n",
      "'select()' returned 1:many mapping between keys and columns\n",
      "'select()' returned 1:1 mapping between keys and columns\n",
      "'select()' returned 1:1 mapping between keys and columns\n",
      "'select()' returned 1:1 mapping between keys and columns\n"
     ]
    },
    {
     "name": "stdout",
     "output_type": "stream",
     "text": [
      "[1] 511\n"
     ]
    },
    {
     "name": "stderr",
     "output_type": "stream",
     "text": [
      "2023-03-20 11:28:08\n",
      "'select()' returned 1:many mapping between keys and columns\n",
      "'select()' returned 1:1 mapping between keys and columns\n",
      "'select()' returned 1:1 mapping between keys and columns\n",
      "'select()' returned 1:1 mapping between keys and columns\n"
     ]
    },
    {
     "name": "stdout",
     "output_type": "stream",
     "text": [
      "[1] 512\n"
     ]
    },
    {
     "name": "stderr",
     "output_type": "stream",
     "text": [
      "2023-03-20 11:28:09\n",
      "'select()' returned 1:many mapping between keys and columns\n",
      "'select()' returned 1:1 mapping between keys and columns\n",
      "'select()' returned 1:1 mapping between keys and columns\n",
      "'select()' returned 1:1 mapping between keys and columns\n"
     ]
    },
    {
     "name": "stdout",
     "output_type": "stream",
     "text": [
      "[1] 513\n"
     ]
    },
    {
     "name": "stderr",
     "output_type": "stream",
     "text": [
      "2023-03-20 11:28:11\n",
      "'select()' returned 1:many mapping between keys and columns\n",
      "'select()' returned 1:1 mapping between keys and columns\n",
      "'select()' returned 1:1 mapping between keys and columns\n",
      "'select()' returned 1:1 mapping between keys and columns\n"
     ]
    },
    {
     "name": "stdout",
     "output_type": "stream",
     "text": [
      "[1] 514\n"
     ]
    },
    {
     "name": "stderr",
     "output_type": "stream",
     "text": [
      "2023-03-20 11:28:13\n",
      "'select()' returned 1:many mapping between keys and columns\n",
      "'select()' returned 1:1 mapping between keys and columns\n",
      "'select()' returned 1:1 mapping between keys and columns\n",
      "'select()' returned 1:1 mapping between keys and columns\n"
     ]
    },
    {
     "name": "stdout",
     "output_type": "stream",
     "text": [
      "[1] 515\n"
     ]
    },
    {
     "name": "stderr",
     "output_type": "stream",
     "text": [
      "2023-03-20 11:28:14\n",
      "'select()' returned 1:many mapping between keys and columns\n",
      "'select()' returned 1:1 mapping between keys and columns\n",
      "'select()' returned 1:1 mapping between keys and columns\n",
      "'select()' returned 1:1 mapping between keys and columns\n"
     ]
    },
    {
     "name": "stdout",
     "output_type": "stream",
     "text": [
      "[1] 516\n"
     ]
    },
    {
     "name": "stderr",
     "output_type": "stream",
     "text": [
      "2023-03-20 11:28:16\n",
      "'select()' returned 1:many mapping between keys and columns\n",
      "'select()' returned 1:1 mapping between keys and columns\n",
      "'select()' returned 1:1 mapping between keys and columns\n",
      "'select()' returned 1:1 mapping between keys and columns\n"
     ]
    },
    {
     "name": "stdout",
     "output_type": "stream",
     "text": [
      "[1] 517\n"
     ]
    },
    {
     "name": "stderr",
     "output_type": "stream",
     "text": [
      "2023-03-20 11:28:17\n",
      "'select()' returned 1:many mapping between keys and columns\n",
      "'select()' returned 1:1 mapping between keys and columns\n",
      "'select()' returned 1:1 mapping between keys and columns\n",
      "'select()' returned 1:1 mapping between keys and columns\n"
     ]
    },
    {
     "name": "stdout",
     "output_type": "stream",
     "text": [
      "[1] 518\n"
     ]
    },
    {
     "name": "stderr",
     "output_type": "stream",
     "text": [
      "2023-03-20 11:28:19\n",
      "'select()' returned 1:many mapping between keys and columns\n",
      "'select()' returned 1:1 mapping between keys and columns\n",
      "'select()' returned 1:1 mapping between keys and columns\n",
      "'select()' returned 1:1 mapping between keys and columns\n"
     ]
    },
    {
     "name": "stdout",
     "output_type": "stream",
     "text": [
      "[1] 519\n"
     ]
    },
    {
     "name": "stderr",
     "output_type": "stream",
     "text": [
      "2023-03-20 11:28:20\n",
      "'select()' returned 1:many mapping between keys and columns\n",
      "'select()' returned 1:1 mapping between keys and columns\n",
      "'select()' returned 1:1 mapping between keys and columns\n",
      "'select()' returned 1:1 mapping between keys and columns\n"
     ]
    },
    {
     "name": "stdout",
     "output_type": "stream",
     "text": [
      "[1] 520\n"
     ]
    },
    {
     "name": "stderr",
     "output_type": "stream",
     "text": [
      "2023-03-20 11:28:22\n",
      "'select()' returned 1:many mapping between keys and columns\n",
      "'select()' returned 1:1 mapping between keys and columns\n",
      "'select()' returned 1:1 mapping between keys and columns\n",
      "'select()' returned 1:1 mapping between keys and columns\n"
     ]
    },
    {
     "name": "stdout",
     "output_type": "stream",
     "text": [
      "[1] 521\n"
     ]
    },
    {
     "name": "stderr",
     "output_type": "stream",
     "text": [
      "2023-03-20 11:28:23\n",
      "'select()' returned 1:many mapping between keys and columns\n",
      "'select()' returned 1:1 mapping between keys and columns\n",
      "'select()' returned 1:1 mapping between keys and columns\n",
      "'select()' returned 1:1 mapping between keys and columns\n"
     ]
    },
    {
     "name": "stdout",
     "output_type": "stream",
     "text": [
      "[1] 522\n"
     ]
    },
    {
     "name": "stderr",
     "output_type": "stream",
     "text": [
      "2023-03-20 11:28:25\n",
      "'select()' returned 1:many mapping between keys and columns\n",
      "'select()' returned 1:1 mapping between keys and columns\n",
      "'select()' returned 1:1 mapping between keys and columns\n",
      "'select()' returned 1:1 mapping between keys and columns\n"
     ]
    },
    {
     "name": "stdout",
     "output_type": "stream",
     "text": [
      "[1] 523\n"
     ]
    },
    {
     "name": "stderr",
     "output_type": "stream",
     "text": [
      "2023-03-20 11:28:26\n",
      "'select()' returned 1:many mapping between keys and columns\n",
      "'select()' returned 1:1 mapping between keys and columns\n",
      "'select()' returned 1:1 mapping between keys and columns\n",
      "'select()' returned 1:1 mapping between keys and columns\n"
     ]
    },
    {
     "name": "stdout",
     "output_type": "stream",
     "text": [
      "[1] 524\n"
     ]
    },
    {
     "name": "stderr",
     "output_type": "stream",
     "text": [
      "2023-03-20 11:28:27\n",
      "'select()' returned 1:many mapping between keys and columns\n",
      "'select()' returned 1:1 mapping between keys and columns\n",
      "'select()' returned 1:1 mapping between keys and columns\n",
      "'select()' returned 1:1 mapping between keys and columns\n"
     ]
    },
    {
     "name": "stdout",
     "output_type": "stream",
     "text": [
      "[1] 525\n"
     ]
    },
    {
     "name": "stderr",
     "output_type": "stream",
     "text": [
      "2023-03-20 11:28:29\n",
      "'select()' returned 1:many mapping between keys and columns\n",
      "'select()' returned 1:1 mapping between keys and columns\n",
      "'select()' returned 1:1 mapping between keys and columns\n",
      "'select()' returned 1:1 mapping between keys and columns\n"
     ]
    },
    {
     "name": "stdout",
     "output_type": "stream",
     "text": [
      "[1] 526\n"
     ]
    },
    {
     "name": "stderr",
     "output_type": "stream",
     "text": [
      "2023-03-20 11:28:30\n",
      "'select()' returned 1:many mapping between keys and columns\n",
      "'select()' returned 1:1 mapping between keys and columns\n",
      "'select()' returned 1:1 mapping between keys and columns\n",
      "'select()' returned 1:1 mapping between keys and columns\n"
     ]
    },
    {
     "name": "stdout",
     "output_type": "stream",
     "text": [
      "[1] 527\n"
     ]
    },
    {
     "name": "stderr",
     "output_type": "stream",
     "text": [
      "2023-03-20 11:28:32\n",
      "'select()' returned 1:many mapping between keys and columns\n",
      "'select()' returned 1:1 mapping between keys and columns\n",
      "'select()' returned 1:1 mapping between keys and columns\n",
      "'select()' returned 1:1 mapping between keys and columns\n"
     ]
    },
    {
     "name": "stdout",
     "output_type": "stream",
     "text": [
      "[1] 528\n"
     ]
    },
    {
     "name": "stderr",
     "output_type": "stream",
     "text": [
      "2023-03-20 11:28:34\n",
      "'select()' returned 1:many mapping between keys and columns\n",
      "'select()' returned 1:1 mapping between keys and columns\n",
      "'select()' returned 1:1 mapping between keys and columns\n",
      "'select()' returned 1:1 mapping between keys and columns\n"
     ]
    },
    {
     "name": "stdout",
     "output_type": "stream",
     "text": [
      "[1] 529\n"
     ]
    },
    {
     "name": "stderr",
     "output_type": "stream",
     "text": [
      "2023-03-20 11:28:35\n",
      "'select()' returned 1:many mapping between keys and columns\n",
      "'select()' returned 1:1 mapping between keys and columns\n",
      "'select()' returned 1:1 mapping between keys and columns\n",
      "'select()' returned 1:1 mapping between keys and columns\n"
     ]
    },
    {
     "name": "stdout",
     "output_type": "stream",
     "text": [
      "[1] 530\n"
     ]
    },
    {
     "name": "stderr",
     "output_type": "stream",
     "text": [
      "2023-03-20 11:28:36\n",
      "'select()' returned 1:many mapping between keys and columns\n",
      "'select()' returned 1:1 mapping between keys and columns\n",
      "'select()' returned 1:1 mapping between keys and columns\n",
      "'select()' returned 1:1 mapping between keys and columns\n"
     ]
    },
    {
     "name": "stdout",
     "output_type": "stream",
     "text": [
      "[1] 531\n"
     ]
    },
    {
     "name": "stderr",
     "output_type": "stream",
     "text": [
      "2023-03-20 11:28:38\n",
      "'select()' returned 1:many mapping between keys and columns\n",
      "'select()' returned 1:1 mapping between keys and columns\n",
      "'select()' returned 1:1 mapping between keys and columns\n",
      "'select()' returned 1:1 mapping between keys and columns\n"
     ]
    },
    {
     "name": "stdout",
     "output_type": "stream",
     "text": [
      "[1] 532\n"
     ]
    },
    {
     "name": "stderr",
     "output_type": "stream",
     "text": [
      "2023-03-20 11:28:39\n",
      "'select()' returned 1:many mapping between keys and columns\n",
      "'select()' returned 1:1 mapping between keys and columns\n",
      "'select()' returned 1:1 mapping between keys and columns\n",
      "'select()' returned 1:1 mapping between keys and columns\n"
     ]
    },
    {
     "name": "stdout",
     "output_type": "stream",
     "text": [
      "[1] 533\n"
     ]
    },
    {
     "name": "stderr",
     "output_type": "stream",
     "text": [
      "2023-03-20 11:28:41\n",
      "'select()' returned 1:many mapping between keys and columns\n",
      "'select()' returned 1:1 mapping between keys and columns\n",
      "'select()' returned 1:1 mapping between keys and columns\n",
      "'select()' returned 1:1 mapping between keys and columns\n"
     ]
    },
    {
     "name": "stdout",
     "output_type": "stream",
     "text": [
      "[1] 534\n"
     ]
    },
    {
     "name": "stderr",
     "output_type": "stream",
     "text": [
      "2023-03-20 11:28:42\n",
      "'select()' returned 1:many mapping between keys and columns\n",
      "'select()' returned 1:1 mapping between keys and columns\n",
      "'select()' returned 1:1 mapping between keys and columns\n",
      "'select()' returned 1:1 mapping between keys and columns\n"
     ]
    },
    {
     "name": "stdout",
     "output_type": "stream",
     "text": [
      "[1] 535\n"
     ]
    },
    {
     "name": "stderr",
     "output_type": "stream",
     "text": [
      "2023-03-20 11:28:44\n",
      "'select()' returned 1:many mapping between keys and columns\n",
      "'select()' returned 1:1 mapping between keys and columns\n",
      "'select()' returned 1:1 mapping between keys and columns\n",
      "'select()' returned 1:1 mapping between keys and columns\n"
     ]
    },
    {
     "name": "stdout",
     "output_type": "stream",
     "text": [
      "[1] 536\n"
     ]
    },
    {
     "name": "stderr",
     "output_type": "stream",
     "text": [
      "2023-03-20 11:28:45\n",
      "'select()' returned 1:many mapping between keys and columns\n",
      "'select()' returned 1:1 mapping between keys and columns\n",
      "'select()' returned 1:1 mapping between keys and columns\n",
      "'select()' returned 1:1 mapping between keys and columns\n"
     ]
    },
    {
     "name": "stdout",
     "output_type": "stream",
     "text": [
      "[1] 537\n"
     ]
    },
    {
     "name": "stderr",
     "output_type": "stream",
     "text": [
      "2023-03-20 11:28:47\n",
      "'select()' returned 1:many mapping between keys and columns\n",
      "'select()' returned 1:1 mapping between keys and columns\n",
      "'select()' returned 1:1 mapping between keys and columns\n",
      "'select()' returned 1:1 mapping between keys and columns\n"
     ]
    },
    {
     "name": "stdout",
     "output_type": "stream",
     "text": [
      "[1] 538\n"
     ]
    },
    {
     "name": "stderr",
     "output_type": "stream",
     "text": [
      "2023-03-20 11:28:48\n",
      "'select()' returned 1:many mapping between keys and columns\n",
      "'select()' returned 1:1 mapping between keys and columns\n",
      "'select()' returned 1:1 mapping between keys and columns\n",
      "'select()' returned 1:1 mapping between keys and columns\n"
     ]
    },
    {
     "name": "stdout",
     "output_type": "stream",
     "text": [
      "[1] 539\n"
     ]
    },
    {
     "name": "stderr",
     "output_type": "stream",
     "text": [
      "2023-03-20 11:28:50\n",
      "'select()' returned 1:many mapping between keys and columns\n",
      "'select()' returned 1:1 mapping between keys and columns\n",
      "'select()' returned 1:1 mapping between keys and columns\n",
      "'select()' returned 1:1 mapping between keys and columns\n"
     ]
    },
    {
     "name": "stdout",
     "output_type": "stream",
     "text": [
      "[1] 540\n"
     ]
    },
    {
     "name": "stderr",
     "output_type": "stream",
     "text": [
      "2023-03-20 11:28:51\n",
      "'select()' returned 1:many mapping between keys and columns\n",
      "'select()' returned 1:1 mapping between keys and columns\n",
      "'select()' returned 1:1 mapping between keys and columns\n",
      "'select()' returned 1:1 mapping between keys and columns\n"
     ]
    },
    {
     "name": "stdout",
     "output_type": "stream",
     "text": [
      "[1] 541\n"
     ]
    },
    {
     "name": "stderr",
     "output_type": "stream",
     "text": [
      "2023-03-20 11:28:52\n",
      "'select()' returned 1:many mapping between keys and columns\n",
      "'select()' returned 1:1 mapping between keys and columns\n",
      "'select()' returned 1:1 mapping between keys and columns\n",
      "'select()' returned 1:1 mapping between keys and columns\n"
     ]
    },
    {
     "name": "stdout",
     "output_type": "stream",
     "text": [
      "[1] 542\n"
     ]
    },
    {
     "name": "stderr",
     "output_type": "stream",
     "text": [
      "2023-03-20 11:28:54\n",
      "'select()' returned 1:many mapping between keys and columns\n",
      "'select()' returned 1:1 mapping between keys and columns\n",
      "'select()' returned 1:1 mapping between keys and columns\n",
      "'select()' returned 1:1 mapping between keys and columns\n"
     ]
    },
    {
     "name": "stdout",
     "output_type": "stream",
     "text": [
      "[1] 543\n"
     ]
    },
    {
     "name": "stderr",
     "output_type": "stream",
     "text": [
      "2023-03-20 11:28:56\n",
      "'select()' returned 1:many mapping between keys and columns\n",
      "'select()' returned 1:1 mapping between keys and columns\n",
      "'select()' returned 1:1 mapping between keys and columns\n",
      "'select()' returned 1:1 mapping between keys and columns\n"
     ]
    },
    {
     "name": "stdout",
     "output_type": "stream",
     "text": [
      "[1] 544\n"
     ]
    },
    {
     "name": "stderr",
     "output_type": "stream",
     "text": [
      "2023-03-20 11:28:57\n",
      "'select()' returned 1:many mapping between keys and columns\n",
      "'select()' returned 1:1 mapping between keys and columns\n",
      "'select()' returned 1:1 mapping between keys and columns\n",
      "'select()' returned 1:1 mapping between keys and columns\n"
     ]
    },
    {
     "name": "stdout",
     "output_type": "stream",
     "text": [
      "[1] 545\n"
     ]
    },
    {
     "name": "stderr",
     "output_type": "stream",
     "text": [
      "2023-03-20 11:28:59\n",
      "'select()' returned 1:many mapping between keys and columns\n",
      "'select()' returned 1:1 mapping between keys and columns\n",
      "'select()' returned 1:1 mapping between keys and columns\n",
      "'select()' returned 1:1 mapping between keys and columns\n"
     ]
    },
    {
     "name": "stdout",
     "output_type": "stream",
     "text": [
      "[1] 546\n"
     ]
    },
    {
     "name": "stderr",
     "output_type": "stream",
     "text": [
      "2023-03-20 11:29:00\n",
      "'select()' returned 1:many mapping between keys and columns\n",
      "'select()' returned 1:1 mapping between keys and columns\n",
      "'select()' returned 1:1 mapping between keys and columns\n",
      "'select()' returned 1:1 mapping between keys and columns\n"
     ]
    },
    {
     "name": "stdout",
     "output_type": "stream",
     "text": [
      "[1] 547\n"
     ]
    },
    {
     "name": "stderr",
     "output_type": "stream",
     "text": [
      "2023-03-20 11:29:01\n",
      "'select()' returned 1:many mapping between keys and columns\n",
      "'select()' returned 1:1 mapping between keys and columns\n",
      "'select()' returned 1:1 mapping between keys and columns\n",
      "'select()' returned 1:1 mapping between keys and columns\n"
     ]
    },
    {
     "name": "stdout",
     "output_type": "stream",
     "text": [
      "[1] 548\n"
     ]
    },
    {
     "name": "stderr",
     "output_type": "stream",
     "text": [
      "2023-03-20 11:29:03\n",
      "'select()' returned 1:many mapping between keys and columns\n",
      "'select()' returned 1:1 mapping between keys and columns\n",
      "'select()' returned 1:1 mapping between keys and columns\n",
      "'select()' returned 1:1 mapping between keys and columns\n"
     ]
    },
    {
     "name": "stdout",
     "output_type": "stream",
     "text": [
      "[1] 549\n"
     ]
    },
    {
     "name": "stderr",
     "output_type": "stream",
     "text": [
      "2023-03-20 11:29:04\n",
      "'select()' returned 1:many mapping between keys and columns\n",
      "'select()' returned 1:1 mapping between keys and columns\n",
      "'select()' returned 1:1 mapping between keys and columns\n",
      "'select()' returned 1:1 mapping between keys and columns\n"
     ]
    },
    {
     "name": "stdout",
     "output_type": "stream",
     "text": [
      "[1] 550\n"
     ]
    },
    {
     "name": "stderr",
     "output_type": "stream",
     "text": [
      "2023-03-20 11:29:05\n",
      "'select()' returned 1:many mapping between keys and columns\n",
      "'select()' returned 1:1 mapping between keys and columns\n",
      "'select()' returned 1:1 mapping between keys and columns\n",
      "'select()' returned 1:1 mapping between keys and columns\n"
     ]
    },
    {
     "name": "stdout",
     "output_type": "stream",
     "text": [
      "[1] 551\n"
     ]
    },
    {
     "name": "stderr",
     "output_type": "stream",
     "text": [
      "2023-03-20 11:29:07\n",
      "'select()' returned 1:many mapping between keys and columns\n",
      "'select()' returned 1:1 mapping between keys and columns\n",
      "'select()' returned 1:1 mapping between keys and columns\n",
      "'select()' returned 1:1 mapping between keys and columns\n"
     ]
    },
    {
     "name": "stdout",
     "output_type": "stream",
     "text": [
      "[1] 552\n"
     ]
    },
    {
     "name": "stderr",
     "output_type": "stream",
     "text": [
      "2023-03-20 11:29:09\n",
      "'select()' returned 1:many mapping between keys and columns\n",
      "'select()' returned 1:1 mapping between keys and columns\n",
      "'select()' returned 1:1 mapping between keys and columns\n",
      "'select()' returned 1:1 mapping between keys and columns\n"
     ]
    },
    {
     "name": "stdout",
     "output_type": "stream",
     "text": [
      "[1] 553\n"
     ]
    },
    {
     "name": "stderr",
     "output_type": "stream",
     "text": [
      "2023-03-20 11:29:10\n",
      "'select()' returned 1:many mapping between keys and columns\n",
      "'select()' returned 1:1 mapping between keys and columns\n",
      "'select()' returned 1:1 mapping between keys and columns\n",
      "'select()' returned 1:1 mapping between keys and columns\n"
     ]
    },
    {
     "name": "stdout",
     "output_type": "stream",
     "text": [
      "[1] 554\n"
     ]
    },
    {
     "name": "stderr",
     "output_type": "stream",
     "text": [
      "2023-03-20 11:29:12\n",
      "'select()' returned 1:many mapping between keys and columns\n",
      "'select()' returned 1:1 mapping between keys and columns\n",
      "'select()' returned 1:1 mapping between keys and columns\n",
      "'select()' returned 1:1 mapping between keys and columns\n"
     ]
    },
    {
     "name": "stdout",
     "output_type": "stream",
     "text": [
      "[1] 555\n"
     ]
    },
    {
     "name": "stderr",
     "output_type": "stream",
     "text": [
      "2023-03-20 11:29:13\n",
      "'select()' returned 1:many mapping between keys and columns\n",
      "'select()' returned 1:1 mapping between keys and columns\n",
      "'select()' returned 1:1 mapping between keys and columns\n",
      "'select()' returned 1:1 mapping between keys and columns\n"
     ]
    },
    {
     "name": "stdout",
     "output_type": "stream",
     "text": [
      "[1] 556\n"
     ]
    },
    {
     "name": "stderr",
     "output_type": "stream",
     "text": [
      "2023-03-20 11:29:15\n",
      "'select()' returned 1:many mapping between keys and columns\n",
      "'select()' returned 1:1 mapping between keys and columns\n",
      "'select()' returned 1:1 mapping between keys and columns\n",
      "'select()' returned 1:1 mapping between keys and columns\n"
     ]
    },
    {
     "name": "stdout",
     "output_type": "stream",
     "text": [
      "[1] 557\n"
     ]
    },
    {
     "name": "stderr",
     "output_type": "stream",
     "text": [
      "2023-03-20 11:29:16\n",
      "'select()' returned 1:many mapping between keys and columns\n",
      "'select()' returned 1:1 mapping between keys and columns\n",
      "'select()' returned 1:1 mapping between keys and columns\n",
      "'select()' returned 1:1 mapping between keys and columns\n"
     ]
    },
    {
     "name": "stdout",
     "output_type": "stream",
     "text": [
      "[1] 558\n"
     ]
    },
    {
     "name": "stderr",
     "output_type": "stream",
     "text": [
      "2023-03-20 11:29:17\n",
      "'select()' returned 1:many mapping between keys and columns\n",
      "'select()' returned 1:1 mapping between keys and columns\n",
      "'select()' returned 1:1 mapping between keys and columns\n",
      "'select()' returned 1:1 mapping between keys and columns\n"
     ]
    },
    {
     "name": "stdout",
     "output_type": "stream",
     "text": [
      "[1] 559\n"
     ]
    },
    {
     "name": "stderr",
     "output_type": "stream",
     "text": [
      "2023-03-20 11:29:19\n",
      "'select()' returned 1:many mapping between keys and columns\n",
      "'select()' returned 1:1 mapping between keys and columns\n",
      "'select()' returned 1:1 mapping between keys and columns\n",
      "'select()' returned 1:1 mapping between keys and columns\n"
     ]
    },
    {
     "name": "stdout",
     "output_type": "stream",
     "text": [
      "[1] 560\n"
     ]
    },
    {
     "name": "stderr",
     "output_type": "stream",
     "text": [
      "2023-03-20 11:29:20\n",
      "'select()' returned 1:many mapping between keys and columns\n",
      "'select()' returned 1:1 mapping between keys and columns\n",
      "'select()' returned 1:1 mapping between keys and columns\n",
      "'select()' returned 1:1 mapping between keys and columns\n"
     ]
    },
    {
     "name": "stdout",
     "output_type": "stream",
     "text": [
      "[1] 561\n"
     ]
    },
    {
     "name": "stderr",
     "output_type": "stream",
     "text": [
      "2023-03-20 11:29:22\n",
      "'select()' returned 1:many mapping between keys and columns\n",
      "'select()' returned 1:1 mapping between keys and columns\n",
      "'select()' returned 1:1 mapping between keys and columns\n",
      "'select()' returned 1:1 mapping between keys and columns\n"
     ]
    },
    {
     "name": "stdout",
     "output_type": "stream",
     "text": [
      "[1] 562\n"
     ]
    },
    {
     "name": "stderr",
     "output_type": "stream",
     "text": [
      "2023-03-20 11:29:23\n",
      "'select()' returned 1:many mapping between keys and columns\n",
      "'select()' returned 1:1 mapping between keys and columns\n",
      "'select()' returned 1:1 mapping between keys and columns\n",
      "'select()' returned 1:1 mapping between keys and columns\n"
     ]
    },
    {
     "name": "stdout",
     "output_type": "stream",
     "text": [
      "[1] 563\n"
     ]
    },
    {
     "name": "stderr",
     "output_type": "stream",
     "text": [
      "2023-03-20 11:29:24\n",
      "'select()' returned 1:many mapping between keys and columns\n",
      "'select()' returned 1:1 mapping between keys and columns\n",
      "'select()' returned 1:1 mapping between keys and columns\n",
      "'select()' returned 1:1 mapping between keys and columns\n"
     ]
    },
    {
     "name": "stdout",
     "output_type": "stream",
     "text": [
      "[1] 564\n"
     ]
    },
    {
     "name": "stderr",
     "output_type": "stream",
     "text": [
      "2023-03-20 11:29:26\n",
      "'select()' returned 1:many mapping between keys and columns\n",
      "'select()' returned 1:1 mapping between keys and columns\n",
      "'select()' returned 1:1 mapping between keys and columns\n",
      "'select()' returned 1:1 mapping between keys and columns\n"
     ]
    },
    {
     "name": "stdout",
     "output_type": "stream",
     "text": [
      "[1] 565\n"
     ]
    },
    {
     "name": "stderr",
     "output_type": "stream",
     "text": [
      "2023-03-20 11:29:27\n",
      "'select()' returned 1:many mapping between keys and columns\n",
      "'select()' returned 1:1 mapping between keys and columns\n",
      "'select()' returned 1:1 mapping between keys and columns\n",
      "'select()' returned 1:1 mapping between keys and columns\n"
     ]
    },
    {
     "name": "stdout",
     "output_type": "stream",
     "text": [
      "[1] 566\n"
     ]
    },
    {
     "name": "stderr",
     "output_type": "stream",
     "text": [
      "2023-03-20 11:29:29\n",
      "'select()' returned 1:many mapping between keys and columns\n",
      "'select()' returned 1:1 mapping between keys and columns\n",
      "'select()' returned 1:1 mapping between keys and columns\n",
      "'select()' returned 1:1 mapping between keys and columns\n"
     ]
    },
    {
     "name": "stdout",
     "output_type": "stream",
     "text": [
      "[1] 567\n"
     ]
    },
    {
     "name": "stderr",
     "output_type": "stream",
     "text": [
      "2023-03-20 11:29:30\n",
      "'select()' returned 1:many mapping between keys and columns\n",
      "'select()' returned 1:1 mapping between keys and columns\n",
      "'select()' returned 1:1 mapping between keys and columns\n",
      "'select()' returned 1:1 mapping between keys and columns\n"
     ]
    },
    {
     "name": "stdout",
     "output_type": "stream",
     "text": [
      "[1] 568\n"
     ]
    },
    {
     "name": "stderr",
     "output_type": "stream",
     "text": [
      "2023-03-20 11:29:32\n",
      "'select()' returned 1:many mapping between keys and columns\n",
      "'select()' returned 1:1 mapping between keys and columns\n",
      "'select()' returned 1:1 mapping between keys and columns\n",
      "'select()' returned 1:1 mapping between keys and columns\n"
     ]
    },
    {
     "name": "stdout",
     "output_type": "stream",
     "text": [
      "[1] 569\n"
     ]
    },
    {
     "name": "stderr",
     "output_type": "stream",
     "text": [
      "2023-03-20 11:29:33\n",
      "'select()' returned 1:many mapping between keys and columns\n",
      "'select()' returned 1:1 mapping between keys and columns\n",
      "'select()' returned 1:1 mapping between keys and columns\n",
      "'select()' returned 1:1 mapping between keys and columns\n"
     ]
    },
    {
     "name": "stdout",
     "output_type": "stream",
     "text": [
      "[1] 570\n"
     ]
    },
    {
     "name": "stderr",
     "output_type": "stream",
     "text": [
      "2023-03-20 11:29:35\n",
      "'select()' returned 1:many mapping between keys and columns\n",
      "'select()' returned 1:1 mapping between keys and columns\n",
      "'select()' returned 1:1 mapping between keys and columns\n",
      "'select()' returned 1:1 mapping between keys and columns\n"
     ]
    },
    {
     "name": "stdout",
     "output_type": "stream",
     "text": [
      "[1] 571\n"
     ]
    },
    {
     "name": "stderr",
     "output_type": "stream",
     "text": [
      "2023-03-20 11:29:36\n",
      "'select()' returned 1:many mapping between keys and columns\n",
      "'select()' returned 1:1 mapping between keys and columns\n",
      "'select()' returned 1:1 mapping between keys and columns\n",
      "'select()' returned 1:1 mapping between keys and columns\n"
     ]
    },
    {
     "name": "stdout",
     "output_type": "stream",
     "text": [
      "[1] 572\n"
     ]
    },
    {
     "name": "stderr",
     "output_type": "stream",
     "text": [
      "2023-03-20 11:29:37\n",
      "'select()' returned 1:many mapping between keys and columns\n",
      "'select()' returned 1:1 mapping between keys and columns\n",
      "'select()' returned 1:1 mapping between keys and columns\n",
      "'select()' returned 1:1 mapping between keys and columns\n"
     ]
    },
    {
     "name": "stdout",
     "output_type": "stream",
     "text": [
      "[1] 573\n"
     ]
    },
    {
     "name": "stderr",
     "output_type": "stream",
     "text": [
      "2023-03-20 11:29:39\n",
      "'select()' returned 1:many mapping between keys and columns\n",
      "'select()' returned 1:1 mapping between keys and columns\n",
      "'select()' returned 1:1 mapping between keys and columns\n",
      "'select()' returned 1:1 mapping between keys and columns\n"
     ]
    },
    {
     "name": "stdout",
     "output_type": "stream",
     "text": [
      "[1] 574\n"
     ]
    },
    {
     "name": "stderr",
     "output_type": "stream",
     "text": [
      "2023-03-20 11:29:40\n",
      "'select()' returned 1:many mapping between keys and columns\n",
      "'select()' returned 1:1 mapping between keys and columns\n",
      "'select()' returned 1:1 mapping between keys and columns\n",
      "'select()' returned 1:1 mapping between keys and columns\n"
     ]
    },
    {
     "name": "stdout",
     "output_type": "stream",
     "text": [
      "[1] 575\n"
     ]
    },
    {
     "name": "stderr",
     "output_type": "stream",
     "text": [
      "2023-03-20 11:29:41\n",
      "'select()' returned 1:many mapping between keys and columns\n",
      "'select()' returned 1:1 mapping between keys and columns\n",
      "'select()' returned 1:1 mapping between keys and columns\n",
      "'select()' returned 1:1 mapping between keys and columns\n"
     ]
    },
    {
     "name": "stdout",
     "output_type": "stream",
     "text": [
      "[1] 576\n"
     ]
    },
    {
     "name": "stderr",
     "output_type": "stream",
     "text": [
      "2023-03-20 11:29:43\n",
      "'select()' returned 1:many mapping between keys and columns\n",
      "'select()' returned 1:1 mapping between keys and columns\n",
      "'select()' returned 1:1 mapping between keys and columns\n",
      "'select()' returned 1:1 mapping between keys and columns\n"
     ]
    },
    {
     "name": "stdout",
     "output_type": "stream",
     "text": [
      "[1] 577\n"
     ]
    },
    {
     "name": "stderr",
     "output_type": "stream",
     "text": [
      "2023-03-20 11:29:44\n",
      "'select()' returned 1:many mapping between keys and columns\n",
      "'select()' returned 1:1 mapping between keys and columns\n",
      "'select()' returned 1:1 mapping between keys and columns\n",
      "'select()' returned 1:1 mapping between keys and columns\n"
     ]
    },
    {
     "name": "stdout",
     "output_type": "stream",
     "text": [
      "[1] 578\n"
     ]
    },
    {
     "name": "stderr",
     "output_type": "stream",
     "text": [
      "2023-03-20 11:29:46\n",
      "'select()' returned 1:many mapping between keys and columns\n",
      "'select()' returned 1:1 mapping between keys and columns\n",
      "'select()' returned 1:1 mapping between keys and columns\n",
      "'select()' returned 1:1 mapping between keys and columns\n"
     ]
    },
    {
     "name": "stdout",
     "output_type": "stream",
     "text": [
      "[1] 579\n"
     ]
    },
    {
     "name": "stderr",
     "output_type": "stream",
     "text": [
      "2023-03-20 11:29:47\n",
      "'select()' returned 1:many mapping between keys and columns\n",
      "'select()' returned 1:1 mapping between keys and columns\n",
      "'select()' returned 1:1 mapping between keys and columns\n",
      "'select()' returned 1:1 mapping between keys and columns\n"
     ]
    },
    {
     "name": "stdout",
     "output_type": "stream",
     "text": [
      "[1] 580\n"
     ]
    },
    {
     "name": "stderr",
     "output_type": "stream",
     "text": [
      "2023-03-20 11:29:48\n",
      "'select()' returned 1:many mapping between keys and columns\n",
      "'select()' returned 1:1 mapping between keys and columns\n",
      "'select()' returned 1:1 mapping between keys and columns\n",
      "'select()' returned 1:1 mapping between keys and columns\n"
     ]
    },
    {
     "name": "stdout",
     "output_type": "stream",
     "text": [
      "[1] 581\n"
     ]
    },
    {
     "name": "stderr",
     "output_type": "stream",
     "text": [
      "2023-03-20 11:29:50\n",
      "'select()' returned 1:many mapping between keys and columns\n",
      "'select()' returned 1:1 mapping between keys and columns\n",
      "'select()' returned 1:1 mapping between keys and columns\n",
      "'select()' returned 1:1 mapping between keys and columns\n"
     ]
    },
    {
     "name": "stdout",
     "output_type": "stream",
     "text": [
      "[1] 582\n"
     ]
    },
    {
     "name": "stderr",
     "output_type": "stream",
     "text": [
      "2023-03-20 11:29:51\n",
      "'select()' returned 1:many mapping between keys and columns\n",
      "'select()' returned 1:1 mapping between keys and columns\n",
      "'select()' returned 1:1 mapping between keys and columns\n",
      "'select()' returned 1:1 mapping between keys and columns\n"
     ]
    },
    {
     "name": "stdout",
     "output_type": "stream",
     "text": [
      "[1] 583\n"
     ]
    },
    {
     "name": "stderr",
     "output_type": "stream",
     "text": [
      "2023-03-20 11:29:53\n",
      "'select()' returned 1:many mapping between keys and columns\n",
      "'select()' returned 1:1 mapping between keys and columns\n",
      "'select()' returned 1:1 mapping between keys and columns\n",
      "'select()' returned 1:1 mapping between keys and columns\n"
     ]
    },
    {
     "name": "stdout",
     "output_type": "stream",
     "text": [
      "[1] 584\n"
     ]
    },
    {
     "name": "stderr",
     "output_type": "stream",
     "text": [
      "2023-03-20 11:29:54\n",
      "'select()' returned 1:many mapping between keys and columns\n",
      "'select()' returned 1:1 mapping between keys and columns\n",
      "'select()' returned 1:1 mapping between keys and columns\n",
      "'select()' returned 1:1 mapping between keys and columns\n"
     ]
    },
    {
     "name": "stdout",
     "output_type": "stream",
     "text": [
      "[1] 585\n"
     ]
    },
    {
     "name": "stderr",
     "output_type": "stream",
     "text": [
      "2023-03-20 11:29:56\n",
      "'select()' returned 1:many mapping between keys and columns\n",
      "'select()' returned 1:1 mapping between keys and columns\n",
      "'select()' returned 1:1 mapping between keys and columns\n",
      "'select()' returned 1:1 mapping between keys and columns\n"
     ]
    },
    {
     "name": "stdout",
     "output_type": "stream",
     "text": [
      "[1] 586\n"
     ]
    },
    {
     "name": "stderr",
     "output_type": "stream",
     "text": [
      "2023-03-20 11:29:57\n",
      "'select()' returned 1:many mapping between keys and columns\n",
      "'select()' returned 1:1 mapping between keys and columns\n",
      "'select()' returned 1:1 mapping between keys and columns\n",
      "'select()' returned 1:1 mapping between keys and columns\n"
     ]
    },
    {
     "name": "stdout",
     "output_type": "stream",
     "text": [
      "[1] 587\n"
     ]
    },
    {
     "name": "stderr",
     "output_type": "stream",
     "text": [
      "2023-03-20 11:29:59\n",
      "'select()' returned 1:many mapping between keys and columns\n",
      "'select()' returned 1:1 mapping between keys and columns\n",
      "'select()' returned 1:1 mapping between keys and columns\n",
      "'select()' returned 1:1 mapping between keys and columns\n"
     ]
    },
    {
     "name": "stdout",
     "output_type": "stream",
     "text": [
      "[1] 588\n"
     ]
    },
    {
     "name": "stderr",
     "output_type": "stream",
     "text": [
      "2023-03-20 11:30:00\n",
      "'select()' returned 1:many mapping between keys and columns\n",
      "'select()' returned 1:1 mapping between keys and columns\n",
      "'select()' returned 1:1 mapping between keys and columns\n",
      "'select()' returned 1:1 mapping between keys and columns\n"
     ]
    },
    {
     "name": "stdout",
     "output_type": "stream",
     "text": [
      "[1] 589\n"
     ]
    },
    {
     "name": "stderr",
     "output_type": "stream",
     "text": [
      "2023-03-20 11:30:02\n",
      "'select()' returned 1:many mapping between keys and columns\n",
      "'select()' returned 1:1 mapping between keys and columns\n",
      "'select()' returned 1:1 mapping between keys and columns\n",
      "'select()' returned 1:1 mapping between keys and columns\n"
     ]
    },
    {
     "name": "stdout",
     "output_type": "stream",
     "text": [
      "[1] 590\n"
     ]
    },
    {
     "name": "stderr",
     "output_type": "stream",
     "text": [
      "2023-03-20 11:30:03\n",
      "'select()' returned 1:many mapping between keys and columns\n",
      "'select()' returned 1:1 mapping between keys and columns\n",
      "'select()' returned 1:1 mapping between keys and columns\n",
      "'select()' returned 1:1 mapping between keys and columns\n"
     ]
    },
    {
     "name": "stdout",
     "output_type": "stream",
     "text": [
      "[1] 591\n"
     ]
    },
    {
     "name": "stderr",
     "output_type": "stream",
     "text": [
      "2023-03-20 11:30:05\n",
      "'select()' returned 1:many mapping between keys and columns\n",
      "'select()' returned 1:1 mapping between keys and columns\n",
      "'select()' returned 1:1 mapping between keys and columns\n",
      "'select()' returned 1:1 mapping between keys and columns\n"
     ]
    },
    {
     "name": "stdout",
     "output_type": "stream",
     "text": [
      "[1] 592\n"
     ]
    },
    {
     "name": "stderr",
     "output_type": "stream",
     "text": [
      "2023-03-20 11:30:06\n",
      "'select()' returned 1:many mapping between keys and columns\n",
      "'select()' returned 1:1 mapping between keys and columns\n",
      "'select()' returned 1:1 mapping between keys and columns\n",
      "'select()' returned 1:1 mapping between keys and columns\n"
     ]
    },
    {
     "name": "stdout",
     "output_type": "stream",
     "text": [
      "[1] 593\n"
     ]
    },
    {
     "name": "stderr",
     "output_type": "stream",
     "text": [
      "2023-03-20 11:30:08\n",
      "'select()' returned 1:many mapping between keys and columns\n",
      "'select()' returned 1:1 mapping between keys and columns\n",
      "'select()' returned 1:1 mapping between keys and columns\n",
      "'select()' returned 1:1 mapping between keys and columns\n"
     ]
    },
    {
     "name": "stdout",
     "output_type": "stream",
     "text": [
      "[1] 594\n"
     ]
    },
    {
     "name": "stderr",
     "output_type": "stream",
     "text": [
      "2023-03-20 11:30:09\n",
      "'select()' returned 1:many mapping between keys and columns\n",
      "'select()' returned 1:1 mapping between keys and columns\n",
      "'select()' returned 1:1 mapping between keys and columns\n",
      "'select()' returned 1:1 mapping between keys and columns\n"
     ]
    },
    {
     "name": "stdout",
     "output_type": "stream",
     "text": [
      "[1] 595\n"
     ]
    },
    {
     "name": "stderr",
     "output_type": "stream",
     "text": [
      "2023-03-20 11:30:11\n",
      "'select()' returned 1:many mapping between keys and columns\n",
      "'select()' returned 1:1 mapping between keys and columns\n",
      "'select()' returned 1:1 mapping between keys and columns\n",
      "'select()' returned 1:1 mapping between keys and columns\n"
     ]
    },
    {
     "name": "stdout",
     "output_type": "stream",
     "text": [
      "[1] 596\n"
     ]
    },
    {
     "name": "stderr",
     "output_type": "stream",
     "text": [
      "2023-03-20 11:30:12\n",
      "'select()' returned 1:many mapping between keys and columns\n",
      "'select()' returned 1:1 mapping between keys and columns\n",
      "'select()' returned 1:1 mapping between keys and columns\n",
      "'select()' returned 1:1 mapping between keys and columns\n"
     ]
    },
    {
     "name": "stdout",
     "output_type": "stream",
     "text": [
      "[1] 597\n"
     ]
    },
    {
     "name": "stderr",
     "output_type": "stream",
     "text": [
      "2023-03-20 11:30:13\n",
      "'select()' returned 1:many mapping between keys and columns\n",
      "'select()' returned 1:1 mapping between keys and columns\n",
      "'select()' returned 1:1 mapping between keys and columns\n",
      "'select()' returned 1:1 mapping between keys and columns\n"
     ]
    },
    {
     "name": "stdout",
     "output_type": "stream",
     "text": [
      "[1] 598\n"
     ]
    },
    {
     "name": "stderr",
     "output_type": "stream",
     "text": [
      "2023-03-20 11:30:15\n",
      "'select()' returned 1:many mapping between keys and columns\n",
      "'select()' returned 1:1 mapping between keys and columns\n",
      "'select()' returned 1:1 mapping between keys and columns\n",
      "'select()' returned 1:1 mapping between keys and columns\n"
     ]
    },
    {
     "name": "stdout",
     "output_type": "stream",
     "text": [
      "[1] 599\n"
     ]
    },
    {
     "name": "stderr",
     "output_type": "stream",
     "text": [
      "2023-03-20 11:30:16\n",
      "'select()' returned 1:many mapping between keys and columns\n",
      "'select()' returned 1:1 mapping between keys and columns\n",
      "'select()' returned 1:1 mapping between keys and columns\n",
      "'select()' returned 1:1 mapping between keys and columns\n"
     ]
    },
    {
     "name": "stdout",
     "output_type": "stream",
     "text": [
      "[1] 600\n"
     ]
    },
    {
     "name": "stderr",
     "output_type": "stream",
     "text": [
      "2023-03-20 11:30:18\n",
      "'select()' returned 1:many mapping between keys and columns\n",
      "'select()' returned 1:1 mapping between keys and columns\n",
      "'select()' returned 1:1 mapping between keys and columns\n",
      "'select()' returned 1:1 mapping between keys and columns\n"
     ]
    },
    {
     "name": "stdout",
     "output_type": "stream",
     "text": [
      "[1] 601\n"
     ]
    },
    {
     "name": "stderr",
     "output_type": "stream",
     "text": [
      "2023-03-20 11:30:19\n",
      "'select()' returned 1:many mapping between keys and columns\n",
      "'select()' returned 1:1 mapping between keys and columns\n",
      "'select()' returned 1:1 mapping between keys and columns\n",
      "'select()' returned 1:1 mapping between keys and columns\n"
     ]
    },
    {
     "name": "stdout",
     "output_type": "stream",
     "text": [
      "[1] 602\n"
     ]
    },
    {
     "name": "stderr",
     "output_type": "stream",
     "text": [
      "2023-03-20 11:30:21\n",
      "'select()' returned 1:many mapping between keys and columns\n",
      "'select()' returned 1:1 mapping between keys and columns\n",
      "'select()' returned 1:1 mapping between keys and columns\n",
      "'select()' returned 1:1 mapping between keys and columns\n"
     ]
    },
    {
     "name": "stdout",
     "output_type": "stream",
     "text": [
      "[1] 603\n"
     ]
    },
    {
     "name": "stderr",
     "output_type": "stream",
     "text": [
      "2023-03-20 11:30:22\n",
      "'select()' returned 1:many mapping between keys and columns\n",
      "'select()' returned 1:1 mapping between keys and columns\n",
      "'select()' returned 1:1 mapping between keys and columns\n",
      "'select()' returned 1:1 mapping between keys and columns\n"
     ]
    },
    {
     "name": "stdout",
     "output_type": "stream",
     "text": [
      "[1] 604\n"
     ]
    },
    {
     "name": "stderr",
     "output_type": "stream",
     "text": [
      "2023-03-20 11:30:24\n",
      "'select()' returned 1:many mapping between keys and columns\n",
      "'select()' returned 1:1 mapping between keys and columns\n",
      "'select()' returned 1:1 mapping between keys and columns\n",
      "'select()' returned 1:1 mapping between keys and columns\n"
     ]
    },
    {
     "name": "stdout",
     "output_type": "stream",
     "text": [
      "[1] 605\n"
     ]
    },
    {
     "name": "stderr",
     "output_type": "stream",
     "text": [
      "2023-03-20 11:30:25\n",
      "'select()' returned 1:many mapping between keys and columns\n",
      "'select()' returned 1:1 mapping between keys and columns\n",
      "'select()' returned 1:1 mapping between keys and columns\n",
      "'select()' returned 1:1 mapping between keys and columns\n"
     ]
    },
    {
     "name": "stdout",
     "output_type": "stream",
     "text": [
      "[1] 606\n"
     ]
    },
    {
     "name": "stderr",
     "output_type": "stream",
     "text": [
      "2023-03-20 11:30:27\n",
      "'select()' returned 1:many mapping between keys and columns\n",
      "'select()' returned 1:1 mapping between keys and columns\n",
      "'select()' returned 1:1 mapping between keys and columns\n",
      "'select()' returned 1:1 mapping between keys and columns\n"
     ]
    },
    {
     "name": "stdout",
     "output_type": "stream",
     "text": [
      "[1] 607\n"
     ]
    },
    {
     "name": "stderr",
     "output_type": "stream",
     "text": [
      "2023-03-20 11:30:28\n",
      "'select()' returned 1:many mapping between keys and columns\n",
      "'select()' returned 1:1 mapping between keys and columns\n",
      "'select()' returned 1:1 mapping between keys and columns\n",
      "'select()' returned 1:1 mapping between keys and columns\n"
     ]
    },
    {
     "name": "stdout",
     "output_type": "stream",
     "text": [
      "[1] 608\n"
     ]
    },
    {
     "name": "stderr",
     "output_type": "stream",
     "text": [
      "2023-03-20 11:30:30\n",
      "'select()' returned 1:many mapping between keys and columns\n",
      "'select()' returned 1:1 mapping between keys and columns\n",
      "'select()' returned 1:1 mapping between keys and columns\n",
      "'select()' returned 1:1 mapping between keys and columns\n"
     ]
    },
    {
     "name": "stdout",
     "output_type": "stream",
     "text": [
      "[1] 609\n"
     ]
    },
    {
     "name": "stderr",
     "output_type": "stream",
     "text": [
      "2023-03-20 11:30:31\n",
      "'select()' returned 1:many mapping between keys and columns\n",
      "'select()' returned 1:1 mapping between keys and columns\n",
      "'select()' returned 1:1 mapping between keys and columns\n",
      "'select()' returned 1:1 mapping between keys and columns\n"
     ]
    },
    {
     "name": "stdout",
     "output_type": "stream",
     "text": [
      "[1] 610\n"
     ]
    },
    {
     "name": "stderr",
     "output_type": "stream",
     "text": [
      "2023-03-20 11:30:33\n",
      "'select()' returned 1:many mapping between keys and columns\n",
      "'select()' returned 1:1 mapping between keys and columns\n",
      "'select()' returned 1:1 mapping between keys and columns\n",
      "'select()' returned 1:1 mapping between keys and columns\n"
     ]
    },
    {
     "name": "stdout",
     "output_type": "stream",
     "text": [
      "[1] 611\n"
     ]
    },
    {
     "name": "stderr",
     "output_type": "stream",
     "text": [
      "2023-03-20 11:30:34\n",
      "'select()' returned 1:many mapping between keys and columns\n",
      "'select()' returned 1:1 mapping between keys and columns\n",
      "'select()' returned 1:1 mapping between keys and columns\n",
      "'select()' returned 1:1 mapping between keys and columns\n"
     ]
    },
    {
     "name": "stdout",
     "output_type": "stream",
     "text": [
      "[1] 612\n"
     ]
    },
    {
     "name": "stderr",
     "output_type": "stream",
     "text": [
      "2023-03-20 11:30:36\n",
      "'select()' returned 1:many mapping between keys and columns\n",
      "'select()' returned 1:1 mapping between keys and columns\n",
      "'select()' returned 1:1 mapping between keys and columns\n",
      "'select()' returned 1:1 mapping between keys and columns\n"
     ]
    },
    {
     "name": "stdout",
     "output_type": "stream",
     "text": [
      "[1] 613\n"
     ]
    },
    {
     "name": "stderr",
     "output_type": "stream",
     "text": [
      "2023-03-20 11:30:37\n",
      "'select()' returned 1:many mapping between keys and columns\n",
      "'select()' returned 1:1 mapping between keys and columns\n",
      "'select()' returned 1:1 mapping between keys and columns\n",
      "'select()' returned 1:1 mapping between keys and columns\n"
     ]
    },
    {
     "name": "stdout",
     "output_type": "stream",
     "text": [
      "[1] 614\n"
     ]
    },
    {
     "name": "stderr",
     "output_type": "stream",
     "text": [
      "2023-03-20 11:30:39\n",
      "'select()' returned 1:many mapping between keys and columns\n",
      "'select()' returned 1:1 mapping between keys and columns\n",
      "'select()' returned 1:1 mapping between keys and columns\n",
      "'select()' returned 1:1 mapping between keys and columns\n"
     ]
    },
    {
     "name": "stdout",
     "output_type": "stream",
     "text": [
      "[1] 615\n"
     ]
    },
    {
     "name": "stderr",
     "output_type": "stream",
     "text": [
      "2023-03-20 11:30:40\n",
      "'select()' returned 1:many mapping between keys and columns\n",
      "'select()' returned 1:1 mapping between keys and columns\n",
      "'select()' returned 1:1 mapping between keys and columns\n",
      "'select()' returned 1:1 mapping between keys and columns\n"
     ]
    },
    {
     "name": "stdout",
     "output_type": "stream",
     "text": [
      "[1] 616\n"
     ]
    },
    {
     "name": "stderr",
     "output_type": "stream",
     "text": [
      "2023-03-20 11:30:41\n",
      "'select()' returned 1:many mapping between keys and columns\n",
      "'select()' returned 1:1 mapping between keys and columns\n",
      "'select()' returned 1:1 mapping between keys and columns\n",
      "'select()' returned 1:1 mapping between keys and columns\n"
     ]
    },
    {
     "name": "stdout",
     "output_type": "stream",
     "text": [
      "[1] 617\n"
     ]
    },
    {
     "name": "stderr",
     "output_type": "stream",
     "text": [
      "2023-03-20 11:30:43\n",
      "'select()' returned 1:many mapping between keys and columns\n",
      "'select()' returned 1:1 mapping between keys and columns\n",
      "'select()' returned 1:1 mapping between keys and columns\n",
      "'select()' returned 1:1 mapping between keys and columns\n"
     ]
    },
    {
     "name": "stdout",
     "output_type": "stream",
     "text": [
      "[1] 618\n"
     ]
    },
    {
     "name": "stderr",
     "output_type": "stream",
     "text": [
      "2023-03-20 11:30:44\n",
      "'select()' returned 1:many mapping between keys and columns\n",
      "'select()' returned 1:1 mapping between keys and columns\n",
      "'select()' returned 1:1 mapping between keys and columns\n",
      "'select()' returned 1:1 mapping between keys and columns\n"
     ]
    },
    {
     "name": "stdout",
     "output_type": "stream",
     "text": [
      "[1] 619\n"
     ]
    },
    {
     "name": "stderr",
     "output_type": "stream",
     "text": [
      "2023-03-20 11:30:46\n",
      "'select()' returned 1:many mapping between keys and columns\n",
      "'select()' returned 1:1 mapping between keys and columns\n",
      "'select()' returned 1:1 mapping between keys and columns\n",
      "'select()' returned 1:1 mapping between keys and columns\n"
     ]
    },
    {
     "name": "stdout",
     "output_type": "stream",
     "text": [
      "[1] 620\n"
     ]
    },
    {
     "name": "stderr",
     "output_type": "stream",
     "text": [
      "2023-03-20 11:30:47\n",
      "'select()' returned 1:many mapping between keys and columns\n",
      "'select()' returned 1:1 mapping between keys and columns\n",
      "'select()' returned 1:1 mapping between keys and columns\n",
      "'select()' returned 1:1 mapping between keys and columns\n"
     ]
    },
    {
     "name": "stdout",
     "output_type": "stream",
     "text": [
      "[1] 621\n"
     ]
    },
    {
     "name": "stderr",
     "output_type": "stream",
     "text": [
      "2023-03-20 11:30:49\n",
      "'select()' returned 1:many mapping between keys and columns\n",
      "'select()' returned 1:1 mapping between keys and columns\n",
      "'select()' returned 1:1 mapping between keys and columns\n",
      "'select()' returned 1:1 mapping between keys and columns\n"
     ]
    },
    {
     "name": "stdout",
     "output_type": "stream",
     "text": [
      "[1] 622\n"
     ]
    },
    {
     "name": "stderr",
     "output_type": "stream",
     "text": [
      "2023-03-20 11:30:50\n",
      "'select()' returned 1:many mapping between keys and columns\n",
      "'select()' returned 1:1 mapping between keys and columns\n",
      "'select()' returned 1:1 mapping between keys and columns\n",
      "'select()' returned 1:1 mapping between keys and columns\n"
     ]
    },
    {
     "name": "stdout",
     "output_type": "stream",
     "text": [
      "[1] 623\n"
     ]
    },
    {
     "name": "stderr",
     "output_type": "stream",
     "text": [
      "2023-03-20 11:30:51\n",
      "'select()' returned 1:many mapping between keys and columns\n",
      "'select()' returned 1:1 mapping between keys and columns\n",
      "'select()' returned 1:1 mapping between keys and columns\n",
      "'select()' returned 1:1 mapping between keys and columns\n"
     ]
    },
    {
     "name": "stdout",
     "output_type": "stream",
     "text": [
      "[1] 624\n"
     ]
    },
    {
     "name": "stderr",
     "output_type": "stream",
     "text": [
      "2023-03-20 11:30:53\n",
      "'select()' returned 1:many mapping between keys and columns\n",
      "'select()' returned 1:1 mapping between keys and columns\n",
      "'select()' returned 1:1 mapping between keys and columns\n",
      "'select()' returned 1:1 mapping between keys and columns\n"
     ]
    },
    {
     "name": "stdout",
     "output_type": "stream",
     "text": [
      "[1] 625\n"
     ]
    },
    {
     "name": "stderr",
     "output_type": "stream",
     "text": [
      "2023-03-20 11:30:55\n",
      "'select()' returned 1:many mapping between keys and columns\n",
      "'select()' returned 1:1 mapping between keys and columns\n",
      "'select()' returned 1:1 mapping between keys and columns\n",
      "'select()' returned 1:1 mapping between keys and columns\n"
     ]
    },
    {
     "name": "stdout",
     "output_type": "stream",
     "text": [
      "[1] 626\n"
     ]
    },
    {
     "name": "stderr",
     "output_type": "stream",
     "text": [
      "2023-03-20 11:30:56\n",
      "'select()' returned 1:many mapping between keys and columns\n",
      "'select()' returned 1:1 mapping between keys and columns\n",
      "'select()' returned 1:1 mapping between keys and columns\n",
      "'select()' returned 1:1 mapping between keys and columns\n"
     ]
    },
    {
     "name": "stdout",
     "output_type": "stream",
     "text": [
      "[1] 627\n"
     ]
    },
    {
     "name": "stderr",
     "output_type": "stream",
     "text": [
      "2023-03-20 11:30:58\n",
      "'select()' returned 1:many mapping between keys and columns\n",
      "'select()' returned 1:1 mapping between keys and columns\n",
      "'select()' returned 1:1 mapping between keys and columns\n",
      "'select()' returned 1:1 mapping between keys and columns\n"
     ]
    },
    {
     "name": "stdout",
     "output_type": "stream",
     "text": [
      "[1] 628\n"
     ]
    },
    {
     "name": "stderr",
     "output_type": "stream",
     "text": [
      "2023-03-20 11:30:59\n",
      "'select()' returned 1:many mapping between keys and columns\n",
      "'select()' returned 1:1 mapping between keys and columns\n",
      "'select()' returned 1:1 mapping between keys and columns\n",
      "'select()' returned 1:1 mapping between keys and columns\n"
     ]
    },
    {
     "name": "stdout",
     "output_type": "stream",
     "text": [
      "[1] 629\n"
     ]
    },
    {
     "name": "stderr",
     "output_type": "stream",
     "text": [
      "2023-03-20 11:31:00\n",
      "'select()' returned 1:many mapping between keys and columns\n",
      "'select()' returned 1:1 mapping between keys and columns\n",
      "'select()' returned 1:1 mapping between keys and columns\n",
      "'select()' returned 1:1 mapping between keys and columns\n"
     ]
    },
    {
     "name": "stdout",
     "output_type": "stream",
     "text": [
      "[1] 630\n"
     ]
    },
    {
     "name": "stderr",
     "output_type": "stream",
     "text": [
      "2023-03-20 11:31:02\n",
      "'select()' returned 1:many mapping between keys and columns\n",
      "'select()' returned 1:1 mapping between keys and columns\n",
      "'select()' returned 1:1 mapping between keys and columns\n",
      "'select()' returned 1:1 mapping between keys and columns\n"
     ]
    },
    {
     "name": "stdout",
     "output_type": "stream",
     "text": [
      "[1] 631\n"
     ]
    },
    {
     "name": "stderr",
     "output_type": "stream",
     "text": [
      "2023-03-20 11:31:04\n",
      "'select()' returned 1:many mapping between keys and columns\n",
      "'select()' returned 1:1 mapping between keys and columns\n",
      "'select()' returned 1:1 mapping between keys and columns\n",
      "'select()' returned 1:1 mapping between keys and columns\n"
     ]
    },
    {
     "name": "stdout",
     "output_type": "stream",
     "text": [
      "[1] 632\n"
     ]
    },
    {
     "name": "stderr",
     "output_type": "stream",
     "text": [
      "2023-03-20 11:31:05\n",
      "'select()' returned 1:many mapping between keys and columns\n",
      "'select()' returned 1:1 mapping between keys and columns\n",
      "'select()' returned 1:1 mapping between keys and columns\n",
      "'select()' returned 1:1 mapping between keys and columns\n"
     ]
    },
    {
     "name": "stdout",
     "output_type": "stream",
     "text": [
      "[1] 633\n"
     ]
    },
    {
     "name": "stderr",
     "output_type": "stream",
     "text": [
      "2023-03-20 11:31:07\n",
      "'select()' returned 1:many mapping between keys and columns\n",
      "'select()' returned 1:1 mapping between keys and columns\n",
      "'select()' returned 1:1 mapping between keys and columns\n",
      "'select()' returned 1:1 mapping between keys and columns\n"
     ]
    },
    {
     "name": "stdout",
     "output_type": "stream",
     "text": [
      "[1] 634\n"
     ]
    },
    {
     "name": "stderr",
     "output_type": "stream",
     "text": [
      "2023-03-20 11:31:08\n",
      "'select()' returned 1:many mapping between keys and columns\n",
      "'select()' returned 1:1 mapping between keys and columns\n",
      "'select()' returned 1:1 mapping between keys and columns\n",
      "'select()' returned 1:1 mapping between keys and columns\n"
     ]
    },
    {
     "name": "stdout",
     "output_type": "stream",
     "text": [
      "[1] 635\n"
     ]
    },
    {
     "name": "stderr",
     "output_type": "stream",
     "text": [
      "2023-03-20 11:31:09\n",
      "'select()' returned 1:many mapping between keys and columns\n",
      "'select()' returned 1:1 mapping between keys and columns\n",
      "'select()' returned 1:1 mapping between keys and columns\n",
      "'select()' returned 1:1 mapping between keys and columns\n"
     ]
    },
    {
     "name": "stdout",
     "output_type": "stream",
     "text": [
      "[1] 636\n"
     ]
    },
    {
     "name": "stderr",
     "output_type": "stream",
     "text": [
      "2023-03-20 11:31:11\n",
      "'select()' returned 1:many mapping between keys and columns\n",
      "'select()' returned 1:1 mapping between keys and columns\n",
      "'select()' returned 1:1 mapping between keys and columns\n",
      "'select()' returned 1:1 mapping between keys and columns\n"
     ]
    },
    {
     "name": "stdout",
     "output_type": "stream",
     "text": [
      "[1] 637\n"
     ]
    },
    {
     "name": "stderr",
     "output_type": "stream",
     "text": [
      "2023-03-20 11:31:12\n",
      "'select()' returned 1:many mapping between keys and columns\n",
      "'select()' returned 1:1 mapping between keys and columns\n",
      "'select()' returned 1:1 mapping between keys and columns\n",
      "'select()' returned 1:1 mapping between keys and columns\n"
     ]
    },
    {
     "name": "stdout",
     "output_type": "stream",
     "text": [
      "[1] 638\n"
     ]
    },
    {
     "name": "stderr",
     "output_type": "stream",
     "text": [
      "2023-03-20 11:31:14\n",
      "'select()' returned 1:many mapping between keys and columns\n",
      "'select()' returned 1:1 mapping between keys and columns\n",
      "'select()' returned 1:1 mapping between keys and columns\n",
      "'select()' returned 1:1 mapping between keys and columns\n"
     ]
    },
    {
     "name": "stdout",
     "output_type": "stream",
     "text": [
      "[1] 639\n"
     ]
    },
    {
     "name": "stderr",
     "output_type": "stream",
     "text": [
      "2023-03-20 11:31:15\n",
      "'select()' returned 1:many mapping between keys and columns\n",
      "'select()' returned 1:1 mapping between keys and columns\n",
      "'select()' returned 1:1 mapping between keys and columns\n",
      "'select()' returned 1:1 mapping between keys and columns\n"
     ]
    },
    {
     "name": "stdout",
     "output_type": "stream",
     "text": [
      "[1] 640\n"
     ]
    },
    {
     "name": "stderr",
     "output_type": "stream",
     "text": [
      "2023-03-20 11:31:17\n",
      "'select()' returned 1:many mapping between keys and columns\n",
      "'select()' returned 1:1 mapping between keys and columns\n",
      "'select()' returned 1:1 mapping between keys and columns\n",
      "'select()' returned 1:1 mapping between keys and columns\n"
     ]
    },
    {
     "name": "stdout",
     "output_type": "stream",
     "text": [
      "[1] 641\n"
     ]
    },
    {
     "name": "stderr",
     "output_type": "stream",
     "text": [
      "2023-03-20 11:31:18\n",
      "'select()' returned 1:many mapping between keys and columns\n",
      "'select()' returned 1:1 mapping between keys and columns\n",
      "'select()' returned 1:1 mapping between keys and columns\n",
      "'select()' returned 1:1 mapping between keys and columns\n"
     ]
    },
    {
     "name": "stdout",
     "output_type": "stream",
     "text": [
      "[1] 642\n"
     ]
    },
    {
     "name": "stderr",
     "output_type": "stream",
     "text": [
      "2023-03-20 11:31:19\n",
      "'select()' returned 1:many mapping between keys and columns\n",
      "'select()' returned 1:1 mapping between keys and columns\n",
      "'select()' returned 1:1 mapping between keys and columns\n",
      "'select()' returned 1:1 mapping between keys and columns\n"
     ]
    },
    {
     "name": "stdout",
     "output_type": "stream",
     "text": [
      "[1] 643\n"
     ]
    },
    {
     "name": "stderr",
     "output_type": "stream",
     "text": [
      "2023-03-20 11:31:21\n",
      "'select()' returned 1:many mapping between keys and columns\n",
      "'select()' returned 1:1 mapping between keys and columns\n",
      "'select()' returned 1:1 mapping between keys and columns\n",
      "'select()' returned 1:1 mapping between keys and columns\n"
     ]
    },
    {
     "name": "stdout",
     "output_type": "stream",
     "text": [
      "[1] 644\n"
     ]
    },
    {
     "name": "stderr",
     "output_type": "stream",
     "text": [
      "2023-03-20 11:31:22\n",
      "'select()' returned 1:many mapping between keys and columns\n",
      "'select()' returned 1:1 mapping between keys and columns\n",
      "'select()' returned 1:1 mapping between keys and columns\n",
      "'select()' returned 1:1 mapping between keys and columns\n"
     ]
    },
    {
     "name": "stdout",
     "output_type": "stream",
     "text": [
      "[1] 645\n"
     ]
    },
    {
     "name": "stderr",
     "output_type": "stream",
     "text": [
      "2023-03-20 11:31:23\n",
      "'select()' returned 1:many mapping between keys and columns\n",
      "'select()' returned 1:1 mapping between keys and columns\n",
      "'select()' returned 1:1 mapping between keys and columns\n",
      "'select()' returned 1:1 mapping between keys and columns\n"
     ]
    },
    {
     "name": "stdout",
     "output_type": "stream",
     "text": [
      "[1] 646\n"
     ]
    },
    {
     "name": "stderr",
     "output_type": "stream",
     "text": [
      "2023-03-20 11:31:25\n",
      "'select()' returned 1:many mapping between keys and columns\n",
      "'select()' returned 1:1 mapping between keys and columns\n",
      "'select()' returned 1:1 mapping between keys and columns\n",
      "'select()' returned 1:1 mapping between keys and columns\n"
     ]
    },
    {
     "name": "stdout",
     "output_type": "stream",
     "text": [
      "[1] 647\n"
     ]
    },
    {
     "name": "stderr",
     "output_type": "stream",
     "text": [
      "2023-03-20 11:31:26\n",
      "'select()' returned 1:many mapping between keys and columns\n",
      "'select()' returned 1:1 mapping between keys and columns\n",
      "'select()' returned 1:1 mapping between keys and columns\n",
      "'select()' returned 1:1 mapping between keys and columns\n"
     ]
    },
    {
     "name": "stdout",
     "output_type": "stream",
     "text": [
      "[1] 648\n"
     ]
    },
    {
     "name": "stderr",
     "output_type": "stream",
     "text": [
      "2023-03-20 11:31:28\n",
      "'select()' returned 1:many mapping between keys and columns\n",
      "'select()' returned 1:1 mapping between keys and columns\n",
      "'select()' returned 1:1 mapping between keys and columns\n",
      "'select()' returned 1:1 mapping between keys and columns\n"
     ]
    },
    {
     "name": "stdout",
     "output_type": "stream",
     "text": [
      "[1] 649\n"
     ]
    },
    {
     "name": "stderr",
     "output_type": "stream",
     "text": [
      "2023-03-20 11:31:29\n",
      "'select()' returned 1:many mapping between keys and columns\n",
      "'select()' returned 1:1 mapping between keys and columns\n",
      "'select()' returned 1:1 mapping between keys and columns\n",
      "'select()' returned 1:1 mapping between keys and columns\n"
     ]
    },
    {
     "name": "stdout",
     "output_type": "stream",
     "text": [
      "[1] 650\n"
     ]
    },
    {
     "name": "stderr",
     "output_type": "stream",
     "text": [
      "2023-03-20 11:31:31\n",
      "'select()' returned 1:many mapping between keys and columns\n",
      "'select()' returned 1:1 mapping between keys and columns\n",
      "'select()' returned 1:1 mapping between keys and columns\n",
      "'select()' returned 1:1 mapping between keys and columns\n"
     ]
    },
    {
     "name": "stdout",
     "output_type": "stream",
     "text": [
      "[1] 651\n"
     ]
    },
    {
     "name": "stderr",
     "output_type": "stream",
     "text": [
      "2023-03-20 11:31:32\n",
      "'select()' returned 1:many mapping between keys and columns\n",
      "'select()' returned 1:1 mapping between keys and columns\n",
      "'select()' returned 1:1 mapping between keys and columns\n",
      "'select()' returned 1:1 mapping between keys and columns\n"
     ]
    },
    {
     "name": "stdout",
     "output_type": "stream",
     "text": [
      "[1] 652\n"
     ]
    },
    {
     "name": "stderr",
     "output_type": "stream",
     "text": [
      "2023-03-20 11:31:33\n",
      "'select()' returned 1:many mapping between keys and columns\n",
      "'select()' returned 1:1 mapping between keys and columns\n",
      "'select()' returned 1:1 mapping between keys and columns\n",
      "'select()' returned 1:1 mapping between keys and columns\n"
     ]
    },
    {
     "name": "stdout",
     "output_type": "stream",
     "text": [
      "[1] 653\n"
     ]
    },
    {
     "name": "stderr",
     "output_type": "stream",
     "text": [
      "2023-03-20 11:31:35\n",
      "'select()' returned 1:many mapping between keys and columns\n",
      "'select()' returned 1:1 mapping between keys and columns\n",
      "'select()' returned 1:1 mapping between keys and columns\n",
      "'select()' returned 1:1 mapping between keys and columns\n"
     ]
    },
    {
     "name": "stdout",
     "output_type": "stream",
     "text": [
      "[1] 654\n"
     ]
    },
    {
     "name": "stderr",
     "output_type": "stream",
     "text": [
      "2023-03-20 11:31:37\n",
      "'select()' returned 1:many mapping between keys and columns\n",
      "'select()' returned 1:1 mapping between keys and columns\n",
      "'select()' returned 1:1 mapping between keys and columns\n",
      "'select()' returned 1:1 mapping between keys and columns\n"
     ]
    },
    {
     "name": "stdout",
     "output_type": "stream",
     "text": [
      "[1] 655\n"
     ]
    },
    {
     "name": "stderr",
     "output_type": "stream",
     "text": [
      "2023-03-20 11:31:38\n",
      "'select()' returned 1:many mapping between keys and columns\n",
      "'select()' returned 1:1 mapping between keys and columns\n",
      "'select()' returned 1:1 mapping between keys and columns\n",
      "'select()' returned 1:1 mapping between keys and columns\n"
     ]
    },
    {
     "name": "stdout",
     "output_type": "stream",
     "text": [
      "[1] 656\n"
     ]
    },
    {
     "name": "stderr",
     "output_type": "stream",
     "text": [
      "2023-03-20 11:31:39\n",
      "'select()' returned 1:many mapping between keys and columns\n",
      "'select()' returned 1:1 mapping between keys and columns\n",
      "'select()' returned 1:1 mapping between keys and columns\n",
      "'select()' returned 1:1 mapping between keys and columns\n"
     ]
    },
    {
     "name": "stdout",
     "output_type": "stream",
     "text": [
      "[1] 657\n"
     ]
    },
    {
     "name": "stderr",
     "output_type": "stream",
     "text": [
      "2023-03-20 11:31:41\n",
      "'select()' returned 1:many mapping between keys and columns\n",
      "'select()' returned 1:1 mapping between keys and columns\n",
      "'select()' returned 1:1 mapping between keys and columns\n",
      "'select()' returned 1:1 mapping between keys and columns\n"
     ]
    },
    {
     "name": "stdout",
     "output_type": "stream",
     "text": [
      "[1] 658\n"
     ]
    },
    {
     "name": "stderr",
     "output_type": "stream",
     "text": [
      "2023-03-20 11:31:43\n",
      "'select()' returned 1:many mapping between keys and columns\n",
      "'select()' returned 1:1 mapping between keys and columns\n",
      "'select()' returned 1:1 mapping between keys and columns\n",
      "'select()' returned 1:1 mapping between keys and columns\n"
     ]
    },
    {
     "name": "stdout",
     "output_type": "stream",
     "text": [
      "[1] 659\n"
     ]
    },
    {
     "name": "stderr",
     "output_type": "stream",
     "text": [
      "2023-03-20 11:31:44\n",
      "'select()' returned 1:many mapping between keys and columns\n",
      "'select()' returned 1:1 mapping between keys and columns\n",
      "'select()' returned 1:1 mapping between keys and columns\n",
      "'select()' returned 1:1 mapping between keys and columns\n"
     ]
    },
    {
     "name": "stdout",
     "output_type": "stream",
     "text": [
      "[1] 660\n"
     ]
    },
    {
     "name": "stderr",
     "output_type": "stream",
     "text": [
      "2023-03-20 11:31:45\n",
      "'select()' returned 1:many mapping between keys and columns\n",
      "'select()' returned 1:1 mapping between keys and columns\n",
      "'select()' returned 1:1 mapping between keys and columns\n",
      "'select()' returned 1:1 mapping between keys and columns\n"
     ]
    },
    {
     "name": "stdout",
     "output_type": "stream",
     "text": [
      "[1] 661\n"
     ]
    },
    {
     "name": "stderr",
     "output_type": "stream",
     "text": [
      "2023-03-20 11:31:47\n",
      "'select()' returned 1:many mapping between keys and columns\n",
      "'select()' returned 1:1 mapping between keys and columns\n",
      "'select()' returned 1:1 mapping between keys and columns\n",
      "'select()' returned 1:1 mapping between keys and columns\n"
     ]
    },
    {
     "name": "stdout",
     "output_type": "stream",
     "text": [
      "[1] 662\n"
     ]
    },
    {
     "name": "stderr",
     "output_type": "stream",
     "text": [
      "2023-03-20 11:31:48\n",
      "'select()' returned 1:many mapping between keys and columns\n",
      "'select()' returned 1:1 mapping between keys and columns\n",
      "'select()' returned 1:1 mapping between keys and columns\n",
      "'select()' returned 1:1 mapping between keys and columns\n"
     ]
    },
    {
     "name": "stdout",
     "output_type": "stream",
     "text": [
      "[1] 663\n"
     ]
    },
    {
     "name": "stderr",
     "output_type": "stream",
     "text": [
      "2023-03-20 11:31:50\n",
      "'select()' returned 1:many mapping between keys and columns\n",
      "'select()' returned 1:1 mapping between keys and columns\n",
      "'select()' returned 1:1 mapping between keys and columns\n",
      "'select()' returned 1:1 mapping between keys and columns\n"
     ]
    },
    {
     "name": "stdout",
     "output_type": "stream",
     "text": [
      "[1] 664\n"
     ]
    },
    {
     "name": "stderr",
     "output_type": "stream",
     "text": [
      "2023-03-20 11:31:51\n",
      "'select()' returned 1:many mapping between keys and columns\n",
      "'select()' returned 1:1 mapping between keys and columns\n",
      "'select()' returned 1:1 mapping between keys and columns\n",
      "'select()' returned 1:1 mapping between keys and columns\n"
     ]
    },
    {
     "name": "stdout",
     "output_type": "stream",
     "text": [
      "[1] 665\n"
     ]
    },
    {
     "name": "stderr",
     "output_type": "stream",
     "text": [
      "2023-03-20 11:31:52\n",
      "'select()' returned 1:many mapping between keys and columns\n",
      "'select()' returned 1:1 mapping between keys and columns\n",
      "'select()' returned 1:1 mapping between keys and columns\n",
      "'select()' returned 1:1 mapping between keys and columns\n"
     ]
    },
    {
     "name": "stdout",
     "output_type": "stream",
     "text": [
      "[1] 666\n"
     ]
    },
    {
     "name": "stderr",
     "output_type": "stream",
     "text": [
      "2023-03-20 11:31:54\n",
      "'select()' returned 1:many mapping between keys and columns\n",
      "'select()' returned 1:1 mapping between keys and columns\n",
      "'select()' returned 1:1 mapping between keys and columns\n",
      "'select()' returned 1:1 mapping between keys and columns\n"
     ]
    },
    {
     "name": "stdout",
     "output_type": "stream",
     "text": [
      "[1] 667\n"
     ]
    },
    {
     "name": "stderr",
     "output_type": "stream",
     "text": [
      "2023-03-20 11:31:55\n",
      "'select()' returned 1:many mapping between keys and columns\n",
      "'select()' returned 1:1 mapping between keys and columns\n",
      "'select()' returned 1:1 mapping between keys and columns\n",
      "'select()' returned 1:1 mapping between keys and columns\n"
     ]
    },
    {
     "name": "stdout",
     "output_type": "stream",
     "text": [
      "[1] 668\n"
     ]
    },
    {
     "name": "stderr",
     "output_type": "stream",
     "text": [
      "2023-03-20 11:31:57\n",
      "'select()' returned 1:many mapping between keys and columns\n",
      "'select()' returned 1:1 mapping between keys and columns\n",
      "'select()' returned 1:1 mapping between keys and columns\n",
      "'select()' returned 1:1 mapping between keys and columns\n"
     ]
    },
    {
     "name": "stdout",
     "output_type": "stream",
     "text": [
      "[1] 669\n"
     ]
    },
    {
     "name": "stderr",
     "output_type": "stream",
     "text": [
      "2023-03-20 11:31:58\n",
      "'select()' returned 1:many mapping between keys and columns\n",
      "'select()' returned 1:1 mapping between keys and columns\n",
      "'select()' returned 1:1 mapping between keys and columns\n",
      "'select()' returned 1:1 mapping between keys and columns\n"
     ]
    },
    {
     "name": "stdout",
     "output_type": "stream",
     "text": [
      "[1] 670\n"
     ]
    },
    {
     "name": "stderr",
     "output_type": "stream",
     "text": [
      "2023-03-20 11:32:00\n",
      "'select()' returned 1:many mapping between keys and columns\n",
      "'select()' returned 1:1 mapping between keys and columns\n",
      "'select()' returned 1:1 mapping between keys and columns\n",
      "'select()' returned 1:1 mapping between keys and columns\n"
     ]
    },
    {
     "name": "stdout",
     "output_type": "stream",
     "text": [
      "[1] 671\n"
     ]
    },
    {
     "name": "stderr",
     "output_type": "stream",
     "text": [
      "2023-03-20 11:32:01\n",
      "'select()' returned 1:many mapping between keys and columns\n",
      "'select()' returned 1:1 mapping between keys and columns\n",
      "'select()' returned 1:1 mapping between keys and columns\n",
      "'select()' returned 1:1 mapping between keys and columns\n"
     ]
    },
    {
     "name": "stdout",
     "output_type": "stream",
     "text": [
      "[1] 672\n"
     ]
    },
    {
     "name": "stderr",
     "output_type": "stream",
     "text": [
      "2023-03-20 11:32:03\n",
      "'select()' returned 1:many mapping between keys and columns\n",
      "'select()' returned 1:1 mapping between keys and columns\n",
      "'select()' returned 1:1 mapping between keys and columns\n",
      "'select()' returned 1:1 mapping between keys and columns\n"
     ]
    },
    {
     "name": "stdout",
     "output_type": "stream",
     "text": [
      "[1] 673\n"
     ]
    },
    {
     "name": "stderr",
     "output_type": "stream",
     "text": [
      "2023-03-20 11:32:05\n",
      "'select()' returned 1:many mapping between keys and columns\n",
      "'select()' returned 1:1 mapping between keys and columns\n",
      "'select()' returned 1:1 mapping between keys and columns\n",
      "'select()' returned 1:1 mapping between keys and columns\n"
     ]
    },
    {
     "name": "stdout",
     "output_type": "stream",
     "text": [
      "[1] 674\n"
     ]
    },
    {
     "name": "stderr",
     "output_type": "stream",
     "text": [
      "2023-03-20 11:32:06\n",
      "'select()' returned 1:many mapping between keys and columns\n",
      "'select()' returned 1:1 mapping between keys and columns\n",
      "'select()' returned 1:1 mapping between keys and columns\n",
      "'select()' returned 1:1 mapping between keys and columns\n"
     ]
    },
    {
     "name": "stdout",
     "output_type": "stream",
     "text": [
      "[1] 675\n"
     ]
    },
    {
     "name": "stderr",
     "output_type": "stream",
     "text": [
      "2023-03-20 11:32:08\n",
      "'select()' returned 1:many mapping between keys and columns\n",
      "'select()' returned 1:1 mapping between keys and columns\n",
      "'select()' returned 1:1 mapping between keys and columns\n",
      "'select()' returned 1:1 mapping between keys and columns\n"
     ]
    },
    {
     "name": "stdout",
     "output_type": "stream",
     "text": [
      "[1] 676\n"
     ]
    },
    {
     "name": "stderr",
     "output_type": "stream",
     "text": [
      "2023-03-20 11:32:09\n",
      "'select()' returned 1:many mapping between keys and columns\n",
      "'select()' returned 1:1 mapping between keys and columns\n",
      "'select()' returned 1:1 mapping between keys and columns\n",
      "'select()' returned 1:1 mapping between keys and columns\n"
     ]
    },
    {
     "name": "stdout",
     "output_type": "stream",
     "text": [
      "[1] 677\n"
     ]
    },
    {
     "name": "stderr",
     "output_type": "stream",
     "text": [
      "2023-03-20 11:32:11\n",
      "'select()' returned 1:many mapping between keys and columns\n",
      "'select()' returned 1:1 mapping between keys and columns\n",
      "'select()' returned 1:1 mapping between keys and columns\n",
      "'select()' returned 1:1 mapping between keys and columns\n"
     ]
    },
    {
     "name": "stdout",
     "output_type": "stream",
     "text": [
      "[1] 678\n"
     ]
    },
    {
     "name": "stderr",
     "output_type": "stream",
     "text": [
      "2023-03-20 11:32:12\n",
      "'select()' returned 1:many mapping between keys and columns\n",
      "'select()' returned 1:1 mapping between keys and columns\n",
      "'select()' returned 1:1 mapping between keys and columns\n",
      "'select()' returned 1:1 mapping between keys and columns\n"
     ]
    },
    {
     "name": "stdout",
     "output_type": "stream",
     "text": [
      "[1] 679\n"
     ]
    },
    {
     "name": "stderr",
     "output_type": "stream",
     "text": [
      "2023-03-20 11:32:13\n",
      "'select()' returned 1:many mapping between keys and columns\n",
      "'select()' returned 1:1 mapping between keys and columns\n",
      "'select()' returned 1:1 mapping between keys and columns\n",
      "'select()' returned 1:1 mapping between keys and columns\n"
     ]
    },
    {
     "name": "stdout",
     "output_type": "stream",
     "text": [
      "[1] 680\n"
     ]
    },
    {
     "name": "stderr",
     "output_type": "stream",
     "text": [
      "2023-03-20 11:32:15\n",
      "'select()' returned 1:many mapping between keys and columns\n",
      "'select()' returned 1:1 mapping between keys and columns\n",
      "'select()' returned 1:1 mapping between keys and columns\n",
      "'select()' returned 1:1 mapping between keys and columns\n"
     ]
    },
    {
     "name": "stdout",
     "output_type": "stream",
     "text": [
      "[1] 681\n"
     ]
    },
    {
     "name": "stderr",
     "output_type": "stream",
     "text": [
      "2023-03-20 11:32:16\n",
      "'select()' returned 1:many mapping between keys and columns\n",
      "'select()' returned 1:1 mapping between keys and columns\n",
      "'select()' returned 1:1 mapping between keys and columns\n",
      "'select()' returned 1:1 mapping between keys and columns\n"
     ]
    },
    {
     "name": "stdout",
     "output_type": "stream",
     "text": [
      "[1] 682\n"
     ]
    },
    {
     "name": "stderr",
     "output_type": "stream",
     "text": [
      "2023-03-20 11:32:18\n",
      "'select()' returned 1:many mapping between keys and columns\n",
      "'select()' returned 1:1 mapping between keys and columns\n",
      "'select()' returned 1:1 mapping between keys and columns\n",
      "'select()' returned 1:1 mapping between keys and columns\n"
     ]
    },
    {
     "name": "stdout",
     "output_type": "stream",
     "text": [
      "[1] 683\n"
     ]
    },
    {
     "name": "stderr",
     "output_type": "stream",
     "text": [
      "2023-03-20 11:32:19\n",
      "'select()' returned 1:many mapping between keys and columns\n",
      "'select()' returned 1:1 mapping between keys and columns\n",
      "'select()' returned 1:1 mapping between keys and columns\n",
      "'select()' returned 1:1 mapping between keys and columns\n"
     ]
    },
    {
     "name": "stdout",
     "output_type": "stream",
     "text": [
      "[1] 684\n"
     ]
    },
    {
     "name": "stderr",
     "output_type": "stream",
     "text": [
      "2023-03-20 11:32:20\n",
      "'select()' returned 1:many mapping between keys and columns\n",
      "'select()' returned 1:1 mapping between keys and columns\n",
      "'select()' returned 1:1 mapping between keys and columns\n",
      "'select()' returned 1:1 mapping between keys and columns\n"
     ]
    },
    {
     "name": "stdout",
     "output_type": "stream",
     "text": [
      "[1] 685\n"
     ]
    },
    {
     "name": "stderr",
     "output_type": "stream",
     "text": [
      "2023-03-20 11:32:22\n",
      "'select()' returned 1:many mapping between keys and columns\n",
      "'select()' returned 1:1 mapping between keys and columns\n",
      "'select()' returned 1:1 mapping between keys and columns\n",
      "'select()' returned 1:1 mapping between keys and columns\n"
     ]
    },
    {
     "name": "stdout",
     "output_type": "stream",
     "text": [
      "[1] 686\n"
     ]
    },
    {
     "name": "stderr",
     "output_type": "stream",
     "text": [
      "2023-03-20 11:32:23\n",
      "'select()' returned 1:many mapping between keys and columns\n",
      "'select()' returned 1:1 mapping between keys and columns\n",
      "'select()' returned 1:1 mapping between keys and columns\n",
      "'select()' returned 1:1 mapping between keys and columns\n"
     ]
    },
    {
     "name": "stdout",
     "output_type": "stream",
     "text": [
      "[1] 687\n"
     ]
    },
    {
     "name": "stderr",
     "output_type": "stream",
     "text": [
      "2023-03-20 11:32:25\n",
      "'select()' returned 1:many mapping between keys and columns\n",
      "'select()' returned 1:1 mapping between keys and columns\n",
      "'select()' returned 1:1 mapping between keys and columns\n",
      "'select()' returned 1:1 mapping between keys and columns\n"
     ]
    },
    {
     "name": "stdout",
     "output_type": "stream",
     "text": [
      "[1] 688\n"
     ]
    },
    {
     "name": "stderr",
     "output_type": "stream",
     "text": [
      "2023-03-20 11:32:26\n",
      "'select()' returned 1:many mapping between keys and columns\n",
      "'select()' returned 1:1 mapping between keys and columns\n",
      "'select()' returned 1:1 mapping between keys and columns\n",
      "'select()' returned 1:1 mapping between keys and columns\n"
     ]
    },
    {
     "name": "stdout",
     "output_type": "stream",
     "text": [
      "[1] 689\n"
     ]
    },
    {
     "name": "stderr",
     "output_type": "stream",
     "text": [
      "2023-03-20 11:32:28\n",
      "'select()' returned 1:many mapping between keys and columns\n",
      "'select()' returned 1:1 mapping between keys and columns\n",
      "'select()' returned 1:1 mapping between keys and columns\n",
      "'select()' returned 1:1 mapping between keys and columns\n"
     ]
    },
    {
     "name": "stdout",
     "output_type": "stream",
     "text": [
      "[1] 690\n"
     ]
    },
    {
     "name": "stderr",
     "output_type": "stream",
     "text": [
      "2023-03-20 11:32:29\n",
      "'select()' returned 1:many mapping between keys and columns\n",
      "'select()' returned 1:1 mapping between keys and columns\n",
      "'select()' returned 1:1 mapping between keys and columns\n",
      "'select()' returned 1:1 mapping between keys and columns\n"
     ]
    },
    {
     "name": "stdout",
     "output_type": "stream",
     "text": [
      "[1] 691\n"
     ]
    },
    {
     "name": "stderr",
     "output_type": "stream",
     "text": [
      "2023-03-20 11:32:30\n",
      "'select()' returned 1:many mapping between keys and columns\n",
      "'select()' returned 1:1 mapping between keys and columns\n",
      "'select()' returned 1:1 mapping between keys and columns\n",
      "'select()' returned 1:1 mapping between keys and columns\n"
     ]
    },
    {
     "name": "stdout",
     "output_type": "stream",
     "text": [
      "[1] 692\n"
     ]
    },
    {
     "name": "stderr",
     "output_type": "stream",
     "text": [
      "2023-03-20 11:32:32\n",
      "'select()' returned 1:many mapping between keys and columns\n",
      "'select()' returned 1:1 mapping between keys and columns\n",
      "'select()' returned 1:1 mapping between keys and columns\n",
      "'select()' returned 1:1 mapping between keys and columns\n"
     ]
    },
    {
     "name": "stdout",
     "output_type": "stream",
     "text": [
      "[1] 693\n"
     ]
    },
    {
     "name": "stderr",
     "output_type": "stream",
     "text": [
      "2023-03-20 11:32:33\n",
      "'select()' returned 1:many mapping between keys and columns\n",
      "'select()' returned 1:1 mapping between keys and columns\n",
      "'select()' returned 1:1 mapping between keys and columns\n",
      "'select()' returned 1:1 mapping between keys and columns\n"
     ]
    },
    {
     "name": "stdout",
     "output_type": "stream",
     "text": [
      "[1] 694\n"
     ]
    },
    {
     "name": "stderr",
     "output_type": "stream",
     "text": [
      "2023-03-20 11:32:35\n",
      "'select()' returned 1:many mapping between keys and columns\n",
      "'select()' returned 1:1 mapping between keys and columns\n",
      "'select()' returned 1:1 mapping between keys and columns\n",
      "'select()' returned 1:1 mapping between keys and columns\n"
     ]
    },
    {
     "name": "stdout",
     "output_type": "stream",
     "text": [
      "[1] 695\n"
     ]
    },
    {
     "name": "stderr",
     "output_type": "stream",
     "text": [
      "2023-03-20 11:32:36\n",
      "'select()' returned 1:many mapping between keys and columns\n",
      "'select()' returned 1:1 mapping between keys and columns\n",
      "'select()' returned 1:1 mapping between keys and columns\n",
      "'select()' returned 1:1 mapping between keys and columns\n"
     ]
    },
    {
     "name": "stdout",
     "output_type": "stream",
     "text": [
      "[1] 696\n"
     ]
    },
    {
     "name": "stderr",
     "output_type": "stream",
     "text": [
      "2023-03-20 11:32:38\n",
      "'select()' returned 1:many mapping between keys and columns\n",
      "'select()' returned 1:1 mapping between keys and columns\n",
      "'select()' returned 1:1 mapping between keys and columns\n",
      "'select()' returned 1:1 mapping between keys and columns\n"
     ]
    },
    {
     "name": "stdout",
     "output_type": "stream",
     "text": [
      "[1] 697\n"
     ]
    },
    {
     "name": "stderr",
     "output_type": "stream",
     "text": [
      "2023-03-20 11:32:39\n",
      "'select()' returned 1:many mapping between keys and columns\n",
      "'select()' returned 1:1 mapping between keys and columns\n",
      "'select()' returned 1:1 mapping between keys and columns\n",
      "'select()' returned 1:1 mapping between keys and columns\n"
     ]
    },
    {
     "name": "stdout",
     "output_type": "stream",
     "text": [
      "[1] 698\n"
     ]
    },
    {
     "name": "stderr",
     "output_type": "stream",
     "text": [
      "2023-03-20 11:32:41\n",
      "'select()' returned 1:many mapping between keys and columns\n",
      "'select()' returned 1:1 mapping between keys and columns\n",
      "'select()' returned 1:1 mapping between keys and columns\n",
      "'select()' returned 1:1 mapping between keys and columns\n"
     ]
    },
    {
     "name": "stdout",
     "output_type": "stream",
     "text": [
      "[1] 699\n"
     ]
    },
    {
     "name": "stderr",
     "output_type": "stream",
     "text": [
      "2023-03-20 11:32:42\n",
      "'select()' returned 1:many mapping between keys and columns\n",
      "'select()' returned 1:1 mapping between keys and columns\n",
      "'select()' returned 1:1 mapping between keys and columns\n",
      "'select()' returned 1:1 mapping between keys and columns\n"
     ]
    },
    {
     "name": "stdout",
     "output_type": "stream",
     "text": [
      "[1] 700\n"
     ]
    },
    {
     "name": "stderr",
     "output_type": "stream",
     "text": [
      "2023-03-20 11:32:44\n",
      "'select()' returned 1:many mapping between keys and columns\n",
      "'select()' returned 1:1 mapping between keys and columns\n",
      "'select()' returned 1:1 mapping between keys and columns\n",
      "'select()' returned 1:1 mapping between keys and columns\n"
     ]
    },
    {
     "name": "stdout",
     "output_type": "stream",
     "text": [
      "[1] 701\n"
     ]
    },
    {
     "name": "stderr",
     "output_type": "stream",
     "text": [
      "2023-03-20 11:32:46\n",
      "'select()' returned 1:many mapping between keys and columns\n",
      "'select()' returned 1:1 mapping between keys and columns\n",
      "'select()' returned 1:1 mapping between keys and columns\n",
      "'select()' returned 1:1 mapping between keys and columns\n"
     ]
    },
    {
     "name": "stdout",
     "output_type": "stream",
     "text": [
      "[1] 702\n"
     ]
    },
    {
     "name": "stderr",
     "output_type": "stream",
     "text": [
      "2023-03-20 11:32:47\n",
      "'select()' returned 1:many mapping between keys and columns\n",
      "'select()' returned 1:1 mapping between keys and columns\n",
      "'select()' returned 1:1 mapping between keys and columns\n",
      "'select()' returned 1:1 mapping between keys and columns\n"
     ]
    },
    {
     "name": "stdout",
     "output_type": "stream",
     "text": [
      "[1] 703\n"
     ]
    },
    {
     "name": "stderr",
     "output_type": "stream",
     "text": [
      "2023-03-20 11:32:48\n",
      "'select()' returned 1:many mapping between keys and columns\n",
      "'select()' returned 1:1 mapping between keys and columns\n",
      "'select()' returned 1:1 mapping between keys and columns\n",
      "'select()' returned 1:1 mapping between keys and columns\n"
     ]
    },
    {
     "name": "stdout",
     "output_type": "stream",
     "text": [
      "[1] 704\n"
     ]
    },
    {
     "name": "stderr",
     "output_type": "stream",
     "text": [
      "2023-03-20 11:32:50\n",
      "'select()' returned 1:many mapping between keys and columns\n",
      "'select()' returned 1:1 mapping between keys and columns\n",
      "'select()' returned 1:1 mapping between keys and columns\n",
      "'select()' returned 1:1 mapping between keys and columns\n"
     ]
    },
    {
     "name": "stdout",
     "output_type": "stream",
     "text": [
      "[1] 705\n"
     ]
    },
    {
     "name": "stderr",
     "output_type": "stream",
     "text": [
      "2023-03-20 11:32:51\n",
      "'select()' returned 1:many mapping between keys and columns\n",
      "'select()' returned 1:1 mapping between keys and columns\n",
      "'select()' returned 1:1 mapping between keys and columns\n",
      "'select()' returned 1:1 mapping between keys and columns\n"
     ]
    },
    {
     "name": "stdout",
     "output_type": "stream",
     "text": [
      "[1] 706\n"
     ]
    },
    {
     "name": "stderr",
     "output_type": "stream",
     "text": [
      "2023-03-20 11:32:53\n",
      "'select()' returned 1:many mapping between keys and columns\n",
      "'select()' returned 1:1 mapping between keys and columns\n",
      "'select()' returned 1:1 mapping between keys and columns\n",
      "'select()' returned 1:1 mapping between keys and columns\n"
     ]
    },
    {
     "name": "stdout",
     "output_type": "stream",
     "text": [
      "[1] 707\n"
     ]
    },
    {
     "name": "stderr",
     "output_type": "stream",
     "text": [
      "2023-03-20 11:32:54\n",
      "'select()' returned 1:many mapping between keys and columns\n",
      "'select()' returned 1:1 mapping between keys and columns\n",
      "'select()' returned 1:1 mapping between keys and columns\n",
      "'select()' returned 1:1 mapping between keys and columns\n"
     ]
    },
    {
     "name": "stdout",
     "output_type": "stream",
     "text": [
      "[1] 708\n"
     ]
    },
    {
     "name": "stderr",
     "output_type": "stream",
     "text": [
      "2023-03-20 11:32:56\n",
      "'select()' returned 1:many mapping between keys and columns\n",
      "'select()' returned 1:1 mapping between keys and columns\n",
      "'select()' returned 1:1 mapping between keys and columns\n",
      "'select()' returned 1:1 mapping between keys and columns\n"
     ]
    },
    {
     "name": "stdout",
     "output_type": "stream",
     "text": [
      "[1] 709\n"
     ]
    },
    {
     "name": "stderr",
     "output_type": "stream",
     "text": [
      "2023-03-20 11:32:57\n",
      "'select()' returned 1:many mapping between keys and columns\n",
      "'select()' returned 1:1 mapping between keys and columns\n",
      "'select()' returned 1:1 mapping between keys and columns\n",
      "'select()' returned 1:1 mapping between keys and columns\n"
     ]
    },
    {
     "name": "stdout",
     "output_type": "stream",
     "text": [
      "[1] 710\n"
     ]
    },
    {
     "name": "stderr",
     "output_type": "stream",
     "text": [
      "2023-03-20 11:32:58\n",
      "'select()' returned 1:many mapping between keys and columns\n",
      "'select()' returned 1:1 mapping between keys and columns\n",
      "'select()' returned 1:1 mapping between keys and columns\n",
      "'select()' returned 1:1 mapping between keys and columns\n"
     ]
    },
    {
     "name": "stdout",
     "output_type": "stream",
     "text": [
      "[1] 711\n"
     ]
    },
    {
     "name": "stderr",
     "output_type": "stream",
     "text": [
      "2023-03-20 11:33:00\n",
      "'select()' returned 1:many mapping between keys and columns\n",
      "'select()' returned 1:1 mapping between keys and columns\n",
      "'select()' returned 1:1 mapping between keys and columns\n",
      "'select()' returned 1:1 mapping between keys and columns\n"
     ]
    },
    {
     "name": "stdout",
     "output_type": "stream",
     "text": [
      "[1] 712\n"
     ]
    },
    {
     "name": "stderr",
     "output_type": "stream",
     "text": [
      "2023-03-20 11:33:02\n",
      "'select()' returned 1:many mapping between keys and columns\n",
      "'select()' returned 1:1 mapping between keys and columns\n",
      "'select()' returned 1:1 mapping between keys and columns\n",
      "'select()' returned 1:1 mapping between keys and columns\n"
     ]
    },
    {
     "name": "stdout",
     "output_type": "stream",
     "text": [
      "[1] 713\n"
     ]
    },
    {
     "name": "stderr",
     "output_type": "stream",
     "text": [
      "2023-03-20 11:33:03\n",
      "'select()' returned 1:many mapping between keys and columns\n",
      "'select()' returned 1:1 mapping between keys and columns\n",
      "'select()' returned 1:1 mapping between keys and columns\n",
      "'select()' returned 1:1 mapping between keys and columns\n"
     ]
    },
    {
     "name": "stdout",
     "output_type": "stream",
     "text": [
      "[1] 714\n"
     ]
    },
    {
     "name": "stderr",
     "output_type": "stream",
     "text": [
      "2023-03-20 11:33:05\n",
      "'select()' returned 1:many mapping between keys and columns\n",
      "'select()' returned 1:1 mapping between keys and columns\n",
      "'select()' returned 1:1 mapping between keys and columns\n",
      "'select()' returned 1:1 mapping between keys and columns\n"
     ]
    },
    {
     "name": "stdout",
     "output_type": "stream",
     "text": [
      "[1] 715\n"
     ]
    },
    {
     "name": "stderr",
     "output_type": "stream",
     "text": [
      "2023-03-20 11:33:06\n",
      "'select()' returned 1:many mapping between keys and columns\n",
      "'select()' returned 1:1 mapping between keys and columns\n",
      "'select()' returned 1:1 mapping between keys and columns\n",
      "'select()' returned 1:1 mapping between keys and columns\n"
     ]
    },
    {
     "name": "stdout",
     "output_type": "stream",
     "text": [
      "[1] 716\n"
     ]
    },
    {
     "name": "stderr",
     "output_type": "stream",
     "text": [
      "2023-03-20 11:33:07\n",
      "'select()' returned 1:many mapping between keys and columns\n",
      "'select()' returned 1:1 mapping between keys and columns\n",
      "'select()' returned 1:1 mapping between keys and columns\n",
      "'select()' returned 1:1 mapping between keys and columns\n"
     ]
    },
    {
     "name": "stdout",
     "output_type": "stream",
     "text": [
      "[1] 717\n"
     ]
    },
    {
     "name": "stderr",
     "output_type": "stream",
     "text": [
      "2023-03-20 11:33:09\n",
      "'select()' returned 1:many mapping between keys and columns\n",
      "'select()' returned 1:1 mapping between keys and columns\n",
      "'select()' returned 1:1 mapping between keys and columns\n",
      "'select()' returned 1:1 mapping between keys and columns\n"
     ]
    },
    {
     "name": "stdout",
     "output_type": "stream",
     "text": [
      "[1] 718\n"
     ]
    },
    {
     "name": "stderr",
     "output_type": "stream",
     "text": [
      "2023-03-20 11:33:10\n",
      "'select()' returned 1:many mapping between keys and columns\n",
      "'select()' returned 1:1 mapping between keys and columns\n",
      "'select()' returned 1:1 mapping between keys and columns\n",
      "'select()' returned 1:1 mapping between keys and columns\n"
     ]
    },
    {
     "name": "stdout",
     "output_type": "stream",
     "text": [
      "[1] 719\n"
     ]
    },
    {
     "name": "stderr",
     "output_type": "stream",
     "text": [
      "2023-03-20 11:33:12\n",
      "'select()' returned 1:many mapping between keys and columns\n",
      "'select()' returned 1:1 mapping between keys and columns\n",
      "'select()' returned 1:1 mapping between keys and columns\n",
      "'select()' returned 1:1 mapping between keys and columns\n"
     ]
    },
    {
     "name": "stdout",
     "output_type": "stream",
     "text": [
      "[1] 720\n"
     ]
    },
    {
     "name": "stderr",
     "output_type": "stream",
     "text": [
      "2023-03-20 11:33:13\n",
      "'select()' returned 1:many mapping between keys and columns\n",
      "'select()' returned 1:1 mapping between keys and columns\n",
      "'select()' returned 1:1 mapping between keys and columns\n",
      "'select()' returned 1:1 mapping between keys and columns\n"
     ]
    },
    {
     "name": "stdout",
     "output_type": "stream",
     "text": [
      "[1] 721\n"
     ]
    },
    {
     "name": "stderr",
     "output_type": "stream",
     "text": [
      "2023-03-20 11:33:15\n",
      "'select()' returned 1:many mapping between keys and columns\n",
      "'select()' returned 1:1 mapping between keys and columns\n",
      "'select()' returned 1:1 mapping between keys and columns\n",
      "'select()' returned 1:1 mapping between keys and columns\n"
     ]
    },
    {
     "name": "stdout",
     "output_type": "stream",
     "text": [
      "[1] 722\n"
     ]
    },
    {
     "name": "stderr",
     "output_type": "stream",
     "text": [
      "2023-03-20 11:33:16\n",
      "'select()' returned 1:many mapping between keys and columns\n",
      "'select()' returned 1:1 mapping between keys and columns\n",
      "'select()' returned 1:1 mapping between keys and columns\n",
      "'select()' returned 1:1 mapping between keys and columns\n"
     ]
    },
    {
     "name": "stdout",
     "output_type": "stream",
     "text": [
      "[1] 723\n"
     ]
    },
    {
     "name": "stderr",
     "output_type": "stream",
     "text": [
      "2023-03-20 11:33:18\n",
      "'select()' returned 1:many mapping between keys and columns\n",
      "'select()' returned 1:1 mapping between keys and columns\n",
      "'select()' returned 1:1 mapping between keys and columns\n",
      "'select()' returned 1:1 mapping between keys and columns\n"
     ]
    },
    {
     "name": "stdout",
     "output_type": "stream",
     "text": [
      "[1] 724\n"
     ]
    },
    {
     "name": "stderr",
     "output_type": "stream",
     "text": [
      "2023-03-20 11:33:19\n",
      "'select()' returned 1:many mapping between keys and columns\n",
      "'select()' returned 1:1 mapping between keys and columns\n",
      "'select()' returned 1:1 mapping between keys and columns\n",
      "'select()' returned 1:1 mapping between keys and columns\n"
     ]
    },
    {
     "name": "stdout",
     "output_type": "stream",
     "text": [
      "[1] 725\n"
     ]
    },
    {
     "name": "stderr",
     "output_type": "stream",
     "text": [
      "2023-03-20 11:33:21\n",
      "'select()' returned 1:many mapping between keys and columns\n",
      "'select()' returned 1:1 mapping between keys and columns\n",
      "'select()' returned 1:1 mapping between keys and columns\n",
      "'select()' returned 1:1 mapping between keys and columns\n"
     ]
    },
    {
     "name": "stdout",
     "output_type": "stream",
     "text": [
      "[1] 726\n"
     ]
    },
    {
     "name": "stderr",
     "output_type": "stream",
     "text": [
      "2023-03-20 11:33:22\n",
      "'select()' returned 1:many mapping between keys and columns\n",
      "'select()' returned 1:1 mapping between keys and columns\n",
      "'select()' returned 1:1 mapping between keys and columns\n",
      "'select()' returned 1:1 mapping between keys and columns\n"
     ]
    },
    {
     "name": "stdout",
     "output_type": "stream",
     "text": [
      "[1] 727\n"
     ]
    },
    {
     "name": "stderr",
     "output_type": "stream",
     "text": [
      "2023-03-20 11:33:23\n",
      "'select()' returned 1:many mapping between keys and columns\n",
      "'select()' returned 1:1 mapping between keys and columns\n",
      "'select()' returned 1:1 mapping between keys and columns\n",
      "'select()' returned 1:1 mapping between keys and columns\n"
     ]
    },
    {
     "name": "stdout",
     "output_type": "stream",
     "text": [
      "[1] 728\n"
     ]
    },
    {
     "name": "stderr",
     "output_type": "stream",
     "text": [
      "2023-03-20 11:33:25\n",
      "'select()' returned 1:many mapping between keys and columns\n",
      "'select()' returned 1:1 mapping between keys and columns\n",
      "'select()' returned 1:1 mapping between keys and columns\n",
      "'select()' returned 1:1 mapping between keys and columns\n"
     ]
    },
    {
     "name": "stdout",
     "output_type": "stream",
     "text": [
      "[1] 729\n"
     ]
    },
    {
     "name": "stderr",
     "output_type": "stream",
     "text": [
      "2023-03-20 11:33:26\n",
      "'select()' returned 1:many mapping between keys and columns\n",
      "'select()' returned 1:1 mapping between keys and columns\n",
      "'select()' returned 1:1 mapping between keys and columns\n",
      "'select()' returned 1:1 mapping between keys and columns\n"
     ]
    },
    {
     "name": "stdout",
     "output_type": "stream",
     "text": [
      "[1] 730\n"
     ]
    },
    {
     "name": "stderr",
     "output_type": "stream",
     "text": [
      "2023-03-20 11:33:28\n",
      "'select()' returned 1:many mapping between keys and columns\n",
      "'select()' returned 1:1 mapping between keys and columns\n",
      "'select()' returned 1:1 mapping between keys and columns\n",
      "'select()' returned 1:1 mapping between keys and columns\n"
     ]
    },
    {
     "name": "stdout",
     "output_type": "stream",
     "text": [
      "[1] 731\n"
     ]
    },
    {
     "name": "stderr",
     "output_type": "stream",
     "text": [
      "2023-03-20 11:33:29\n",
      "'select()' returned 1:many mapping between keys and columns\n",
      "'select()' returned 1:1 mapping between keys and columns\n",
      "'select()' returned 1:1 mapping between keys and columns\n",
      "'select()' returned 1:1 mapping between keys and columns\n"
     ]
    },
    {
     "name": "stdout",
     "output_type": "stream",
     "text": [
      "[1] 732\n"
     ]
    },
    {
     "name": "stderr",
     "output_type": "stream",
     "text": [
      "2023-03-20 11:33:31\n",
      "'select()' returned 1:many mapping between keys and columns\n",
      "'select()' returned 1:1 mapping between keys and columns\n",
      "'select()' returned 1:1 mapping between keys and columns\n",
      "'select()' returned 1:1 mapping between keys and columns\n"
     ]
    },
    {
     "name": "stdout",
     "output_type": "stream",
     "text": [
      "[1] 733\n"
     ]
    },
    {
     "name": "stderr",
     "output_type": "stream",
     "text": [
      "2023-03-20 11:33:32\n",
      "'select()' returned 1:many mapping between keys and columns\n",
      "'select()' returned 1:1 mapping between keys and columns\n",
      "'select()' returned 1:1 mapping between keys and columns\n",
      "'select()' returned 1:1 mapping between keys and columns\n"
     ]
    },
    {
     "name": "stdout",
     "output_type": "stream",
     "text": [
      "[1] 734\n"
     ]
    },
    {
     "name": "stderr",
     "output_type": "stream",
     "text": [
      "2023-03-20 11:33:34\n",
      "'select()' returned 1:many mapping between keys and columns\n",
      "'select()' returned 1:1 mapping between keys and columns\n",
      "'select()' returned 1:1 mapping between keys and columns\n",
      "'select()' returned 1:1 mapping between keys and columns\n"
     ]
    },
    {
     "name": "stdout",
     "output_type": "stream",
     "text": [
      "[1] 735\n"
     ]
    },
    {
     "name": "stderr",
     "output_type": "stream",
     "text": [
      "2023-03-20 11:33:35\n",
      "'select()' returned 1:many mapping between keys and columns\n",
      "'select()' returned 1:1 mapping between keys and columns\n",
      "'select()' returned 1:1 mapping between keys and columns\n",
      "'select()' returned 1:1 mapping between keys and columns\n"
     ]
    },
    {
     "name": "stdout",
     "output_type": "stream",
     "text": [
      "[1] 736\n"
     ]
    },
    {
     "name": "stderr",
     "output_type": "stream",
     "text": [
      "2023-03-20 11:33:37\n",
      "'select()' returned 1:many mapping between keys and columns\n",
      "'select()' returned 1:1 mapping between keys and columns\n",
      "'select()' returned 1:1 mapping between keys and columns\n",
      "'select()' returned 1:1 mapping between keys and columns\n"
     ]
    },
    {
     "name": "stdout",
     "output_type": "stream",
     "text": [
      "[1] 737\n"
     ]
    },
    {
     "name": "stderr",
     "output_type": "stream",
     "text": [
      "2023-03-20 11:33:38\n",
      "'select()' returned 1:many mapping between keys and columns\n",
      "'select()' returned 1:1 mapping between keys and columns\n",
      "'select()' returned 1:1 mapping between keys and columns\n",
      "'select()' returned 1:1 mapping between keys and columns\n"
     ]
    },
    {
     "name": "stdout",
     "output_type": "stream",
     "text": [
      "[1] 738\n"
     ]
    },
    {
     "name": "stderr",
     "output_type": "stream",
     "text": [
      "2023-03-20 11:33:39\n",
      "'select()' returned 1:many mapping between keys and columns\n",
      "'select()' returned 1:1 mapping between keys and columns\n",
      "'select()' returned 1:1 mapping between keys and columns\n",
      "'select()' returned 1:1 mapping between keys and columns\n"
     ]
    },
    {
     "name": "stdout",
     "output_type": "stream",
     "text": [
      "[1] 739\n"
     ]
    },
    {
     "name": "stderr",
     "output_type": "stream",
     "text": [
      "2023-03-20 11:33:41\n",
      "'select()' returned 1:many mapping between keys and columns\n",
      "'select()' returned 1:1 mapping between keys and columns\n",
      "'select()' returned 1:1 mapping between keys and columns\n",
      "'select()' returned 1:1 mapping between keys and columns\n"
     ]
    },
    {
     "name": "stdout",
     "output_type": "stream",
     "text": [
      "[1] 740\n"
     ]
    },
    {
     "name": "stderr",
     "output_type": "stream",
     "text": [
      "2023-03-20 11:33:42\n",
      "'select()' returned 1:many mapping between keys and columns\n",
      "'select()' returned 1:1 mapping between keys and columns\n",
      "'select()' returned 1:1 mapping between keys and columns\n",
      "'select()' returned 1:1 mapping between keys and columns\n"
     ]
    },
    {
     "name": "stdout",
     "output_type": "stream",
     "text": [
      "[1] 741\n"
     ]
    },
    {
     "name": "stderr",
     "output_type": "stream",
     "text": [
      "2023-03-20 11:33:44\n",
      "'select()' returned 1:many mapping between keys and columns\n",
      "'select()' returned 1:1 mapping between keys and columns\n",
      "'select()' returned 1:1 mapping between keys and columns\n",
      "'select()' returned 1:1 mapping between keys and columns\n"
     ]
    },
    {
     "name": "stdout",
     "output_type": "stream",
     "text": [
      "[1] 742\n"
     ]
    },
    {
     "name": "stderr",
     "output_type": "stream",
     "text": [
      "2023-03-20 11:33:45\n",
      "'select()' returned 1:many mapping between keys and columns\n",
      "'select()' returned 1:1 mapping between keys and columns\n",
      "'select()' returned 1:1 mapping between keys and columns\n",
      "'select()' returned 1:1 mapping between keys and columns\n"
     ]
    },
    {
     "name": "stdout",
     "output_type": "stream",
     "text": [
      "[1] 743\n"
     ]
    },
    {
     "name": "stderr",
     "output_type": "stream",
     "text": [
      "2023-03-20 11:33:46\n",
      "'select()' returned 1:many mapping between keys and columns\n",
      "'select()' returned 1:1 mapping between keys and columns\n",
      "'select()' returned 1:1 mapping between keys and columns\n",
      "'select()' returned 1:1 mapping between keys and columns\n"
     ]
    },
    {
     "name": "stdout",
     "output_type": "stream",
     "text": [
      "[1] 744\n"
     ]
    },
    {
     "name": "stderr",
     "output_type": "stream",
     "text": [
      "2023-03-20 11:33:48\n",
      "'select()' returned 1:many mapping between keys and columns\n",
      "'select()' returned 1:1 mapping between keys and columns\n",
      "'select()' returned 1:1 mapping between keys and columns\n",
      "'select()' returned 1:1 mapping between keys and columns\n"
     ]
    },
    {
     "name": "stdout",
     "output_type": "stream",
     "text": [
      "[1] 745\n"
     ]
    },
    {
     "name": "stderr",
     "output_type": "stream",
     "text": [
      "2023-03-20 11:33:49\n",
      "'select()' returned 1:many mapping between keys and columns\n",
      "'select()' returned 1:1 mapping between keys and columns\n",
      "'select()' returned 1:1 mapping between keys and columns\n",
      "'select()' returned 1:1 mapping between keys and columns\n"
     ]
    },
    {
     "name": "stdout",
     "output_type": "stream",
     "text": [
      "[1] 746\n"
     ]
    },
    {
     "name": "stderr",
     "output_type": "stream",
     "text": [
      "2023-03-20 11:33:50\n",
      "'select()' returned 1:many mapping between keys and columns\n",
      "'select()' returned 1:1 mapping between keys and columns\n",
      "'select()' returned 1:1 mapping between keys and columns\n",
      "'select()' returned 1:1 mapping between keys and columns\n"
     ]
    },
    {
     "name": "stdout",
     "output_type": "stream",
     "text": [
      "[1] 747\n"
     ]
    },
    {
     "name": "stderr",
     "output_type": "stream",
     "text": [
      "2023-03-20 11:33:52\n",
      "'select()' returned 1:many mapping between keys and columns\n",
      "'select()' returned 1:1 mapping between keys and columns\n",
      "'select()' returned 1:1 mapping between keys and columns\n",
      "'select()' returned 1:1 mapping between keys and columns\n"
     ]
    },
    {
     "name": "stdout",
     "output_type": "stream",
     "text": [
      "[1] 748\n"
     ]
    },
    {
     "name": "stderr",
     "output_type": "stream",
     "text": [
      "2023-03-20 11:33:53\n",
      "'select()' returned 1:many mapping between keys and columns\n",
      "'select()' returned 1:1 mapping between keys and columns\n",
      "'select()' returned 1:1 mapping between keys and columns\n",
      "'select()' returned 1:1 mapping between keys and columns\n"
     ]
    },
    {
     "name": "stdout",
     "output_type": "stream",
     "text": [
      "[1] 749\n"
     ]
    },
    {
     "name": "stderr",
     "output_type": "stream",
     "text": [
      "2023-03-20 11:33:55\n",
      "'select()' returned 1:many mapping between keys and columns\n",
      "'select()' returned 1:1 mapping between keys and columns\n",
      "'select()' returned 1:1 mapping between keys and columns\n",
      "'select()' returned 1:1 mapping between keys and columns\n"
     ]
    },
    {
     "name": "stdout",
     "output_type": "stream",
     "text": [
      "[1] 750\n"
     ]
    },
    {
     "name": "stderr",
     "output_type": "stream",
     "text": [
      "2023-03-20 11:33:56\n",
      "'select()' returned 1:many mapping between keys and columns\n",
      "'select()' returned 1:1 mapping between keys and columns\n",
      "'select()' returned 1:1 mapping between keys and columns\n",
      "'select()' returned 1:1 mapping between keys and columns\n"
     ]
    },
    {
     "name": "stdout",
     "output_type": "stream",
     "text": [
      "[1] 751\n"
     ]
    },
    {
     "name": "stderr",
     "output_type": "stream",
     "text": [
      "2023-03-20 11:33:57\n",
      "'select()' returned 1:many mapping between keys and columns\n",
      "'select()' returned 1:1 mapping between keys and columns\n",
      "'select()' returned 1:1 mapping between keys and columns\n",
      "'select()' returned 1:1 mapping between keys and columns\n"
     ]
    },
    {
     "name": "stdout",
     "output_type": "stream",
     "text": [
      "[1] 752\n"
     ]
    },
    {
     "name": "stderr",
     "output_type": "stream",
     "text": [
      "2023-03-20 11:33:59\n",
      "'select()' returned 1:many mapping between keys and columns\n",
      "'select()' returned 1:1 mapping between keys and columns\n",
      "'select()' returned 1:1 mapping between keys and columns\n",
      "'select()' returned 1:1 mapping between keys and columns\n"
     ]
    },
    {
     "name": "stdout",
     "output_type": "stream",
     "text": [
      "[1] 753\n"
     ]
    },
    {
     "name": "stderr",
     "output_type": "stream",
     "text": [
      "2023-03-20 11:34:01\n",
      "'select()' returned 1:many mapping between keys and columns\n",
      "'select()' returned 1:1 mapping between keys and columns\n",
      "'select()' returned 1:1 mapping between keys and columns\n",
      "'select()' returned 1:1 mapping between keys and columns\n"
     ]
    },
    {
     "name": "stdout",
     "output_type": "stream",
     "text": [
      "[1] 754\n"
     ]
    },
    {
     "name": "stderr",
     "output_type": "stream",
     "text": [
      "2023-03-20 11:34:02\n",
      "'select()' returned 1:many mapping between keys and columns\n",
      "'select()' returned 1:1 mapping between keys and columns\n",
      "'select()' returned 1:1 mapping between keys and columns\n",
      "'select()' returned 1:1 mapping between keys and columns\n"
     ]
    },
    {
     "name": "stdout",
     "output_type": "stream",
     "text": [
      "[1] 755\n"
     ]
    },
    {
     "name": "stderr",
     "output_type": "stream",
     "text": [
      "2023-03-20 11:34:04\n",
      "'select()' returned 1:many mapping between keys and columns\n",
      "'select()' returned 1:1 mapping between keys and columns\n",
      "'select()' returned 1:1 mapping between keys and columns\n",
      "'select()' returned 1:1 mapping between keys and columns\n"
     ]
    },
    {
     "name": "stdout",
     "output_type": "stream",
     "text": [
      "[1] 756\n"
     ]
    },
    {
     "name": "stderr",
     "output_type": "stream",
     "text": [
      "2023-03-20 11:34:05\n",
      "'select()' returned 1:many mapping between keys and columns\n",
      "'select()' returned 1:1 mapping between keys and columns\n",
      "'select()' returned 1:1 mapping between keys and columns\n",
      "'select()' returned 1:1 mapping between keys and columns\n"
     ]
    },
    {
     "name": "stdout",
     "output_type": "stream",
     "text": [
      "[1] 757\n"
     ]
    },
    {
     "name": "stderr",
     "output_type": "stream",
     "text": [
      "2023-03-20 11:34:06\n",
      "'select()' returned 1:many mapping between keys and columns\n",
      "'select()' returned 1:1 mapping between keys and columns\n",
      "'select()' returned 1:1 mapping between keys and columns\n",
      "'select()' returned 1:1 mapping between keys and columns\n"
     ]
    },
    {
     "name": "stdout",
     "output_type": "stream",
     "text": [
      "[1] 758\n"
     ]
    },
    {
     "name": "stderr",
     "output_type": "stream",
     "text": [
      "2023-03-20 11:34:08\n",
      "'select()' returned 1:many mapping between keys and columns\n",
      "'select()' returned 1:1 mapping between keys and columns\n",
      "'select()' returned 1:1 mapping between keys and columns\n",
      "'select()' returned 1:1 mapping between keys and columns\n"
     ]
    },
    {
     "name": "stdout",
     "output_type": "stream",
     "text": [
      "[1] 759\n"
     ]
    },
    {
     "name": "stderr",
     "output_type": "stream",
     "text": [
      "2023-03-20 11:34:09\n",
      "'select()' returned 1:many mapping between keys and columns\n",
      "'select()' returned 1:1 mapping between keys and columns\n",
      "'select()' returned 1:1 mapping between keys and columns\n",
      "'select()' returned 1:1 mapping between keys and columns\n"
     ]
    },
    {
     "name": "stdout",
     "output_type": "stream",
     "text": [
      "[1] 760\n"
     ]
    },
    {
     "name": "stderr",
     "output_type": "stream",
     "text": [
      "2023-03-20 11:34:11\n",
      "'select()' returned 1:many mapping between keys and columns\n",
      "'select()' returned 1:1 mapping between keys and columns\n",
      "'select()' returned 1:1 mapping between keys and columns\n",
      "'select()' returned 1:1 mapping between keys and columns\n"
     ]
    },
    {
     "name": "stdout",
     "output_type": "stream",
     "text": [
      "[1] 761\n"
     ]
    },
    {
     "name": "stderr",
     "output_type": "stream",
     "text": [
      "2023-03-20 11:34:12\n",
      "'select()' returned 1:many mapping between keys and columns\n",
      "'select()' returned 1:1 mapping between keys and columns\n",
      "'select()' returned 1:1 mapping between keys and columns\n",
      "'select()' returned 1:1 mapping between keys and columns\n"
     ]
    },
    {
     "name": "stdout",
     "output_type": "stream",
     "text": [
      "[1] 762\n"
     ]
    },
    {
     "name": "stderr",
     "output_type": "stream",
     "text": [
      "2023-03-20 11:34:13\n",
      "'select()' returned 1:many mapping between keys and columns\n",
      "'select()' returned 1:1 mapping between keys and columns\n",
      "'select()' returned 1:1 mapping between keys and columns\n",
      "'select()' returned 1:1 mapping between keys and columns\n"
     ]
    },
    {
     "name": "stdout",
     "output_type": "stream",
     "text": [
      "[1] 763\n"
     ]
    },
    {
     "name": "stderr",
     "output_type": "stream",
     "text": [
      "2023-03-20 11:34:15\n",
      "'select()' returned 1:many mapping between keys and columns\n",
      "'select()' returned 1:1 mapping between keys and columns\n",
      "'select()' returned 1:1 mapping between keys and columns\n",
      "'select()' returned 1:1 mapping between keys and columns\n"
     ]
    },
    {
     "name": "stdout",
     "output_type": "stream",
     "text": [
      "[1] 764\n"
     ]
    },
    {
     "name": "stderr",
     "output_type": "stream",
     "text": [
      "2023-03-20 11:34:16\n",
      "'select()' returned 1:many mapping between keys and columns\n",
      "'select()' returned 1:1 mapping between keys and columns\n",
      "'select()' returned 1:1 mapping between keys and columns\n",
      "'select()' returned 1:1 mapping between keys and columns\n"
     ]
    },
    {
     "name": "stdout",
     "output_type": "stream",
     "text": [
      "[1] 765\n"
     ]
    },
    {
     "name": "stderr",
     "output_type": "stream",
     "text": [
      "2023-03-20 11:34:18\n",
      "'select()' returned 1:many mapping between keys and columns\n",
      "'select()' returned 1:1 mapping between keys and columns\n",
      "'select()' returned 1:1 mapping between keys and columns\n",
      "'select()' returned 1:1 mapping between keys and columns\n"
     ]
    },
    {
     "name": "stdout",
     "output_type": "stream",
     "text": [
      "[1] 766\n"
     ]
    },
    {
     "name": "stderr",
     "output_type": "stream",
     "text": [
      "2023-03-20 11:34:19\n",
      "'select()' returned 1:many mapping between keys and columns\n",
      "'select()' returned 1:1 mapping between keys and columns\n",
      "'select()' returned 1:1 mapping between keys and columns\n",
      "'select()' returned 1:1 mapping between keys and columns\n"
     ]
    },
    {
     "name": "stdout",
     "output_type": "stream",
     "text": [
      "[1] 767\n"
     ]
    },
    {
     "name": "stderr",
     "output_type": "stream",
     "text": [
      "2023-03-20 11:34:21\n",
      "'select()' returned 1:many mapping between keys and columns\n",
      "'select()' returned 1:1 mapping between keys and columns\n",
      "'select()' returned 1:1 mapping between keys and columns\n",
      "'select()' returned 1:1 mapping between keys and columns\n"
     ]
    },
    {
     "name": "stdout",
     "output_type": "stream",
     "text": [
      "[1] 768\n"
     ]
    },
    {
     "name": "stderr",
     "output_type": "stream",
     "text": [
      "2023-03-20 11:34:22\n",
      "'select()' returned 1:many mapping between keys and columns\n",
      "'select()' returned 1:1 mapping between keys and columns\n",
      "'select()' returned 1:1 mapping between keys and columns\n",
      "'select()' returned 1:1 mapping between keys and columns\n"
     ]
    },
    {
     "name": "stdout",
     "output_type": "stream",
     "text": [
      "[1] 769\n"
     ]
    },
    {
     "name": "stderr",
     "output_type": "stream",
     "text": [
      "2023-03-20 11:34:24\n",
      "'select()' returned 1:many mapping between keys and columns\n",
      "'select()' returned 1:1 mapping between keys and columns\n",
      "'select()' returned 1:1 mapping between keys and columns\n",
      "'select()' returned 1:1 mapping between keys and columns\n"
     ]
    },
    {
     "name": "stdout",
     "output_type": "stream",
     "text": [
      "[1] 770\n"
     ]
    },
    {
     "name": "stderr",
     "output_type": "stream",
     "text": [
      "2023-03-20 11:34:25\n",
      "'select()' returned 1:many mapping between keys and columns\n",
      "'select()' returned 1:1 mapping between keys and columns\n",
      "'select()' returned 1:1 mapping between keys and columns\n",
      "'select()' returned 1:1 mapping between keys and columns\n"
     ]
    },
    {
     "name": "stdout",
     "output_type": "stream",
     "text": [
      "[1] 771\n"
     ]
    },
    {
     "name": "stderr",
     "output_type": "stream",
     "text": [
      "2023-03-20 11:34:27\n",
      "'select()' returned 1:many mapping between keys and columns\n",
      "'select()' returned 1:1 mapping between keys and columns\n",
      "'select()' returned 1:1 mapping between keys and columns\n",
      "'select()' returned 1:1 mapping between keys and columns\n"
     ]
    },
    {
     "name": "stdout",
     "output_type": "stream",
     "text": [
      "[1] 772\n"
     ]
    },
    {
     "name": "stderr",
     "output_type": "stream",
     "text": [
      "2023-03-20 11:34:28\n",
      "'select()' returned 1:many mapping between keys and columns\n",
      "'select()' returned 1:1 mapping between keys and columns\n",
      "'select()' returned 1:1 mapping between keys and columns\n",
      "'select()' returned 1:1 mapping between keys and columns\n"
     ]
    },
    {
     "name": "stdout",
     "output_type": "stream",
     "text": [
      "[1] 773\n"
     ]
    },
    {
     "name": "stderr",
     "output_type": "stream",
     "text": [
      "2023-03-20 11:34:29\n",
      "'select()' returned 1:many mapping between keys and columns\n",
      "'select()' returned 1:1 mapping between keys and columns\n",
      "'select()' returned 1:1 mapping between keys and columns\n",
      "'select()' returned 1:1 mapping between keys and columns\n"
     ]
    },
    {
     "name": "stdout",
     "output_type": "stream",
     "text": [
      "[1] 774\n"
     ]
    },
    {
     "name": "stderr",
     "output_type": "stream",
     "text": [
      "2023-03-20 11:34:31\n",
      "'select()' returned 1:many mapping between keys and columns\n",
      "'select()' returned 1:1 mapping between keys and columns\n",
      "'select()' returned 1:1 mapping between keys and columns\n",
      "'select()' returned 1:1 mapping between keys and columns\n"
     ]
    },
    {
     "name": "stdout",
     "output_type": "stream",
     "text": [
      "[1] 775\n"
     ]
    },
    {
     "name": "stderr",
     "output_type": "stream",
     "text": [
      "2023-03-20 11:34:32\n",
      "'select()' returned 1:many mapping between keys and columns\n",
      "'select()' returned 1:1 mapping between keys and columns\n",
      "'select()' returned 1:1 mapping between keys and columns\n",
      "'select()' returned 1:1 mapping between keys and columns\n"
     ]
    },
    {
     "name": "stdout",
     "output_type": "stream",
     "text": [
      "[1] 776\n"
     ]
    },
    {
     "name": "stderr",
     "output_type": "stream",
     "text": [
      "2023-03-20 11:34:34\n",
      "'select()' returned 1:many mapping between keys and columns\n",
      "'select()' returned 1:1 mapping between keys and columns\n",
      "'select()' returned 1:1 mapping between keys and columns\n",
      "'select()' returned 1:1 mapping between keys and columns\n"
     ]
    },
    {
     "name": "stdout",
     "output_type": "stream",
     "text": [
      "[1] 777\n"
     ]
    },
    {
     "name": "stderr",
     "output_type": "stream",
     "text": [
      "2023-03-20 11:34:35\n",
      "'select()' returned 1:many mapping between keys and columns\n",
      "'select()' returned 1:1 mapping between keys and columns\n",
      "'select()' returned 1:1 mapping between keys and columns\n",
      "'select()' returned 1:1 mapping between keys and columns\n"
     ]
    },
    {
     "name": "stdout",
     "output_type": "stream",
     "text": [
      "[1] 778\n"
     ]
    },
    {
     "name": "stderr",
     "output_type": "stream",
     "text": [
      "2023-03-20 11:34:37\n",
      "'select()' returned 1:many mapping between keys and columns\n",
      "'select()' returned 1:1 mapping between keys and columns\n",
      "'select()' returned 1:1 mapping between keys and columns\n",
      "'select()' returned 1:1 mapping between keys and columns\n"
     ]
    },
    {
     "name": "stdout",
     "output_type": "stream",
     "text": [
      "[1] 779\n"
     ]
    },
    {
     "name": "stderr",
     "output_type": "stream",
     "text": [
      "2023-03-20 11:34:38\n",
      "'select()' returned 1:many mapping between keys and columns\n",
      "'select()' returned 1:1 mapping between keys and columns\n",
      "'select()' returned 1:1 mapping between keys and columns\n",
      "'select()' returned 1:1 mapping between keys and columns\n"
     ]
    },
    {
     "name": "stdout",
     "output_type": "stream",
     "text": [
      "[1] 780\n"
     ]
    },
    {
     "name": "stderr",
     "output_type": "stream",
     "text": [
      "2023-03-20 11:34:40\n",
      "'select()' returned 1:many mapping between keys and columns\n",
      "'select()' returned 1:1 mapping between keys and columns\n",
      "'select()' returned 1:1 mapping between keys and columns\n",
      "'select()' returned 1:1 mapping between keys and columns\n"
     ]
    },
    {
     "name": "stdout",
     "output_type": "stream",
     "text": [
      "[1] 781\n"
     ]
    },
    {
     "name": "stderr",
     "output_type": "stream",
     "text": [
      "2023-03-20 11:34:41\n",
      "'select()' returned 1:many mapping between keys and columns\n",
      "'select()' returned 1:1 mapping between keys and columns\n",
      "'select()' returned 1:1 mapping between keys and columns\n",
      "'select()' returned 1:1 mapping between keys and columns\n"
     ]
    },
    {
     "name": "stdout",
     "output_type": "stream",
     "text": [
      "[1] 782\n"
     ]
    },
    {
     "name": "stderr",
     "output_type": "stream",
     "text": [
      "2023-03-20 11:34:43\n",
      "'select()' returned 1:many mapping between keys and columns\n",
      "'select()' returned 1:1 mapping between keys and columns\n",
      "'select()' returned 1:1 mapping between keys and columns\n",
      "'select()' returned 1:1 mapping between keys and columns\n"
     ]
    },
    {
     "name": "stdout",
     "output_type": "stream",
     "text": [
      "[1] 783\n"
     ]
    },
    {
     "name": "stderr",
     "output_type": "stream",
     "text": [
      "2023-03-20 11:34:44\n",
      "'select()' returned 1:many mapping between keys and columns\n",
      "'select()' returned 1:1 mapping between keys and columns\n",
      "'select()' returned 1:1 mapping between keys and columns\n",
      "'select()' returned 1:1 mapping between keys and columns\n"
     ]
    },
    {
     "name": "stdout",
     "output_type": "stream",
     "text": [
      "[1] 784\n"
     ]
    },
    {
     "name": "stderr",
     "output_type": "stream",
     "text": [
      "2023-03-20 11:34:46\n",
      "'select()' returned 1:many mapping between keys and columns\n",
      "'select()' returned 1:1 mapping between keys and columns\n",
      "'select()' returned 1:1 mapping between keys and columns\n",
      "'select()' returned 1:1 mapping between keys and columns\n"
     ]
    },
    {
     "name": "stdout",
     "output_type": "stream",
     "text": [
      "[1] 785\n"
     ]
    },
    {
     "name": "stderr",
     "output_type": "stream",
     "text": [
      "2023-03-20 11:34:47\n",
      "'select()' returned 1:many mapping between keys and columns\n",
      "'select()' returned 1:1 mapping between keys and columns\n",
      "'select()' returned 1:1 mapping between keys and columns\n",
      "'select()' returned 1:1 mapping between keys and columns\n"
     ]
    },
    {
     "name": "stdout",
     "output_type": "stream",
     "text": [
      "[1] 786\n"
     ]
    },
    {
     "name": "stderr",
     "output_type": "stream",
     "text": [
      "2023-03-20 11:34:49\n",
      "'select()' returned 1:many mapping between keys and columns\n",
      "'select()' returned 1:1 mapping between keys and columns\n",
      "'select()' returned 1:1 mapping between keys and columns\n",
      "'select()' returned 1:1 mapping between keys and columns\n"
     ]
    },
    {
     "name": "stdout",
     "output_type": "stream",
     "text": [
      "[1] 787\n"
     ]
    },
    {
     "name": "stderr",
     "output_type": "stream",
     "text": [
      "2023-03-20 11:34:50\n",
      "'select()' returned 1:many mapping between keys and columns\n",
      "'select()' returned 1:1 mapping between keys and columns\n",
      "'select()' returned 1:1 mapping between keys and columns\n",
      "'select()' returned 1:1 mapping between keys and columns\n"
     ]
    },
    {
     "name": "stdout",
     "output_type": "stream",
     "text": [
      "[1] 788\n"
     ]
    },
    {
     "name": "stderr",
     "output_type": "stream",
     "text": [
      "2023-03-20 11:34:51\n",
      "'select()' returned 1:many mapping between keys and columns\n",
      "'select()' returned 1:1 mapping between keys and columns\n",
      "'select()' returned 1:1 mapping between keys and columns\n",
      "'select()' returned 1:1 mapping between keys and columns\n"
     ]
    },
    {
     "name": "stdout",
     "output_type": "stream",
     "text": [
      "[1] 789\n"
     ]
    },
    {
     "name": "stderr",
     "output_type": "stream",
     "text": [
      "2023-03-20 11:34:53\n",
      "'select()' returned 1:many mapping between keys and columns\n",
      "'select()' returned 1:1 mapping between keys and columns\n",
      "'select()' returned 1:1 mapping between keys and columns\n",
      "'select()' returned 1:1 mapping between keys and columns\n"
     ]
    },
    {
     "name": "stdout",
     "output_type": "stream",
     "text": [
      "[1] 790\n"
     ]
    },
    {
     "name": "stderr",
     "output_type": "stream",
     "text": [
      "2023-03-20 11:34:54\n",
      "'select()' returned 1:many mapping between keys and columns\n",
      "'select()' returned 1:1 mapping between keys and columns\n",
      "'select()' returned 1:1 mapping between keys and columns\n",
      "'select()' returned 1:1 mapping between keys and columns\n"
     ]
    },
    {
     "name": "stdout",
     "output_type": "stream",
     "text": [
      "[1] 791\n"
     ]
    },
    {
     "name": "stderr",
     "output_type": "stream",
     "text": [
      "2023-03-20 11:34:56\n",
      "'select()' returned 1:many mapping between keys and columns\n",
      "'select()' returned 1:1 mapping between keys and columns\n",
      "'select()' returned 1:1 mapping between keys and columns\n",
      "'select()' returned 1:1 mapping between keys and columns\n"
     ]
    },
    {
     "name": "stdout",
     "output_type": "stream",
     "text": [
      "[1] 792\n"
     ]
    },
    {
     "name": "stderr",
     "output_type": "stream",
     "text": [
      "2023-03-20 11:34:57\n",
      "'select()' returned 1:many mapping between keys and columns\n",
      "'select()' returned 1:1 mapping between keys and columns\n",
      "'select()' returned 1:1 mapping between keys and columns\n",
      "'select()' returned 1:1 mapping between keys and columns\n"
     ]
    },
    {
     "name": "stdout",
     "output_type": "stream",
     "text": [
      "[1] 793\n"
     ]
    },
    {
     "name": "stderr",
     "output_type": "stream",
     "text": [
      "2023-03-20 11:34:59\n",
      "'select()' returned 1:many mapping between keys and columns\n",
      "'select()' returned 1:1 mapping between keys and columns\n",
      "'select()' returned 1:1 mapping between keys and columns\n",
      "'select()' returned 1:1 mapping between keys and columns\n"
     ]
    },
    {
     "name": "stdout",
     "output_type": "stream",
     "text": [
      "[1] 794\n"
     ]
    },
    {
     "name": "stderr",
     "output_type": "stream",
     "text": [
      "2023-03-20 11:35:00\n",
      "'select()' returned 1:many mapping between keys and columns\n",
      "'select()' returned 1:1 mapping between keys and columns\n",
      "'select()' returned 1:1 mapping between keys and columns\n",
      "'select()' returned 1:1 mapping between keys and columns\n"
     ]
    },
    {
     "name": "stdout",
     "output_type": "stream",
     "text": [
      "[1] 795\n"
     ]
    },
    {
     "name": "stderr",
     "output_type": "stream",
     "text": [
      "2023-03-20 11:35:02\n",
      "'select()' returned 1:many mapping between keys and columns\n",
      "'select()' returned 1:1 mapping between keys and columns\n",
      "'select()' returned 1:1 mapping between keys and columns\n",
      "'select()' returned 1:1 mapping between keys and columns\n"
     ]
    },
    {
     "name": "stdout",
     "output_type": "stream",
     "text": [
      "[1] 796\n"
     ]
    },
    {
     "name": "stderr",
     "output_type": "stream",
     "text": [
      "2023-03-20 11:35:03\n",
      "'select()' returned 1:many mapping between keys and columns\n",
      "'select()' returned 1:1 mapping between keys and columns\n",
      "'select()' returned 1:1 mapping between keys and columns\n",
      "'select()' returned 1:1 mapping between keys and columns\n"
     ]
    },
    {
     "name": "stdout",
     "output_type": "stream",
     "text": [
      "[1] 797\n"
     ]
    },
    {
     "name": "stderr",
     "output_type": "stream",
     "text": [
      "2023-03-20 11:35:04\n",
      "'select()' returned 1:many mapping between keys and columns\n",
      "'select()' returned 1:1 mapping between keys and columns\n",
      "'select()' returned 1:1 mapping between keys and columns\n",
      "'select()' returned 1:1 mapping between keys and columns\n"
     ]
    },
    {
     "name": "stdout",
     "output_type": "stream",
     "text": [
      "[1] 798\n"
     ]
    },
    {
     "name": "stderr",
     "output_type": "stream",
     "text": [
      "2023-03-20 11:35:06\n",
      "'select()' returned 1:many mapping between keys and columns\n",
      "'select()' returned 1:1 mapping between keys and columns\n",
      "'select()' returned 1:1 mapping between keys and columns\n",
      "'select()' returned 1:1 mapping between keys and columns\n"
     ]
    },
    {
     "name": "stdout",
     "output_type": "stream",
     "text": [
      "[1] 799\n"
     ]
    },
    {
     "name": "stderr",
     "output_type": "stream",
     "text": [
      "2023-03-20 11:35:07\n",
      "'select()' returned 1:many mapping between keys and columns\n",
      "'select()' returned 1:1 mapping between keys and columns\n",
      "'select()' returned 1:1 mapping between keys and columns\n",
      "'select()' returned 1:1 mapping between keys and columns\n"
     ]
    },
    {
     "name": "stdout",
     "output_type": "stream",
     "text": [
      "[1] 800\n"
     ]
    },
    {
     "name": "stderr",
     "output_type": "stream",
     "text": [
      "2023-03-20 11:35:09\n",
      "'select()' returned 1:many mapping between keys and columns\n",
      "'select()' returned 1:1 mapping between keys and columns\n",
      "'select()' returned 1:1 mapping between keys and columns\n",
      "'select()' returned 1:1 mapping between keys and columns\n"
     ]
    },
    {
     "name": "stdout",
     "output_type": "stream",
     "text": [
      "[1] 801\n"
     ]
    },
    {
     "name": "stderr",
     "output_type": "stream",
     "text": [
      "2023-03-20 11:35:10\n",
      "'select()' returned 1:many mapping between keys and columns\n",
      "'select()' returned 1:1 mapping between keys and columns\n",
      "'select()' returned 1:1 mapping between keys and columns\n",
      "'select()' returned 1:1 mapping between keys and columns\n"
     ]
    },
    {
     "name": "stdout",
     "output_type": "stream",
     "text": [
      "[1] 802\n"
     ]
    },
    {
     "name": "stderr",
     "output_type": "stream",
     "text": [
      "2023-03-20 11:35:12\n",
      "'select()' returned 1:many mapping between keys and columns\n",
      "'select()' returned 1:1 mapping between keys and columns\n",
      "'select()' returned 1:1 mapping between keys and columns\n",
      "'select()' returned 1:1 mapping between keys and columns\n"
     ]
    },
    {
     "name": "stdout",
     "output_type": "stream",
     "text": [
      "[1] 803\n"
     ]
    },
    {
     "name": "stderr",
     "output_type": "stream",
     "text": [
      "2023-03-20 11:35:13\n",
      "'select()' returned 1:many mapping between keys and columns\n",
      "'select()' returned 1:1 mapping between keys and columns\n",
      "'select()' returned 1:1 mapping between keys and columns\n",
      "'select()' returned 1:1 mapping between keys and columns\n"
     ]
    },
    {
     "name": "stdout",
     "output_type": "stream",
     "text": [
      "[1] 804\n"
     ]
    },
    {
     "name": "stderr",
     "output_type": "stream",
     "text": [
      "2023-03-20 11:35:14\n",
      "'select()' returned 1:many mapping between keys and columns\n",
      "'select()' returned 1:1 mapping between keys and columns\n",
      "'select()' returned 1:1 mapping between keys and columns\n",
      "'select()' returned 1:1 mapping between keys and columns\n"
     ]
    },
    {
     "name": "stdout",
     "output_type": "stream",
     "text": [
      "[1] 805\n"
     ]
    },
    {
     "name": "stderr",
     "output_type": "stream",
     "text": [
      "2023-03-20 11:35:16\n",
      "'select()' returned 1:many mapping between keys and columns\n",
      "'select()' returned 1:1 mapping between keys and columns\n",
      "'select()' returned 1:1 mapping between keys and columns\n",
      "'select()' returned 1:1 mapping between keys and columns\n"
     ]
    },
    {
     "name": "stdout",
     "output_type": "stream",
     "text": [
      "[1] 806\n"
     ]
    },
    {
     "name": "stderr",
     "output_type": "stream",
     "text": [
      "2023-03-20 11:35:17\n",
      "'select()' returned 1:many mapping between keys and columns\n",
      "'select()' returned 1:1 mapping between keys and columns\n",
      "'select()' returned 1:1 mapping between keys and columns\n",
      "'select()' returned 1:1 mapping between keys and columns\n"
     ]
    },
    {
     "name": "stdout",
     "output_type": "stream",
     "text": [
      "[1] 807\n"
     ]
    },
    {
     "name": "stderr",
     "output_type": "stream",
     "text": [
      "2023-03-20 11:35:19\n",
      "'select()' returned 1:many mapping between keys and columns\n",
      "'select()' returned 1:1 mapping between keys and columns\n",
      "'select()' returned 1:1 mapping between keys and columns\n",
      "'select()' returned 1:1 mapping between keys and columns\n"
     ]
    },
    {
     "name": "stdout",
     "output_type": "stream",
     "text": [
      "[1] 808\n"
     ]
    },
    {
     "name": "stderr",
     "output_type": "stream",
     "text": [
      "2023-03-20 11:35:21\n",
      "'select()' returned 1:many mapping between keys and columns\n",
      "'select()' returned 1:1 mapping between keys and columns\n",
      "'select()' returned 1:1 mapping between keys and columns\n",
      "'select()' returned 1:1 mapping between keys and columns\n"
     ]
    },
    {
     "name": "stdout",
     "output_type": "stream",
     "text": [
      "[1] 809\n"
     ]
    },
    {
     "name": "stderr",
     "output_type": "stream",
     "text": [
      "2023-03-20 11:35:22\n",
      "'select()' returned 1:many mapping between keys and columns\n",
      "'select()' returned 1:1 mapping between keys and columns\n",
      "'select()' returned 1:1 mapping between keys and columns\n",
      "'select()' returned 1:1 mapping between keys and columns\n"
     ]
    },
    {
     "name": "stdout",
     "output_type": "stream",
     "text": [
      "[1] 810\n"
     ]
    },
    {
     "name": "stderr",
     "output_type": "stream",
     "text": [
      "2023-03-20 11:35:23\n",
      "'select()' returned 1:many mapping between keys and columns\n",
      "'select()' returned 1:1 mapping between keys and columns\n",
      "'select()' returned 1:1 mapping between keys and columns\n",
      "'select()' returned 1:1 mapping between keys and columns\n"
     ]
    },
    {
     "name": "stdout",
     "output_type": "stream",
     "text": [
      "[1] 811\n"
     ]
    },
    {
     "name": "stderr",
     "output_type": "stream",
     "text": [
      "2023-03-20 11:35:25\n",
      "'select()' returned 1:many mapping between keys and columns\n",
      "'select()' returned 1:1 mapping between keys and columns\n",
      "'select()' returned 1:1 mapping between keys and columns\n",
      "'select()' returned 1:1 mapping between keys and columns\n"
     ]
    },
    {
     "name": "stdout",
     "output_type": "stream",
     "text": [
      "[1] 812\n"
     ]
    },
    {
     "name": "stderr",
     "output_type": "stream",
     "text": [
      "2023-03-20 11:35:26\n",
      "'select()' returned 1:many mapping between keys and columns\n",
      "'select()' returned 1:1 mapping between keys and columns\n",
      "'select()' returned 1:1 mapping between keys and columns\n",
      "'select()' returned 1:1 mapping between keys and columns\n"
     ]
    },
    {
     "name": "stdout",
     "output_type": "stream",
     "text": [
      "[1] 813\n"
     ]
    },
    {
     "name": "stderr",
     "output_type": "stream",
     "text": [
      "2023-03-20 11:35:27\n",
      "'select()' returned 1:many mapping between keys and columns\n",
      "'select()' returned 1:1 mapping between keys and columns\n",
      "'select()' returned 1:1 mapping between keys and columns\n",
      "'select()' returned 1:1 mapping between keys and columns\n"
     ]
    },
    {
     "name": "stdout",
     "output_type": "stream",
     "text": [
      "[1] 814\n"
     ]
    },
    {
     "name": "stderr",
     "output_type": "stream",
     "text": [
      "2023-03-20 11:35:29\n",
      "'select()' returned 1:many mapping between keys and columns\n",
      "'select()' returned 1:1 mapping between keys and columns\n",
      "'select()' returned 1:1 mapping between keys and columns\n",
      "'select()' returned 1:1 mapping between keys and columns\n"
     ]
    },
    {
     "name": "stdout",
     "output_type": "stream",
     "text": [
      "[1] 815\n"
     ]
    },
    {
     "name": "stderr",
     "output_type": "stream",
     "text": [
      "2023-03-20 11:35:30\n",
      "'select()' returned 1:many mapping between keys and columns\n",
      "'select()' returned 1:1 mapping between keys and columns\n",
      "'select()' returned 1:1 mapping between keys and columns\n",
      "'select()' returned 1:1 mapping between keys and columns\n"
     ]
    },
    {
     "name": "stdout",
     "output_type": "stream",
     "text": [
      "[1] 816\n"
     ]
    },
    {
     "name": "stderr",
     "output_type": "stream",
     "text": [
      "2023-03-20 11:35:32\n",
      "'select()' returned 1:many mapping between keys and columns\n",
      "'select()' returned 1:1 mapping between keys and columns\n",
      "'select()' returned 1:1 mapping between keys and columns\n",
      "'select()' returned 1:1 mapping between keys and columns\n"
     ]
    },
    {
     "name": "stdout",
     "output_type": "stream",
     "text": [
      "[1] 817\n"
     ]
    },
    {
     "name": "stderr",
     "output_type": "stream",
     "text": [
      "2023-03-20 11:35:33\n",
      "'select()' returned 1:many mapping between keys and columns\n",
      "'select()' returned 1:1 mapping between keys and columns\n",
      "'select()' returned 1:1 mapping between keys and columns\n",
      "'select()' returned 1:1 mapping between keys and columns\n"
     ]
    },
    {
     "name": "stdout",
     "output_type": "stream",
     "text": [
      "[1] 818\n"
     ]
    },
    {
     "name": "stderr",
     "output_type": "stream",
     "text": [
      "2023-03-20 11:35:35\n",
      "'select()' returned 1:many mapping between keys and columns\n",
      "'select()' returned 1:1 mapping between keys and columns\n",
      "'select()' returned 1:1 mapping between keys and columns\n",
      "'select()' returned 1:1 mapping between keys and columns\n"
     ]
    },
    {
     "name": "stdout",
     "output_type": "stream",
     "text": [
      "[1] 819\n"
     ]
    },
    {
     "name": "stderr",
     "output_type": "stream",
     "text": [
      "2023-03-20 11:35:36\n",
      "'select()' returned 1:many mapping between keys and columns\n",
      "'select()' returned 1:1 mapping between keys and columns\n",
      "'select()' returned 1:1 mapping between keys and columns\n",
      "'select()' returned 1:1 mapping between keys and columns\n"
     ]
    },
    {
     "name": "stdout",
     "output_type": "stream",
     "text": [
      "[1] 820\n"
     ]
    },
    {
     "name": "stderr",
     "output_type": "stream",
     "text": [
      "2023-03-20 11:35:38\n",
      "'select()' returned 1:many mapping between keys and columns\n",
      "'select()' returned 1:1 mapping between keys and columns\n",
      "'select()' returned 1:1 mapping between keys and columns\n",
      "'select()' returned 1:1 mapping between keys and columns\n"
     ]
    },
    {
     "name": "stdout",
     "output_type": "stream",
     "text": [
      "[1] 821\n"
     ]
    },
    {
     "name": "stderr",
     "output_type": "stream",
     "text": [
      "2023-03-20 11:35:39\n",
      "'select()' returned 1:many mapping between keys and columns\n",
      "'select()' returned 1:1 mapping between keys and columns\n",
      "'select()' returned 1:1 mapping between keys and columns\n",
      "'select()' returned 1:1 mapping between keys and columns\n"
     ]
    },
    {
     "name": "stdout",
     "output_type": "stream",
     "text": [
      "[1] 822\n"
     ]
    },
    {
     "name": "stderr",
     "output_type": "stream",
     "text": [
      "2023-03-20 11:35:40\n",
      "'select()' returned 1:many mapping between keys and columns\n",
      "'select()' returned 1:1 mapping between keys and columns\n",
      "'select()' returned 1:1 mapping between keys and columns\n",
      "'select()' returned 1:1 mapping between keys and columns\n"
     ]
    },
    {
     "name": "stdout",
     "output_type": "stream",
     "text": [
      "[1] 823\n"
     ]
    },
    {
     "name": "stderr",
     "output_type": "stream",
     "text": [
      "2023-03-20 11:35:42\n",
      "'select()' returned 1:many mapping between keys and columns\n",
      "'select()' returned 1:1 mapping between keys and columns\n",
      "'select()' returned 1:1 mapping between keys and columns\n",
      "'select()' returned 1:1 mapping between keys and columns\n"
     ]
    },
    {
     "name": "stdout",
     "output_type": "stream",
     "text": [
      "[1] 824\n"
     ]
    },
    {
     "name": "stderr",
     "output_type": "stream",
     "text": [
      "2023-03-20 11:35:43\n",
      "'select()' returned 1:many mapping between keys and columns\n",
      "'select()' returned 1:1 mapping between keys and columns\n",
      "'select()' returned 1:1 mapping between keys and columns\n",
      "'select()' returned 1:1 mapping between keys and columns\n"
     ]
    },
    {
     "name": "stdout",
     "output_type": "stream",
     "text": [
      "[1] 825\n"
     ]
    },
    {
     "name": "stderr",
     "output_type": "stream",
     "text": [
      "2023-03-20 11:35:45\n",
      "'select()' returned 1:many mapping between keys and columns\n",
      "'select()' returned 1:1 mapping between keys and columns\n",
      "'select()' returned 1:1 mapping between keys and columns\n",
      "'select()' returned 1:1 mapping between keys and columns\n"
     ]
    },
    {
     "name": "stdout",
     "output_type": "stream",
     "text": [
      "[1] 826\n"
     ]
    },
    {
     "name": "stderr",
     "output_type": "stream",
     "text": [
      "2023-03-20 11:35:46\n",
      "'select()' returned 1:many mapping between keys and columns\n",
      "'select()' returned 1:1 mapping between keys and columns\n",
      "'select()' returned 1:1 mapping between keys and columns\n",
      "'select()' returned 1:1 mapping between keys and columns\n"
     ]
    },
    {
     "name": "stdout",
     "output_type": "stream",
     "text": [
      "[1] 827\n"
     ]
    },
    {
     "name": "stderr",
     "output_type": "stream",
     "text": [
      "2023-03-20 11:35:48\n",
      "'select()' returned 1:many mapping between keys and columns\n",
      "'select()' returned 1:1 mapping between keys and columns\n",
      "'select()' returned 1:1 mapping between keys and columns\n",
      "'select()' returned 1:1 mapping between keys and columns\n"
     ]
    },
    {
     "name": "stdout",
     "output_type": "stream",
     "text": [
      "[1] 828\n"
     ]
    },
    {
     "name": "stderr",
     "output_type": "stream",
     "text": [
      "2023-03-20 11:35:49\n",
      "'select()' returned 1:many mapping between keys and columns\n",
      "'select()' returned 1:1 mapping between keys and columns\n",
      "'select()' returned 1:1 mapping between keys and columns\n",
      "'select()' returned 1:1 mapping between keys and columns\n"
     ]
    },
    {
     "name": "stdout",
     "output_type": "stream",
     "text": [
      "[1] 829\n"
     ]
    },
    {
     "name": "stderr",
     "output_type": "stream",
     "text": [
      "2023-03-20 11:35:51\n",
      "'select()' returned 1:many mapping between keys and columns\n",
      "'select()' returned 1:1 mapping between keys and columns\n",
      "'select()' returned 1:1 mapping between keys and columns\n",
      "'select()' returned 1:1 mapping between keys and columns\n"
     ]
    },
    {
     "name": "stdout",
     "output_type": "stream",
     "text": [
      "[1] 830\n"
     ]
    },
    {
     "name": "stderr",
     "output_type": "stream",
     "text": [
      "2023-03-20 11:35:52\n",
      "'select()' returned 1:many mapping between keys and columns\n",
      "'select()' returned 1:1 mapping between keys and columns\n",
      "'select()' returned 1:1 mapping between keys and columns\n",
      "'select()' returned 1:1 mapping between keys and columns\n"
     ]
    },
    {
     "name": "stdout",
     "output_type": "stream",
     "text": [
      "[1] 831\n"
     ]
    },
    {
     "name": "stderr",
     "output_type": "stream",
     "text": [
      "2023-03-20 11:35:54\n",
      "'select()' returned 1:many mapping between keys and columns\n",
      "'select()' returned 1:1 mapping between keys and columns\n",
      "'select()' returned 1:1 mapping between keys and columns\n",
      "'select()' returned 1:1 mapping between keys and columns\n"
     ]
    },
    {
     "name": "stdout",
     "output_type": "stream",
     "text": [
      "[1] 832\n"
     ]
    },
    {
     "name": "stderr",
     "output_type": "stream",
     "text": [
      "2023-03-20 11:35:55\n",
      "'select()' returned 1:many mapping between keys and columns\n",
      "'select()' returned 1:1 mapping between keys and columns\n",
      "'select()' returned 1:1 mapping between keys and columns\n",
      "'select()' returned 1:1 mapping between keys and columns\n"
     ]
    },
    {
     "name": "stdout",
     "output_type": "stream",
     "text": [
      "[1] 833\n"
     ]
    },
    {
     "name": "stderr",
     "output_type": "stream",
     "text": [
      "2023-03-20 11:35:56\n",
      "'select()' returned 1:many mapping between keys and columns\n",
      "'select()' returned 1:1 mapping between keys and columns\n",
      "'select()' returned 1:1 mapping between keys and columns\n",
      "'select()' returned 1:1 mapping between keys and columns\n"
     ]
    },
    {
     "name": "stdout",
     "output_type": "stream",
     "text": [
      "[1] 834\n"
     ]
    },
    {
     "name": "stderr",
     "output_type": "stream",
     "text": [
      "2023-03-20 11:35:58\n",
      "'select()' returned 1:many mapping between keys and columns\n",
      "'select()' returned 1:1 mapping between keys and columns\n",
      "'select()' returned 1:1 mapping between keys and columns\n",
      "'select()' returned 1:1 mapping between keys and columns\n"
     ]
    },
    {
     "name": "stdout",
     "output_type": "stream",
     "text": [
      "[1] 835\n"
     ]
    },
    {
     "name": "stderr",
     "output_type": "stream",
     "text": [
      "2023-03-20 11:35:59\n",
      "'select()' returned 1:many mapping between keys and columns\n",
      "'select()' returned 1:1 mapping between keys and columns\n",
      "'select()' returned 1:1 mapping between keys and columns\n",
      "'select()' returned 1:1 mapping between keys and columns\n"
     ]
    },
    {
     "name": "stdout",
     "output_type": "stream",
     "text": [
      "[1] 836\n"
     ]
    },
    {
     "name": "stderr",
     "output_type": "stream",
     "text": [
      "2023-03-20 11:36:01\n",
      "'select()' returned 1:many mapping between keys and columns\n",
      "'select()' returned 1:1 mapping between keys and columns\n",
      "'select()' returned 1:1 mapping between keys and columns\n",
      "'select()' returned 1:1 mapping between keys and columns\n"
     ]
    },
    {
     "name": "stdout",
     "output_type": "stream",
     "text": [
      "[1] 837\n"
     ]
    },
    {
     "name": "stderr",
     "output_type": "stream",
     "text": [
      "2023-03-20 11:36:02\n",
      "'select()' returned 1:many mapping between keys and columns\n",
      "'select()' returned 1:1 mapping between keys and columns\n",
      "'select()' returned 1:1 mapping between keys and columns\n",
      "'select()' returned 1:1 mapping between keys and columns\n"
     ]
    },
    {
     "name": "stdout",
     "output_type": "stream",
     "text": [
      "[1] 838\n"
     ]
    },
    {
     "name": "stderr",
     "output_type": "stream",
     "text": [
      "2023-03-20 11:36:04\n",
      "'select()' returned 1:many mapping between keys and columns\n",
      "'select()' returned 1:1 mapping between keys and columns\n",
      "'select()' returned 1:1 mapping between keys and columns\n",
      "'select()' returned 1:1 mapping between keys and columns\n"
     ]
    },
    {
     "name": "stdout",
     "output_type": "stream",
     "text": [
      "[1] 839\n"
     ]
    },
    {
     "name": "stderr",
     "output_type": "stream",
     "text": [
      "2023-03-20 11:36:05\n",
      "'select()' returned 1:many mapping between keys and columns\n",
      "'select()' returned 1:1 mapping between keys and columns\n",
      "'select()' returned 1:1 mapping between keys and columns\n",
      "'select()' returned 1:1 mapping between keys and columns\n"
     ]
    },
    {
     "name": "stdout",
     "output_type": "stream",
     "text": [
      "[1] 840\n"
     ]
    },
    {
     "name": "stderr",
     "output_type": "stream",
     "text": [
      "2023-03-20 11:36:07\n",
      "'select()' returned 1:many mapping between keys and columns\n",
      "'select()' returned 1:1 mapping between keys and columns\n",
      "'select()' returned 1:1 mapping between keys and columns\n",
      "'select()' returned 1:1 mapping between keys and columns\n"
     ]
    },
    {
     "name": "stdout",
     "output_type": "stream",
     "text": [
      "[1] 841\n"
     ]
    },
    {
     "name": "stderr",
     "output_type": "stream",
     "text": [
      "2023-03-20 11:36:08\n",
      "'select()' returned 1:many mapping between keys and columns\n",
      "'select()' returned 1:1 mapping between keys and columns\n",
      "'select()' returned 1:1 mapping between keys and columns\n",
      "'select()' returned 1:1 mapping between keys and columns\n"
     ]
    },
    {
     "name": "stdout",
     "output_type": "stream",
     "text": [
      "[1] 842\n"
     ]
    },
    {
     "name": "stderr",
     "output_type": "stream",
     "text": [
      "2023-03-20 11:36:10\n",
      "'select()' returned 1:many mapping between keys and columns\n",
      "'select()' returned 1:1 mapping between keys and columns\n",
      "'select()' returned 1:1 mapping between keys and columns\n",
      "'select()' returned 1:1 mapping between keys and columns\n"
     ]
    },
    {
     "name": "stdout",
     "output_type": "stream",
     "text": [
      "[1] 843\n"
     ]
    },
    {
     "name": "stderr",
     "output_type": "stream",
     "text": [
      "2023-03-20 11:36:11\n",
      "'select()' returned 1:many mapping between keys and columns\n",
      "'select()' returned 1:1 mapping between keys and columns\n",
      "'select()' returned 1:1 mapping between keys and columns\n",
      "'select()' returned 1:1 mapping between keys and columns\n"
     ]
    },
    {
     "name": "stdout",
     "output_type": "stream",
     "text": [
      "[1] 844\n"
     ]
    },
    {
     "name": "stderr",
     "output_type": "stream",
     "text": [
      "2023-03-20 11:36:12\n",
      "'select()' returned 1:many mapping between keys and columns\n",
      "'select()' returned 1:1 mapping between keys and columns\n",
      "'select()' returned 1:1 mapping between keys and columns\n",
      "'select()' returned 1:1 mapping between keys and columns\n"
     ]
    },
    {
     "name": "stdout",
     "output_type": "stream",
     "text": [
      "[1] 845\n"
     ]
    },
    {
     "name": "stderr",
     "output_type": "stream",
     "text": [
      "2023-03-20 11:36:14\n",
      "'select()' returned 1:many mapping between keys and columns\n",
      "'select()' returned 1:1 mapping between keys and columns\n",
      "'select()' returned 1:1 mapping between keys and columns\n",
      "'select()' returned 1:1 mapping between keys and columns\n"
     ]
    },
    {
     "name": "stdout",
     "output_type": "stream",
     "text": [
      "[1] 846\n"
     ]
    },
    {
     "name": "stderr",
     "output_type": "stream",
     "text": [
      "2023-03-20 11:36:15\n",
      "'select()' returned 1:many mapping between keys and columns\n",
      "'select()' returned 1:1 mapping between keys and columns\n",
      "'select()' returned 1:1 mapping between keys and columns\n",
      "'select()' returned 1:1 mapping between keys and columns\n"
     ]
    },
    {
     "name": "stdout",
     "output_type": "stream",
     "text": [
      "[1] 847\n"
     ]
    },
    {
     "name": "stderr",
     "output_type": "stream",
     "text": [
      "2023-03-20 11:36:17\n",
      "'select()' returned 1:many mapping between keys and columns\n",
      "'select()' returned 1:1 mapping between keys and columns\n",
      "'select()' returned 1:1 mapping between keys and columns\n",
      "'select()' returned 1:1 mapping between keys and columns\n"
     ]
    },
    {
     "name": "stdout",
     "output_type": "stream",
     "text": [
      "[1] 848\n"
     ]
    },
    {
     "name": "stderr",
     "output_type": "stream",
     "text": [
      "2023-03-20 11:36:18\n",
      "'select()' returned 1:many mapping between keys and columns\n",
      "'select()' returned 1:1 mapping between keys and columns\n",
      "'select()' returned 1:1 mapping between keys and columns\n",
      "'select()' returned 1:1 mapping between keys and columns\n"
     ]
    },
    {
     "name": "stdout",
     "output_type": "stream",
     "text": [
      "[1] 849\n"
     ]
    },
    {
     "name": "stderr",
     "output_type": "stream",
     "text": [
      "2023-03-20 11:36:19\n",
      "'select()' returned 1:many mapping between keys and columns\n",
      "'select()' returned 1:1 mapping between keys and columns\n",
      "'select()' returned 1:1 mapping between keys and columns\n",
      "'select()' returned 1:1 mapping between keys and columns\n"
     ]
    },
    {
     "name": "stdout",
     "output_type": "stream",
     "text": [
      "[1] 850\n"
     ]
    },
    {
     "name": "stderr",
     "output_type": "stream",
     "text": [
      "2023-03-20 11:36:21\n",
      "'select()' returned 1:many mapping between keys and columns\n",
      "'select()' returned 1:1 mapping between keys and columns\n",
      "'select()' returned 1:1 mapping between keys and columns\n",
      "'select()' returned 1:1 mapping between keys and columns\n"
     ]
    },
    {
     "name": "stdout",
     "output_type": "stream",
     "text": [
      "[1] 851\n"
     ]
    },
    {
     "name": "stderr",
     "output_type": "stream",
     "text": [
      "2023-03-20 11:36:22\n",
      "'select()' returned 1:many mapping between keys and columns\n",
      "'select()' returned 1:1 mapping between keys and columns\n",
      "'select()' returned 1:1 mapping between keys and columns\n",
      "'select()' returned 1:1 mapping between keys and columns\n"
     ]
    },
    {
     "name": "stdout",
     "output_type": "stream",
     "text": [
      "[1] 852\n"
     ]
    },
    {
     "name": "stderr",
     "output_type": "stream",
     "text": [
      "2023-03-20 11:36:24\n",
      "'select()' returned 1:many mapping between keys and columns\n",
      "'select()' returned 1:1 mapping between keys and columns\n",
      "'select()' returned 1:1 mapping between keys and columns\n",
      "'select()' returned 1:1 mapping between keys and columns\n"
     ]
    },
    {
     "name": "stdout",
     "output_type": "stream",
     "text": [
      "[1] 853\n"
     ]
    },
    {
     "name": "stderr",
     "output_type": "stream",
     "text": [
      "2023-03-20 11:36:25\n",
      "'select()' returned 1:many mapping between keys and columns\n",
      "'select()' returned 1:1 mapping between keys and columns\n",
      "'select()' returned 1:1 mapping between keys and columns\n",
      "'select()' returned 1:1 mapping between keys and columns\n"
     ]
    },
    {
     "name": "stdout",
     "output_type": "stream",
     "text": [
      "[1] 854\n"
     ]
    },
    {
     "name": "stderr",
     "output_type": "stream",
     "text": [
      "2023-03-20 11:36:27\n",
      "'select()' returned 1:many mapping between keys and columns\n",
      "'select()' returned 1:1 mapping between keys and columns\n",
      "'select()' returned 1:1 mapping between keys and columns\n",
      "'select()' returned 1:1 mapping between keys and columns\n"
     ]
    },
    {
     "name": "stdout",
     "output_type": "stream",
     "text": [
      "[1] 855\n"
     ]
    },
    {
     "name": "stderr",
     "output_type": "stream",
     "text": [
      "2023-03-20 11:36:28\n",
      "'select()' returned 1:many mapping between keys and columns\n",
      "'select()' returned 1:1 mapping between keys and columns\n",
      "'select()' returned 1:1 mapping between keys and columns\n",
      "'select()' returned 1:1 mapping between keys and columns\n"
     ]
    },
    {
     "name": "stdout",
     "output_type": "stream",
     "text": [
      "[1] 856\n"
     ]
    },
    {
     "name": "stderr",
     "output_type": "stream",
     "text": [
      "2023-03-20 11:36:29\n",
      "'select()' returned 1:many mapping between keys and columns\n",
      "'select()' returned 1:1 mapping between keys and columns\n",
      "'select()' returned 1:1 mapping between keys and columns\n",
      "'select()' returned 1:1 mapping between keys and columns\n"
     ]
    },
    {
     "name": "stdout",
     "output_type": "stream",
     "text": [
      "[1] 857\n"
     ]
    },
    {
     "name": "stderr",
     "output_type": "stream",
     "text": [
      "2023-03-20 11:36:31\n",
      "'select()' returned 1:many mapping between keys and columns\n",
      "'select()' returned 1:1 mapping between keys and columns\n",
      "'select()' returned 1:1 mapping between keys and columns\n",
      "'select()' returned 1:1 mapping between keys and columns\n"
     ]
    },
    {
     "name": "stdout",
     "output_type": "stream",
     "text": [
      "[1] 858\n"
     ]
    },
    {
     "name": "stderr",
     "output_type": "stream",
     "text": [
      "2023-03-20 11:36:32\n",
      "'select()' returned 1:many mapping between keys and columns\n",
      "'select()' returned 1:1 mapping between keys and columns\n",
      "'select()' returned 1:1 mapping between keys and columns\n",
      "'select()' returned 1:1 mapping between keys and columns\n"
     ]
    },
    {
     "name": "stdout",
     "output_type": "stream",
     "text": [
      "[1] 859\n"
     ]
    },
    {
     "name": "stderr",
     "output_type": "stream",
     "text": [
      "2023-03-20 11:36:34\n",
      "'select()' returned 1:many mapping between keys and columns\n",
      "'select()' returned 1:1 mapping between keys and columns\n",
      "'select()' returned 1:1 mapping between keys and columns\n",
      "'select()' returned 1:1 mapping between keys and columns\n"
     ]
    },
    {
     "name": "stdout",
     "output_type": "stream",
     "text": [
      "[1] 860\n"
     ]
    },
    {
     "name": "stderr",
     "output_type": "stream",
     "text": [
      "2023-03-20 11:36:35\n",
      "'select()' returned 1:many mapping between keys and columns\n",
      "'select()' returned 1:1 mapping between keys and columns\n",
      "'select()' returned 1:1 mapping between keys and columns\n",
      "'select()' returned 1:1 mapping between keys and columns\n"
     ]
    },
    {
     "name": "stdout",
     "output_type": "stream",
     "text": [
      "[1] 861\n"
     ]
    },
    {
     "name": "stderr",
     "output_type": "stream",
     "text": [
      "2023-03-20 11:36:37\n",
      "'select()' returned 1:many mapping between keys and columns\n",
      "'select()' returned 1:1 mapping between keys and columns\n",
      "'select()' returned 1:1 mapping between keys and columns\n",
      "'select()' returned 1:1 mapping between keys and columns\n"
     ]
    },
    {
     "name": "stdout",
     "output_type": "stream",
     "text": [
      "[1] 862\n"
     ]
    },
    {
     "name": "stderr",
     "output_type": "stream",
     "text": [
      "2023-03-20 11:36:38\n",
      "'select()' returned 1:many mapping between keys and columns\n",
      "'select()' returned 1:1 mapping between keys and columns\n",
      "'select()' returned 1:1 mapping between keys and columns\n",
      "'select()' returned 1:1 mapping between keys and columns\n"
     ]
    },
    {
     "name": "stdout",
     "output_type": "stream",
     "text": [
      "[1] 863\n"
     ]
    },
    {
     "name": "stderr",
     "output_type": "stream",
     "text": [
      "2023-03-20 11:36:40\n",
      "'select()' returned 1:many mapping between keys and columns\n",
      "'select()' returned 1:1 mapping between keys and columns\n",
      "'select()' returned 1:1 mapping between keys and columns\n",
      "'select()' returned 1:1 mapping between keys and columns\n"
     ]
    },
    {
     "name": "stdout",
     "output_type": "stream",
     "text": [
      "[1] 864\n"
     ]
    },
    {
     "name": "stderr",
     "output_type": "stream",
     "text": [
      "2023-03-20 11:36:41\n",
      "'select()' returned 1:many mapping between keys and columns\n",
      "'select()' returned 1:1 mapping between keys and columns\n",
      "'select()' returned 1:1 mapping between keys and columns\n",
      "'select()' returned 1:1 mapping between keys and columns\n"
     ]
    },
    {
     "name": "stdout",
     "output_type": "stream",
     "text": [
      "[1] 865\n"
     ]
    },
    {
     "name": "stderr",
     "output_type": "stream",
     "text": [
      "2023-03-20 11:36:43\n",
      "'select()' returned 1:many mapping between keys and columns\n",
      "'select()' returned 1:1 mapping between keys and columns\n",
      "'select()' returned 1:1 mapping between keys and columns\n",
      "'select()' returned 1:1 mapping between keys and columns\n"
     ]
    },
    {
     "name": "stdout",
     "output_type": "stream",
     "text": [
      "[1] 866\n"
     ]
    },
    {
     "name": "stderr",
     "output_type": "stream",
     "text": [
      "2023-03-20 11:36:44\n",
      "'select()' returned 1:many mapping between keys and columns\n",
      "'select()' returned 1:1 mapping between keys and columns\n",
      "'select()' returned 1:1 mapping between keys and columns\n",
      "'select()' returned 1:1 mapping between keys and columns\n"
     ]
    },
    {
     "name": "stdout",
     "output_type": "stream",
     "text": [
      "[1] 867\n"
     ]
    },
    {
     "name": "stderr",
     "output_type": "stream",
     "text": [
      "2023-03-20 11:36:46\n",
      "'select()' returned 1:many mapping between keys and columns\n",
      "'select()' returned 1:1 mapping between keys and columns\n",
      "'select()' returned 1:1 mapping between keys and columns\n",
      "'select()' returned 1:1 mapping between keys and columns\n"
     ]
    },
    {
     "name": "stdout",
     "output_type": "stream",
     "text": [
      "[1] 868\n"
     ]
    },
    {
     "name": "stderr",
     "output_type": "stream",
     "text": [
      "2023-03-20 11:36:47\n",
      "'select()' returned 1:many mapping between keys and columns\n",
      "'select()' returned 1:1 mapping between keys and columns\n",
      "'select()' returned 1:1 mapping between keys and columns\n",
      "'select()' returned 1:1 mapping between keys and columns\n"
     ]
    },
    {
     "name": "stdout",
     "output_type": "stream",
     "text": [
      "[1] 869\n"
     ]
    },
    {
     "name": "stderr",
     "output_type": "stream",
     "text": [
      "2023-03-20 11:36:48\n",
      "'select()' returned 1:many mapping between keys and columns\n",
      "'select()' returned 1:1 mapping between keys and columns\n",
      "'select()' returned 1:1 mapping between keys and columns\n",
      "'select()' returned 1:1 mapping between keys and columns\n"
     ]
    },
    {
     "name": "stdout",
     "output_type": "stream",
     "text": [
      "[1] 870\n"
     ]
    },
    {
     "name": "stderr",
     "output_type": "stream",
     "text": [
      "2023-03-20 11:36:50\n",
      "'select()' returned 1:many mapping between keys and columns\n",
      "'select()' returned 1:1 mapping between keys and columns\n",
      "'select()' returned 1:1 mapping between keys and columns\n",
      "'select()' returned 1:1 mapping between keys and columns\n"
     ]
    },
    {
     "name": "stdout",
     "output_type": "stream",
     "text": [
      "[1] 871\n"
     ]
    },
    {
     "name": "stderr",
     "output_type": "stream",
     "text": [
      "2023-03-20 11:36:51\n",
      "'select()' returned 1:many mapping between keys and columns\n",
      "'select()' returned 1:1 mapping between keys and columns\n",
      "'select()' returned 1:1 mapping between keys and columns\n",
      "'select()' returned 1:1 mapping between keys and columns\n"
     ]
    },
    {
     "name": "stdout",
     "output_type": "stream",
     "text": [
      "[1] 872\n"
     ]
    },
    {
     "name": "stderr",
     "output_type": "stream",
     "text": [
      "2023-03-20 11:36:53\n",
      "'select()' returned 1:many mapping between keys and columns\n",
      "'select()' returned 1:1 mapping between keys and columns\n",
      "'select()' returned 1:1 mapping between keys and columns\n",
      "'select()' returned 1:1 mapping between keys and columns\n"
     ]
    },
    {
     "name": "stdout",
     "output_type": "stream",
     "text": [
      "[1] 873\n"
     ]
    },
    {
     "name": "stderr",
     "output_type": "stream",
     "text": [
      "2023-03-20 11:36:54\n",
      "'select()' returned 1:many mapping between keys and columns\n",
      "'select()' returned 1:1 mapping between keys and columns\n",
      "'select()' returned 1:1 mapping between keys and columns\n",
      "'select()' returned 1:1 mapping between keys and columns\n"
     ]
    },
    {
     "name": "stdout",
     "output_type": "stream",
     "text": [
      "[1] 874\n"
     ]
    },
    {
     "name": "stderr",
     "output_type": "stream",
     "text": [
      "2023-03-20 11:36:56\n",
      "'select()' returned 1:many mapping between keys and columns\n",
      "'select()' returned 1:1 mapping between keys and columns\n",
      "'select()' returned 1:1 mapping between keys and columns\n",
      "'select()' returned 1:1 mapping between keys and columns\n"
     ]
    },
    {
     "name": "stdout",
     "output_type": "stream",
     "text": [
      "[1] 875\n"
     ]
    },
    {
     "name": "stderr",
     "output_type": "stream",
     "text": [
      "2023-03-20 11:36:57\n",
      "'select()' returned 1:many mapping between keys and columns\n",
      "'select()' returned 1:1 mapping between keys and columns\n",
      "'select()' returned 1:1 mapping between keys and columns\n",
      "'select()' returned 1:1 mapping between keys and columns\n"
     ]
    },
    {
     "name": "stdout",
     "output_type": "stream",
     "text": [
      "[1] 876\n"
     ]
    },
    {
     "name": "stderr",
     "output_type": "stream",
     "text": [
      "2023-03-20 11:36:59\n",
      "'select()' returned 1:many mapping between keys and columns\n",
      "'select()' returned 1:1 mapping between keys and columns\n",
      "'select()' returned 1:1 mapping between keys and columns\n",
      "'select()' returned 1:1 mapping between keys and columns\n"
     ]
    },
    {
     "name": "stdout",
     "output_type": "stream",
     "text": [
      "[1] 877\n"
     ]
    },
    {
     "name": "stderr",
     "output_type": "stream",
     "text": [
      "2023-03-20 11:37:00\n",
      "'select()' returned 1:many mapping between keys and columns\n",
      "'select()' returned 1:1 mapping between keys and columns\n",
      "'select()' returned 1:1 mapping between keys and columns\n",
      "'select()' returned 1:1 mapping between keys and columns\n"
     ]
    },
    {
     "name": "stdout",
     "output_type": "stream",
     "text": [
      "[1] 878\n"
     ]
    },
    {
     "name": "stderr",
     "output_type": "stream",
     "text": [
      "2023-03-20 11:37:02\n",
      "'select()' returned 1:many mapping between keys and columns\n",
      "'select()' returned 1:1 mapping between keys and columns\n",
      "'select()' returned 1:1 mapping between keys and columns\n",
      "'select()' returned 1:1 mapping between keys and columns\n"
     ]
    },
    {
     "name": "stdout",
     "output_type": "stream",
     "text": [
      "[1] 879\n"
     ]
    },
    {
     "name": "stderr",
     "output_type": "stream",
     "text": [
      "2023-03-20 11:37:03\n",
      "'select()' returned 1:many mapping between keys and columns\n",
      "'select()' returned 1:1 mapping between keys and columns\n",
      "'select()' returned 1:1 mapping between keys and columns\n",
      "'select()' returned 1:1 mapping between keys and columns\n"
     ]
    },
    {
     "name": "stdout",
     "output_type": "stream",
     "text": [
      "[1] 880\n"
     ]
    },
    {
     "name": "stderr",
     "output_type": "stream",
     "text": [
      "2023-03-20 11:37:04\n",
      "'select()' returned 1:many mapping between keys and columns\n",
      "'select()' returned 1:1 mapping between keys and columns\n",
      "'select()' returned 1:1 mapping between keys and columns\n",
      "'select()' returned 1:1 mapping between keys and columns\n"
     ]
    },
    {
     "name": "stdout",
     "output_type": "stream",
     "text": [
      "[1] 881\n"
     ]
    },
    {
     "name": "stderr",
     "output_type": "stream",
     "text": [
      "2023-03-20 11:37:06\n",
      "'select()' returned 1:many mapping between keys and columns\n",
      "'select()' returned 1:1 mapping between keys and columns\n",
      "'select()' returned 1:1 mapping between keys and columns\n",
      "'select()' returned 1:1 mapping between keys and columns\n"
     ]
    },
    {
     "name": "stdout",
     "output_type": "stream",
     "text": [
      "[1] 882\n"
     ]
    },
    {
     "name": "stderr",
     "output_type": "stream",
     "text": [
      "2023-03-20 11:37:07\n",
      "'select()' returned 1:many mapping between keys and columns\n",
      "'select()' returned 1:1 mapping between keys and columns\n",
      "'select()' returned 1:1 mapping between keys and columns\n",
      "'select()' returned 1:1 mapping between keys and columns\n"
     ]
    },
    {
     "name": "stdout",
     "output_type": "stream",
     "text": [
      "[1] 883\n"
     ]
    },
    {
     "name": "stderr",
     "output_type": "stream",
     "text": [
      "2023-03-20 11:37:09\n",
      "'select()' returned 1:many mapping between keys and columns\n",
      "'select()' returned 1:1 mapping between keys and columns\n",
      "'select()' returned 1:1 mapping between keys and columns\n",
      "'select()' returned 1:1 mapping between keys and columns\n"
     ]
    },
    {
     "name": "stdout",
     "output_type": "stream",
     "text": [
      "[1] 884\n"
     ]
    },
    {
     "name": "stderr",
     "output_type": "stream",
     "text": [
      "2023-03-20 11:37:11\n",
      "'select()' returned 1:many mapping between keys and columns\n",
      "'select()' returned 1:1 mapping between keys and columns\n",
      "'select()' returned 1:1 mapping between keys and columns\n",
      "'select()' returned 1:1 mapping between keys and columns\n"
     ]
    },
    {
     "name": "stdout",
     "output_type": "stream",
     "text": [
      "[1] 885\n"
     ]
    },
    {
     "name": "stderr",
     "output_type": "stream",
     "text": [
      "2023-03-20 11:37:12\n",
      "'select()' returned 1:many mapping between keys and columns\n",
      "'select()' returned 1:1 mapping between keys and columns\n",
      "'select()' returned 1:1 mapping between keys and columns\n",
      "'select()' returned 1:1 mapping between keys and columns\n"
     ]
    },
    {
     "name": "stdout",
     "output_type": "stream",
     "text": [
      "[1] 886\n"
     ]
    },
    {
     "name": "stderr",
     "output_type": "stream",
     "text": [
      "2023-03-20 11:37:14\n",
      "'select()' returned 1:many mapping between keys and columns\n",
      "'select()' returned 1:1 mapping between keys and columns\n",
      "'select()' returned 1:1 mapping between keys and columns\n",
      "'select()' returned 1:1 mapping between keys and columns\n"
     ]
    },
    {
     "name": "stdout",
     "output_type": "stream",
     "text": [
      "[1] 887\n"
     ]
    },
    {
     "name": "stderr",
     "output_type": "stream",
     "text": [
      "2023-03-20 11:37:15\n",
      "'select()' returned 1:many mapping between keys and columns\n",
      "'select()' returned 1:1 mapping between keys and columns\n",
      "'select()' returned 1:1 mapping between keys and columns\n",
      "'select()' returned 1:1 mapping between keys and columns\n"
     ]
    },
    {
     "name": "stdout",
     "output_type": "stream",
     "text": [
      "[1] 888\n"
     ]
    },
    {
     "name": "stderr",
     "output_type": "stream",
     "text": [
      "2023-03-20 11:37:16\n",
      "'select()' returned 1:many mapping between keys and columns\n",
      "'select()' returned 1:1 mapping between keys and columns\n",
      "'select()' returned 1:1 mapping between keys and columns\n",
      "'select()' returned 1:1 mapping between keys and columns\n"
     ]
    },
    {
     "name": "stdout",
     "output_type": "stream",
     "text": [
      "[1] 889\n"
     ]
    },
    {
     "name": "stderr",
     "output_type": "stream",
     "text": [
      "2023-03-20 11:37:18\n",
      "'select()' returned 1:many mapping between keys and columns\n",
      "'select()' returned 1:1 mapping between keys and columns\n",
      "'select()' returned 1:1 mapping between keys and columns\n",
      "'select()' returned 1:1 mapping between keys and columns\n"
     ]
    },
    {
     "name": "stdout",
     "output_type": "stream",
     "text": [
      "[1] 890\n"
     ]
    },
    {
     "name": "stderr",
     "output_type": "stream",
     "text": [
      "2023-03-20 11:37:19\n",
      "'select()' returned 1:many mapping between keys and columns\n",
      "'select()' returned 1:1 mapping between keys and columns\n",
      "'select()' returned 1:1 mapping between keys and columns\n",
      "'select()' returned 1:1 mapping between keys and columns\n"
     ]
    },
    {
     "name": "stdout",
     "output_type": "stream",
     "text": [
      "[1] 891\n"
     ]
    },
    {
     "name": "stderr",
     "output_type": "stream",
     "text": [
      "2023-03-20 11:37:21\n",
      "'select()' returned 1:many mapping between keys and columns\n",
      "'select()' returned 1:1 mapping between keys and columns\n",
      "'select()' returned 1:1 mapping between keys and columns\n",
      "'select()' returned 1:1 mapping between keys and columns\n"
     ]
    },
    {
     "name": "stdout",
     "output_type": "stream",
     "text": [
      "[1] 892\n"
     ]
    },
    {
     "name": "stderr",
     "output_type": "stream",
     "text": [
      "2023-03-20 11:37:22\n",
      "'select()' returned 1:many mapping between keys and columns\n",
      "'select()' returned 1:1 mapping between keys and columns\n",
      "'select()' returned 1:1 mapping between keys and columns\n",
      "'select()' returned 1:1 mapping between keys and columns\n"
     ]
    },
    {
     "name": "stdout",
     "output_type": "stream",
     "text": [
      "[1] 893\n"
     ]
    },
    {
     "name": "stderr",
     "output_type": "stream",
     "text": [
      "2023-03-20 11:37:24\n",
      "'select()' returned 1:many mapping between keys and columns\n",
      "'select()' returned 1:1 mapping between keys and columns\n",
      "'select()' returned 1:1 mapping between keys and columns\n",
      "'select()' returned 1:1 mapping between keys and columns\n"
     ]
    },
    {
     "name": "stdout",
     "output_type": "stream",
     "text": [
      "[1] 894\n"
     ]
    },
    {
     "name": "stderr",
     "output_type": "stream",
     "text": [
      "2023-03-20 11:37:25\n",
      "'select()' returned 1:many mapping between keys and columns\n",
      "'select()' returned 1:1 mapping between keys and columns\n",
      "'select()' returned 1:1 mapping between keys and columns\n",
      "'select()' returned 1:1 mapping between keys and columns\n"
     ]
    },
    {
     "name": "stdout",
     "output_type": "stream",
     "text": [
      "[1] 895\n"
     ]
    },
    {
     "name": "stderr",
     "output_type": "stream",
     "text": [
      "2023-03-20 11:37:26\n",
      "'select()' returned 1:many mapping between keys and columns\n",
      "'select()' returned 1:1 mapping between keys and columns\n",
      "'select()' returned 1:1 mapping between keys and columns\n",
      "'select()' returned 1:1 mapping between keys and columns\n"
     ]
    },
    {
     "name": "stdout",
     "output_type": "stream",
     "text": [
      "[1] 896\n"
     ]
    },
    {
     "name": "stderr",
     "output_type": "stream",
     "text": [
      "2023-03-20 11:37:28\n",
      "'select()' returned 1:many mapping between keys and columns\n",
      "'select()' returned 1:1 mapping between keys and columns\n",
      "'select()' returned 1:1 mapping between keys and columns\n",
      "'select()' returned 1:1 mapping between keys and columns\n"
     ]
    },
    {
     "name": "stdout",
     "output_type": "stream",
     "text": [
      "[1] 897\n"
     ]
    },
    {
     "name": "stderr",
     "output_type": "stream",
     "text": [
      "2023-03-20 11:37:29\n",
      "'select()' returned 1:many mapping between keys and columns\n",
      "'select()' returned 1:1 mapping between keys and columns\n",
      "'select()' returned 1:1 mapping between keys and columns\n",
      "'select()' returned 1:1 mapping between keys and columns\n"
     ]
    },
    {
     "name": "stdout",
     "output_type": "stream",
     "text": [
      "[1] 898\n"
     ]
    },
    {
     "name": "stderr",
     "output_type": "stream",
     "text": [
      "2023-03-20 11:37:31\n",
      "'select()' returned 1:many mapping between keys and columns\n",
      "'select()' returned 1:1 mapping between keys and columns\n",
      "'select()' returned 1:1 mapping between keys and columns\n",
      "'select()' returned 1:1 mapping between keys and columns\n"
     ]
    },
    {
     "name": "stdout",
     "output_type": "stream",
     "text": [
      "[1] 899\n"
     ]
    },
    {
     "name": "stderr",
     "output_type": "stream",
     "text": [
      "2023-03-20 11:37:33\n",
      "'select()' returned 1:many mapping between keys and columns\n",
      "'select()' returned 1:1 mapping between keys and columns\n",
      "'select()' returned 1:1 mapping between keys and columns\n",
      "'select()' returned 1:1 mapping between keys and columns\n"
     ]
    },
    {
     "name": "stdout",
     "output_type": "stream",
     "text": [
      "[1] 900\n"
     ]
    },
    {
     "name": "stderr",
     "output_type": "stream",
     "text": [
      "2023-03-20 11:37:34\n",
      "'select()' returned 1:many mapping between keys and columns\n",
      "'select()' returned 1:1 mapping between keys and columns\n",
      "'select()' returned 1:1 mapping between keys and columns\n",
      "'select()' returned 1:1 mapping between keys and columns\n"
     ]
    },
    {
     "name": "stdout",
     "output_type": "stream",
     "text": [
      "[1] 901\n"
     ]
    },
    {
     "name": "stderr",
     "output_type": "stream",
     "text": [
      "2023-03-20 11:37:35\n",
      "'select()' returned 1:many mapping between keys and columns\n",
      "'select()' returned 1:1 mapping between keys and columns\n",
      "'select()' returned 1:1 mapping between keys and columns\n",
      "'select()' returned 1:1 mapping between keys and columns\n"
     ]
    },
    {
     "name": "stdout",
     "output_type": "stream",
     "text": [
      "[1] 902\n"
     ]
    },
    {
     "name": "stderr",
     "output_type": "stream",
     "text": [
      "2023-03-20 11:37:36\n",
      "'select()' returned 1:many mapping between keys and columns\n",
      "'select()' returned 1:1 mapping between keys and columns\n",
      "'select()' returned 1:1 mapping between keys and columns\n",
      "'select()' returned 1:1 mapping between keys and columns\n"
     ]
    },
    {
     "name": "stdout",
     "output_type": "stream",
     "text": [
      "[1] 903\n"
     ]
    },
    {
     "name": "stderr",
     "output_type": "stream",
     "text": [
      "2023-03-20 11:37:38\n",
      "'select()' returned 1:many mapping between keys and columns\n",
      "'select()' returned 1:1 mapping between keys and columns\n",
      "'select()' returned 1:1 mapping between keys and columns\n",
      "'select()' returned 1:1 mapping between keys and columns\n"
     ]
    },
    {
     "name": "stdout",
     "output_type": "stream",
     "text": [
      "[1] 904\n"
     ]
    },
    {
     "name": "stderr",
     "output_type": "stream",
     "text": [
      "2023-03-20 11:37:40\n",
      "'select()' returned 1:many mapping between keys and columns\n",
      "'select()' returned 1:1 mapping between keys and columns\n",
      "'select()' returned 1:1 mapping between keys and columns\n",
      "'select()' returned 1:1 mapping between keys and columns\n"
     ]
    },
    {
     "name": "stdout",
     "output_type": "stream",
     "text": [
      "[1] 905\n"
     ]
    },
    {
     "name": "stderr",
     "output_type": "stream",
     "text": [
      "2023-03-20 11:37:41\n",
      "'select()' returned 1:many mapping between keys and columns\n",
      "'select()' returned 1:1 mapping between keys and columns\n",
      "'select()' returned 1:1 mapping between keys and columns\n",
      "'select()' returned 1:1 mapping between keys and columns\n"
     ]
    },
    {
     "name": "stdout",
     "output_type": "stream",
     "text": [
      "[1] 906\n"
     ]
    },
    {
     "name": "stderr",
     "output_type": "stream",
     "text": [
      "2023-03-20 11:37:42\n",
      "'select()' returned 1:many mapping between keys and columns\n",
      "'select()' returned 1:1 mapping between keys and columns\n",
      "'select()' returned 1:1 mapping between keys and columns\n",
      "'select()' returned 1:1 mapping between keys and columns\n"
     ]
    },
    {
     "name": "stdout",
     "output_type": "stream",
     "text": [
      "[1] 907\n"
     ]
    },
    {
     "name": "stderr",
     "output_type": "stream",
     "text": [
      "2023-03-20 11:37:44\n",
      "'select()' returned 1:many mapping between keys and columns\n",
      "'select()' returned 1:1 mapping between keys and columns\n",
      "'select()' returned 1:1 mapping between keys and columns\n",
      "'select()' returned 1:1 mapping between keys and columns\n"
     ]
    },
    {
     "name": "stdout",
     "output_type": "stream",
     "text": [
      "[1] 908\n"
     ]
    },
    {
     "name": "stderr",
     "output_type": "stream",
     "text": [
      "2023-03-20 11:37:45\n",
      "'select()' returned 1:many mapping between keys and columns\n",
      "'select()' returned 1:1 mapping between keys and columns\n",
      "'select()' returned 1:1 mapping between keys and columns\n",
      "'select()' returned 1:1 mapping between keys and columns\n"
     ]
    },
    {
     "name": "stdout",
     "output_type": "stream",
     "text": [
      "[1] 909\n"
     ]
    },
    {
     "name": "stderr",
     "output_type": "stream",
     "text": [
      "2023-03-20 11:37:47\n",
      "'select()' returned 1:many mapping between keys and columns\n",
      "'select()' returned 1:1 mapping between keys and columns\n",
      "'select()' returned 1:1 mapping between keys and columns\n",
      "'select()' returned 1:1 mapping between keys and columns\n"
     ]
    },
    {
     "name": "stdout",
     "output_type": "stream",
     "text": [
      "[1] 910\n"
     ]
    },
    {
     "name": "stderr",
     "output_type": "stream",
     "text": [
      "2023-03-20 11:37:48\n",
      "'select()' returned 1:many mapping between keys and columns\n",
      "'select()' returned 1:1 mapping between keys and columns\n",
      "'select()' returned 1:1 mapping between keys and columns\n",
      "'select()' returned 1:1 mapping between keys and columns\n"
     ]
    },
    {
     "name": "stdout",
     "output_type": "stream",
     "text": [
      "[1] 911\n"
     ]
    },
    {
     "name": "stderr",
     "output_type": "stream",
     "text": [
      "2023-03-20 11:37:50\n",
      "'select()' returned 1:many mapping between keys and columns\n",
      "'select()' returned 1:1 mapping between keys and columns\n",
      "'select()' returned 1:1 mapping between keys and columns\n",
      "'select()' returned 1:1 mapping between keys and columns\n"
     ]
    },
    {
     "name": "stdout",
     "output_type": "stream",
     "text": [
      "[1] 912\n"
     ]
    },
    {
     "name": "stderr",
     "output_type": "stream",
     "text": [
      "2023-03-20 11:37:51\n",
      "'select()' returned 1:many mapping between keys and columns\n",
      "'select()' returned 1:1 mapping between keys and columns\n",
      "'select()' returned 1:1 mapping between keys and columns\n",
      "'select()' returned 1:1 mapping between keys and columns\n"
     ]
    },
    {
     "name": "stdout",
     "output_type": "stream",
     "text": [
      "[1] 913\n"
     ]
    },
    {
     "name": "stderr",
     "output_type": "stream",
     "text": [
      "2023-03-20 11:37:53\n",
      "'select()' returned 1:many mapping between keys and columns\n",
      "'select()' returned 1:1 mapping between keys and columns\n",
      "'select()' returned 1:1 mapping between keys and columns\n",
      "'select()' returned 1:1 mapping between keys and columns\n"
     ]
    },
    {
     "name": "stdout",
     "output_type": "stream",
     "text": [
      "[1] 914\n"
     ]
    },
    {
     "name": "stderr",
     "output_type": "stream",
     "text": [
      "2023-03-20 11:37:54\n",
      "'select()' returned 1:many mapping between keys and columns\n",
      "'select()' returned 1:1 mapping between keys and columns\n",
      "'select()' returned 1:1 mapping between keys and columns\n",
      "'select()' returned 1:1 mapping between keys and columns\n"
     ]
    },
    {
     "name": "stdout",
     "output_type": "stream",
     "text": [
      "[1] 915\n"
     ]
    },
    {
     "name": "stderr",
     "output_type": "stream",
     "text": [
      "2023-03-20 11:37:56\n",
      "'select()' returned 1:many mapping between keys and columns\n",
      "'select()' returned 1:1 mapping between keys and columns\n",
      "'select()' returned 1:1 mapping between keys and columns\n",
      "'select()' returned 1:1 mapping between keys and columns\n"
     ]
    },
    {
     "name": "stdout",
     "output_type": "stream",
     "text": [
      "[1] 916\n"
     ]
    },
    {
     "name": "stderr",
     "output_type": "stream",
     "text": [
      "2023-03-20 11:37:57\n",
      "'select()' returned 1:many mapping between keys and columns\n",
      "'select()' returned 1:1 mapping between keys and columns\n",
      "'select()' returned 1:1 mapping between keys and columns\n",
      "'select()' returned 1:1 mapping between keys and columns\n"
     ]
    },
    {
     "name": "stdout",
     "output_type": "stream",
     "text": [
      "[1] 917\n"
     ]
    },
    {
     "name": "stderr",
     "output_type": "stream",
     "text": [
      "2023-03-20 11:37:59\n",
      "'select()' returned 1:many mapping between keys and columns\n",
      "'select()' returned 1:1 mapping between keys and columns\n",
      "'select()' returned 1:1 mapping between keys and columns\n",
      "'select()' returned 1:1 mapping between keys and columns\n"
     ]
    },
    {
     "name": "stdout",
     "output_type": "stream",
     "text": [
      "[1] 918\n"
     ]
    },
    {
     "name": "stderr",
     "output_type": "stream",
     "text": [
      "2023-03-20 11:38:00\n",
      "'select()' returned 1:many mapping between keys and columns\n",
      "'select()' returned 1:1 mapping between keys and columns\n",
      "'select()' returned 1:1 mapping between keys and columns\n",
      "'select()' returned 1:1 mapping between keys and columns\n"
     ]
    },
    {
     "name": "stdout",
     "output_type": "stream",
     "text": [
      "[1] 919\n"
     ]
    },
    {
     "name": "stderr",
     "output_type": "stream",
     "text": [
      "2023-03-20 11:38:02\n",
      "'select()' returned 1:many mapping between keys and columns\n",
      "'select()' returned 1:1 mapping between keys and columns\n",
      "'select()' returned 1:1 mapping between keys and columns\n",
      "'select()' returned 1:1 mapping between keys and columns\n"
     ]
    },
    {
     "name": "stdout",
     "output_type": "stream",
     "text": [
      "[1] 920\n"
     ]
    },
    {
     "name": "stderr",
     "output_type": "stream",
     "text": [
      "2023-03-20 11:38:03\n",
      "'select()' returned 1:many mapping between keys and columns\n",
      "'select()' returned 1:1 mapping between keys and columns\n",
      "'select()' returned 1:1 mapping between keys and columns\n",
      "'select()' returned 1:1 mapping between keys and columns\n"
     ]
    },
    {
     "name": "stdout",
     "output_type": "stream",
     "text": [
      "[1] 921\n"
     ]
    },
    {
     "name": "stderr",
     "output_type": "stream",
     "text": [
      "2023-03-20 11:38:04\n",
      "'select()' returned 1:many mapping between keys and columns\n",
      "'select()' returned 1:1 mapping between keys and columns\n",
      "'select()' returned 1:1 mapping between keys and columns\n",
      "'select()' returned 1:1 mapping between keys and columns\n"
     ]
    },
    {
     "name": "stdout",
     "output_type": "stream",
     "text": [
      "[1] 922\n"
     ]
    },
    {
     "name": "stderr",
     "output_type": "stream",
     "text": [
      "2023-03-20 11:38:06\n",
      "'select()' returned 1:many mapping between keys and columns\n",
      "'select()' returned 1:1 mapping between keys and columns\n",
      "'select()' returned 1:1 mapping between keys and columns\n",
      "'select()' returned 1:1 mapping between keys and columns\n"
     ]
    },
    {
     "name": "stdout",
     "output_type": "stream",
     "text": [
      "[1] 923\n"
     ]
    },
    {
     "name": "stderr",
     "output_type": "stream",
     "text": [
      "2023-03-20 11:38:07\n",
      "'select()' returned 1:many mapping between keys and columns\n",
      "'select()' returned 1:1 mapping between keys and columns\n",
      "'select()' returned 1:1 mapping between keys and columns\n",
      "'select()' returned 1:1 mapping between keys and columns\n"
     ]
    },
    {
     "name": "stdout",
     "output_type": "stream",
     "text": [
      "[1] 924\n"
     ]
    },
    {
     "name": "stderr",
     "output_type": "stream",
     "text": [
      "2023-03-20 11:38:09\n",
      "'select()' returned 1:many mapping between keys and columns\n",
      "'select()' returned 1:1 mapping between keys and columns\n",
      "'select()' returned 1:1 mapping between keys and columns\n",
      "'select()' returned 1:1 mapping between keys and columns\n"
     ]
    },
    {
     "name": "stdout",
     "output_type": "stream",
     "text": [
      "[1] 925\n"
     ]
    },
    {
     "name": "stderr",
     "output_type": "stream",
     "text": [
      "2023-03-20 11:38:10\n",
      "'select()' returned 1:many mapping between keys and columns\n",
      "'select()' returned 1:1 mapping between keys and columns\n",
      "'select()' returned 1:1 mapping between keys and columns\n",
      "'select()' returned 1:1 mapping between keys and columns\n"
     ]
    },
    {
     "name": "stdout",
     "output_type": "stream",
     "text": [
      "[1] 926\n"
     ]
    },
    {
     "name": "stderr",
     "output_type": "stream",
     "text": [
      "2023-03-20 11:38:12\n",
      "'select()' returned 1:many mapping between keys and columns\n",
      "'select()' returned 1:1 mapping between keys and columns\n",
      "'select()' returned 1:1 mapping between keys and columns\n",
      "'select()' returned 1:1 mapping between keys and columns\n"
     ]
    },
    {
     "name": "stdout",
     "output_type": "stream",
     "text": [
      "[1] 927\n"
     ]
    },
    {
     "name": "stderr",
     "output_type": "stream",
     "text": [
      "2023-03-20 11:38:13\n",
      "'select()' returned 1:many mapping between keys and columns\n",
      "'select()' returned 1:1 mapping between keys and columns\n",
      "'select()' returned 1:1 mapping between keys and columns\n",
      "'select()' returned 1:1 mapping between keys and columns\n"
     ]
    },
    {
     "name": "stdout",
     "output_type": "stream",
     "text": [
      "[1] 928\n"
     ]
    },
    {
     "name": "stderr",
     "output_type": "stream",
     "text": [
      "2023-03-20 11:38:14\n",
      "'select()' returned 1:many mapping between keys and columns\n",
      "'select()' returned 1:1 mapping between keys and columns\n",
      "'select()' returned 1:1 mapping between keys and columns\n",
      "'select()' returned 1:1 mapping between keys and columns\n"
     ]
    },
    {
     "name": "stdout",
     "output_type": "stream",
     "text": [
      "[1] 929\n"
     ]
    },
    {
     "name": "stderr",
     "output_type": "stream",
     "text": [
      "2023-03-20 11:38:16\n",
      "'select()' returned 1:many mapping between keys and columns\n",
      "'select()' returned 1:1 mapping between keys and columns\n",
      "'select()' returned 1:1 mapping between keys and columns\n",
      "'select()' returned 1:1 mapping between keys and columns\n"
     ]
    },
    {
     "name": "stdout",
     "output_type": "stream",
     "text": [
      "[1] 930\n"
     ]
    },
    {
     "name": "stderr",
     "output_type": "stream",
     "text": [
      "2023-03-20 11:38:17\n",
      "'select()' returned 1:many mapping between keys and columns\n",
      "'select()' returned 1:1 mapping between keys and columns\n",
      "'select()' returned 1:1 mapping between keys and columns\n",
      "'select()' returned 1:1 mapping between keys and columns\n"
     ]
    },
    {
     "name": "stdout",
     "output_type": "stream",
     "text": [
      "[1] 931\n"
     ]
    },
    {
     "name": "stderr",
     "output_type": "stream",
     "text": [
      "2023-03-20 11:38:19\n",
      "'select()' returned 1:many mapping between keys and columns\n",
      "'select()' returned 1:1 mapping between keys and columns\n",
      "'select()' returned 1:1 mapping between keys and columns\n",
      "'select()' returned 1:1 mapping between keys and columns\n"
     ]
    },
    {
     "name": "stdout",
     "output_type": "stream",
     "text": [
      "[1] 932\n"
     ]
    },
    {
     "name": "stderr",
     "output_type": "stream",
     "text": [
      "2023-03-20 11:38:20\n",
      "'select()' returned 1:many mapping between keys and columns\n",
      "'select()' returned 1:1 mapping between keys and columns\n",
      "'select()' returned 1:1 mapping between keys and columns\n",
      "'select()' returned 1:1 mapping between keys and columns\n"
     ]
    },
    {
     "name": "stdout",
     "output_type": "stream",
     "text": [
      "[1] 933\n"
     ]
    },
    {
     "name": "stderr",
     "output_type": "stream",
     "text": [
      "2023-03-20 11:38:22\n",
      "'select()' returned 1:many mapping between keys and columns\n",
      "'select()' returned 1:1 mapping between keys and columns\n",
      "'select()' returned 1:1 mapping between keys and columns\n",
      "'select()' returned 1:1 mapping between keys and columns\n"
     ]
    },
    {
     "name": "stdout",
     "output_type": "stream",
     "text": [
      "[1] 934\n"
     ]
    },
    {
     "name": "stderr",
     "output_type": "stream",
     "text": [
      "2023-03-20 11:38:23\n",
      "'select()' returned 1:many mapping between keys and columns\n",
      "'select()' returned 1:1 mapping between keys and columns\n",
      "'select()' returned 1:1 mapping between keys and columns\n",
      "'select()' returned 1:1 mapping between keys and columns\n"
     ]
    },
    {
     "name": "stdout",
     "output_type": "stream",
     "text": [
      "[1] 935\n"
     ]
    },
    {
     "name": "stderr",
     "output_type": "stream",
     "text": [
      "2023-03-20 11:38:25\n",
      "'select()' returned 1:many mapping between keys and columns\n",
      "'select()' returned 1:1 mapping between keys and columns\n",
      "'select()' returned 1:1 mapping between keys and columns\n",
      "'select()' returned 1:1 mapping between keys and columns\n"
     ]
    },
    {
     "name": "stdout",
     "output_type": "stream",
     "text": [
      "[1] 936\n"
     ]
    },
    {
     "name": "stderr",
     "output_type": "stream",
     "text": [
      "2023-03-20 11:38:26\n",
      "'select()' returned 1:many mapping between keys and columns\n",
      "'select()' returned 1:1 mapping between keys and columns\n",
      "'select()' returned 1:1 mapping between keys and columns\n",
      "'select()' returned 1:1 mapping between keys and columns\n"
     ]
    },
    {
     "name": "stdout",
     "output_type": "stream",
     "text": [
      "[1] 937\n"
     ]
    },
    {
     "name": "stderr",
     "output_type": "stream",
     "text": [
      "2023-03-20 11:38:27\n",
      "'select()' returned 1:many mapping between keys and columns\n",
      "'select()' returned 1:1 mapping between keys and columns\n",
      "'select()' returned 1:1 mapping between keys and columns\n",
      "'select()' returned 1:1 mapping between keys and columns\n"
     ]
    },
    {
     "name": "stdout",
     "output_type": "stream",
     "text": [
      "[1] 938\n"
     ]
    },
    {
     "name": "stderr",
     "output_type": "stream",
     "text": [
      "2023-03-20 11:38:29\n",
      "'select()' returned 1:many mapping between keys and columns\n",
      "'select()' returned 1:1 mapping between keys and columns\n",
      "'select()' returned 1:1 mapping between keys and columns\n",
      "'select()' returned 1:1 mapping between keys and columns\n"
     ]
    },
    {
     "name": "stdout",
     "output_type": "stream",
     "text": [
      "[1] 939\n"
     ]
    },
    {
     "name": "stderr",
     "output_type": "stream",
     "text": [
      "2023-03-20 11:38:30\n",
      "'select()' returned 1:many mapping between keys and columns\n",
      "'select()' returned 1:1 mapping between keys and columns\n",
      "'select()' returned 1:1 mapping between keys and columns\n",
      "'select()' returned 1:1 mapping between keys and columns\n"
     ]
    },
    {
     "name": "stdout",
     "output_type": "stream",
     "text": [
      "[1] 940\n"
     ]
    },
    {
     "name": "stderr",
     "output_type": "stream",
     "text": [
      "2023-03-20 11:38:32\n",
      "'select()' returned 1:many mapping between keys and columns\n",
      "'select()' returned 1:1 mapping between keys and columns\n",
      "'select()' returned 1:1 mapping between keys and columns\n",
      "'select()' returned 1:1 mapping between keys and columns\n"
     ]
    },
    {
     "name": "stdout",
     "output_type": "stream",
     "text": [
      "[1] 941\n"
     ]
    },
    {
     "name": "stderr",
     "output_type": "stream",
     "text": [
      "2023-03-20 11:38:33\n",
      "'select()' returned 1:many mapping between keys and columns\n",
      "'select()' returned 1:1 mapping between keys and columns\n",
      "'select()' returned 1:1 mapping between keys and columns\n",
      "'select()' returned 1:1 mapping between keys and columns\n"
     ]
    },
    {
     "name": "stdout",
     "output_type": "stream",
     "text": [
      "[1] 942\n"
     ]
    },
    {
     "name": "stderr",
     "output_type": "stream",
     "text": [
      "2023-03-20 11:38:34\n",
      "'select()' returned 1:many mapping between keys and columns\n",
      "'select()' returned 1:1 mapping between keys and columns\n",
      "'select()' returned 1:1 mapping between keys and columns\n",
      "'select()' returned 1:1 mapping between keys and columns\n"
     ]
    },
    {
     "name": "stdout",
     "output_type": "stream",
     "text": [
      "[1] 943\n"
     ]
    },
    {
     "name": "stderr",
     "output_type": "stream",
     "text": [
      "2023-03-20 11:38:36\n",
      "'select()' returned 1:many mapping between keys and columns\n",
      "'select()' returned 1:1 mapping between keys and columns\n",
      "'select()' returned 1:1 mapping between keys and columns\n",
      "'select()' returned 1:1 mapping between keys and columns\n"
     ]
    },
    {
     "name": "stdout",
     "output_type": "stream",
     "text": [
      "[1] 944\n"
     ]
    },
    {
     "name": "stderr",
     "output_type": "stream",
     "text": [
      "2023-03-20 11:38:37\n",
      "'select()' returned 1:many mapping between keys and columns\n",
      "'select()' returned 1:1 mapping between keys and columns\n",
      "'select()' returned 1:1 mapping between keys and columns\n",
      "'select()' returned 1:1 mapping between keys and columns\n"
     ]
    },
    {
     "name": "stdout",
     "output_type": "stream",
     "text": [
      "[1] 945\n"
     ]
    },
    {
     "name": "stderr",
     "output_type": "stream",
     "text": [
      "2023-03-20 11:38:39\n",
      "'select()' returned 1:many mapping between keys and columns\n",
      "'select()' returned 1:1 mapping between keys and columns\n",
      "'select()' returned 1:1 mapping between keys and columns\n",
      "'select()' returned 1:1 mapping between keys and columns\n"
     ]
    },
    {
     "name": "stdout",
     "output_type": "stream",
     "text": [
      "[1] 946\n"
     ]
    },
    {
     "name": "stderr",
     "output_type": "stream",
     "text": [
      "2023-03-20 11:38:40\n",
      "'select()' returned 1:many mapping between keys and columns\n",
      "'select()' returned 1:1 mapping between keys and columns\n",
      "'select()' returned 1:1 mapping between keys and columns\n",
      "'select()' returned 1:1 mapping between keys and columns\n"
     ]
    },
    {
     "name": "stdout",
     "output_type": "stream",
     "text": [
      "[1] 947\n"
     ]
    },
    {
     "name": "stderr",
     "output_type": "stream",
     "text": [
      "2023-03-20 11:38:42\n",
      "'select()' returned 1:many mapping between keys and columns\n",
      "'select()' returned 1:1 mapping between keys and columns\n",
      "'select()' returned 1:1 mapping between keys and columns\n",
      "'select()' returned 1:1 mapping between keys and columns\n"
     ]
    },
    {
     "name": "stdout",
     "output_type": "stream",
     "text": [
      "[1] 948\n"
     ]
    },
    {
     "name": "stderr",
     "output_type": "stream",
     "text": [
      "2023-03-20 11:38:43\n",
      "'select()' returned 1:many mapping between keys and columns\n",
      "'select()' returned 1:1 mapping between keys and columns\n",
      "'select()' returned 1:1 mapping between keys and columns\n",
      "'select()' returned 1:1 mapping between keys and columns\n"
     ]
    },
    {
     "name": "stdout",
     "output_type": "stream",
     "text": [
      "[1] 949\n"
     ]
    },
    {
     "name": "stderr",
     "output_type": "stream",
     "text": [
      "2023-03-20 11:38:45\n",
      "'select()' returned 1:many mapping between keys and columns\n",
      "'select()' returned 1:1 mapping between keys and columns\n",
      "'select()' returned 1:1 mapping between keys and columns\n",
      "'select()' returned 1:1 mapping between keys and columns\n"
     ]
    },
    {
     "name": "stdout",
     "output_type": "stream",
     "text": [
      "[1] 950\n"
     ]
    },
    {
     "name": "stderr",
     "output_type": "stream",
     "text": [
      "2023-03-20 11:38:46\n",
      "'select()' returned 1:many mapping between keys and columns\n",
      "'select()' returned 1:1 mapping between keys and columns\n",
      "'select()' returned 1:1 mapping between keys and columns\n",
      "'select()' returned 1:1 mapping between keys and columns\n"
     ]
    },
    {
     "name": "stdout",
     "output_type": "stream",
     "text": [
      "[1] 951\n"
     ]
    },
    {
     "name": "stderr",
     "output_type": "stream",
     "text": [
      "2023-03-20 11:38:47\n",
      "'select()' returned 1:many mapping between keys and columns\n",
      "'select()' returned 1:1 mapping between keys and columns\n",
      "'select()' returned 1:1 mapping between keys and columns\n",
      "'select()' returned 1:1 mapping between keys and columns\n"
     ]
    },
    {
     "name": "stdout",
     "output_type": "stream",
     "text": [
      "[1] 952\n"
     ]
    },
    {
     "name": "stderr",
     "output_type": "stream",
     "text": [
      "2023-03-20 11:38:49\n",
      "'select()' returned 1:many mapping between keys and columns\n",
      "'select()' returned 1:1 mapping between keys and columns\n",
      "'select()' returned 1:1 mapping between keys and columns\n",
      "'select()' returned 1:1 mapping between keys and columns\n"
     ]
    },
    {
     "name": "stdout",
     "output_type": "stream",
     "text": [
      "[1] 953\n"
     ]
    },
    {
     "name": "stderr",
     "output_type": "stream",
     "text": [
      "2023-03-20 11:38:50\n",
      "'select()' returned 1:many mapping between keys and columns\n",
      "'select()' returned 1:1 mapping between keys and columns\n",
      "'select()' returned 1:1 mapping between keys and columns\n",
      "'select()' returned 1:1 mapping between keys and columns\n"
     ]
    },
    {
     "name": "stdout",
     "output_type": "stream",
     "text": [
      "[1] 954\n"
     ]
    },
    {
     "name": "stderr",
     "output_type": "stream",
     "text": [
      "2023-03-20 11:38:51\n",
      "'select()' returned 1:many mapping between keys and columns\n",
      "'select()' returned 1:1 mapping between keys and columns\n",
      "'select()' returned 1:1 mapping between keys and columns\n",
      "'select()' returned 1:1 mapping between keys and columns\n"
     ]
    },
    {
     "name": "stdout",
     "output_type": "stream",
     "text": [
      "[1] 955\n"
     ]
    },
    {
     "name": "stderr",
     "output_type": "stream",
     "text": [
      "2023-03-20 11:38:53\n",
      "'select()' returned 1:many mapping between keys and columns\n",
      "'select()' returned 1:1 mapping between keys and columns\n",
      "'select()' returned 1:1 mapping between keys and columns\n",
      "'select()' returned 1:1 mapping between keys and columns\n"
     ]
    },
    {
     "name": "stdout",
     "output_type": "stream",
     "text": [
      "[1] 956\n"
     ]
    },
    {
     "name": "stderr",
     "output_type": "stream",
     "text": [
      "2023-03-20 11:38:54\n",
      "'select()' returned 1:many mapping between keys and columns\n",
      "'select()' returned 1:1 mapping between keys and columns\n",
      "'select()' returned 1:1 mapping between keys and columns\n",
      "'select()' returned 1:1 mapping between keys and columns\n"
     ]
    },
    {
     "name": "stdout",
     "output_type": "stream",
     "text": [
      "[1] 957\n"
     ]
    },
    {
     "name": "stderr",
     "output_type": "stream",
     "text": [
      "2023-03-20 11:38:55\n",
      "'select()' returned 1:many mapping between keys and columns\n",
      "'select()' returned 1:1 mapping between keys and columns\n",
      "'select()' returned 1:1 mapping between keys and columns\n",
      "'select()' returned 1:1 mapping between keys and columns\n"
     ]
    },
    {
     "name": "stdout",
     "output_type": "stream",
     "text": [
      "[1] 958\n"
     ]
    },
    {
     "name": "stderr",
     "output_type": "stream",
     "text": [
      "2023-03-20 11:38:57\n",
      "'select()' returned 1:many mapping between keys and columns\n",
      "'select()' returned 1:1 mapping between keys and columns\n",
      "'select()' returned 1:1 mapping between keys and columns\n",
      "'select()' returned 1:1 mapping between keys and columns\n"
     ]
    },
    {
     "name": "stdout",
     "output_type": "stream",
     "text": [
      "[1] 959\n"
     ]
    },
    {
     "name": "stderr",
     "output_type": "stream",
     "text": [
      "2023-03-20 11:38:58\n",
      "'select()' returned 1:many mapping between keys and columns\n",
      "'select()' returned 1:1 mapping between keys and columns\n",
      "'select()' returned 1:1 mapping between keys and columns\n",
      "'select()' returned 1:1 mapping between keys and columns\n"
     ]
    },
    {
     "name": "stdout",
     "output_type": "stream",
     "text": [
      "[1] 960\n"
     ]
    },
    {
     "name": "stderr",
     "output_type": "stream",
     "text": [
      "2023-03-20 11:38:59\n",
      "'select()' returned 1:many mapping between keys and columns\n",
      "'select()' returned 1:1 mapping between keys and columns\n",
      "'select()' returned 1:1 mapping between keys and columns\n",
      "'select()' returned 1:1 mapping between keys and columns\n"
     ]
    },
    {
     "name": "stdout",
     "output_type": "stream",
     "text": [
      "[1] 961\n"
     ]
    },
    {
     "name": "stderr",
     "output_type": "stream",
     "text": [
      "2023-03-20 11:39:01\n",
      "'select()' returned 1:many mapping between keys and columns\n",
      "'select()' returned 1:1 mapping between keys and columns\n",
      "'select()' returned 1:1 mapping between keys and columns\n",
      "'select()' returned 1:1 mapping between keys and columns\n"
     ]
    },
    {
     "name": "stdout",
     "output_type": "stream",
     "text": [
      "[1] 962\n"
     ]
    },
    {
     "name": "stderr",
     "output_type": "stream",
     "text": [
      "2023-03-20 11:39:03\n",
      "'select()' returned 1:many mapping between keys and columns\n",
      "'select()' returned 1:1 mapping between keys and columns\n",
      "'select()' returned 1:1 mapping between keys and columns\n",
      "'select()' returned 1:1 mapping between keys and columns\n"
     ]
    },
    {
     "name": "stdout",
     "output_type": "stream",
     "text": [
      "[1] 963\n"
     ]
    },
    {
     "name": "stderr",
     "output_type": "stream",
     "text": [
      "2023-03-20 11:39:04\n",
      "'select()' returned 1:many mapping between keys and columns\n",
      "'select()' returned 1:1 mapping between keys and columns\n",
      "'select()' returned 1:1 mapping between keys and columns\n",
      "'select()' returned 1:1 mapping between keys and columns\n"
     ]
    },
    {
     "name": "stdout",
     "output_type": "stream",
     "text": [
      "[1] 964\n"
     ]
    },
    {
     "name": "stderr",
     "output_type": "stream",
     "text": [
      "2023-03-20 11:39:05\n",
      "'select()' returned 1:many mapping between keys and columns\n",
      "'select()' returned 1:1 mapping between keys and columns\n",
      "'select()' returned 1:1 mapping between keys and columns\n",
      "'select()' returned 1:1 mapping between keys and columns\n"
     ]
    },
    {
     "name": "stdout",
     "output_type": "stream",
     "text": [
      "[1] 965\n"
     ]
    },
    {
     "name": "stderr",
     "output_type": "stream",
     "text": [
      "2023-03-20 11:39:07\n",
      "'select()' returned 1:many mapping between keys and columns\n",
      "'select()' returned 1:1 mapping between keys and columns\n",
      "'select()' returned 1:1 mapping between keys and columns\n",
      "'select()' returned 1:1 mapping between keys and columns\n"
     ]
    },
    {
     "name": "stdout",
     "output_type": "stream",
     "text": [
      "[1] 966\n"
     ]
    },
    {
     "name": "stderr",
     "output_type": "stream",
     "text": [
      "2023-03-20 11:39:08\n",
      "'select()' returned 1:many mapping between keys and columns\n",
      "'select()' returned 1:1 mapping between keys and columns\n",
      "'select()' returned 1:1 mapping between keys and columns\n",
      "'select()' returned 1:1 mapping between keys and columns\n"
     ]
    },
    {
     "name": "stdout",
     "output_type": "stream",
     "text": [
      "[1] 967\n"
     ]
    },
    {
     "name": "stderr",
     "output_type": "stream",
     "text": [
      "2023-03-20 11:39:09\n",
      "'select()' returned 1:many mapping between keys and columns\n",
      "'select()' returned 1:1 mapping between keys and columns\n",
      "'select()' returned 1:1 mapping between keys and columns\n",
      "'select()' returned 1:1 mapping between keys and columns\n"
     ]
    },
    {
     "name": "stdout",
     "output_type": "stream",
     "text": [
      "[1] 968\n"
     ]
    },
    {
     "name": "stderr",
     "output_type": "stream",
     "text": [
      "2023-03-20 11:39:11\n",
      "'select()' returned 1:many mapping between keys and columns\n",
      "'select()' returned 1:1 mapping between keys and columns\n",
      "'select()' returned 1:1 mapping between keys and columns\n",
      "'select()' returned 1:1 mapping between keys and columns\n"
     ]
    },
    {
     "name": "stdout",
     "output_type": "stream",
     "text": [
      "[1] 969\n"
     ]
    },
    {
     "name": "stderr",
     "output_type": "stream",
     "text": [
      "2023-03-20 11:39:12\n",
      "'select()' returned 1:many mapping between keys and columns\n",
      "'select()' returned 1:1 mapping between keys and columns\n",
      "'select()' returned 1:1 mapping between keys and columns\n",
      "'select()' returned 1:1 mapping between keys and columns\n"
     ]
    },
    {
     "name": "stdout",
     "output_type": "stream",
     "text": [
      "[1] 970\n"
     ]
    },
    {
     "name": "stderr",
     "output_type": "stream",
     "text": [
      "2023-03-20 11:39:13\n",
      "'select()' returned 1:many mapping between keys and columns\n",
      "'select()' returned 1:1 mapping between keys and columns\n",
      "'select()' returned 1:1 mapping between keys and columns\n",
      "'select()' returned 1:1 mapping between keys and columns\n"
     ]
    },
    {
     "name": "stdout",
     "output_type": "stream",
     "text": [
      "[1] 971\n"
     ]
    },
    {
     "name": "stderr",
     "output_type": "stream",
     "text": [
      "2023-03-20 11:39:15\n",
      "'select()' returned 1:many mapping between keys and columns\n",
      "'select()' returned 1:1 mapping between keys and columns\n",
      "'select()' returned 1:1 mapping between keys and columns\n",
      "'select()' returned 1:1 mapping between keys and columns\n"
     ]
    },
    {
     "name": "stdout",
     "output_type": "stream",
     "text": [
      "[1] 972\n"
     ]
    },
    {
     "name": "stderr",
     "output_type": "stream",
     "text": [
      "2023-03-20 11:39:17\n",
      "'select()' returned 1:many mapping between keys and columns\n",
      "'select()' returned 1:1 mapping between keys and columns\n",
      "'select()' returned 1:1 mapping between keys and columns\n",
      "'select()' returned 1:1 mapping between keys and columns\n"
     ]
    },
    {
     "name": "stdout",
     "output_type": "stream",
     "text": [
      "[1] 973\n"
     ]
    },
    {
     "name": "stderr",
     "output_type": "stream",
     "text": [
      "2023-03-20 11:39:18\n",
      "'select()' returned 1:many mapping between keys and columns\n",
      "'select()' returned 1:1 mapping between keys and columns\n",
      "'select()' returned 1:1 mapping between keys and columns\n",
      "'select()' returned 1:1 mapping between keys and columns\n"
     ]
    },
    {
     "name": "stdout",
     "output_type": "stream",
     "text": [
      "[1] 974\n"
     ]
    },
    {
     "name": "stderr",
     "output_type": "stream",
     "text": [
      "2023-03-20 11:39:20\n",
      "'select()' returned 1:many mapping between keys and columns\n",
      "'select()' returned 1:1 mapping between keys and columns\n",
      "'select()' returned 1:1 mapping between keys and columns\n",
      "'select()' returned 1:1 mapping between keys and columns\n"
     ]
    },
    {
     "name": "stdout",
     "output_type": "stream",
     "text": [
      "[1] 975\n"
     ]
    },
    {
     "name": "stderr",
     "output_type": "stream",
     "text": [
      "2023-03-20 11:39:21\n",
      "'select()' returned 1:many mapping between keys and columns\n",
      "'select()' returned 1:1 mapping between keys and columns\n",
      "'select()' returned 1:1 mapping between keys and columns\n",
      "'select()' returned 1:1 mapping between keys and columns\n"
     ]
    },
    {
     "name": "stdout",
     "output_type": "stream",
     "text": [
      "[1] 976\n"
     ]
    },
    {
     "name": "stderr",
     "output_type": "stream",
     "text": [
      "2023-03-20 11:39:23\n",
      "'select()' returned 1:many mapping between keys and columns\n",
      "'select()' returned 1:1 mapping between keys and columns\n",
      "'select()' returned 1:1 mapping between keys and columns\n",
      "'select()' returned 1:1 mapping between keys and columns\n"
     ]
    },
    {
     "name": "stdout",
     "output_type": "stream",
     "text": [
      "[1] 977\n"
     ]
    },
    {
     "name": "stderr",
     "output_type": "stream",
     "text": [
      "2023-03-20 11:39:24\n",
      "'select()' returned 1:many mapping between keys and columns\n",
      "'select()' returned 1:1 mapping between keys and columns\n",
      "'select()' returned 1:1 mapping between keys and columns\n",
      "'select()' returned 1:1 mapping between keys and columns\n"
     ]
    },
    {
     "name": "stdout",
     "output_type": "stream",
     "text": [
      "[1] 978\n"
     ]
    },
    {
     "name": "stderr",
     "output_type": "stream",
     "text": [
      "2023-03-20 11:39:25\n",
      "'select()' returned 1:many mapping between keys and columns\n",
      "'select()' returned 1:1 mapping between keys and columns\n",
      "'select()' returned 1:1 mapping between keys and columns\n",
      "'select()' returned 1:1 mapping between keys and columns\n"
     ]
    },
    {
     "name": "stdout",
     "output_type": "stream",
     "text": [
      "[1] 979\n"
     ]
    },
    {
     "name": "stderr",
     "output_type": "stream",
     "text": [
      "2023-03-20 11:39:27\n",
      "'select()' returned 1:many mapping between keys and columns\n",
      "'select()' returned 1:1 mapping between keys and columns\n",
      "'select()' returned 1:1 mapping between keys and columns\n",
      "'select()' returned 1:1 mapping between keys and columns\n"
     ]
    },
    {
     "name": "stdout",
     "output_type": "stream",
     "text": [
      "[1] 980\n"
     ]
    },
    {
     "name": "stderr",
     "output_type": "stream",
     "text": [
      "2023-03-20 11:39:28\n",
      "'select()' returned 1:many mapping between keys and columns\n",
      "'select()' returned 1:1 mapping between keys and columns\n",
      "'select()' returned 1:1 mapping between keys and columns\n",
      "'select()' returned 1:1 mapping between keys and columns\n"
     ]
    },
    {
     "name": "stdout",
     "output_type": "stream",
     "text": [
      "[1] 981\n"
     ]
    },
    {
     "name": "stderr",
     "output_type": "stream",
     "text": [
      "2023-03-20 11:39:30\n",
      "'select()' returned 1:many mapping between keys and columns\n",
      "'select()' returned 1:1 mapping between keys and columns\n",
      "'select()' returned 1:1 mapping between keys and columns\n",
      "'select()' returned 1:1 mapping between keys and columns\n"
     ]
    },
    {
     "name": "stdout",
     "output_type": "stream",
     "text": [
      "[1] 982\n"
     ]
    },
    {
     "name": "stderr",
     "output_type": "stream",
     "text": [
      "2023-03-20 11:39:31\n",
      "'select()' returned 1:many mapping between keys and columns\n",
      "'select()' returned 1:1 mapping between keys and columns\n",
      "'select()' returned 1:1 mapping between keys and columns\n",
      "'select()' returned 1:1 mapping between keys and columns\n"
     ]
    },
    {
     "name": "stdout",
     "output_type": "stream",
     "text": [
      "[1] 983\n"
     ]
    },
    {
     "name": "stderr",
     "output_type": "stream",
     "text": [
      "2023-03-20 11:39:33\n",
      "'select()' returned 1:many mapping between keys and columns\n",
      "'select()' returned 1:1 mapping between keys and columns\n",
      "'select()' returned 1:1 mapping between keys and columns\n",
      "'select()' returned 1:1 mapping between keys and columns\n"
     ]
    },
    {
     "name": "stdout",
     "output_type": "stream",
     "text": [
      "[1] 984\n"
     ]
    },
    {
     "name": "stderr",
     "output_type": "stream",
     "text": [
      "2023-03-20 11:39:34\n",
      "'select()' returned 1:many mapping between keys and columns\n",
      "'select()' returned 1:1 mapping between keys and columns\n",
      "'select()' returned 1:1 mapping between keys and columns\n",
      "'select()' returned 1:1 mapping between keys and columns\n"
     ]
    },
    {
     "name": "stdout",
     "output_type": "stream",
     "text": [
      "[1] 985\n"
     ]
    },
    {
     "name": "stderr",
     "output_type": "stream",
     "text": [
      "2023-03-20 11:39:36\n",
      "'select()' returned 1:many mapping between keys and columns\n",
      "'select()' returned 1:1 mapping between keys and columns\n",
      "'select()' returned 1:1 mapping between keys and columns\n",
      "'select()' returned 1:1 mapping between keys and columns\n"
     ]
    },
    {
     "name": "stdout",
     "output_type": "stream",
     "text": [
      "[1] 986\n"
     ]
    },
    {
     "name": "stderr",
     "output_type": "stream",
     "text": [
      "2023-03-20 11:39:37\n",
      "'select()' returned 1:many mapping between keys and columns\n",
      "'select()' returned 1:1 mapping between keys and columns\n",
      "'select()' returned 1:1 mapping between keys and columns\n",
      "'select()' returned 1:1 mapping between keys and columns\n"
     ]
    },
    {
     "name": "stdout",
     "output_type": "stream",
     "text": [
      "[1] 987\n"
     ]
    },
    {
     "name": "stderr",
     "output_type": "stream",
     "text": [
      "2023-03-20 11:39:39\n",
      "'select()' returned 1:many mapping between keys and columns\n",
      "'select()' returned 1:1 mapping between keys and columns\n",
      "'select()' returned 1:1 mapping between keys and columns\n",
      "'select()' returned 1:1 mapping between keys and columns\n"
     ]
    },
    {
     "name": "stdout",
     "output_type": "stream",
     "text": [
      "[1] 988\n"
     ]
    },
    {
     "name": "stderr",
     "output_type": "stream",
     "text": [
      "2023-03-20 11:39:40\n",
      "'select()' returned 1:many mapping between keys and columns\n",
      "'select()' returned 1:1 mapping between keys and columns\n",
      "'select()' returned 1:1 mapping between keys and columns\n",
      "'select()' returned 1:1 mapping between keys and columns\n"
     ]
    },
    {
     "name": "stdout",
     "output_type": "stream",
     "text": [
      "[1] 989\n"
     ]
    },
    {
     "name": "stderr",
     "output_type": "stream",
     "text": [
      "2023-03-20 11:39:42\n",
      "'select()' returned 1:many mapping between keys and columns\n",
      "'select()' returned 1:1 mapping between keys and columns\n",
      "'select()' returned 1:1 mapping between keys and columns\n",
      "'select()' returned 1:1 mapping between keys and columns\n"
     ]
    },
    {
     "name": "stdout",
     "output_type": "stream",
     "text": [
      "[1] 990\n"
     ]
    },
    {
     "name": "stderr",
     "output_type": "stream",
     "text": [
      "2023-03-20 11:39:43\n",
      "'select()' returned 1:many mapping between keys and columns\n",
      "'select()' returned 1:1 mapping between keys and columns\n",
      "'select()' returned 1:1 mapping between keys and columns\n",
      "'select()' returned 1:1 mapping between keys and columns\n"
     ]
    },
    {
     "name": "stdout",
     "output_type": "stream",
     "text": [
      "[1] 991\n"
     ]
    },
    {
     "name": "stderr",
     "output_type": "stream",
     "text": [
      "2023-03-20 11:39:44\n",
      "'select()' returned 1:many mapping between keys and columns\n",
      "'select()' returned 1:1 mapping between keys and columns\n",
      "'select()' returned 1:1 mapping between keys and columns\n",
      "'select()' returned 1:1 mapping between keys and columns\n"
     ]
    },
    {
     "name": "stdout",
     "output_type": "stream",
     "text": [
      "[1] 992\n"
     ]
    },
    {
     "name": "stderr",
     "output_type": "stream",
     "text": [
      "2023-03-20 11:39:46\n",
      "'select()' returned 1:many mapping between keys and columns\n",
      "'select()' returned 1:1 mapping between keys and columns\n",
      "'select()' returned 1:1 mapping between keys and columns\n",
      "'select()' returned 1:1 mapping between keys and columns\n"
     ]
    },
    {
     "name": "stdout",
     "output_type": "stream",
     "text": [
      "[1] 993\n"
     ]
    },
    {
     "name": "stderr",
     "output_type": "stream",
     "text": [
      "2023-03-20 11:39:47\n",
      "'select()' returned 1:many mapping between keys and columns\n",
      "'select()' returned 1:1 mapping between keys and columns\n",
      "'select()' returned 1:1 mapping between keys and columns\n",
      "'select()' returned 1:1 mapping between keys and columns\n"
     ]
    },
    {
     "name": "stdout",
     "output_type": "stream",
     "text": [
      "[1] 994\n"
     ]
    },
    {
     "name": "stderr",
     "output_type": "stream",
     "text": [
      "2023-03-20 11:39:49\n",
      "'select()' returned 1:many mapping between keys and columns\n",
      "'select()' returned 1:1 mapping between keys and columns\n",
      "'select()' returned 1:1 mapping between keys and columns\n",
      "'select()' returned 1:1 mapping between keys and columns\n"
     ]
    },
    {
     "name": "stdout",
     "output_type": "stream",
     "text": [
      "[1] 995\n"
     ]
    },
    {
     "name": "stderr",
     "output_type": "stream",
     "text": [
      "2023-03-20 11:39:50\n",
      "'select()' returned 1:many mapping between keys and columns\n",
      "'select()' returned 1:1 mapping between keys and columns\n",
      "'select()' returned 1:1 mapping between keys and columns\n",
      "'select()' returned 1:1 mapping between keys and columns\n"
     ]
    },
    {
     "name": "stdout",
     "output_type": "stream",
     "text": [
      "[1] 996\n"
     ]
    },
    {
     "name": "stderr",
     "output_type": "stream",
     "text": [
      "2023-03-20 11:39:52\n",
      "'select()' returned 1:many mapping between keys and columns\n",
      "'select()' returned 1:1 mapping between keys and columns\n",
      "'select()' returned 1:1 mapping between keys and columns\n",
      "'select()' returned 1:1 mapping between keys and columns\n"
     ]
    },
    {
     "name": "stdout",
     "output_type": "stream",
     "text": [
      "[1] 997\n"
     ]
    },
    {
     "name": "stderr",
     "output_type": "stream",
     "text": [
      "2023-03-20 11:39:53\n",
      "'select()' returned 1:many mapping between keys and columns\n",
      "'select()' returned 1:1 mapping between keys and columns\n",
      "'select()' returned 1:1 mapping between keys and columns\n",
      "'select()' returned 1:1 mapping between keys and columns\n"
     ]
    },
    {
     "name": "stdout",
     "output_type": "stream",
     "text": [
      "[1] 998\n"
     ]
    },
    {
     "name": "stderr",
     "output_type": "stream",
     "text": [
      "2023-03-20 11:39:55\n",
      "'select()' returned 1:many mapping between keys and columns\n",
      "'select()' returned 1:1 mapping between keys and columns\n",
      "'select()' returned 1:1 mapping between keys and columns\n",
      "'select()' returned 1:1 mapping between keys and columns\n"
     ]
    },
    {
     "name": "stdout",
     "output_type": "stream",
     "text": [
      "[1] 999\n"
     ]
    },
    {
     "name": "stderr",
     "output_type": "stream",
     "text": [
      "2023-03-20 11:39:56\n",
      "'select()' returned 1:many mapping between keys and columns\n",
      "'select()' returned 1:1 mapping between keys and columns\n",
      "'select()' returned 1:1 mapping between keys and columns\n",
      "'select()' returned 1:1 mapping between keys and columns\n"
     ]
    },
    {
     "name": "stdout",
     "output_type": "stream",
     "text": [
      "[1] 1000\n"
     ]
    },
    {
     "name": "stderr",
     "output_type": "stream",
     "text": [
      "2023-03-20 11:39:58\n"
     ]
    }
   ],
   "source": [
    "for(k in 1:1000){\n",
    "# Load and randomize severe diagnosis for each patient\n",
    "patients2 <- read.table(file= \"data/MolTi/Community_Analysis/originalSevereDiagnosis.csv\",sep= \",\",header= F)\n",
    "patients2[,1] <- as.character(patients2[,1])\n",
    "patients2[,2] <- as.character(patients2[,2])\n",
    "patients2 <- cbind(patients2,0)\n",
    "patients2[,3] <- sample(patients2[,2])\n",
    "\n",
    "#Retrieve specific Compound Heterozygous Mutations for Severe & Non-severe groups\n",
    "    \n",
    "#Compound Heterozygous mutations\n",
    "patients <- read.table(file= \"data/InputGenes/compound_all_nov2018.csv\")\n",
    "patients[,1] <- as.character(patients[,1])\n",
    "patients[,2] <- as.character(patients[,2])\n",
    "patients <- split(patients[,2],patients[,1])\n",
    "severepatients <- patients[which(patients2[,3]==\"severe\")] #Uncomment and comment the next one for randomizing\n",
    "#severepatients <- patients[patients2[,1][which(patients2[,2]==\"severe\")]] ##Uncomment and comment the previous one for the original plot\n",
    "notseverepatients <- patients[which(patients2[,3]==\"notsevere\")] #Uncomment and comment the next one for randomizing\n",
    "#notseverepatients <- patients[patients2[,1][which(patients2[,2]==\"notsevere\")]] #Uncomment and comment the previous one for the original plot\n",
    "severe<- unlist(severepatients)\n",
    "names(severe) <- NULL\n",
    "notsevere <- unlist(notseverepatients)\n",
    "names(notsevere) <- NULL\n",
    "severeonly <- setdiff(severe,notsevere)\n",
    "notsevereonly <- setdiff(notsevere,severe)\n",
    "\n",
    "severepatientsnames <- names(severepatients)\n",
    "notseverepatientsnames <- names(notseverepatients)\n",
    "    \n",
    "# Retrieve specific Copy Number Variations for Severe & Non-severe groups\n",
    "cnvdata <- read.csv(\"data/InputGenes/CNV_genes_for_iker.tsv\",sep= \"\\t\")\n",
    "cnvdata[,\"gene\"] <- as.character(cnvdata[,\"gene\"])\n",
    "genis <- c(cnvdata[\"gene\"])$gene\n",
    "genis <- mapIds(org.Hs.eg.db,keys = genis,column = \"SYMBOL\",keytype=\"ENSEMBL\",multiVals = \"first\")\n",
    "# Manual mapping for missing IDs\n",
    "genis[\"ENSG00000005955\"] <- \"GGNBP2\" \n",
    "genis[\"ENSG00000006114\"] <- \"SYNGR\"\n",
    "genis[\"ENSG00000108264\"] <- \"TADA2A\"\n",
    "genis[\"ENSG00000108270\"] <- \"AATF\"\n",
    "genis[\"ENSG00000108272\"] <- \"DHRS11\"\n",
    "genis[\"ENSG00000108278\"] <- \"ZNHI3\"\n",
    "genis[\"ENSG00000108753\"] <- \"HNF1B\"\n",
    "genis[\"ENSG00000129282\"] <- \"MRM1\"\n",
    "genis[\"ENSG00000132130\"] <- \"LHX1\"\n",
    "genis[\"ENSG00000141140\"] <- \"MYO19\"\n",
    "genis[\"ENSG00000141141\"] <- \"DDX52\"\n",
    "genis[\"ENSG00000161326\"] <- \"DUSP14\"\n",
    "genis[\"ENSG00000167230\"] <- \"C17orf78\"\n",
    "genis[\"ENSG00000174093\"] <- \"RP11-1407O15.2\"\n",
    "genis[\"ENSG00000184886\"] <- \"PIGW\"\n",
    "genis[\"ENSG00000197681\"] <- \"TBC1D3\"\n",
    "genis[\"ENSG00000203815\"] <- \"FAM231D\"\n",
    "genis[\"ENSG00000219492\"] <- \"RP11-1396O31.13\"\n",
    "genis[\"ENSG00000229924\"] <- \"FAM90A26\"\n",
    "genis[\"ENSG00000250913\"] <- \"USP17L23\"\n",
    "genis[\"ENSG00000268172\"] <- \"AL590452.1\"\n",
    "genis <- as.matrix(genis)\n",
    "rownames(genis) <- NULL\n",
    "genis <- genis[,1]\n",
    "cnvdata <- cbind(cnvdata,genis)\n",
    "severedata <- cnvdata[,c(\"gene\",\"whole_gene\",severepatientsnames,\"genis\")]\n",
    "milddata <- cnvdata[,c(\"gene\",\"whole_gene\",notseverepatientsnames,\"genis\")]\n",
    "    \n",
    "severedata <- severedata[apply(X = severedata,MARGIN = 1,function(x) paste0(x[3:10],collapse='_')) != '2_2_2_2_2_2_2_2',]\n",
    "milddata <- milddata[apply(X = milddata,MARGIN = 1,function(x) paste0(x[3:10],collapse='_')) != '2_2_2_2_2_2_2_2',]\n",
    "\n",
    "rownames(severedata) <- NULL\n",
    "rownames(milddata) <- NULL\n",
    "severecnvs <- unique(as.character(severedata[,\"genis\"]))\n",
    "mildcnvs <- unique(as.character(milddata[,\"genis\"]))\n",
    "cnvsevereonly <- setdiff(severecnvs,mildcnvs)\n",
    "cnvsnotsevereonly <- setdiff(mildcnvs,severecnvs)\n",
    "\n",
    "# Load CMS Causal genes\n",
    "cosa <- read.csv(\"data/InputGenes/cmsgenes.csv\",header=FALSE) #http://www.musclegenetable.fr/4DACTION/Blob_groupe2\n",
    "#cosa <- read.csv(\"data/InputGenes/genespaper.csv\",header=FALSE) #Table PMID:30552423\n",
    "cosa <- cosa[,1]\n",
    "cosa <- as.character(cosa)\n",
    "                           \n",
    "# Join causal and mutated genes\n",
    "# Setup depending on severity groups\n",
    "if(phenotype == \"severe\"){\n",
    "  algenes <- c(severeonly,cosa,cnvsevereonly) #Severe-Only Analysis \n",
    "}\n",
    "if(phenotype == \"notsevere\"){\n",
    "  algenes <- c(notsevereonly,cosa,cnvsnotsevereonly) #To get a Mild-Only  Analysis\n",
    "}                        \n",
    "# Solve some missing gene mappings\n",
    "if(\"KIAA1919\" %in% algenes){\n",
    "  algenes <- replace(algenes,algenes== \"KIAA1919\",\"MFSD4B\")\n",
    "}\n",
    "if(\"FAM188B\" %in% algenes){\n",
    "  algenes <- replace(algenes,algenes== \"FAM188B\",\"MINDY4\")\n",
    "}\n",
    "if(\"C14orf159\" %in% algenes){\n",
    "  algenes <- replace(algenes,algenes== \"C14orf159\",\"DGLUCY\")\n",
    "}\n",
    "if(\"C1orf168\" %in% algenes){\n",
    "  algenes <- replace(algenes,algenes== \"C1orf168\",\"FYB2\")\n",
    "}\n",
    "if(\"IKBKAP\" %in% algenes){\n",
    "  algenes <- replace(algenes,algenes== \"IKBKAP\",\"ELP1\")\n",
    "}\n",
    "if(\"SYNGR\" %in% algenes){\n",
    "  algenes <- replace(algenes,algenes== \"SYNGR\",\"SYNGR1\")\n",
    "}\n",
    "if(\"ZNHI3\" %in% algenes){\n",
    "  algenes <- replace(algenes,algenes== \"ZNHI3\",\"ZNHIT3\")\n",
    "}\n",
    "if(\"FAM231D\" %in% algenes){\n",
    "  algenes <- replace(algenes,algenes== \"FAM231D\",\"LINC01145\")\n",
    "}\n",
    "if(\"SELO\" %in% algenes){\n",
    "  algenes <- replace(algenes,algenes== \"SELO\",\"SELENOO\")\n",
    "}\n",
    "if(\"MFSD7\" %in% algenes){\n",
    "  algenes <- replace(algenes,algenes== \"MFSD7\",\"SLC49A3\")\n",
    "}\n",
    "\n",
    "#Convert to entrez\n",
    "algenes2 <- algenes\n",
    "algenes <- mapIds(org.Hs.eg.db,keys = algenes,column = \"ENTREZID\",keytype=\"SYMBOL\",multiVals = \"first\")\n",
    "names(algenes) <- NULL                           \n",
    "\n",
    "# Create a table with the community ID of each gene in 'genescausales' vector.\n",
    "genescausales <- mapIds(org.Hs.eg.db,keys = algenes2,column = \"ENTREZID\",keytype=\"SYMBOL\",multiVals = \"first\")\n",
    "genescausales <- as.matrix(genescausales)\n",
    "rownames(genescausales) <- NULL\n",
    "genescausales <- genescausales[,1]\n",
    "genescausales <- unlist(genescausales) #need this unlist as sometimes R does not create a c() vector with the previous line\n",
    "disease <- genescausales\n",
    "res <- matrix(nrow= length(disease),ncol= 9)\n",
    "rownames(res) <- disease\n",
    "\n",
    "#Remove genes not present on Multilayer network\n",
    "curl <- lapply(as.list(genescausales),function(x) which(sapply(cuatro, function(y) x %in% y)))\n",
    "res <- res[!unlist(lapply(curl,function(x) length(x)==0)),]\n",
    "\n",
    "for(i in 1:9){\n",
    "  current <- unlist(lapply(as.list(rownames(res)),function(x) which(sapply(lista_comunidades[[i]], function(y) x %in% y))))\n",
    "  res[,i] <- current\n",
    "} \n",
    "   \n",
    "#  Generate shared community pertinance graph for randomly produced module                                                                          \n",
    "melted_dist <- as.matrix(parallelDist(res,'hamming',threads = 7)*9)\n",
    "diag(melted_dist) <- NA\n",
    "melted_dist[lower.tri(melted_dist)] <- NA\n",
    "\n",
    "rownames(melted_dist) <- mapIds(org.Hs.eg.db,keys = rownames(melted_dist),column = \"SYMBOL\",keytype=\"ENTREZID\",multiVals = \"first\")\n",
    "colnames(melted_dist) <- rownames(melted_dist)\n",
    "\n",
    "melted_dist <- melt(melted_dist)\n",
    "melted_dist <- melted_dist[melted_dist[,3]==0,] # Get pairs that are always together trough resolution\n",
    "melted_dist <- na.omit(melted_dist)\n",
    "#dim(melted_dist)                                                                         \n",
    "g=simplify(graph_from_edgelist(as.matrix(melted_dist[,1:2]),directed = F))\n",
    "componentes <- components(g)\n",
    "lista_componentes[[k]] <- componentes$membership   \n",
    "lista_sizes[[k]] <- componentes$csize\n",
    "print(k)                                                                           \n",
    "message(Sys.time())\n",
    "}                                                                           "
   ]
  },
  {
   "cell_type": "code",
   "execution_count": 9,
   "id": "0c810be8",
   "metadata": {},
   "outputs": [
    {
     "data": {
      "text/plain": [
       "[1] \"2023-03-20 11:39:58 CET\""
      ]
     },
     "metadata": {},
     "output_type": "display_data"
    }
   ],
   "source": [
    "Sys.time()"
   ]
  },
  {
   "cell_type": "markdown",
   "id": "f6fa1990",
   "metadata": {},
   "source": [
    "#### Check significance of finding Figure 4 modules upon severe / non-severe labelling shuffling"
   ]
  },
  {
   "cell_type": "code",
   "execution_count": 11,
   "id": "81d9a4be",
   "metadata": {},
   "outputs": [],
   "source": [
    "if(phenotype=='severe'){\n",
    "    interesting_module <- c('PLEC','VCAN','TNXB','LOXL3','LAMB2','LRP4','HSPG2','LAMA5','COL13A1','TNC','USH2A','LAMA2','CHGB','AGRN','COL15A1')\n",
    "} \n",
    "if(phenotype=='notsevere'){\n",
    "    interesting_module <- c('LRP4','COL6A5','TLL2','MCAM','ADAMTS9','HMCN1','COL13A1','MSR1','LAMB2','LAMB4','LAMA5','ADAM28','PLEC','ITIH5','AGRN')\n",
    "} \n",
    "maximum_per_iter <- c()\n",
    "for(q in 1:length(lista_componentes)){\n",
    "lista_cool <- split(names(lista_componentes[[q]]),lista_componentes[[q]])\n",
    "num <- max(unlist(lapply(lista_cool,function(x) length(interesting_module[interesting_module %in% x]))))\n",
    "maximum_per_iter <- c(maximum_per_iter,num)\n",
    "}                "
   ]
  },
  {
   "cell_type": "code",
   "execution_count": 12,
   "id": "bba65d16",
   "metadata": {},
   "outputs": [
    {
     "data": {
      "text/html": [
       "15"
      ],
      "text/latex": [
       "15"
      ],
      "text/markdown": [
       "15"
      ],
      "text/plain": [
       "[1] 15"
      ]
     },
     "metadata": {},
     "output_type": "display_data"
    }
   ],
   "source": [
    "length(interesting_module) #15 genes (Severe)"
   ]
  },
  {
   "cell_type": "code",
   "execution_count": 13,
   "id": "87200556",
   "metadata": {
    "scrolled": true
   },
   "outputs": [
    {
     "data": {
      "text/plain": [
       "maximum_per_iter\n",
       "    6     7     8     9    10    11    12    13    14 \n",
       "0.048 0.084 0.200 0.206 0.200 0.159 0.073 0.022 0.008 "
      ]
     },
     "metadata": {},
     "output_type": "display_data"
    }
   ],
   "source": [
    "table(maximum_per_iter)/1000"
   ]
  },
  {
   "cell_type": "markdown",
   "id": "6490adbb",
   "metadata": {},
   "source": [
    "#### Finding a module with 13 or more of these genes is already significant. (p-value = 0.022) (Severe Module)"
   ]
  },
  {
   "cell_type": "markdown",
   "id": "2f120462",
   "metadata": {},
   "source": [
    "#### Finding a module with 14 or more of these genes is already significant. (p-value = 0.027) (Not-severe Module)"
   ]
  }
 ],
 "metadata": {
  "kernelspec": {
   "display_name": "R",
   "language": "R",
   "name": "ir"
  },
  "language_info": {
   "codemirror_mode": "r",
   "file_extension": ".r",
   "mimetype": "text/x-r-source",
   "name": "R",
   "pygments_lexer": "r",
   "version": "4.2.3"
  }
 },
 "nbformat": 4,
 "nbformat_minor": 5
}
